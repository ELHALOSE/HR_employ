{
 "cells": [
  {
   "cell_type": "markdown",
   "id": "a392e331",
   "metadata": {
    "papermill": {
     "duration": 0.037664,
     "end_time": "2023-08-22T12:29:59.503830",
     "exception": false,
     "start_time": "2023-08-22T12:29:59.466166",
     "status": "completed"
    },
    "tags": []
   },
   "source": [
    "# Overview\n",
    "\n",
    "### Dependent Variable : Attrition\n",
    "\n",
    "### Independent Variable (31 different variables in total) :\n",
    "\n",
    "* (Geral Info):\n",
    "\n",
    "Age, Gender, Education, Education Field, Martial Status, Distance From Home\n",
    "\n",
    "\n",
    "* (Work Info):\n",
    "\n",
    "Department, Job Role, Job Level, Over Time, Business Travel, Performance Rating, Stock Option Level, Job Involvement\n",
    "\n",
    "\n",
    "* (Statisfaction):\n",
    "\n",
    "Work-Life Balance, Job Satisfaction, Relationship Satisfaction, Enviroment Satisfaction\n",
    "\n",
    "\n",
    "* (Salary Related):\n",
    "\n",
    "Monthly Income, Monthly Rate, Daily Rate, Hourly Rate, Percent Salary Hike\n",
    "\n",
    "\n",
    "* (Time Related):\n",
    "\n",
    "Total Working Years,Traning Time Last Year,Years At Company,Years In Current Role,Years Since Last Promotion,Years With Current Manager\n",
    "\n",
    "\n",
    "\n",
    "## Q&A\n",
    "\n",
    "Business Questions :\n",
    "1. How Is Attrition Affected by Gender?\n",
    "2. How Is Attrition Affected by business travels?\n",
    "3. what is effect of the distance from home on attrition ?\n",
    "4. What is the most Department of attritions ?\n",
    "5. what is effect of YearsWithCurrManager on attrition ?\n",
    "6. What is the most job role of attritions ?\n",
    "7. Is salary is one of the main reasons?\n",
    "8. Do Education Field play a role?\n",
    "9. Do overtime stresses employees and makes them have to leave?\n",
    "10.Is it possible that employees are leaving because of the work environment?\n",
    "11.What factors are contributing more to employee attrition?\n",
    "12.What type of measures should the company take in order to retain their\n",
    "employees?\n",
    "13.what is effect of age on attrition ?\n",
    "14.Is income the main factor towards employee attrition?\n",
    "15.Does the Department of work impact attrition?\n",
    "16.How does the environment satisfaction impact attrition?\n",
    "17.How does self Job Satisfaction impact the Attrition?\n",
    "18.Does company stocks for employees impact attrition?\n",
    "19.How does Work Life Balance impact the overall attrition rates?\n",
    "20.How does work experience affect attrition?\n",
    "21.How does work duration in current role impact Attrition?\n",
    "22.Does hike percentage impact Attrition?\n",
    "23.Are managers a reason of people resigning ?\n",
    "24.What business value does the model bring?\n",
    "25.Will the model save lots of money?\n",
    "26.Which business unit faces the attrition problem?\n",
    "27.What role does gender and age play in this workplace?\n",
    "28.How much does income matter?\n",
    "29.Are more educated people more likely to leave?\n",
    "30.Which Education Field is more likely to leave?\n",
    "31.Does the source of the employee matter? Which website produces the best\n",
    "employees?\n",
    "32.Is JobLevel equivalent to performance? Can we create a feature to measure\n",
    "this?\n",
    "33.People who live more than 25 minutes away from work tend to be less happy\n",
    "than those who don't. Lets see whether this is the case\n",
    "34.What sources are best for high performing employees?\n",
    "35.What factors contribute to retaining high performing employees?\n",
    "36.How does satisfaction and work-life balance relate to employee retention?\n",
    "37.How many new hires leave in less than a year and why?\n",
    "38.What is the rate of resignations each year versus the rate of new appointments?"
   ]
  },
  {
   "cell_type": "markdown",
   "id": "49aff0dd",
   "metadata": {
    "papermill": {
     "duration": 0.037475,
     "end_time": "2023-08-22T12:29:59.578851",
     "exception": false,
     "start_time": "2023-08-22T12:29:59.541376",
     "status": "completed"
    },
    "tags": []
   },
   "source": [
    "# import library"
   ]
  },
  {
   "cell_type": "code",
   "execution_count": 1,
   "id": "e47188a1",
   "metadata": {
    "execution": {
     "iopub.execute_input": "2023-08-22T12:29:59.656395Z",
     "iopub.status.busy": "2023-08-22T12:29:59.655115Z",
     "iopub.status.idle": "2023-08-22T12:30:01.824508Z",
     "shell.execute_reply": "2023-08-22T12:30:01.823594Z"
    },
    "papermill": {
     "duration": 2.210874,
     "end_time": "2023-08-22T12:30:01.827092",
     "exception": false,
     "start_time": "2023-08-22T12:29:59.616218",
     "status": "completed"
    },
    "tags": []
   },
   "outputs": [
    {
     "name": "stderr",
     "output_type": "stream",
     "text": [
      "/opt/conda/lib/python3.10/site-packages/scipy/__init__.py:146: UserWarning: A NumPy version >=1.16.5 and <1.23.0 is required for this version of SciPy (detected version 1.23.5\n",
      "  warnings.warn(f\"A NumPy version >={np_minversion} and <{np_maxversion}\"\n"
     ]
    }
   ],
   "source": [
    "import pandas as pd \n",
    "import numpy as np \n",
    "\n",
    "import matplotlib.pyplot as plt \n",
    "import seaborn as sns\n",
    "\n",
    "import plotly.express as px"
   ]
  },
  {
   "cell_type": "markdown",
   "id": "eb5cc661",
   "metadata": {
    "papermill": {
     "duration": 0.036992,
     "end_time": "2023-08-22T12:30:01.901938",
     "exception": false,
     "start_time": "2023-08-22T12:30:01.864946",
     "status": "completed"
    },
    "tags": []
   },
   "source": [
    "# Data Exploration"
   ]
  },
  {
   "cell_type": "code",
   "execution_count": 2,
   "id": "e5cb0f1c",
   "metadata": {
    "execution": {
     "iopub.execute_input": "2023-08-22T12:30:01.978797Z",
     "iopub.status.busy": "2023-08-22T12:30:01.978058Z",
     "iopub.status.idle": "2023-08-22T12:30:02.026236Z",
     "shell.execute_reply": "2023-08-22T12:30:02.025321Z"
    },
    "papermill": {
     "duration": 0.089324,
     "end_time": "2023-08-22T12:30:02.028755",
     "exception": false,
     "start_time": "2023-08-22T12:30:01.939431",
     "status": "completed"
    },
    "tags": []
   },
   "outputs": [],
   "source": [
    "df=pd.read_csv(\"/kaggle/input/ibm-hr-analytics-attrition-dataset/WA_Fn-UseC_-HR-Employee-Attrition.csv\")"
   ]
  },
  {
   "cell_type": "code",
   "execution_count": 3,
   "id": "174fcb00",
   "metadata": {
    "execution": {
     "iopub.execute_input": "2023-08-22T12:30:02.106542Z",
     "iopub.status.busy": "2023-08-22T12:30:02.105547Z",
     "iopub.status.idle": "2023-08-22T12:30:02.154760Z",
     "shell.execute_reply": "2023-08-22T12:30:02.153547Z"
    },
    "papermill": {
     "duration": 0.091257,
     "end_time": "2023-08-22T12:30:02.158035",
     "exception": false,
     "start_time": "2023-08-22T12:30:02.066778",
     "status": "completed"
    },
    "tags": []
   },
   "outputs": [
    {
     "data": {
      "text/html": [
       "<div>\n",
       "<style scoped>\n",
       "    .dataframe tbody tr th:only-of-type {\n",
       "        vertical-align: middle;\n",
       "    }\n",
       "\n",
       "    .dataframe tbody tr th {\n",
       "        vertical-align: top;\n",
       "    }\n",
       "\n",
       "    .dataframe thead th {\n",
       "        text-align: right;\n",
       "    }\n",
       "</style>\n",
       "<table border=\"1\" class=\"dataframe\">\n",
       "  <thead>\n",
       "    <tr style=\"text-align: right;\">\n",
       "      <th></th>\n",
       "      <th>Age</th>\n",
       "      <th>Attrition</th>\n",
       "      <th>BusinessTravel</th>\n",
       "      <th>DailyRate</th>\n",
       "      <th>Department</th>\n",
       "      <th>DistanceFromHome</th>\n",
       "      <th>Education</th>\n",
       "      <th>EducationField</th>\n",
       "      <th>EmployeeCount</th>\n",
       "      <th>EmployeeNumber</th>\n",
       "      <th>EnvironmentSatisfaction</th>\n",
       "      <th>Gender</th>\n",
       "      <th>HourlyRate</th>\n",
       "      <th>JobInvolvement</th>\n",
       "      <th>JobLevel</th>\n",
       "      <th>JobRole</th>\n",
       "      <th>JobSatisfaction</th>\n",
       "      <th>MaritalStatus</th>\n",
       "      <th>MonthlyIncome</th>\n",
       "      <th>MonthlyRate</th>\n",
       "      <th>NumCompaniesWorked</th>\n",
       "      <th>Over18</th>\n",
       "      <th>OverTime</th>\n",
       "      <th>PercentSalaryHike</th>\n",
       "      <th>PerformanceRating</th>\n",
       "      <th>RelationshipSatisfaction</th>\n",
       "      <th>StandardHours</th>\n",
       "      <th>StockOptionLevel</th>\n",
       "      <th>TotalWorkingYears</th>\n",
       "      <th>TrainingTimesLastYear</th>\n",
       "      <th>WorkLifeBalance</th>\n",
       "      <th>YearsAtCompany</th>\n",
       "      <th>YearsInCurrentRole</th>\n",
       "      <th>YearsSinceLastPromotion</th>\n",
       "      <th>YearsWithCurrManager</th>\n",
       "    </tr>\n",
       "  </thead>\n",
       "  <tbody>\n",
       "    <tr>\n",
       "      <th>0</th>\n",
       "      <td>41</td>\n",
       "      <td>Yes</td>\n",
       "      <td>Travel_Rarely</td>\n",
       "      <td>1102</td>\n",
       "      <td>Sales</td>\n",
       "      <td>1</td>\n",
       "      <td>2</td>\n",
       "      <td>Life Sciences</td>\n",
       "      <td>1</td>\n",
       "      <td>1</td>\n",
       "      <td>2</td>\n",
       "      <td>Female</td>\n",
       "      <td>94</td>\n",
       "      <td>3</td>\n",
       "      <td>2</td>\n",
       "      <td>Sales Executive</td>\n",
       "      <td>4</td>\n",
       "      <td>Single</td>\n",
       "      <td>5993</td>\n",
       "      <td>19479</td>\n",
       "      <td>8</td>\n",
       "      <td>Y</td>\n",
       "      <td>Yes</td>\n",
       "      <td>11</td>\n",
       "      <td>3</td>\n",
       "      <td>1</td>\n",
       "      <td>80</td>\n",
       "      <td>0</td>\n",
       "      <td>8</td>\n",
       "      <td>0</td>\n",
       "      <td>1</td>\n",
       "      <td>6</td>\n",
       "      <td>4</td>\n",
       "      <td>0</td>\n",
       "      <td>5</td>\n",
       "    </tr>\n",
       "    <tr>\n",
       "      <th>1</th>\n",
       "      <td>49</td>\n",
       "      <td>No</td>\n",
       "      <td>Travel_Frequently</td>\n",
       "      <td>279</td>\n",
       "      <td>Research &amp; Development</td>\n",
       "      <td>8</td>\n",
       "      <td>1</td>\n",
       "      <td>Life Sciences</td>\n",
       "      <td>1</td>\n",
       "      <td>2</td>\n",
       "      <td>3</td>\n",
       "      <td>Male</td>\n",
       "      <td>61</td>\n",
       "      <td>2</td>\n",
       "      <td>2</td>\n",
       "      <td>Research Scientist</td>\n",
       "      <td>2</td>\n",
       "      <td>Married</td>\n",
       "      <td>5130</td>\n",
       "      <td>24907</td>\n",
       "      <td>1</td>\n",
       "      <td>Y</td>\n",
       "      <td>No</td>\n",
       "      <td>23</td>\n",
       "      <td>4</td>\n",
       "      <td>4</td>\n",
       "      <td>80</td>\n",
       "      <td>1</td>\n",
       "      <td>10</td>\n",
       "      <td>3</td>\n",
       "      <td>3</td>\n",
       "      <td>10</td>\n",
       "      <td>7</td>\n",
       "      <td>1</td>\n",
       "      <td>7</td>\n",
       "    </tr>\n",
       "    <tr>\n",
       "      <th>2</th>\n",
       "      <td>37</td>\n",
       "      <td>Yes</td>\n",
       "      <td>Travel_Rarely</td>\n",
       "      <td>1373</td>\n",
       "      <td>Research &amp; Development</td>\n",
       "      <td>2</td>\n",
       "      <td>2</td>\n",
       "      <td>Other</td>\n",
       "      <td>1</td>\n",
       "      <td>4</td>\n",
       "      <td>4</td>\n",
       "      <td>Male</td>\n",
       "      <td>92</td>\n",
       "      <td>2</td>\n",
       "      <td>1</td>\n",
       "      <td>Laboratory Technician</td>\n",
       "      <td>3</td>\n",
       "      <td>Single</td>\n",
       "      <td>2090</td>\n",
       "      <td>2396</td>\n",
       "      <td>6</td>\n",
       "      <td>Y</td>\n",
       "      <td>Yes</td>\n",
       "      <td>15</td>\n",
       "      <td>3</td>\n",
       "      <td>2</td>\n",
       "      <td>80</td>\n",
       "      <td>0</td>\n",
       "      <td>7</td>\n",
       "      <td>3</td>\n",
       "      <td>3</td>\n",
       "      <td>0</td>\n",
       "      <td>0</td>\n",
       "      <td>0</td>\n",
       "      <td>0</td>\n",
       "    </tr>\n",
       "    <tr>\n",
       "      <th>3</th>\n",
       "      <td>33</td>\n",
       "      <td>No</td>\n",
       "      <td>Travel_Frequently</td>\n",
       "      <td>1392</td>\n",
       "      <td>Research &amp; Development</td>\n",
       "      <td>3</td>\n",
       "      <td>4</td>\n",
       "      <td>Life Sciences</td>\n",
       "      <td>1</td>\n",
       "      <td>5</td>\n",
       "      <td>4</td>\n",
       "      <td>Female</td>\n",
       "      <td>56</td>\n",
       "      <td>3</td>\n",
       "      <td>1</td>\n",
       "      <td>Research Scientist</td>\n",
       "      <td>3</td>\n",
       "      <td>Married</td>\n",
       "      <td>2909</td>\n",
       "      <td>23159</td>\n",
       "      <td>1</td>\n",
       "      <td>Y</td>\n",
       "      <td>Yes</td>\n",
       "      <td>11</td>\n",
       "      <td>3</td>\n",
       "      <td>3</td>\n",
       "      <td>80</td>\n",
       "      <td>0</td>\n",
       "      <td>8</td>\n",
       "      <td>3</td>\n",
       "      <td>3</td>\n",
       "      <td>8</td>\n",
       "      <td>7</td>\n",
       "      <td>3</td>\n",
       "      <td>0</td>\n",
       "    </tr>\n",
       "    <tr>\n",
       "      <th>4</th>\n",
       "      <td>27</td>\n",
       "      <td>No</td>\n",
       "      <td>Travel_Rarely</td>\n",
       "      <td>591</td>\n",
       "      <td>Research &amp; Development</td>\n",
       "      <td>2</td>\n",
       "      <td>1</td>\n",
       "      <td>Medical</td>\n",
       "      <td>1</td>\n",
       "      <td>7</td>\n",
       "      <td>1</td>\n",
       "      <td>Male</td>\n",
       "      <td>40</td>\n",
       "      <td>3</td>\n",
       "      <td>1</td>\n",
       "      <td>Laboratory Technician</td>\n",
       "      <td>2</td>\n",
       "      <td>Married</td>\n",
       "      <td>3468</td>\n",
       "      <td>16632</td>\n",
       "      <td>9</td>\n",
       "      <td>Y</td>\n",
       "      <td>No</td>\n",
       "      <td>12</td>\n",
       "      <td>3</td>\n",
       "      <td>4</td>\n",
       "      <td>80</td>\n",
       "      <td>1</td>\n",
       "      <td>6</td>\n",
       "      <td>3</td>\n",
       "      <td>3</td>\n",
       "      <td>2</td>\n",
       "      <td>2</td>\n",
       "      <td>2</td>\n",
       "      <td>2</td>\n",
       "    </tr>\n",
       "    <tr>\n",
       "      <th>...</th>\n",
       "      <td>...</td>\n",
       "      <td>...</td>\n",
       "      <td>...</td>\n",
       "      <td>...</td>\n",
       "      <td>...</td>\n",
       "      <td>...</td>\n",
       "      <td>...</td>\n",
       "      <td>...</td>\n",
       "      <td>...</td>\n",
       "      <td>...</td>\n",
       "      <td>...</td>\n",
       "      <td>...</td>\n",
       "      <td>...</td>\n",
       "      <td>...</td>\n",
       "      <td>...</td>\n",
       "      <td>...</td>\n",
       "      <td>...</td>\n",
       "      <td>...</td>\n",
       "      <td>...</td>\n",
       "      <td>...</td>\n",
       "      <td>...</td>\n",
       "      <td>...</td>\n",
       "      <td>...</td>\n",
       "      <td>...</td>\n",
       "      <td>...</td>\n",
       "      <td>...</td>\n",
       "      <td>...</td>\n",
       "      <td>...</td>\n",
       "      <td>...</td>\n",
       "      <td>...</td>\n",
       "      <td>...</td>\n",
       "      <td>...</td>\n",
       "      <td>...</td>\n",
       "      <td>...</td>\n",
       "      <td>...</td>\n",
       "    </tr>\n",
       "    <tr>\n",
       "      <th>1465</th>\n",
       "      <td>36</td>\n",
       "      <td>No</td>\n",
       "      <td>Travel_Frequently</td>\n",
       "      <td>884</td>\n",
       "      <td>Research &amp; Development</td>\n",
       "      <td>23</td>\n",
       "      <td>2</td>\n",
       "      <td>Medical</td>\n",
       "      <td>1</td>\n",
       "      <td>2061</td>\n",
       "      <td>3</td>\n",
       "      <td>Male</td>\n",
       "      <td>41</td>\n",
       "      <td>4</td>\n",
       "      <td>2</td>\n",
       "      <td>Laboratory Technician</td>\n",
       "      <td>4</td>\n",
       "      <td>Married</td>\n",
       "      <td>2571</td>\n",
       "      <td>12290</td>\n",
       "      <td>4</td>\n",
       "      <td>Y</td>\n",
       "      <td>No</td>\n",
       "      <td>17</td>\n",
       "      <td>3</td>\n",
       "      <td>3</td>\n",
       "      <td>80</td>\n",
       "      <td>1</td>\n",
       "      <td>17</td>\n",
       "      <td>3</td>\n",
       "      <td>3</td>\n",
       "      <td>5</td>\n",
       "      <td>2</td>\n",
       "      <td>0</td>\n",
       "      <td>3</td>\n",
       "    </tr>\n",
       "    <tr>\n",
       "      <th>1466</th>\n",
       "      <td>39</td>\n",
       "      <td>No</td>\n",
       "      <td>Travel_Rarely</td>\n",
       "      <td>613</td>\n",
       "      <td>Research &amp; Development</td>\n",
       "      <td>6</td>\n",
       "      <td>1</td>\n",
       "      <td>Medical</td>\n",
       "      <td>1</td>\n",
       "      <td>2062</td>\n",
       "      <td>4</td>\n",
       "      <td>Male</td>\n",
       "      <td>42</td>\n",
       "      <td>2</td>\n",
       "      <td>3</td>\n",
       "      <td>Healthcare Representative</td>\n",
       "      <td>1</td>\n",
       "      <td>Married</td>\n",
       "      <td>9991</td>\n",
       "      <td>21457</td>\n",
       "      <td>4</td>\n",
       "      <td>Y</td>\n",
       "      <td>No</td>\n",
       "      <td>15</td>\n",
       "      <td>3</td>\n",
       "      <td>1</td>\n",
       "      <td>80</td>\n",
       "      <td>1</td>\n",
       "      <td>9</td>\n",
       "      <td>5</td>\n",
       "      <td>3</td>\n",
       "      <td>7</td>\n",
       "      <td>7</td>\n",
       "      <td>1</td>\n",
       "      <td>7</td>\n",
       "    </tr>\n",
       "    <tr>\n",
       "      <th>1467</th>\n",
       "      <td>27</td>\n",
       "      <td>No</td>\n",
       "      <td>Travel_Rarely</td>\n",
       "      <td>155</td>\n",
       "      <td>Research &amp; Development</td>\n",
       "      <td>4</td>\n",
       "      <td>3</td>\n",
       "      <td>Life Sciences</td>\n",
       "      <td>1</td>\n",
       "      <td>2064</td>\n",
       "      <td>2</td>\n",
       "      <td>Male</td>\n",
       "      <td>87</td>\n",
       "      <td>4</td>\n",
       "      <td>2</td>\n",
       "      <td>Manufacturing Director</td>\n",
       "      <td>2</td>\n",
       "      <td>Married</td>\n",
       "      <td>6142</td>\n",
       "      <td>5174</td>\n",
       "      <td>1</td>\n",
       "      <td>Y</td>\n",
       "      <td>Yes</td>\n",
       "      <td>20</td>\n",
       "      <td>4</td>\n",
       "      <td>2</td>\n",
       "      <td>80</td>\n",
       "      <td>1</td>\n",
       "      <td>6</td>\n",
       "      <td>0</td>\n",
       "      <td>3</td>\n",
       "      <td>6</td>\n",
       "      <td>2</td>\n",
       "      <td>0</td>\n",
       "      <td>3</td>\n",
       "    </tr>\n",
       "    <tr>\n",
       "      <th>1468</th>\n",
       "      <td>49</td>\n",
       "      <td>No</td>\n",
       "      <td>Travel_Frequently</td>\n",
       "      <td>1023</td>\n",
       "      <td>Sales</td>\n",
       "      <td>2</td>\n",
       "      <td>3</td>\n",
       "      <td>Medical</td>\n",
       "      <td>1</td>\n",
       "      <td>2065</td>\n",
       "      <td>4</td>\n",
       "      <td>Male</td>\n",
       "      <td>63</td>\n",
       "      <td>2</td>\n",
       "      <td>2</td>\n",
       "      <td>Sales Executive</td>\n",
       "      <td>2</td>\n",
       "      <td>Married</td>\n",
       "      <td>5390</td>\n",
       "      <td>13243</td>\n",
       "      <td>2</td>\n",
       "      <td>Y</td>\n",
       "      <td>No</td>\n",
       "      <td>14</td>\n",
       "      <td>3</td>\n",
       "      <td>4</td>\n",
       "      <td>80</td>\n",
       "      <td>0</td>\n",
       "      <td>17</td>\n",
       "      <td>3</td>\n",
       "      <td>2</td>\n",
       "      <td>9</td>\n",
       "      <td>6</td>\n",
       "      <td>0</td>\n",
       "      <td>8</td>\n",
       "    </tr>\n",
       "    <tr>\n",
       "      <th>1469</th>\n",
       "      <td>34</td>\n",
       "      <td>No</td>\n",
       "      <td>Travel_Rarely</td>\n",
       "      <td>628</td>\n",
       "      <td>Research &amp; Development</td>\n",
       "      <td>8</td>\n",
       "      <td>3</td>\n",
       "      <td>Medical</td>\n",
       "      <td>1</td>\n",
       "      <td>2068</td>\n",
       "      <td>2</td>\n",
       "      <td>Male</td>\n",
       "      <td>82</td>\n",
       "      <td>4</td>\n",
       "      <td>2</td>\n",
       "      <td>Laboratory Technician</td>\n",
       "      <td>3</td>\n",
       "      <td>Married</td>\n",
       "      <td>4404</td>\n",
       "      <td>10228</td>\n",
       "      <td>2</td>\n",
       "      <td>Y</td>\n",
       "      <td>No</td>\n",
       "      <td>12</td>\n",
       "      <td>3</td>\n",
       "      <td>1</td>\n",
       "      <td>80</td>\n",
       "      <td>0</td>\n",
       "      <td>6</td>\n",
       "      <td>3</td>\n",
       "      <td>4</td>\n",
       "      <td>4</td>\n",
       "      <td>3</td>\n",
       "      <td>1</td>\n",
       "      <td>2</td>\n",
       "    </tr>\n",
       "  </tbody>\n",
       "</table>\n",
       "<p>1470 rows × 35 columns</p>\n",
       "</div>"
      ],
      "text/plain": [
       "      Age Attrition     BusinessTravel  DailyRate              Department  \\\n",
       "0      41       Yes      Travel_Rarely       1102                   Sales   \n",
       "1      49        No  Travel_Frequently        279  Research & Development   \n",
       "2      37       Yes      Travel_Rarely       1373  Research & Development   \n",
       "3      33        No  Travel_Frequently       1392  Research & Development   \n",
       "4      27        No      Travel_Rarely        591  Research & Development   \n",
       "...   ...       ...                ...        ...                     ...   \n",
       "1465   36        No  Travel_Frequently        884  Research & Development   \n",
       "1466   39        No      Travel_Rarely        613  Research & Development   \n",
       "1467   27        No      Travel_Rarely        155  Research & Development   \n",
       "1468   49        No  Travel_Frequently       1023                   Sales   \n",
       "1469   34        No      Travel_Rarely        628  Research & Development   \n",
       "\n",
       "      DistanceFromHome  Education EducationField  EmployeeCount  \\\n",
       "0                    1          2  Life Sciences              1   \n",
       "1                    8          1  Life Sciences              1   \n",
       "2                    2          2          Other              1   \n",
       "3                    3          4  Life Sciences              1   \n",
       "4                    2          1        Medical              1   \n",
       "...                ...        ...            ...            ...   \n",
       "1465                23          2        Medical              1   \n",
       "1466                 6          1        Medical              1   \n",
       "1467                 4          3  Life Sciences              1   \n",
       "1468                 2          3        Medical              1   \n",
       "1469                 8          3        Medical              1   \n",
       "\n",
       "      EmployeeNumber  EnvironmentSatisfaction  Gender  HourlyRate  \\\n",
       "0                  1                        2  Female          94   \n",
       "1                  2                        3    Male          61   \n",
       "2                  4                        4    Male          92   \n",
       "3                  5                        4  Female          56   \n",
       "4                  7                        1    Male          40   \n",
       "...              ...                      ...     ...         ...   \n",
       "1465            2061                        3    Male          41   \n",
       "1466            2062                        4    Male          42   \n",
       "1467            2064                        2    Male          87   \n",
       "1468            2065                        4    Male          63   \n",
       "1469            2068                        2    Male          82   \n",
       "\n",
       "      JobInvolvement  JobLevel                    JobRole  JobSatisfaction  \\\n",
       "0                  3         2            Sales Executive                4   \n",
       "1                  2         2         Research Scientist                2   \n",
       "2                  2         1      Laboratory Technician                3   \n",
       "3                  3         1         Research Scientist                3   \n",
       "4                  3         1      Laboratory Technician                2   \n",
       "...              ...       ...                        ...              ...   \n",
       "1465               4         2      Laboratory Technician                4   \n",
       "1466               2         3  Healthcare Representative                1   \n",
       "1467               4         2     Manufacturing Director                2   \n",
       "1468               2         2            Sales Executive                2   \n",
       "1469               4         2      Laboratory Technician                3   \n",
       "\n",
       "     MaritalStatus  MonthlyIncome  MonthlyRate  NumCompaniesWorked Over18  \\\n",
       "0           Single           5993        19479                   8      Y   \n",
       "1          Married           5130        24907                   1      Y   \n",
       "2           Single           2090         2396                   6      Y   \n",
       "3          Married           2909        23159                   1      Y   \n",
       "4          Married           3468        16632                   9      Y   \n",
       "...            ...            ...          ...                 ...    ...   \n",
       "1465       Married           2571        12290                   4      Y   \n",
       "1466       Married           9991        21457                   4      Y   \n",
       "1467       Married           6142         5174                   1      Y   \n",
       "1468       Married           5390        13243                   2      Y   \n",
       "1469       Married           4404        10228                   2      Y   \n",
       "\n",
       "     OverTime  PercentSalaryHike  PerformanceRating  RelationshipSatisfaction  \\\n",
       "0         Yes                 11                  3                         1   \n",
       "1          No                 23                  4                         4   \n",
       "2         Yes                 15                  3                         2   \n",
       "3         Yes                 11                  3                         3   \n",
       "4          No                 12                  3                         4   \n",
       "...       ...                ...                ...                       ...   \n",
       "1465       No                 17                  3                         3   \n",
       "1466       No                 15                  3                         1   \n",
       "1467      Yes                 20                  4                         2   \n",
       "1468       No                 14                  3                         4   \n",
       "1469       No                 12                  3                         1   \n",
       "\n",
       "      StandardHours  StockOptionLevel  TotalWorkingYears  \\\n",
       "0                80                 0                  8   \n",
       "1                80                 1                 10   \n",
       "2                80                 0                  7   \n",
       "3                80                 0                  8   \n",
       "4                80                 1                  6   \n",
       "...             ...               ...                ...   \n",
       "1465             80                 1                 17   \n",
       "1466             80                 1                  9   \n",
       "1467             80                 1                  6   \n",
       "1468             80                 0                 17   \n",
       "1469             80                 0                  6   \n",
       "\n",
       "      TrainingTimesLastYear  WorkLifeBalance  YearsAtCompany  \\\n",
       "0                         0                1               6   \n",
       "1                         3                3              10   \n",
       "2                         3                3               0   \n",
       "3                         3                3               8   \n",
       "4                         3                3               2   \n",
       "...                     ...              ...             ...   \n",
       "1465                      3                3               5   \n",
       "1466                      5                3               7   \n",
       "1467                      0                3               6   \n",
       "1468                      3                2               9   \n",
       "1469                      3                4               4   \n",
       "\n",
       "      YearsInCurrentRole  YearsSinceLastPromotion  YearsWithCurrManager  \n",
       "0                      4                        0                     5  \n",
       "1                      7                        1                     7  \n",
       "2                      0                        0                     0  \n",
       "3                      7                        3                     0  \n",
       "4                      2                        2                     2  \n",
       "...                  ...                      ...                   ...  \n",
       "1465                   2                        0                     3  \n",
       "1466                   7                        1                     7  \n",
       "1467                   2                        0                     3  \n",
       "1468                   6                        0                     8  \n",
       "1469                   3                        1                     2  \n",
       "\n",
       "[1470 rows x 35 columns]"
      ]
     },
     "execution_count": 3,
     "metadata": {},
     "output_type": "execute_result"
    }
   ],
   "source": [
    "# settings to display all columns\n",
    "pd.set_option(\"display.max_columns\", None)\n",
    "# display the dataframe head\n",
    "df"
   ]
  },
  {
   "cell_type": "code",
   "execution_count": 4,
   "id": "23ff33f7",
   "metadata": {
    "execution": {
     "iopub.execute_input": "2023-08-22T12:30:02.237952Z",
     "iopub.status.busy": "2023-08-22T12:30:02.237246Z",
     "iopub.status.idle": "2023-08-22T12:30:02.266082Z",
     "shell.execute_reply": "2023-08-22T12:30:02.264859Z"
    },
    "papermill": {
     "duration": 0.072385,
     "end_time": "2023-08-22T12:30:02.268929",
     "exception": false,
     "start_time": "2023-08-22T12:30:02.196544",
     "status": "completed"
    },
    "tags": []
   },
   "outputs": [
    {
     "name": "stdout",
     "output_type": "stream",
     "text": [
      "<class 'pandas.core.frame.DataFrame'>\n",
      "RangeIndex: 1470 entries, 0 to 1469\n",
      "Data columns (total 35 columns):\n",
      " #   Column                    Non-Null Count  Dtype \n",
      "---  ------                    --------------  ----- \n",
      " 0   Age                       1470 non-null   int64 \n",
      " 1   Attrition                 1470 non-null   object\n",
      " 2   BusinessTravel            1470 non-null   object\n",
      " 3   DailyRate                 1470 non-null   int64 \n",
      " 4   Department                1470 non-null   object\n",
      " 5   DistanceFromHome          1470 non-null   int64 \n",
      " 6   Education                 1470 non-null   int64 \n",
      " 7   EducationField            1470 non-null   object\n",
      " 8   EmployeeCount             1470 non-null   int64 \n",
      " 9   EmployeeNumber            1470 non-null   int64 \n",
      " 10  EnvironmentSatisfaction   1470 non-null   int64 \n",
      " 11  Gender                    1470 non-null   object\n",
      " 12  HourlyRate                1470 non-null   int64 \n",
      " 13  JobInvolvement            1470 non-null   int64 \n",
      " 14  JobLevel                  1470 non-null   int64 \n",
      " 15  JobRole                   1470 non-null   object\n",
      " 16  JobSatisfaction           1470 non-null   int64 \n",
      " 17  MaritalStatus             1470 non-null   object\n",
      " 18  MonthlyIncome             1470 non-null   int64 \n",
      " 19  MonthlyRate               1470 non-null   int64 \n",
      " 20  NumCompaniesWorked        1470 non-null   int64 \n",
      " 21  Over18                    1470 non-null   object\n",
      " 22  OverTime                  1470 non-null   object\n",
      " 23  PercentSalaryHike         1470 non-null   int64 \n",
      " 24  PerformanceRating         1470 non-null   int64 \n",
      " 25  RelationshipSatisfaction  1470 non-null   int64 \n",
      " 26  StandardHours             1470 non-null   int64 \n",
      " 27  StockOptionLevel          1470 non-null   int64 \n",
      " 28  TotalWorkingYears         1470 non-null   int64 \n",
      " 29  TrainingTimesLastYear     1470 non-null   int64 \n",
      " 30  WorkLifeBalance           1470 non-null   int64 \n",
      " 31  YearsAtCompany            1470 non-null   int64 \n",
      " 32  YearsInCurrentRole        1470 non-null   int64 \n",
      " 33  YearsSinceLastPromotion   1470 non-null   int64 \n",
      " 34  YearsWithCurrManager      1470 non-null   int64 \n",
      "dtypes: int64(26), object(9)\n",
      "memory usage: 402.1+ KB\n"
     ]
    }
   ],
   "source": [
    "df.info()"
   ]
  },
  {
   "cell_type": "code",
   "execution_count": 5,
   "id": "b25e9504",
   "metadata": {
    "execution": {
     "iopub.execute_input": "2023-08-22T12:30:02.348642Z",
     "iopub.status.busy": "2023-08-22T12:30:02.348213Z",
     "iopub.status.idle": "2023-08-22T12:30:02.362485Z",
     "shell.execute_reply": "2023-08-22T12:30:02.361470Z"
    },
    "papermill": {
     "duration": 0.056928,
     "end_time": "2023-08-22T12:30:02.364927",
     "exception": false,
     "start_time": "2023-08-22T12:30:02.307999",
     "status": "completed"
    },
    "tags": []
   },
   "outputs": [
    {
     "data": {
      "text/plain": [
       "Age                         0\n",
       "Attrition                   0\n",
       "BusinessTravel              0\n",
       "DailyRate                   0\n",
       "Department                  0\n",
       "DistanceFromHome            0\n",
       "Education                   0\n",
       "EducationField              0\n",
       "EmployeeCount               0\n",
       "EmployeeNumber              0\n",
       "EnvironmentSatisfaction     0\n",
       "Gender                      0\n",
       "HourlyRate                  0\n",
       "JobInvolvement              0\n",
       "JobLevel                    0\n",
       "JobRole                     0\n",
       "JobSatisfaction             0\n",
       "MaritalStatus               0\n",
       "MonthlyIncome               0\n",
       "MonthlyRate                 0\n",
       "NumCompaniesWorked          0\n",
       "Over18                      0\n",
       "OverTime                    0\n",
       "PercentSalaryHike           0\n",
       "PerformanceRating           0\n",
       "RelationshipSatisfaction    0\n",
       "StandardHours               0\n",
       "StockOptionLevel            0\n",
       "TotalWorkingYears           0\n",
       "TrainingTimesLastYear       0\n",
       "WorkLifeBalance             0\n",
       "YearsAtCompany              0\n",
       "YearsInCurrentRole          0\n",
       "YearsSinceLastPromotion     0\n",
       "YearsWithCurrManager        0\n",
       "dtype: int64"
      ]
     },
     "execution_count": 5,
     "metadata": {},
     "output_type": "execute_result"
    }
   ],
   "source": [
    "df.isnull().sum()"
   ]
  },
  {
   "cell_type": "markdown",
   "id": "e3ac280c",
   "metadata": {
    "papermill": {
     "duration": 0.038991,
     "end_time": "2023-08-22T12:30:02.442826",
     "exception": false,
     "start_time": "2023-08-22T12:30:02.403835",
     "status": "completed"
    },
    "tags": []
   },
   "source": [
    "data is not missing value"
   ]
  },
  {
   "cell_type": "code",
   "execution_count": 6,
   "id": "bba54d7f",
   "metadata": {
    "execution": {
     "iopub.execute_input": "2023-08-22T12:30:02.522919Z",
     "iopub.status.busy": "2023-08-22T12:30:02.522134Z",
     "iopub.status.idle": "2023-08-22T12:30:02.539396Z",
     "shell.execute_reply": "2023-08-22T12:30:02.538639Z"
    },
    "papermill": {
     "duration": 0.060079,
     "end_time": "2023-08-22T12:30:02.541779",
     "exception": false,
     "start_time": "2023-08-22T12:30:02.481700",
     "status": "completed"
    },
    "tags": []
   },
   "outputs": [
    {
     "data": {
      "text/plain": [
       "0       False\n",
       "1       False\n",
       "2       False\n",
       "3       False\n",
       "4       False\n",
       "        ...  \n",
       "1465    False\n",
       "1466    False\n",
       "1467    False\n",
       "1468    False\n",
       "1469    False\n",
       "Length: 1470, dtype: bool"
      ]
     },
     "execution_count": 6,
     "metadata": {},
     "output_type": "execute_result"
    }
   ],
   "source": [
    "df.duplicated()"
   ]
  },
  {
   "cell_type": "markdown",
   "id": "3e884faa",
   "metadata": {
    "papermill": {
     "duration": 0.038704,
     "end_time": "2023-08-22T12:30:02.619415",
     "exception": false,
     "start_time": "2023-08-22T12:30:02.580711",
     "status": "completed"
    },
    "tags": []
   },
   "source": [
    "Data is not duplicated"
   ]
  },
  {
   "cell_type": "markdown",
   "id": "cdcd4e5c",
   "metadata": {
    "papermill": {
     "duration": 0.040274,
     "end_time": "2023-08-22T12:30:02.698798",
     "exception": false,
     "start_time": "2023-08-22T12:30:02.658524",
     "status": "completed"
    },
    "tags": []
   },
   "source": [
    "# Data preprocessing"
   ]
  },
  {
   "cell_type": "code",
   "execution_count": 7,
   "id": "99e2bd59",
   "metadata": {
    "execution": {
     "iopub.execute_input": "2023-08-22T12:30:02.778166Z",
     "iopub.status.busy": "2023-08-22T12:30:02.777780Z",
     "iopub.status.idle": "2023-08-22T12:30:02.782902Z",
     "shell.execute_reply": "2023-08-22T12:30:02.781833Z"
    },
    "papermill": {
     "duration": 0.047261,
     "end_time": "2023-08-22T12:30:02.785095",
     "exception": false,
     "start_time": "2023-08-22T12:30:02.737834",
     "status": "completed"
    },
    "tags": []
   },
   "outputs": [],
   "source": [
    "df1=df.copy()"
   ]
  },
  {
   "cell_type": "code",
   "execution_count": 8,
   "id": "d7d964e3",
   "metadata": {
    "execution": {
     "iopub.execute_input": "2023-08-22T12:30:02.865437Z",
     "iopub.status.busy": "2023-08-22T12:30:02.864826Z",
     "iopub.status.idle": "2023-08-22T12:30:03.010552Z",
     "shell.execute_reply": "2023-08-22T12:30:03.009470Z"
    },
    "papermill": {
     "duration": 0.188922,
     "end_time": "2023-08-22T12:30:03.013271",
     "exception": false,
     "start_time": "2023-08-22T12:30:02.824349",
     "status": "completed"
    },
    "tags": []
   },
   "outputs": [],
   "source": [
    "# conver to quantitative\n",
    "from sklearn.preprocessing import LabelEncoder"
   ]
  },
  {
   "cell_type": "code",
   "execution_count": 9,
   "id": "45309009",
   "metadata": {
    "execution": {
     "iopub.execute_input": "2023-08-22T12:30:03.093079Z",
     "iopub.status.busy": "2023-08-22T12:30:03.092646Z",
     "iopub.status.idle": "2023-08-22T12:30:03.098788Z",
     "shell.execute_reply": "2023-08-22T12:30:03.097725Z"
    },
    "papermill": {
     "duration": 0.048951,
     "end_time": "2023-08-22T12:30:03.101226",
     "exception": false,
     "start_time": "2023-08-22T12:30:03.052275",
     "status": "completed"
    },
    "tags": []
   },
   "outputs": [],
   "source": [
    "le = LabelEncoder()\n",
    "\n",
    "Attrition_le = LabelEncoder()\n",
    "BusinessTravel_le=LabelEncoder()\n",
    "Department_le=LabelEncoder()\n",
    "EducationField_le=LabelEncoder()\n",
    "Gender_le=LabelEncoder()\n",
    "JobRole_le=LabelEncoder()\n",
    "MaritalStatus_le=LabelEncoder()\n",
    "OverTime_le=LabelEncoder()"
   ]
  },
  {
   "cell_type": "code",
   "execution_count": 10,
   "id": "d701f687",
   "metadata": {
    "execution": {
     "iopub.execute_input": "2023-08-22T12:30:03.181023Z",
     "iopub.status.busy": "2023-08-22T12:30:03.180595Z",
     "iopub.status.idle": "2023-08-22T12:30:03.189233Z",
     "shell.execute_reply": "2023-08-22T12:30:03.188459Z"
    },
    "papermill": {
     "duration": 0.051096,
     "end_time": "2023-08-22T12:30:03.191283",
     "exception": false,
     "start_time": "2023-08-22T12:30:03.140187",
     "status": "completed"
    },
    "tags": []
   },
   "outputs": [
    {
     "data": {
      "text/plain": [
       "array(['Female', 'Male'], dtype=object)"
      ]
     },
     "execution_count": 10,
     "metadata": {},
     "output_type": "execute_result"
    }
   ],
   "source": [
    "df['Gender'] = Gender_le.fit_transform(df['Gender'])\n",
    "Gender_le.classes_"
   ]
  },
  {
   "cell_type": "code",
   "execution_count": 11,
   "id": "1ddfd131",
   "metadata": {
    "execution": {
     "iopub.execute_input": "2023-08-22T12:30:03.272445Z",
     "iopub.status.busy": "2023-08-22T12:30:03.271773Z",
     "iopub.status.idle": "2023-08-22T12:30:03.279771Z",
     "shell.execute_reply": "2023-08-22T12:30:03.278787Z"
    },
    "papermill": {
     "duration": 0.051398,
     "end_time": "2023-08-22T12:30:03.281782",
     "exception": false,
     "start_time": "2023-08-22T12:30:03.230384",
     "status": "completed"
    },
    "tags": []
   },
   "outputs": [
    {
     "data": {
      "text/plain": [
       "array(['No', 'Yes'], dtype=object)"
      ]
     },
     "execution_count": 11,
     "metadata": {},
     "output_type": "execute_result"
    }
   ],
   "source": [
    "df['OverTime'] = OverTime_le.fit_transform(df['OverTime'])\n",
    "OverTime_le.classes_"
   ]
  },
  {
   "cell_type": "code",
   "execution_count": 12,
   "id": "3961186b",
   "metadata": {
    "execution": {
     "iopub.execute_input": "2023-08-22T12:30:03.364161Z",
     "iopub.status.busy": "2023-08-22T12:30:03.363633Z",
     "iopub.status.idle": "2023-08-22T12:30:03.371850Z",
     "shell.execute_reply": "2023-08-22T12:30:03.370855Z"
    },
    "papermill": {
     "duration": 0.053318,
     "end_time": "2023-08-22T12:30:03.374283",
     "exception": false,
     "start_time": "2023-08-22T12:30:03.320965",
     "status": "completed"
    },
    "tags": []
   },
   "outputs": [
    {
     "data": {
      "text/plain": [
       "array([0, 1])"
      ]
     },
     "execution_count": 12,
     "metadata": {},
     "output_type": "execute_result"
    }
   ],
   "source": [
    "df['OverTime'] = OverTime_le.fit_transform(df['OverTime'])\n",
    "OverTime_le.classes_"
   ]
  },
  {
   "cell_type": "code",
   "execution_count": 13,
   "id": "af9f6482",
   "metadata": {
    "execution": {
     "iopub.execute_input": "2023-08-22T12:30:03.455580Z",
     "iopub.status.busy": "2023-08-22T12:30:03.454785Z",
     "iopub.status.idle": "2023-08-22T12:30:03.463540Z",
     "shell.execute_reply": "2023-08-22T12:30:03.462449Z"
    },
    "papermill": {
     "duration": 0.05181,
     "end_time": "2023-08-22T12:30:03.465914",
     "exception": false,
     "start_time": "2023-08-22T12:30:03.414104",
     "status": "completed"
    },
    "tags": []
   },
   "outputs": [
    {
     "data": {
      "text/plain": [
       "array(['Human Resources', 'Life Sciences', 'Marketing', 'Medical',\n",
       "       'Other', 'Technical Degree'], dtype=object)"
      ]
     },
     "execution_count": 13,
     "metadata": {},
     "output_type": "execute_result"
    }
   ],
   "source": [
    "df['EducationField'] = EducationField_le.fit_transform(df['EducationField'])\n",
    "EducationField_le.classes_"
   ]
  },
  {
   "cell_type": "code",
   "execution_count": 14,
   "id": "743c1395",
   "metadata": {
    "execution": {
     "iopub.execute_input": "2023-08-22T12:30:03.548654Z",
     "iopub.status.busy": "2023-08-22T12:30:03.547981Z",
     "iopub.status.idle": "2023-08-22T12:30:03.555330Z",
     "shell.execute_reply": "2023-08-22T12:30:03.554354Z"
    },
    "papermill": {
     "duration": 0.051614,
     "end_time": "2023-08-22T12:30:03.557650",
     "exception": false,
     "start_time": "2023-08-22T12:30:03.506036",
     "status": "completed"
    },
    "tags": []
   },
   "outputs": [
    {
     "data": {
      "text/plain": [
       "array(['Life Sciences', 'Other', 'Medical', 'Marketing',\n",
       "       'Technical Degree', 'Human Resources'], dtype=object)"
      ]
     },
     "execution_count": 14,
     "metadata": {},
     "output_type": "execute_result"
    }
   ],
   "source": [
    "df1['EducationField'].unique()\n"
   ]
  },
  {
   "cell_type": "code",
   "execution_count": 15,
   "id": "ac864a5a",
   "metadata": {
    "execution": {
     "iopub.execute_input": "2023-08-22T12:30:03.640415Z",
     "iopub.status.busy": "2023-08-22T12:30:03.639697Z",
     "iopub.status.idle": "2023-08-22T12:30:03.648018Z",
     "shell.execute_reply": "2023-08-22T12:30:03.647084Z"
    },
    "papermill": {
     "duration": 0.052239,
     "end_time": "2023-08-22T12:30:03.650205",
     "exception": false,
     "start_time": "2023-08-22T12:30:03.597966",
     "status": "completed"
    },
    "tags": []
   },
   "outputs": [
    {
     "data": {
      "text/plain": [
       "array(['No', 'Yes'], dtype=object)"
      ]
     },
     "execution_count": 15,
     "metadata": {},
     "output_type": "execute_result"
    }
   ],
   "source": [
    "\n",
    "df['Attrition'] = Attrition_le.fit_transform(df['Attrition'])\n",
    "\n",
    "Attrition_le.classes_"
   ]
  },
  {
   "cell_type": "code",
   "execution_count": 16,
   "id": "f710d019",
   "metadata": {
    "execution": {
     "iopub.execute_input": "2023-08-22T12:30:03.732759Z",
     "iopub.status.busy": "2023-08-22T12:30:03.732096Z",
     "iopub.status.idle": "2023-08-22T12:30:03.740830Z",
     "shell.execute_reply": "2023-08-22T12:30:03.739727Z"
    },
    "papermill": {
     "duration": 0.053004,
     "end_time": "2023-08-22T12:30:03.743007",
     "exception": false,
     "start_time": "2023-08-22T12:30:03.690003",
     "status": "completed"
    },
    "tags": []
   },
   "outputs": [
    {
     "data": {
      "text/plain": [
       "No     1233\n",
       "Yes     237\n",
       "Name: Attrition, dtype: int64"
      ]
     },
     "execution_count": 16,
     "metadata": {},
     "output_type": "execute_result"
    }
   ],
   "source": [
    "df1['Attrition'].value_counts()"
   ]
  },
  {
   "cell_type": "code",
   "execution_count": 17,
   "id": "b0c3f36f",
   "metadata": {
    "execution": {
     "iopub.execute_input": "2023-08-22T12:30:03.824705Z",
     "iopub.status.busy": "2023-08-22T12:30:03.824021Z",
     "iopub.status.idle": "2023-08-22T12:30:03.933112Z",
     "shell.execute_reply": "2023-08-22T12:30:03.932211Z"
    },
    "papermill": {
     "duration": 0.15329,
     "end_time": "2023-08-22T12:30:03.935712",
     "exception": false,
     "start_time": "2023-08-22T12:30:03.782422",
     "status": "completed"
    },
    "tags": []
   },
   "outputs": [
    {
     "data": {
      "text/html": [
       "<div>\n",
       "<style scoped>\n",
       "    .dataframe tbody tr th:only-of-type {\n",
       "        vertical-align: middle;\n",
       "    }\n",
       "\n",
       "    .dataframe tbody tr th {\n",
       "        vertical-align: top;\n",
       "    }\n",
       "\n",
       "    .dataframe thead th {\n",
       "        text-align: right;\n",
       "    }\n",
       "</style>\n",
       "<table border=\"1\" class=\"dataframe\">\n",
       "  <thead>\n",
       "    <tr style=\"text-align: right;\">\n",
       "      <th></th>\n",
       "      <th>count</th>\n",
       "      <th>mean</th>\n",
       "      <th>std</th>\n",
       "      <th>min</th>\n",
       "      <th>25%</th>\n",
       "      <th>50%</th>\n",
       "      <th>75%</th>\n",
       "      <th>max</th>\n",
       "    </tr>\n",
       "  </thead>\n",
       "  <tbody>\n",
       "    <tr>\n",
       "      <th>Age</th>\n",
       "      <td>1470.0</td>\n",
       "      <td>36.923810</td>\n",
       "      <td>9.135373</td>\n",
       "      <td>18.0</td>\n",
       "      <td>30.00</td>\n",
       "      <td>36.0</td>\n",
       "      <td>43.00</td>\n",
       "      <td>60.0</td>\n",
       "    </tr>\n",
       "    <tr>\n",
       "      <th>Attrition</th>\n",
       "      <td>1470.0</td>\n",
       "      <td>0.161224</td>\n",
       "      <td>0.367863</td>\n",
       "      <td>0.0</td>\n",
       "      <td>0.00</td>\n",
       "      <td>0.0</td>\n",
       "      <td>0.00</td>\n",
       "      <td>1.0</td>\n",
       "    </tr>\n",
       "    <tr>\n",
       "      <th>DailyRate</th>\n",
       "      <td>1470.0</td>\n",
       "      <td>802.485714</td>\n",
       "      <td>403.509100</td>\n",
       "      <td>102.0</td>\n",
       "      <td>465.00</td>\n",
       "      <td>802.0</td>\n",
       "      <td>1157.00</td>\n",
       "      <td>1499.0</td>\n",
       "    </tr>\n",
       "    <tr>\n",
       "      <th>DistanceFromHome</th>\n",
       "      <td>1470.0</td>\n",
       "      <td>9.192517</td>\n",
       "      <td>8.106864</td>\n",
       "      <td>1.0</td>\n",
       "      <td>2.00</td>\n",
       "      <td>7.0</td>\n",
       "      <td>14.00</td>\n",
       "      <td>29.0</td>\n",
       "    </tr>\n",
       "    <tr>\n",
       "      <th>Education</th>\n",
       "      <td>1470.0</td>\n",
       "      <td>2.912925</td>\n",
       "      <td>1.024165</td>\n",
       "      <td>1.0</td>\n",
       "      <td>2.00</td>\n",
       "      <td>3.0</td>\n",
       "      <td>4.00</td>\n",
       "      <td>5.0</td>\n",
       "    </tr>\n",
       "    <tr>\n",
       "      <th>EducationField</th>\n",
       "      <td>1470.0</td>\n",
       "      <td>2.247619</td>\n",
       "      <td>1.331369</td>\n",
       "      <td>0.0</td>\n",
       "      <td>1.00</td>\n",
       "      <td>2.0</td>\n",
       "      <td>3.00</td>\n",
       "      <td>5.0</td>\n",
       "    </tr>\n",
       "    <tr>\n",
       "      <th>EmployeeCount</th>\n",
       "      <td>1470.0</td>\n",
       "      <td>1.000000</td>\n",
       "      <td>0.000000</td>\n",
       "      <td>1.0</td>\n",
       "      <td>1.00</td>\n",
       "      <td>1.0</td>\n",
       "      <td>1.00</td>\n",
       "      <td>1.0</td>\n",
       "    </tr>\n",
       "    <tr>\n",
       "      <th>EmployeeNumber</th>\n",
       "      <td>1470.0</td>\n",
       "      <td>1024.865306</td>\n",
       "      <td>602.024335</td>\n",
       "      <td>1.0</td>\n",
       "      <td>491.25</td>\n",
       "      <td>1020.5</td>\n",
       "      <td>1555.75</td>\n",
       "      <td>2068.0</td>\n",
       "    </tr>\n",
       "    <tr>\n",
       "      <th>EnvironmentSatisfaction</th>\n",
       "      <td>1470.0</td>\n",
       "      <td>2.721769</td>\n",
       "      <td>1.093082</td>\n",
       "      <td>1.0</td>\n",
       "      <td>2.00</td>\n",
       "      <td>3.0</td>\n",
       "      <td>4.00</td>\n",
       "      <td>4.0</td>\n",
       "    </tr>\n",
       "    <tr>\n",
       "      <th>Gender</th>\n",
       "      <td>1470.0</td>\n",
       "      <td>0.600000</td>\n",
       "      <td>0.490065</td>\n",
       "      <td>0.0</td>\n",
       "      <td>0.00</td>\n",
       "      <td>1.0</td>\n",
       "      <td>1.00</td>\n",
       "      <td>1.0</td>\n",
       "    </tr>\n",
       "    <tr>\n",
       "      <th>HourlyRate</th>\n",
       "      <td>1470.0</td>\n",
       "      <td>65.891156</td>\n",
       "      <td>20.329428</td>\n",
       "      <td>30.0</td>\n",
       "      <td>48.00</td>\n",
       "      <td>66.0</td>\n",
       "      <td>83.75</td>\n",
       "      <td>100.0</td>\n",
       "    </tr>\n",
       "    <tr>\n",
       "      <th>JobInvolvement</th>\n",
       "      <td>1470.0</td>\n",
       "      <td>2.729932</td>\n",
       "      <td>0.711561</td>\n",
       "      <td>1.0</td>\n",
       "      <td>2.00</td>\n",
       "      <td>3.0</td>\n",
       "      <td>3.00</td>\n",
       "      <td>4.0</td>\n",
       "    </tr>\n",
       "    <tr>\n",
       "      <th>JobLevel</th>\n",
       "      <td>1470.0</td>\n",
       "      <td>2.063946</td>\n",
       "      <td>1.106940</td>\n",
       "      <td>1.0</td>\n",
       "      <td>1.00</td>\n",
       "      <td>2.0</td>\n",
       "      <td>3.00</td>\n",
       "      <td>5.0</td>\n",
       "    </tr>\n",
       "    <tr>\n",
       "      <th>JobSatisfaction</th>\n",
       "      <td>1470.0</td>\n",
       "      <td>2.728571</td>\n",
       "      <td>1.102846</td>\n",
       "      <td>1.0</td>\n",
       "      <td>2.00</td>\n",
       "      <td>3.0</td>\n",
       "      <td>4.00</td>\n",
       "      <td>4.0</td>\n",
       "    </tr>\n",
       "    <tr>\n",
       "      <th>MonthlyIncome</th>\n",
       "      <td>1470.0</td>\n",
       "      <td>6502.931293</td>\n",
       "      <td>4707.956783</td>\n",
       "      <td>1009.0</td>\n",
       "      <td>2911.00</td>\n",
       "      <td>4919.0</td>\n",
       "      <td>8379.00</td>\n",
       "      <td>19999.0</td>\n",
       "    </tr>\n",
       "    <tr>\n",
       "      <th>MonthlyRate</th>\n",
       "      <td>1470.0</td>\n",
       "      <td>14313.103401</td>\n",
       "      <td>7117.786044</td>\n",
       "      <td>2094.0</td>\n",
       "      <td>8047.00</td>\n",
       "      <td>14235.5</td>\n",
       "      <td>20461.50</td>\n",
       "      <td>26999.0</td>\n",
       "    </tr>\n",
       "    <tr>\n",
       "      <th>NumCompaniesWorked</th>\n",
       "      <td>1470.0</td>\n",
       "      <td>2.693197</td>\n",
       "      <td>2.498009</td>\n",
       "      <td>0.0</td>\n",
       "      <td>1.00</td>\n",
       "      <td>2.0</td>\n",
       "      <td>4.00</td>\n",
       "      <td>9.0</td>\n",
       "    </tr>\n",
       "    <tr>\n",
       "      <th>OverTime</th>\n",
       "      <td>1470.0</td>\n",
       "      <td>0.282993</td>\n",
       "      <td>0.450606</td>\n",
       "      <td>0.0</td>\n",
       "      <td>0.00</td>\n",
       "      <td>0.0</td>\n",
       "      <td>1.00</td>\n",
       "      <td>1.0</td>\n",
       "    </tr>\n",
       "    <tr>\n",
       "      <th>PercentSalaryHike</th>\n",
       "      <td>1470.0</td>\n",
       "      <td>15.209524</td>\n",
       "      <td>3.659938</td>\n",
       "      <td>11.0</td>\n",
       "      <td>12.00</td>\n",
       "      <td>14.0</td>\n",
       "      <td>18.00</td>\n",
       "      <td>25.0</td>\n",
       "    </tr>\n",
       "    <tr>\n",
       "      <th>PerformanceRating</th>\n",
       "      <td>1470.0</td>\n",
       "      <td>3.153741</td>\n",
       "      <td>0.360824</td>\n",
       "      <td>3.0</td>\n",
       "      <td>3.00</td>\n",
       "      <td>3.0</td>\n",
       "      <td>3.00</td>\n",
       "      <td>4.0</td>\n",
       "    </tr>\n",
       "    <tr>\n",
       "      <th>RelationshipSatisfaction</th>\n",
       "      <td>1470.0</td>\n",
       "      <td>2.712245</td>\n",
       "      <td>1.081209</td>\n",
       "      <td>1.0</td>\n",
       "      <td>2.00</td>\n",
       "      <td>3.0</td>\n",
       "      <td>4.00</td>\n",
       "      <td>4.0</td>\n",
       "    </tr>\n",
       "    <tr>\n",
       "      <th>StandardHours</th>\n",
       "      <td>1470.0</td>\n",
       "      <td>80.000000</td>\n",
       "      <td>0.000000</td>\n",
       "      <td>80.0</td>\n",
       "      <td>80.00</td>\n",
       "      <td>80.0</td>\n",
       "      <td>80.00</td>\n",
       "      <td>80.0</td>\n",
       "    </tr>\n",
       "    <tr>\n",
       "      <th>StockOptionLevel</th>\n",
       "      <td>1470.0</td>\n",
       "      <td>0.793878</td>\n",
       "      <td>0.852077</td>\n",
       "      <td>0.0</td>\n",
       "      <td>0.00</td>\n",
       "      <td>1.0</td>\n",
       "      <td>1.00</td>\n",
       "      <td>3.0</td>\n",
       "    </tr>\n",
       "    <tr>\n",
       "      <th>TotalWorkingYears</th>\n",
       "      <td>1470.0</td>\n",
       "      <td>11.279592</td>\n",
       "      <td>7.780782</td>\n",
       "      <td>0.0</td>\n",
       "      <td>6.00</td>\n",
       "      <td>10.0</td>\n",
       "      <td>15.00</td>\n",
       "      <td>40.0</td>\n",
       "    </tr>\n",
       "    <tr>\n",
       "      <th>TrainingTimesLastYear</th>\n",
       "      <td>1470.0</td>\n",
       "      <td>2.799320</td>\n",
       "      <td>1.289271</td>\n",
       "      <td>0.0</td>\n",
       "      <td>2.00</td>\n",
       "      <td>3.0</td>\n",
       "      <td>3.00</td>\n",
       "      <td>6.0</td>\n",
       "    </tr>\n",
       "    <tr>\n",
       "      <th>WorkLifeBalance</th>\n",
       "      <td>1470.0</td>\n",
       "      <td>2.761224</td>\n",
       "      <td>0.706476</td>\n",
       "      <td>1.0</td>\n",
       "      <td>2.00</td>\n",
       "      <td>3.0</td>\n",
       "      <td>3.00</td>\n",
       "      <td>4.0</td>\n",
       "    </tr>\n",
       "    <tr>\n",
       "      <th>YearsAtCompany</th>\n",
       "      <td>1470.0</td>\n",
       "      <td>7.008163</td>\n",
       "      <td>6.126525</td>\n",
       "      <td>0.0</td>\n",
       "      <td>3.00</td>\n",
       "      <td>5.0</td>\n",
       "      <td>9.00</td>\n",
       "      <td>40.0</td>\n",
       "    </tr>\n",
       "    <tr>\n",
       "      <th>YearsInCurrentRole</th>\n",
       "      <td>1470.0</td>\n",
       "      <td>4.229252</td>\n",
       "      <td>3.623137</td>\n",
       "      <td>0.0</td>\n",
       "      <td>2.00</td>\n",
       "      <td>3.0</td>\n",
       "      <td>7.00</td>\n",
       "      <td>18.0</td>\n",
       "    </tr>\n",
       "    <tr>\n",
       "      <th>YearsSinceLastPromotion</th>\n",
       "      <td>1470.0</td>\n",
       "      <td>2.187755</td>\n",
       "      <td>3.222430</td>\n",
       "      <td>0.0</td>\n",
       "      <td>0.00</td>\n",
       "      <td>1.0</td>\n",
       "      <td>3.00</td>\n",
       "      <td>15.0</td>\n",
       "    </tr>\n",
       "    <tr>\n",
       "      <th>YearsWithCurrManager</th>\n",
       "      <td>1470.0</td>\n",
       "      <td>4.123129</td>\n",
       "      <td>3.568136</td>\n",
       "      <td>0.0</td>\n",
       "      <td>2.00</td>\n",
       "      <td>3.0</td>\n",
       "      <td>7.00</td>\n",
       "      <td>17.0</td>\n",
       "    </tr>\n",
       "  </tbody>\n",
       "</table>\n",
       "</div>"
      ],
      "text/plain": [
       "                           count          mean          std     min      25%  \\\n",
       "Age                       1470.0     36.923810     9.135373    18.0    30.00   \n",
       "Attrition                 1470.0      0.161224     0.367863     0.0     0.00   \n",
       "DailyRate                 1470.0    802.485714   403.509100   102.0   465.00   \n",
       "DistanceFromHome          1470.0      9.192517     8.106864     1.0     2.00   \n",
       "Education                 1470.0      2.912925     1.024165     1.0     2.00   \n",
       "EducationField            1470.0      2.247619     1.331369     0.0     1.00   \n",
       "EmployeeCount             1470.0      1.000000     0.000000     1.0     1.00   \n",
       "EmployeeNumber            1470.0   1024.865306   602.024335     1.0   491.25   \n",
       "EnvironmentSatisfaction   1470.0      2.721769     1.093082     1.0     2.00   \n",
       "Gender                    1470.0      0.600000     0.490065     0.0     0.00   \n",
       "HourlyRate                1470.0     65.891156    20.329428    30.0    48.00   \n",
       "JobInvolvement            1470.0      2.729932     0.711561     1.0     2.00   \n",
       "JobLevel                  1470.0      2.063946     1.106940     1.0     1.00   \n",
       "JobSatisfaction           1470.0      2.728571     1.102846     1.0     2.00   \n",
       "MonthlyIncome             1470.0   6502.931293  4707.956783  1009.0  2911.00   \n",
       "MonthlyRate               1470.0  14313.103401  7117.786044  2094.0  8047.00   \n",
       "NumCompaniesWorked        1470.0      2.693197     2.498009     0.0     1.00   \n",
       "OverTime                  1470.0      0.282993     0.450606     0.0     0.00   \n",
       "PercentSalaryHike         1470.0     15.209524     3.659938    11.0    12.00   \n",
       "PerformanceRating         1470.0      3.153741     0.360824     3.0     3.00   \n",
       "RelationshipSatisfaction  1470.0      2.712245     1.081209     1.0     2.00   \n",
       "StandardHours             1470.0     80.000000     0.000000    80.0    80.00   \n",
       "StockOptionLevel          1470.0      0.793878     0.852077     0.0     0.00   \n",
       "TotalWorkingYears         1470.0     11.279592     7.780782     0.0     6.00   \n",
       "TrainingTimesLastYear     1470.0      2.799320     1.289271     0.0     2.00   \n",
       "WorkLifeBalance           1470.0      2.761224     0.706476     1.0     2.00   \n",
       "YearsAtCompany            1470.0      7.008163     6.126525     0.0     3.00   \n",
       "YearsInCurrentRole        1470.0      4.229252     3.623137     0.0     2.00   \n",
       "YearsSinceLastPromotion   1470.0      2.187755     3.222430     0.0     0.00   \n",
       "YearsWithCurrManager      1470.0      4.123129     3.568136     0.0     2.00   \n",
       "\n",
       "                              50%       75%      max  \n",
       "Age                          36.0     43.00     60.0  \n",
       "Attrition                     0.0      0.00      1.0  \n",
       "DailyRate                   802.0   1157.00   1499.0  \n",
       "DistanceFromHome              7.0     14.00     29.0  \n",
       "Education                     3.0      4.00      5.0  \n",
       "EducationField                2.0      3.00      5.0  \n",
       "EmployeeCount                 1.0      1.00      1.0  \n",
       "EmployeeNumber             1020.5   1555.75   2068.0  \n",
       "EnvironmentSatisfaction       3.0      4.00      4.0  \n",
       "Gender                        1.0      1.00      1.0  \n",
       "HourlyRate                   66.0     83.75    100.0  \n",
       "JobInvolvement                3.0      3.00      4.0  \n",
       "JobLevel                      2.0      3.00      5.0  \n",
       "JobSatisfaction               3.0      4.00      4.0  \n",
       "MonthlyIncome              4919.0   8379.00  19999.0  \n",
       "MonthlyRate               14235.5  20461.50  26999.0  \n",
       "NumCompaniesWorked            2.0      4.00      9.0  \n",
       "OverTime                      0.0      1.00      1.0  \n",
       "PercentSalaryHike            14.0     18.00     25.0  \n",
       "PerformanceRating             3.0      3.00      4.0  \n",
       "RelationshipSatisfaction      3.0      4.00      4.0  \n",
       "StandardHours                80.0     80.00     80.0  \n",
       "StockOptionLevel              1.0      1.00      3.0  \n",
       "TotalWorkingYears            10.0     15.00     40.0  \n",
       "TrainingTimesLastYear         3.0      3.00      6.0  \n",
       "WorkLifeBalance               3.0      3.00      4.0  \n",
       "YearsAtCompany                5.0      9.00     40.0  \n",
       "YearsInCurrentRole            3.0      7.00     18.0  \n",
       "YearsSinceLastPromotion       1.0      3.00     15.0  \n",
       "YearsWithCurrManager          3.0      7.00     17.0  "
      ]
     },
     "execution_count": 17,
     "metadata": {},
     "output_type": "execute_result"
    }
   ],
   "source": [
    "df.describe().T"
   ]
  },
  {
   "cell_type": "markdown",
   "id": "8e26c87b",
   "metadata": {
    "papermill": {
     "duration": 0.040753,
     "end_time": "2023-08-22T12:30:04.017603",
     "exception": false,
     "start_time": "2023-08-22T12:30:03.976850",
     "status": "completed"
    },
    "tags": []
   },
   "source": [
    "# Data Analysis"
   ]
  },
  {
   "cell_type": "markdown",
   "id": "608adfe5",
   "metadata": {
    "papermill": {
     "duration": 0.040255,
     "end_time": "2023-08-22T12:30:04.098722",
     "exception": false,
     "start_time": "2023-08-22T12:30:04.058467",
     "status": "completed"
    },
    "tags": []
   },
   "source": [
    "# Dependent variable"
   ]
  },
  {
   "cell_type": "code",
   "execution_count": 18,
   "id": "8630ba68",
   "metadata": {
    "execution": {
     "iopub.execute_input": "2023-08-22T12:30:04.182646Z",
     "iopub.status.busy": "2023-08-22T12:30:04.181908Z",
     "iopub.status.idle": "2023-08-22T12:30:04.382456Z",
     "shell.execute_reply": "2023-08-22T12:30:04.381395Z"
    },
    "papermill": {
     "duration": 0.247824,
     "end_time": "2023-08-22T12:30:04.387184",
     "exception": false,
     "start_time": "2023-08-22T12:30:04.139360",
     "status": "completed"
    },
    "tags": []
   },
   "outputs": [
    {
     "data": {
      "image/png": "[encoded data removed]",
      "text/plain": [
       "<Figure size 700x700 with 1 Axes>"
      ]
     },
     "metadata": {},
     "output_type": "display_data"
    }
   ],
   "source": [
    "plt.figure(figsize=(7,7))\n",
    "size=df1['Attrition'].value_counts().values\n",
    "labels=df1['Attrition'].value_counts().index\n",
    "plt.pie(size,labels= labels, autopct='%1.1f%%')\n",
    "plt.show()"
   ]
  },
  {
   "cell_type": "markdown",
   "id": "69c0a4cf",
   "metadata": {
    "papermill": {
     "duration": 0.040924,
     "end_time": "2023-08-22T12:30:04.484538",
     "exception": false,
     "start_time": "2023-08-22T12:30:04.443614",
     "status": "completed"
    },
    "tags": []
   },
   "source": [
    "16% employee is resigned/retired"
   ]
  },
  {
   "cell_type": "markdown",
   "id": "7a5a8d6f",
   "metadata": {
    "papermill": {
     "duration": 0.043693,
     "end_time": "2023-08-22T12:30:04.569826",
     "exception": false,
     "start_time": "2023-08-22T12:30:04.526133",
     "status": "completed"
    },
    "tags": []
   },
   "source": [
    "***************************"
   ]
  },
  {
   "cell_type": "markdown",
   "id": "d70a9d94",
   "metadata": {
    "papermill": {
     "duration": 0.042638,
     "end_time": "2023-08-22T12:30:04.654639",
     "exception": false,
     "start_time": "2023-08-22T12:30:04.612001",
     "status": "completed"
    },
    "tags": []
   },
   "source": [
    "# Independent Variable"
   ]
  },
  {
   "cell_type": "markdown",
   "id": "0426128a",
   "metadata": {
    "papermill": {
     "duration": 0.041136,
     "end_time": "2023-08-22T12:30:04.736882",
     "exception": false,
     "start_time": "2023-08-22T12:30:04.695746",
     "status": "completed"
    },
    "tags": []
   },
   "source": [
    "## general Info"
   ]
  },
  {
   "cell_type": "markdown",
   "id": "0221e35e",
   "metadata": {
    "papermill": {
     "duration": 0.040741,
     "end_time": "2023-08-22T12:30:04.819052",
     "exception": false,
     "start_time": "2023-08-22T12:30:04.778311",
     "status": "completed"
    },
    "tags": []
   },
   "source": [
    "### 1. How Is Attrition Affected by Gender? "
   ]
  },
  {
   "cell_type": "code",
   "execution_count": 19,
   "id": "b14dd0e0",
   "metadata": {
    "execution": {
     "iopub.execute_input": "2023-08-22T12:30:04.903793Z",
     "iopub.status.busy": "2023-08-22T12:30:04.903044Z",
     "iopub.status.idle": "2023-08-22T12:30:04.915181Z",
     "shell.execute_reply": "2023-08-22T12:30:04.913651Z"
    },
    "papermill": {
     "duration": 0.057042,
     "end_time": "2023-08-22T12:30:04.917387",
     "exception": false,
     "start_time": "2023-08-22T12:30:04.860345",
     "status": "completed"
    },
    "tags": []
   },
   "outputs": [
    {
     "name": "stdout",
     "output_type": "stream",
     "text": [
      "Gender  Attrition\n",
      "Female  No           501\n",
      "        Yes           87\n",
      "Male    No           732\n",
      "        Yes          150\n",
      "Name: Attrition, dtype: int64\n"
     ]
    }
   ],
   "source": [
    "groupby_Gender = df1.groupby(\"Gender\")[\"Attrition\"]\n",
    "print(groupby_Gender.value_counts())\n"
   ]
  },
  {
   "cell_type": "code",
   "execution_count": 20,
   "id": "2b03be4d",
   "metadata": {
    "execution": {
     "iopub.execute_input": "2023-08-22T12:30:05.002493Z",
     "iopub.status.busy": "2023-08-22T12:30:05.001640Z",
     "iopub.status.idle": "2023-08-22T12:30:05.154970Z",
     "shell.execute_reply": "2023-08-22T12:30:05.153236Z"
    },
    "papermill": {
     "duration": 0.202493,
     "end_time": "2023-08-22T12:30:05.161302",
     "exception": false,
     "start_time": "2023-08-22T12:30:04.958809",
     "status": "completed"
    },
    "tags": []
   },
   "outputs": [
    {
     "data": {
      "text/plain": [
       "<Axes: ylabel='Gender'>"
      ]
     },
     "execution_count": 20,
     "metadata": {},
     "output_type": "execute_result"
    },
    {
     "data": {
      "image/png": "[encoded data removed]",
      "text/plain": [
       "<Figure size 640x480 with 1 Axes>"
      ]
     },
     "metadata": {},
     "output_type": "display_data"
    }
   ],
   "source": [
    "round(df1['Gender'].value_counts()/df.shape[0]*100).plot.pie(autopct = \"%1.2f%%\")"
   ]
  },
  {
   "cell_type": "code",
   "execution_count": 21,
   "id": "807d3901",
   "metadata": {
    "execution": {
     "iopub.execute_input": "2023-08-22T12:30:05.280811Z",
     "iopub.status.busy": "2023-08-22T12:30:05.279711Z",
     "iopub.status.idle": "2023-08-22T12:30:05.286424Z",
     "shell.execute_reply": "2023-08-22T12:30:05.285643Z"
    },
    "papermill": {
     "duration": 0.052882,
     "end_time": "2023-08-22T12:30:05.288543",
     "exception": false,
     "start_time": "2023-08-22T12:30:05.235661",
     "status": "completed"
    },
    "tags": []
   },
   "outputs": [
    {
     "data": {
      "text/plain": [
       "882"
      ]
     },
     "execution_count": 21,
     "metadata": {},
     "output_type": "execute_result"
    }
   ],
   "source": [
    "df[\"Gender\"].sum()"
   ]
  },
  {
   "cell_type": "code",
   "execution_count": 22,
   "id": "5c455c03",
   "metadata": {
    "execution": {
     "iopub.execute_input": "2023-08-22T12:30:05.375849Z",
     "iopub.status.busy": "2023-08-22T12:30:05.374817Z",
     "iopub.status.idle": "2023-08-22T12:30:07.149268Z",
     "shell.execute_reply": "2023-08-22T12:30:07.148192Z"
    },
    "papermill": {
     "duration": 1.820753,
     "end_time": "2023-08-22T12:30:07.151681",
     "exception": false,
     "start_time": "2023-08-22T12:30:05.330928",
     "status": "completed"
    },
    "tags": []
   },
   "outputs": [
    {
     "data": {
      "text/html": [
       "        <script type=\"text/javascript\">\n",
       "        window.PlotlyConfig = {MathJaxConfig: 'local'};\n",
       "        if (window.MathJax && window.MathJax.Hub && window.MathJax.Hub.Config) {window.MathJax.Hub.Config({SVG: {font: \"STIX-Web\"}});}\n",
       "        if (typeof require !== 'undefined') {\n",
       "        require.undef(\"plotly\");\n",
       "        requirejs.config({\n",
       "            paths: {\n",
       "                'plotly': ['https://cdn.plot.ly/plotly-2.24.1.min']\n",
       "            }\n",
       "        });\n",
       "        require(['plotly'], function(Plotly) {\n",
       "            window._Plotly = Plotly;\n",
       "        });\n",
       "        }\n",
       "        </script>\n",
       "        "
      ]
     },
     "metadata": {},
     "output_type": "display_data"
    },
    {
     "data": {
      "text/html": [
       "<div>                            <div id=\"ede72f2e-548a-494a-8ece-df92c1d8d50c\" class=\"plotly-graph-div\" style=\"height:525px; width:100%;\"></div>            <script type=\"text/javascript\">                require([\"plotly\"], function(Plotly) {                    window.PLOTLYENV=window.PLOTLYENV || {};                                    if (document.getElementById(\"ede72f2e-548a-494a-8ece-df92c1d8d50c\")) {                    Plotly.newPlot(                        \"ede72f2e-548a-494a-8ece-df92c1d8d50c\",                        [{\"alignmentgroup\":\"True\",\"hovertemplate\":\"Attrition=Yes\\u003cbr\\u003eGender=%{x}\\u003cbr\\u003ecount=%{y}\\u003cextra\\u003e\\u003c\\u002fextra\\u003e\",\"legendgroup\":\"Yes\",\"marker\":{\"color\":\"#636efa\",\"pattern\":{\"shape\":\"\"}},\"name\":\"Yes\",\"offsetgroup\":\"Yes\",\"orientation\":\"v\",\"showlegend\":true,\"textposition\":\"auto\",\"x\":[\"Female\",\"Male\",\"Male\",\"Male\",\"Male\",\"Female\",\"Male\",\"Male\",\"Male\",\"Male\",\"Female\",\"Male\",\"Male\",\"Male\",\"Male\",\"Male\",\"Female\",\"Male\",\"Male\",\"Female\",\"Male\",\"Female\",\"Male\",\"Female\",\"Male\",\"Female\",\"Female\",\"Male\",\"Female\",\"Male\",\"Male\",\"Female\",\"Male\",\"Female\",\"Female\",\"Male\",\"Male\",\"Male\",\"Female\",\"Male\",\"Male\",\"Male\",\"Male\",\"Male\",\"Male\",\"Male\",\"Male\",\"Male\",\"Male\",\"Male\",\"Female\",\"Male\",\"Female\",\"Female\",\"Male\",\"Male\",\"Female\",\"Male\",\"Male\",\"Male\",\"Male\",\"Female\",\"Female\",\"Female\",\"Male\",\"Male\",\"Male\",\"Male\",\"Female\",\"Male\",\"Female\",\"Male\",\"Male\",\"Male\",\"Female\",\"Male\",\"Male\",\"Male\",\"Female\",\"Male\",\"Male\",\"Female\",\"Male\",\"Female\",\"Male\",\"Male\",\"Female\",\"Male\",\"Male\",\"Male\",\"Female\",\"Female\",\"Male\",\"Male\",\"Female\",\"Male\",\"Female\",\"Female\",\"Female\",\"Male\",\"Male\",\"Female\",\"Female\",\"Female\",\"Female\",\"Male\",\"Male\",\"Male\",\"Male\",\"Male\",\"Male\",\"Male\",\"Female\",\"Male\",\"Female\",\"Female\",\"Male\",\"Female\",\"Female\",\"Female\",\"Male\",\"Female\",\"Female\",\"Male\",\"Male\",\"Female\",\"Female\",\"Male\",\"Male\",\"Male\",\"Male\",\"Female\",\"Male\",\"Male\",\"Male\",\"Male\",\"Male\",\"Male\",\"Male\",\"Female\",\"Male\",\"Female\",\"Male\",\"Female\",\"Female\",\"Male\",\"Male\",\"Male\",\"Female\",\"Female\",\"Male\",\"Female\",\"Female\",\"Female\",\"Female\",\"Male\",\"Male\",\"Male\",\"Male\",\"Female\",\"Male\",\"Female\",\"Male\",\"Female\",\"Female\",\"Male\",\"Female\",\"Male\",\"Female\",\"Female\",\"Female\",\"Male\",\"Male\",\"Female\",\"Female\",\"Male\",\"Female\",\"Male\",\"Female\",\"Female\",\"Male\",\"Male\",\"Male\",\"Male\",\"Female\",\"Male\",\"Female\",\"Female\",\"Male\",\"Male\",\"Female\",\"Male\",\"Male\",\"Male\",\"Male\",\"Male\",\"Female\",\"Male\",\"Male\",\"Male\",\"Male\",\"Male\",\"Male\",\"Female\",\"Female\",\"Female\",\"Male\",\"Male\",\"Male\",\"Female\",\"Male\",\"Male\",\"Male\",\"Male\",\"Female\",\"Female\",\"Male\",\"Male\",\"Male\",\"Male\",\"Female\",\"Male\",\"Male\",\"Male\",\"Male\",\"Male\",\"Female\",\"Female\",\"Female\",\"Male\",\"Male\",\"Male\",\"Male\",\"Male\",\"Male\",\"Male\",\"Male\"],\"xaxis\":\"x\",\"y\":[1,1,1,1,1,1,1,1,1,1,1,1,1,1,1,1,1,1,1,1,1,1,1,1,1,1,1,1,1,1,1,1,1,1,1,1,1,1,1,1,1,1,1,1,1,1,1,1,1,1,1,1,1,1,1,1,1,1,1,1,1,1,1,1,1,1,1,1,1,1,1,1,1,1,1,1,1,1,1,1,1,1,1,1,1,1,1,1,1,1,1,1,1,1,1,1,1,1,1,1,1,1,1,1,1,1,1,1,1,1,1,1,1,1,1,1,1,1,1,1,1,1,1,1,1,1,1,1,1,1,1,1,1,1,1,1,1,1,1,1,1,1,1,1,1,1,1,1,1,1,1,1,1,1,1,1,1,1,1,1,1,1,1,1,1,1,1,1,1,1,1,1,1,1,1,1,1,1,1,1,1,1,1,1,1,1,1,1,1,1,1,1,1,1,1,1,1,1,1,1,1,1,1,1,1,1,1,1,1,1,1,1,1,1,1,1,1,1,1,1,1,1,1,1,1,1,1,1,1,1,1,1,1,1,1,1,1],\"yaxis\":\"y\",\"type\":\"bar\"},{\"alignmentgroup\":\"True\",\"hovertemplate\":\"Attrition=No\\u003cbr\\u003eGender=%{x}\\u003cbr\\u003ecount=%{y}\\u003cextra\\u003e\\u003c\\u002fextra\\u003e\",\"legendgroup\":\"No\",\"marker\":{\"color\":\"#EF553B\",\"pattern\":{\"shape\":\"\"}},\"name\":\"No\",\"offsetgroup\":\"No\",\"orientation\":\"v\",\"showlegend\":true,\"textposition\":\"auto\",\"x\":[\"Male\",\"Female\",\"Male\",\"Male\",\"Female\",\"Male\",\"Male\",\"Male\",\"Male\",\"Female\",\"Male\",\"Male\",\"Female\",\"Male\",\"Male\",\"Female\",\"Male\",\"Female\",\"Female\",\"Male\",\"Female\",\"Male\",\"Female\",\"Female\",\"Male\",\"Male\",\"Male\",\"Female\",\"Female\",\"Female\",\"Female\",\"Male\",\"Female\",\"Male\",\"Female\",\"Male\",\"Male\",\"Male\",\"Male\",\"Female\",\"Male\",\"Female\",\"Female\",\"Male\",\"Female\",\"Male\",\"Male\",\"Male\",\"Female\",\"Female\",\"Female\",\"Female\",\"Female\",\"Male\",\"Male\",\"Male\",\"Female\",\"Male\",\"Male\",\"Male\",\"Female\",\"Female\",\"Male\",\"Male\",\"Male\",\"Male\",\"Male\",\"Male\",\"Male\",\"Female\",\"Male\",\"Male\",\"Male\",\"Male\",\"Male\",\"Male\",\"Male\",\"Female\",\"Male\",\"Male\",\"Female\",\"Female\",\"Male\",\"Male\",\"Male\",\"Male\",\"Female\",\"Male\",\"Female\",\"Female\",\"Male\",\"Female\",\"Female\",\"Female\",\"Male\",\"Female\",\"Male\",\"Female\",\"Female\",\"Female\",\"Male\",\"Male\",\"Male\",\"Male\",\"Female\",\"Male\",\"Female\",\"Female\",\"Female\",\"Male\",\"Female\",\"Male\",\"Female\",\"Male\",\"Male\",\"Male\",\"Female\",\"Female\",\"Male\",\"Female\",\"Male\",\"Male\",\"Male\",\"Female\",\"Female\",\"Male\",\"Male\",\"Male\",\"Female\",\"Male\",\"Male\",\"Female\",\"Male\",\"Female\",\"Male\",\"Male\",\"Male\",\"Male\",\"Male\",\"Female\",\"Male\",\"Female\",\"Female\",\"Male\",\"Male\",\"Male\",\"Male\",\"Female\",\"Female\",\"Male\",\"Female\",\"Female\",\"Female\",\"Female\",\"Male\",\"Female\",\"Female\",\"Female\",\"Male\",\"Male\",\"Female\",\"Male\",\"Female\",\"Male\",\"Male\",\"Male\",\"Female\",\"Female\",\"Male\",\"Male\",\"Male\",\"Male\",\"Male\",\"Male\",\"Male\",\"Female\",\"Male\",\"Male\",\"Male\",\"Female\",\"Male\",\"Female\",\"Female\",\"Female\",\"Male\",\"Female\",\"Male\",\"Male\",\"Male\",\"Male\",\"Male\",\"Female\",\"Female\",\"Female\",\"Male\",\"Male\",\"Female\",\"Female\",\"Male\",\"Female\",\"Female\",\"Male\",\"Male\",\"Male\",\"Male\",\"Male\",\"Female\",\"Male\",\"Female\",\"Male\",\"Female\",\"Male\",\"Female\",\"Male\",\"Female\",\"Female\",\"Male\",\"Male\",\"Male\",\"Male\",\"Male\",\"Female\",\"Male\",\"Male\",\"Male\",\"Male\",\"Male\",\"Male\",\"Male\",\"Male\",\"Male\",\"Female\",\"Female\",\"Female\",\"Female\",\"Male\",\"Male\",\"Male\",\"Male\",\"Male\",\"Male\",\"Female\",\"Male\",\"Female\",\"Female\",\"Male\",\"Female\",\"Male\",\"Female\",\"Male\",\"Male\",\"Male\",\"Male\",\"Female\",\"Male\",\"Male\",\"Male\",\"Female\",\"Male\",\"Female\",\"Male\",\"Male\",\"Male\",\"Male\",\"Male\",\"Female\",\"Male\",\"Female\",\"Female\",\"Female\",\"Female\",\"Male\",\"Male\",\"Female\",\"Female\",\"Female\",\"Male\",\"Male\",\"Male\",\"Female\",\"Male\",\"Female\",\"Female\",\"Male\",\"Male\",\"Male\",\"Female\",\"Female\",\"Male\",\"Male\",\"Female\",\"Female\",\"Male\",\"Male\",\"Male\",\"Male\",\"Female\",\"Male\",\"Male\",\"Female\",\"Female\",\"Male\",\"Female\",\"Male\",\"Male\",\"Female\",\"Male\",\"Male\",\"Female\",\"Male\",\"Female\",\"Female\",\"Male\",\"Male\",\"Male\",\"Male\",\"Male\",\"Male\",\"Male\",\"Female\",\"Female\",\"Female\",\"Female\",\"Male\",\"Female\",\"Male\",\"Female\",\"Female\",\"Female\",\"Male\",\"Male\",\"Female\",\"Male\",\"Female\",\"Female\",\"Male\",\"Female\",\"Female\",\"Female\",\"Male\",\"Male\",\"Female\",\"Female\",\"Male\",\"Male\",\"Male\",\"Male\",\"Female\",\"Female\",\"Female\",\"Female\",\"Female\",\"Female\",\"Male\",\"Female\",\"Female\",\"Male\",\"Male\",\"Female\",\"Male\",\"Male\",\"Female\",\"Female\",\"Female\",\"Male\",\"Male\",\"Female\",\"Male\",\"Female\",\"Male\",\"Male\",\"Male\",\"Male\",\"Male\",\"Female\",\"Female\",\"Male\",\"Male\",\"Female\",\"Female\",\"Male\",\"Male\",\"Male\",\"Male\",\"Female\",\"Male\",\"Male\",\"Female\",\"Male\",\"Female\",\"Male\",\"Female\",\"Female\",\"Female\",\"Male\",\"Male\",\"Male\",\"Female\",\"Female\",\"Male\",\"Male\",\"Male\",\"Male\",\"Male\",\"Male\",\"Male\",\"Male\",\"Male\",\"Female\",\"Male\",\"Female\",\"Female\",\"Male\",\"Female\",\"Male\",\"Female\",\"Female\",\"Female\",\"Male\",\"Male\",\"Male\",\"Male\",\"Female\",\"Female\",\"Female\",\"Male\",\"Female\",\"Male\",\"Female\",\"Male\",\"Male\",\"Male\",\"Male\",\"Male\",\"Male\",\"Male\",\"Male\",\"Female\",\"Male\",\"Male\",\"Female\",\"Male\",\"Male\",\"Female\",\"Female\",\"Male\",\"Female\",\"Female\",\"Female\",\"Male\",\"Male\",\"Male\",\"Male\",\"Male\",\"Male\",\"Male\",\"Male\",\"Female\",\"Female\",\"Male\",\"Female\",\"Male\",\"Male\",\"Male\",\"Female\",\"Male\",\"Female\",\"Male\",\"Female\",\"Female\",\"Male\",\"Male\",\"Female\",\"Male\",\"Male\",\"Female\",\"Male\",\"Female\",\"Male\",\"Male\",\"Male\",\"Male\",\"Male\",\"Female\",\"Female\",\"Female\",\"Female\",\"Male\",\"Female\",\"Female\",\"Female\",\"Female\",\"Male\",\"Female\",\"Female\",\"Male\",\"Male\",\"Female\",\"Male\",\"Male\",\"Female\",\"Female\",\"Male\",\"Female\",\"Female\",\"Male\",\"Female\",\"Male\",\"Female\",\"Female\",\"Male\",\"Male\",\"Female\",\"Male\",\"Male\",\"Male\",\"Female\",\"Male\",\"Male\",\"Female\",\"Male\",\"Male\",\"Male\",\"Female\",\"Male\",\"Male\",\"Male\",\"Female\",\"Male\",\"Female\",\"Female\",\"Male\",\"Male\",\"Male\",\"Male\",\"Male\",\"Male\",\"Male\",\"Female\",\"Male\",\"Male\",\"Female\",\"Male\",\"Male\",\"Male\",\"Female\",\"Male\",\"Male\",\"Male\",\"Female\",\"Female\",\"Female\",\"Female\",\"Male\",\"Male\",\"Female\",\"Male\",\"Female\",\"Male\",\"Male\",\"Female\",\"Male\",\"Female\",\"Female\",\"Female\",\"Male\",\"Female\",\"Male\",\"Female\",\"Male\",\"Female\",\"Female\",\"Male\",\"Female\",\"Male\",\"Female\",\"Female\",\"Male\",\"Male\",\"Male\",\"Male\",\"Female\",\"Male\",\"Female\",\"Female\",\"Male\",\"Female\",\"Female\",\"Male\",\"Male\",\"Male\",\"Female\",\"Male\",\"Male\",\"Male\",\"Male\",\"Male\",\"Female\",\"Female\",\"Male\",\"Female\",\"Male\",\"Female\",\"Male\",\"Female\",\"Male\",\"Male\",\"Male\",\"Female\",\"Female\",\"Male\",\"Female\",\"Female\",\"Female\",\"Male\",\"Male\",\"Male\",\"Male\",\"Female\",\"Female\",\"Female\",\"Male\",\"Male\",\"Male\",\"Female\",\"Male\",\"Female\",\"Male\",\"Female\",\"Female\",\"Female\",\"Female\",\"Female\",\"Female\",\"Male\",\"Male\",\"Male\",\"Female\",\"Female\",\"Male\",\"Male\",\"Male\",\"Female\",\"Male\",\"Female\",\"Male\",\"Female\",\"Female\",\"Female\",\"Male\",\"Male\",\"Female\",\"Male\",\"Male\",\"Female\",\"Female\",\"Male\",\"Male\",\"Male\",\"Female\",\"Male\",\"Male\",\"Male\",\"Female\",\"Male\",\"Female\",\"Male\",\"Male\",\"Female\",\"Male\",\"Male\",\"Female\",\"Female\",\"Male\",\"Male\",\"Female\",\"Male\",\"Female\",\"Male\",\"Male\",\"Male\",\"Male\",\"Male\",\"Male\",\"Male\",\"Female\",\"Male\",\"Male\",\"Male\",\"Male\",\"Male\",\"Female\",\"Male\",\"Female\",\"Male\",\"Female\",\"Male\",\"Male\",\"Male\",\"Male\",\"Male\",\"Female\",\"Male\",\"Male\",\"Male\",\"Female\",\"Female\",\"Female\",\"Male\",\"Female\",\"Female\",\"Male\",\"Female\",\"Female\",\"Female\",\"Male\",\"Male\",\"Male\",\"Male\",\"Female\",\"Male\",\"Male\",\"Male\",\"Female\",\"Male\",\"Male\",\"Male\",\"Male\",\"Male\",\"Male\",\"Male\",\"Female\",\"Female\",\"Female\",\"Male\",\"Female\",\"Male\",\"Male\",\"Female\",\"Female\",\"Male\",\"Female\",\"Female\",\"Female\",\"Male\",\"Male\",\"Female\",\"Female\",\"Male\",\"Male\",\"Male\",\"Male\",\"Male\",\"Male\",\"Male\",\"Female\",\"Female\",\"Male\",\"Male\",\"Female\",\"Male\",\"Male\",\"Male\",\"Female\",\"Female\",\"Male\",\"Male\",\"Female\",\"Male\",\"Male\",\"Male\",\"Male\",\"Female\",\"Female\",\"Female\",\"Male\",\"Female\",\"Female\",\"Male\",\"Female\",\"Male\",\"Female\",\"Female\",\"Male\",\"Female\",\"Female\",\"Female\",\"Female\",\"Female\",\"Female\",\"Male\",\"Female\",\"Male\",\"Male\",\"Female\",\"Male\",\"Male\",\"Male\",\"Male\",\"Female\",\"Male\",\"Male\",\"Female\",\"Female\",\"Male\",\"Male\",\"Female\",\"Male\",\"Female\",\"Female\",\"Female\",\"Female\",\"Male\",\"Male\",\"Female\",\"Female\",\"Male\",\"Male\",\"Female\",\"Male\",\"Male\",\"Male\",\"Female\",\"Male\",\"Male\",\"Male\",\"Male\",\"Male\",\"Female\",\"Female\",\"Female\",\"Male\",\"Female\",\"Female\",\"Female\",\"Male\",\"Male\",\"Male\",\"Male\",\"Female\",\"Female\",\"Male\",\"Female\",\"Female\",\"Female\",\"Male\",\"Male\",\"Male\",\"Female\",\"Male\",\"Male\",\"Female\",\"Female\",\"Female\",\"Male\",\"Female\",\"Male\",\"Male\",\"Male\",\"Male\",\"Female\",\"Male\",\"Male\",\"Male\",\"Male\",\"Male\",\"Male\",\"Male\",\"Male\",\"Male\",\"Male\",\"Male\",\"Male\",\"Female\",\"Female\",\"Male\",\"Male\",\"Male\",\"Male\",\"Male\",\"Female\",\"Male\",\"Male\",\"Male\",\"Male\",\"Female\",\"Female\",\"Male\",\"Male\",\"Female\",\"Female\",\"Male\",\"Male\",\"Male\",\"Female\",\"Male\",\"Female\",\"Female\",\"Female\",\"Male\",\"Male\",\"Male\",\"Male\",\"Male\",\"Male\",\"Female\",\"Male\",\"Male\",\"Male\",\"Male\",\"Male\",\"Male\",\"Male\",\"Male\",\"Male\",\"Female\",\"Female\",\"Male\",\"Female\",\"Male\",\"Male\",\"Male\",\"Male\",\"Male\",\"Male\",\"Female\",\"Male\",\"Male\",\"Male\",\"Female\",\"Male\",\"Female\",\"Female\",\"Male\",\"Female\",\"Male\",\"Male\",\"Male\",\"Male\",\"Male\",\"Male\",\"Male\",\"Male\",\"Female\",\"Male\",\"Male\",\"Male\",\"Female\",\"Male\",\"Female\",\"Female\",\"Male\",\"Female\",\"Male\",\"Male\",\"Female\",\"Male\",\"Female\",\"Male\",\"Male\",\"Male\",\"Female\",\"Male\",\"Female\",\"Male\",\"Female\",\"Female\",\"Male\",\"Female\",\"Female\",\"Female\",\"Female\",\"Female\",\"Male\",\"Male\",\"Female\",\"Female\",\"Male\",\"Male\",\"Female\",\"Male\",\"Male\",\"Female\",\"Female\",\"Female\",\"Female\",\"Male\",\"Female\",\"Female\",\"Male\",\"Female\",\"Male\",\"Male\",\"Male\",\"Male\",\"Male\",\"Female\",\"Female\",\"Female\",\"Female\",\"Male\",\"Male\",\"Male\",\"Female\",\"Male\",\"Female\",\"Female\",\"Male\",\"Male\",\"Male\",\"Male\",\"Male\",\"Male\",\"Male\",\"Female\",\"Female\",\"Male\",\"Male\",\"Male\",\"Male\",\"Female\",\"Female\",\"Male\",\"Male\",\"Female\",\"Male\",\"Male\",\"Male\",\"Female\",\"Male\",\"Male\",\"Male\",\"Male\",\"Male\",\"Male\",\"Female\",\"Female\",\"Male\",\"Male\",\"Male\",\"Female\",\"Female\",\"Male\",\"Male\",\"Female\",\"Male\",\"Male\",\"Male\",\"Female\",\"Female\",\"Female\",\"Female\",\"Male\",\"Male\",\"Male\",\"Male\",\"Male\",\"Male\",\"Male\",\"Male\",\"Female\",\"Male\",\"Female\",\"Female\",\"Female\",\"Female\",\"Male\",\"Male\",\"Male\",\"Male\",\"Male\",\"Male\",\"Male\",\"Male\",\"Female\",\"Male\",\"Male\",\"Male\",\"Male\",\"Male\",\"Male\",\"Female\",\"Female\",\"Female\",\"Male\",\"Male\",\"Male\",\"Female\",\"Female\",\"Female\",\"Female\",\"Female\",\"Female\",\"Male\",\"Male\",\"Female\",\"Female\",\"Female\",\"Male\",\"Female\",\"Male\",\"Male\",\"Male\",\"Female\",\"Male\",\"Male\",\"Male\",\"Male\",\"Female\",\"Female\",\"Male\",\"Female\",\"Male\",\"Female\",\"Male\",\"Male\",\"Female\",\"Female\",\"Male\",\"Male\",\"Male\",\"Male\",\"Female\",\"Female\",\"Male\",\"Male\",\"Female\",\"Female\",\"Female\",\"Male\",\"Male\",\"Female\",\"Male\",\"Female\",\"Female\",\"Female\",\"Male\",\"Male\",\"Male\",\"Male\",\"Female\",\"Male\",\"Male\",\"Male\",\"Female\",\"Male\",\"Female\",\"Female\",\"Male\",\"Male\",\"Male\",\"Male\",\"Male\",\"Male\",\"Male\",\"Male\",\"Male\",\"Male\",\"Male\",\"Female\",\"Male\",\"Male\",\"Female\",\"Male\",\"Male\",\"Female\",\"Male\",\"Male\",\"Male\",\"Male\",\"Female\",\"Male\",\"Male\",\"Female\",\"Female\",\"Male\",\"Male\",\"Female\",\"Female\",\"Female\",\"Male\",\"Male\",\"Male\",\"Male\",\"Male\",\"Male\",\"Male\",\"Male\",\"Male\",\"Female\",\"Male\",\"Male\",\"Male\",\"Female\",\"Female\",\"Male\",\"Male\",\"Male\",\"Female\",\"Female\",\"Female\",\"Female\",\"Male\",\"Male\",\"Male\",\"Male\",\"Female\",\"Female\",\"Male\",\"Male\",\"Female\",\"Female\",\"Male\",\"Male\",\"Male\",\"Female\",\"Female\",\"Female\",\"Female\",\"Male\",\"Male\",\"Female\",\"Female\",\"Male\",\"Female\",\"Female\",\"Male\",\"Female\",\"Male\",\"Male\",\"Male\",\"Male\",\"Male\"],\"xaxis\":\"x\",\"y\":[1,1,1,1,1,1,1,1,1,1,1,1,1,1,1,1,1,1,1,1,1,1,1,1,1,1,1,1,1,1,1,1,1,1,1,1,1,1,1,1,1,1,1,1,1,1,1,1,1,1,1,1,1,1,1,1,1,1,1,1,1,1,1,1,1,1,1,1,1,1,1,1,1,1,1,1,1,1,1,1,1,1,1,1,1,1,1,1,1,1,1,1,1,1,1,1,1,1,1,1,1,1,1,1,1,1,1,1,1,1,1,1,1,1,1,1,1,1,1,1,1,1,1,1,1,1,1,1,1,1,1,1,1,1,1,1,1,1,1,1,1,1,1,1,1,1,1,1,1,1,1,1,1,1,1,1,1,1,1,1,1,1,1,1,1,1,1,1,1,1,1,1,1,1,1,1,1,1,1,1,1,1,1,1,1,1,1,1,1,1,1,1,1,1,1,1,1,1,1,1,1,1,1,1,1,1,1,1,1,1,1,1,1,1,1,1,1,1,1,1,1,1,1,1,1,1,1,1,1,1,1,1,1,1,1,1,1,1,1,1,1,1,1,1,1,1,1,1,1,1,1,1,1,1,1,1,1,1,1,1,1,1,1,1,1,1,1,1,1,1,1,1,1,1,1,1,1,1,1,1,1,1,1,1,1,1,1,1,1,1,1,1,1,1,1,1,1,1,1,1,1,1,1,1,1,1,1,1,1,1,1,1,1,1,1,1,1,1,1,1,1,1,1,1,1,1,1,1,1,1,1,1,1,1,1,1,1,1,1,1,1,1,1,1,1,1,1,1,1,1,1,1,1,1,1,1,1,1,1,1,1,1,1,1,1,1,1,1,1,1,1,1,1,1,1,1,1,1,1,1,1,1,1,1,1,1,1,1,1,1,1,1,1,1,1,1,1,1,1,1,1,1,1,1,1,1,1,1,1,1,1,1,1,1,1,1,1,1,1,1,1,1,1,1,1,1,1,1,1,1,1,1,1,1,1,1,1,1,1,1,1,1,1,1,1,1,1,1,1,1,1,1,1,1,1,1,1,1,1,1,1,1,1,1,1,1,1,1,1,1,1,1,1,1,1,1,1,1,1,1,1,1,1,1,1,1,1,1,1,1,1,1,1,1,1,1,1,1,1,1,1,1,1,1,1,1,1,1,1,1,1,1,1,1,1,1,1,1,1,1,1,1,1,1,1,1,1,1,1,1,1,1,1,1,1,1,1,1,1,1,1,1,1,1,1,1,1,1,1,1,1,1,1,1,1,1,1,1,1,1,1,1,1,1,1,1,1,1,1,1,1,1,1,1,1,1,1,1,1,1,1,1,1,1,1,1,1,1,1,1,1,1,1,1,1,1,1,1,1,1,1,1,1,1,1,1,1,1,1,1,1,1,1,1,1,1,1,1,1,1,1,1,1,1,1,1,1,1,1,1,1,1,1,1,1,1,1,1,1,1,1,1,1,1,1,1,1,1,1,1,1,1,1,1,1,1,1,1,1,1,1,1,1,1,1,1,1,1,1,1,1,1,1,1,1,1,1,1,1,1,1,1,1,1,1,1,1,1,1,1,1,1,1,1,1,1,1,1,1,1,1,1,1,1,1,1,1,1,1,1,1,1,1,1,1,1,1,1,1,1,1,1,1,1,1,1,1,1,1,1,1,1,1,1,1,1,1,1,1,1,1,1,1,1,1,1,1,1,1,1,1,1,1,1,1,1,1,1,1,1,1,1,1,1,1,1,1,1,1,1,1,1,1,1,1,1,1,1,1,1,1,1,1,1,1,1,1,1,1,1,1,1,1,1,1,1,1,1,1,1,1,1,1,1,1,1,1,1,1,1,1,1,1,1,1,1,1,1,1,1,1,1,1,1,1,1,1,1,1,1,1,1,1,1,1,1,1,1,1,1,1,1,1,1,1,1,1,1,1,1,1,1,1,1,1,1,1,1,1,1,1,1,1,1,1,1,1,1,1,1,1,1,1,1,1,1,1,1,1,1,1,1,1,1,1,1,1,1,1,1,1,1,1,1,1,1,1,1,1,1,1,1,1,1,1,1,1,1,1,1,1,1,1,1,1,1,1,1,1,1,1,1,1,1,1,1,1,1,1,1,1,1,1,1,1,1,1,1,1,1,1,1,1,1,1,1,1,1,1,1,1,1,1,1,1,1,1,1,1,1,1,1,1,1,1,1,1,1,1,1,1,1,1,1,1,1,1,1,1,1,1,1,1,1,1,1,1,1,1,1,1,1,1,1,1,1,1,1,1,1,1,1,1,1,1,1,1,1,1,1,1,1,1,1,1,1,1,1,1,1,1,1,1,1,1,1,1,1,1,1,1,1,1,1,1,1,1,1,1,1,1,1,1,1,1,1,1,1,1,1,1,1,1,1,1,1,1,1,1,1,1,1,1,1,1,1,1,1,1,1,1,1,1,1,1,1,1,1,1,1,1,1,1,1,1,1,1,1,1,1,1,1,1,1,1,1,1,1,1,1,1,1,1,1,1,1,1,1,1,1,1,1,1,1,1,1,1,1,1,1,1,1,1,1,1,1,1,1,1,1,1,1,1,1,1,1,1,1,1,1,1,1,1,1,1,1,1,1,1,1,1,1,1,1,1,1,1,1,1,1,1,1,1,1,1,1,1,1,1,1,1,1,1,1,1,1,1,1,1,1,1,1,1,1,1,1,1,1,1,1,1,1,1,1,1,1,1,1,1,1,1,1,1,1,1,1,1,1,1,1,1,1,1,1,1,1,1,1,1,1,1,1,1,1,1,1,1,1,1,1,1,1,1],\"yaxis\":\"y\",\"type\":\"bar\"}],                        {\"template\":{\"data\":{\"histogram2dcontour\":[{\"type\":\"histogram2dcontour\",\"colorbar\":{\"outlinewidth\":0,\"ticks\":\"\"},\"colorscale\":[[0.0,\"#0d0887\"],[0.1111111111111111,\"#46039f\"],[0.2222222222222222,\"#7201a8\"],[0.3333333333333333,\"#9c179e\"],[0.4444444444444444,\"#bd3786\"],[0.5555555555555556,\"#d8576b\"],[0.6666666666666666,\"#ed7953\"],[0.7777777777777778,\"#fb9f3a\"],[0.8888888888888888,\"#fdca26\"],[1.0,\"#f0f921\"]]}],\"choropleth\":[{\"type\":\"choropleth\",\"colorbar\":{\"outlinewidth\":0,\"ticks\":\"\"}}],\"histogram2d\":[{\"type\":\"histogram2d\",\"colorbar\":{\"outlinewidth\":0,\"ticks\":\"\"},\"colorscale\":[[0.0,\"#0d0887\"],[0.1111111111111111,\"#46039f\"],[0.2222222222222222,\"#7201a8\"],[0.3333333333333333,\"#9c179e\"],[0.4444444444444444,\"#bd3786\"],[0.5555555555555556,\"#d8576b\"],[0.6666666666666666,\"#ed7953\"],[0.7777777777777778,\"#fb9f3a\"],[0.8888888888888888,\"#fdca26\"],[1.0,\"#f0f921\"]]}],\"heatmap\":[{\"type\":\"heatmap\",\"colorbar\":{\"outlinewidth\":0,\"ticks\":\"\"},\"colorscale\":[[0.0,\"#0d0887\"],[0.1111111111111111,\"#46039f\"],[0.2222222222222222,\"#7201a8\"],[0.3333333333333333,\"#9c179e\"],[0.4444444444444444,\"#bd3786\"],[0.5555555555555556,\"#d8576b\"],[0.6666666666666666,\"#ed7953\"],[0.7777777777777778,\"#fb9f3a\"],[0.8888888888888888,\"#fdca26\"],[1.0,\"#f0f921\"]]}],\"heatmapgl\":[{\"type\":\"heatmapgl\",\"colorbar\":{\"outlinewidth\":0,\"ticks\":\"\"},\"colorscale\":[[0.0,\"#0d0887\"],[0.1111111111111111,\"#46039f\"],[0.2222222222222222,\"#7201a8\"],[0.3333333333333333,\"#9c179e\"],[0.4444444444444444,\"#bd3786\"],[0.5555555555555556,\"#d8576b\"],[0.6666666666666666,\"#ed7953\"],[0.7777777777777778,\"#fb9f3a\"],[0.8888888888888888,\"#fdca26\"],[1.0,\"#f0f921\"]]}],\"contourcarpet\":[{\"type\":\"contourcarpet\",\"colorbar\":{\"outlinewidth\":0,\"ticks\":\"\"}}],\"contour\":[{\"type\":\"contour\",\"colorbar\":{\"outlinewidth\":0,\"ticks\":\"\"},\"colorscale\":[[0.0,\"#0d0887\"],[0.1111111111111111,\"#46039f\"],[0.2222222222222222,\"#7201a8\"],[0.3333333333333333,\"#9c179e\"],[0.4444444444444444,\"#bd3786\"],[0.5555555555555556,\"#d8576b\"],[0.6666666666666666,\"#ed7953\"],[0.7777777777777778,\"#fb9f3a\"],[0.8888888888888888,\"#fdca26\"],[1.0,\"#f0f921\"]]}],\"surface\":[{\"type\":\"surface\",\"colorbar\":{\"outlinewidth\":0,\"ticks\":\"\"},\"colorscale\":[[0.0,\"#0d0887\"],[0.1111111111111111,\"#46039f\"],[0.2222222222222222,\"#7201a8\"],[0.3333333333333333,\"#9c179e\"],[0.4444444444444444,\"#bd3786\"],[0.5555555555555556,\"#d8576b\"],[0.6666666666666666,\"#ed7953\"],[0.7777777777777778,\"#fb9f3a\"],[0.8888888888888888,\"#fdca26\"],[1.0,\"#f0f921\"]]}],\"mesh3d\":[{\"type\":\"mesh3d\",\"colorbar\":{\"outlinewidth\":0,\"ticks\":\"\"}}],\"scatter\":[{\"fillpattern\":{\"fillmode\":\"overlay\",\"size\":10,\"solidity\":0.2},\"type\":\"scatter\"}],\"parcoords\":[{\"type\":\"parcoords\",\"line\":{\"colorbar\":{\"outlinewidth\":0,\"ticks\":\"\"}}}],\"scatterpolargl\":[{\"type\":\"scatterpolargl\",\"marker\":{\"colorbar\":{\"outlinewidth\":0,\"ticks\":\"\"}}}],\"bar\":[{\"error_x\":{\"color\":\"#2a3f5f\"},\"error_y\":{\"color\":\"#2a3f5f\"},\"marker\":{\"line\":{\"color\":\"#E5ECF6\",\"width\":0.5},\"pattern\":{\"fillmode\":\"overlay\",\"size\":10,\"solidity\":0.2}},\"type\":\"bar\"}],\"scattergeo\":[{\"type\":\"scattergeo\",\"marker\":{\"colorbar\":{\"outlinewidth\":0,\"ticks\":\"\"}}}],\"scatterpolar\":[{\"type\":\"scatterpolar\",\"marker\":{\"colorbar\":{\"outlinewidth\":0,\"ticks\":\"\"}}}],\"histogram\":[{\"marker\":{\"pattern\":{\"fillmode\":\"overlay\",\"size\":10,\"solidity\":0.2}},\"type\":\"histogram\"}],\"scattergl\":[{\"type\":\"scattergl\",\"marker\":{\"colorbar\":{\"outlinewidth\":0,\"ticks\":\"\"}}}],\"scatter3d\":[{\"type\":\"scatter3d\",\"line\":{\"colorbar\":{\"outlinewidth\":0,\"ticks\":\"\"}},\"marker\":{\"colorbar\":{\"outlinewidth\":0,\"ticks\":\"\"}}}],\"scattermapbox\":[{\"type\":\"scattermapbox\",\"marker\":{\"colorbar\":{\"outlinewidth\":0,\"ticks\":\"\"}}}],\"scatterternary\":[{\"type\":\"scatterternary\",\"marker\":{\"colorbar\":{\"outlinewidth\":0,\"ticks\":\"\"}}}],\"scattercarpet\":[{\"type\":\"scattercarpet\",\"marker\":{\"colorbar\":{\"outlinewidth\":0,\"ticks\":\"\"}}}],\"carpet\":[{\"aaxis\":{\"endlinecolor\":\"#2a3f5f\",\"gridcolor\":\"white\",\"linecolor\":\"white\",\"minorgridcolor\":\"white\",\"startlinecolor\":\"#2a3f5f\"},\"baxis\":{\"endlinecolor\":\"#2a3f5f\",\"gridcolor\":\"white\",\"linecolor\":\"white\",\"minorgridcolor\":\"white\",\"startlinecolor\":\"#2a3f5f\"},\"type\":\"carpet\"}],\"table\":[{\"cells\":{\"fill\":{\"color\":\"#EBF0F8\"},\"line\":{\"color\":\"white\"}},\"header\":{\"fill\":{\"color\":\"#C8D4E3\"},\"line\":{\"color\":\"white\"}},\"type\":\"table\"}],\"barpolar\":[{\"marker\":{\"line\":{\"color\":\"#E5ECF6\",\"width\":0.5},\"pattern\":{\"fillmode\":\"overlay\",\"size\":10,\"solidity\":0.2}},\"type\":\"barpolar\"}],\"pie\":[{\"automargin\":true,\"type\":\"pie\"}]},\"layout\":{\"autotypenumbers\":\"strict\",\"colorway\":[\"#636efa\",\"#EF553B\",\"#00cc96\",\"#ab63fa\",\"#FFA15A\",\"#19d3f3\",\"#FF6692\",\"#B6E880\",\"#FF97FF\",\"#FECB52\"],\"font\":{\"color\":\"#2a3f5f\"},\"hovermode\":\"closest\",\"hoverlabel\":{\"align\":\"left\"},\"paper_bgcolor\":\"white\",\"plot_bgcolor\":\"#E5ECF6\",\"polar\":{\"bgcolor\":\"#E5ECF6\",\"angularaxis\":{\"gridcolor\":\"white\",\"linecolor\":\"white\",\"ticks\":\"\"},\"radialaxis\":{\"gridcolor\":\"white\",\"linecolor\":\"white\",\"ticks\":\"\"}},\"ternary\":{\"bgcolor\":\"#E5ECF6\",\"aaxis\":{\"gridcolor\":\"white\",\"linecolor\":\"white\",\"ticks\":\"\"},\"baxis\":{\"gridcolor\":\"white\",\"linecolor\":\"white\",\"ticks\":\"\"},\"caxis\":{\"gridcolor\":\"white\",\"linecolor\":\"white\",\"ticks\":\"\"}},\"coloraxis\":{\"colorbar\":{\"outlinewidth\":0,\"ticks\":\"\"}},\"colorscale\":{\"sequential\":[[0.0,\"#0d0887\"],[0.1111111111111111,\"#46039f\"],[0.2222222222222222,\"#7201a8\"],[0.3333333333333333,\"#9c179e\"],[0.4444444444444444,\"#bd3786\"],[0.5555555555555556,\"#d8576b\"],[0.6666666666666666,\"#ed7953\"],[0.7777777777777778,\"#fb9f3a\"],[0.8888888888888888,\"#fdca26\"],[1.0,\"#f0f921\"]],\"sequentialminus\":[[0.0,\"#0d0887\"],[0.1111111111111111,\"#46039f\"],[0.2222222222222222,\"#7201a8\"],[0.3333333333333333,\"#9c179e\"],[0.4444444444444444,\"#bd3786\"],[0.5555555555555556,\"#d8576b\"],[0.6666666666666666,\"#ed7953\"],[0.7777777777777778,\"#fb9f3a\"],[0.8888888888888888,\"#fdca26\"],[1.0,\"#f0f921\"]],\"diverging\":[[0,\"#8e0152\"],[0.1,\"#c51b7d\"],[0.2,\"#de77ae\"],[0.3,\"#f1b6da\"],[0.4,\"#fde0ef\"],[0.5,\"#f7f7f7\"],[0.6,\"#e6f5d0\"],[0.7,\"#b8e186\"],[0.8,\"#7fbc41\"],[0.9,\"#4d9221\"],[1,\"#276419\"]]},\"xaxis\":{\"gridcolor\":\"white\",\"linecolor\":\"white\",\"ticks\":\"\",\"title\":{\"standoff\":15},\"zerolinecolor\":\"white\",\"automargin\":true,\"zerolinewidth\":2},\"yaxis\":{\"gridcolor\":\"white\",\"linecolor\":\"white\",\"ticks\":\"\",\"title\":{\"standoff\":15},\"zerolinecolor\":\"white\",\"automargin\":true,\"zerolinewidth\":2},\"scene\":{\"xaxis\":{\"backgroundcolor\":\"#E5ECF6\",\"gridcolor\":\"white\",\"linecolor\":\"white\",\"showbackground\":true,\"ticks\":\"\",\"zerolinecolor\":\"white\",\"gridwidth\":2},\"yaxis\":{\"backgroundcolor\":\"#E5ECF6\",\"gridcolor\":\"white\",\"linecolor\":\"white\",\"showbackground\":true,\"ticks\":\"\",\"zerolinecolor\":\"white\",\"gridwidth\":2},\"zaxis\":{\"backgroundcolor\":\"#E5ECF6\",\"gridcolor\":\"white\",\"linecolor\":\"white\",\"showbackground\":true,\"ticks\":\"\",\"zerolinecolor\":\"white\",\"gridwidth\":2}},\"shapedefaults\":{\"line\":{\"color\":\"#2a3f5f\"}},\"annotationdefaults\":{\"arrowcolor\":\"#2a3f5f\",\"arrowhead\":0,\"arrowwidth\":1},\"geo\":{\"bgcolor\":\"white\",\"landcolor\":\"#E5ECF6\",\"subunitcolor\":\"white\",\"showland\":true,\"showlakes\":true,\"lakecolor\":\"white\"},\"title\":{\"x\":0.05},\"mapbox\":{\"style\":\"light\"}}},\"xaxis\":{\"anchor\":\"y\",\"domain\":[0.0,1.0],\"title\":{\"text\":\"Gender\"}},\"yaxis\":{\"anchor\":\"x\",\"domain\":[0.0,1.0],\"title\":{\"text\":\"count\"}},\"legend\":{\"title\":{\"text\":\"Attrition\"},\"tracegroupgap\":0},\"margin\":{\"t\":60},\"barmode\":\"relative\"},                        {\"responsive\": true}                    ).then(function(){\n",
       "                            \n",
       "var gd = document.getElementById('ede72f2e-548a-494a-8ece-df92c1d8d50c');\n",
       "var x = new MutationObserver(function (mutations, observer) {{\n",
       "        var display = window.getComputedStyle(gd).display;\n",
       "        if (!display || display === 'none') {{\n",
       "            console.log([gd, 'removed!']);\n",
       "            Plotly.purge(gd);\n",
       "            observer.disconnect();\n",
       "        }}\n",
       "}});\n",
       "\n",
       "// Listen for the removal of the full notebook cells\n",
       "var notebookContainer = gd.closest('#notebook-container');\n",
       "if (notebookContainer) {{\n",
       "    x.observe(notebookContainer, {childList: true});\n",
       "}}\n",
       "\n",
       "// Listen for the clearing of the current output cell\n",
       "var outputEl = gd.closest('.output');\n",
       "if (outputEl) {{\n",
       "    x.observe(outputEl, {childList: true});\n",
       "}}\n",
       "\n",
       "                        })                };                });            </script>        </div>"
      ]
     },
     "metadata": {},
     "output_type": "display_data"
    }
   ],
   "source": [
    "fig = px.bar(df1, x=\"Gender\" ,color=\"Attrition\")\n",
    "fig.show()"
   ]
  },
  {
   "cell_type": "markdown",
   "id": "4214b533",
   "metadata": {
    "papermill": {
     "duration": 0.042599,
     "end_time": "2023-08-22T12:30:07.237226",
     "exception": false,
     "start_time": "2023-08-22T12:30:07.194627",
     "status": "completed"
    },
    "tags": []
   },
   "source": [
    "* total Male , 17.01% resigned/retired\n",
    "* total Female , 14.80% resigned/retired"
   ]
  },
  {
   "cell_type": "markdown",
   "id": "eabe1b66",
   "metadata": {
    "papermill": {
     "duration": 0.043414,
     "end_time": "2023-08-22T12:30:07.326243",
     "exception": false,
     "start_time": "2023-08-22T12:30:07.282829",
     "status": "completed"
    },
    "tags": []
   },
   "source": [
    "### 13.what is effect of age on attrition ?"
   ]
  },
  {
   "cell_type": "code",
   "execution_count": 23,
   "id": "a354f50b",
   "metadata": {
    "execution": {
     "iopub.execute_input": "2023-08-22T12:30:07.416399Z",
     "iopub.status.busy": "2023-08-22T12:30:07.416000Z",
     "iopub.status.idle": "2023-08-22T12:30:07.490236Z",
     "shell.execute_reply": "2023-08-22T12:30:07.489032Z"
    },
    "papermill": {
     "duration": 0.123294,
     "end_time": "2023-08-22T12:30:07.492659",
     "exception": false,
     "start_time": "2023-08-22T12:30:07.369365",
     "status": "completed"
    },
    "tags": []
   },
   "outputs": [
    {
     "data": {
      "text/html": [
       "<div>                            <div id=\"957e9cfd-dc6e-423c-924a-e3fd36da03dc\" class=\"plotly-graph-div\" style=\"height:525px; width:100%;\"></div>            <script type=\"text/javascript\">                require([\"plotly\"], function(Plotly) {                    window.PLOTLYENV=window.PLOTLYENV || {};                                    if (document.getElementById(\"957e9cfd-dc6e-423c-924a-e3fd36da03dc\")) {                    Plotly.newPlot(                        \"957e9cfd-dc6e-423c-924a-e3fd36da03dc\",                        [{\"alignmentgroup\":\"True\",\"hovertemplate\":\"Age=%{x}\\u003cbr\\u003eAttrition=%{y}\\u003cextra\\u003e\\u003c\\u002fextra\\u003e\",\"legendgroup\":\"\",\"marker\":{\"color\":\"#636efa\",\"pattern\":{\"shape\":\"\"}},\"name\":\"\",\"offsetgroup\":\"\",\"orientation\":\"v\",\"showlegend\":false,\"textposition\":\"auto\",\"texttemplate\":\"%{y:.2s}\",\"x\":[41,49,37,33,27,32,59,30,38,36,35,29,31,34,28,29,32,22,53,38,24,36,34,21,34,53,32,42,44,46,33,44,30,39,24,43,50,35,36,33,35,27,26,27,30,41,34,37,46,35,48,28,44,35,26,33,35,35,31,37,32,38,50,59,36,55,36,45,35,36,59,29,31,32,36,31,35,45,37,46,30,35,55,38,34,56,23,51,30,46,40,51,30,46,32,54,24,28,58,44,37,32,20,34,37,59,50,25,25,22,51,34,54,24,34,37,34,36,36,43,30,33,56,51,31,26,58,19,22,49,43,50,31,41,26,36,51,39,25,30,32,45,38,30,32,30,30,41,41,19,40,35,53,45,32,29,51,58,40,34,22,27,28,57,27,50,41,30,38,32,27,19,36,30,45,56,33,19,46,38,31,34,41,50,53,33,40,55,34,51,52,27,35,43,45,37,35,42,38,38,27,49,34,40,38,29,22,36,40,46,32,30,27,51,30,41,30,29,45,54,36,33,37,38,31,59,37,29,35,29,52,42,59,50,33,43,33,52,32,32,39,32,41,40,45,31,33,34,37,45,37,39,29,42,29,25,42,40,51,31,32,38,32,46,28,29,31,25,45,36,55,47,28,37,21,37,35,38,26,50,53,42,29,55,26,37,44,38,26,28,49,36,31,26,37,42,18,35,36,51,41,18,28,31,39,36,32,38,58,31,31,45,31,33,39,43,49,52,27,32,27,31,32,28,30,31,39,39,33,47,43,27,54,43,45,40,29,29,30,27,37,38,31,29,35,23,41,47,42,29,42,32,48,37,30,26,42,21,36,36,57,40,21,33,37,46,41,50,40,31,21,29,35,27,28,49,51,36,34,55,24,30,26,22,36,30,37,40,42,37,43,40,54,34,31,43,43,25,37,31,39,56,30,41,28,25,52,45,52,42,30,60,46,42,24,34,38,40,26,30,29,29,19,30,57,50,30,60,47,46,35,54,34,46,31,33,33,30,35,31,34,42,36,22,48,55,41,35,40,39,31,42,45,26,29,33,31,18,40,41,26,35,34,26,37,46,41,37,52,32,24,38,37,49,24,26,24,50,25,24,30,34,31,35,31,27,37,20,42,43,38,43,48,44,34,27,21,44,22,33,32,30,53,34,45,26,37,29,35,33,54,36,27,20,33,35,23,25,38,29,48,27,37,50,34,24,39,32,50,38,27,32,47,40,53,41,60,27,41,50,28,36,38,44,47,30,29,42,43,34,23,39,56,40,27,29,53,35,32,38,34,52,33,25,45,23,47,34,55,36,52,26,29,26,34,54,27,37,38,34,35,30,40,34,42,23,24,52,50,29,33,33,47,36,29,58,35,42,28,36,32,40,30,45,42,38,34,49,55,43,27,35,28,34,26,27,51,44,25,33,35,36,32,30,53,45,32,52,37,28,22,44,42,36,25,35,35,32,25,49,24,32,38,42,31,29,53,35,37,53,43,47,37,50,39,33,32,29,44,28,58,43,20,21,36,47,22,41,28,39,27,34,42,33,58,31,35,49,48,31,36,38,32,25,40,26,41,36,19,20,31,40,32,36,33,37,45,29,35,52,58,53,30,38,35,39,40,47,36,31,33,29,33,45,50,33,41,27,45,47,30,50,38,46,24,35,31,18,54,35,30,20,30,26,22,48,48,41,39,27,35,42,50,59,37,55,41,38,26,52,44,50,36,39,33,45,32,34,59,45,53,36,26,34,28,38,50,37,40,26,46,54,56,36,55,43,20,21,46,51,28,26,30,41,38,40,27,55,28,44,33,35,33,28,34,37,25,26,33,42,28,50,33,34,48,45,52,38,29,28,46,38,43,39,40,21,39,36,31,28,35,49,34,29,42,29,38,28,18,33,41,31,37,27,34,35,29,40,42,42,35,24,28,26,30,40,35,34,35,43,32,56,29,19,45,37,20,44,53,29,22,46,44,33,41,30,40,50,28,46,35,24,33,36,30,44,20,46,42,60,32,32,36,33,40,25,30,42,35,27,54,44,19,29,54,31,31,59,43,49,36,48,27,29,48,29,34,44,33,19,23,25,26,45,55,21,46,34,51,59,34,28,44,34,35,42,43,36,44,28,51,30,29,28,25,32,45,39,58,32,39,30,36,46,28,50,40,52,30,39,31,41,31,44,42,55,56,40,34,40,41,35,51,38,34,25,58,40,36,48,27,51,18,35,27,55,56,34,40,34,31,35,38,34,28,31,39,51,41,37,33,32,39,25,52,43,27,27,26,42,52,37,35,25,26,29,49,29,54,58,55,36,31,30,31,34,31,27,36,36,47,25,37,56,47,24,32,34,41,40,31,46,39,31,45,31,31,45,48,34,40,28,44,53,49,40,44,33,34,30,42,44,30,57,49,34,28,29,34,35,24,24,44,29,30,55,33,47,28,28,28,49,29,28,33,32,54,29,44,39,46,35,23,40,34,31,50,34,42,37,29,33,45,42,40,33,40,24,40,45,35,32,36,48,29,33,30,38,35,30,35,53,38,32,48,34,55,34,26,38,38,36,29,35,39,29,50,23,36,42,35,34,40,43,35,46,28,22,50,32,44,30,45,45,31,36,34,49,39,27,35,28,21,18,47,39,40,35,37,39,45,38,35,37,40,44,48,35,24,27,27,40,29,36,25,39,49,50,20,34,36,49,36,36,54,43,35,38,29,33,32,31,49,38,47,49,41,20,33,36,44,23,38,53,48,32,26,55,34,60,33,37,34,23,44,35,43,24,41,29,36,45,24,47,26,45,32,31,41,40,24,46,35,30,47,46,36,32,23,31,39,32,40,45,30,24,30,31,27,29,29,30,34,33,49,33,38,31,29,30,32,38,43,42,55,33,41,34,53,43,34,21,38,22,31,51,37,46,36,44,37,35,33,28,39,46,40,42,35,38,34,37,39,43,41,41,30,26,46,40,34,58,35,47,40,54,31,28,38,26,58,18,31,29,45,36,43,27,29,32,42,47,46,28,29,42,32,46,27,29,43,48,29,46,27,39,55,28,30,22,36,31,34,29,37,35,45,36,40,26,27,48,44,34,56,36,41,42,31,34,31,26,45,33,28,29,39,27,34,28,47,56,39,38,58,32,38,49,42,27,35,28,31,36,34,34,26,29,32,31,28,38,35,27,32,31,53,54,33,43,38,55,31,39,42,31,54,24,23,40,40,25,30,25,47,33,38,31,38,42,41,47,35,22,35,33,32,40,32,39,38,32,37,25,52,44,21,39,23,36,36,56,29,42,56,41,34,36,41,32,35,38,50,36,45,40,35,40,35,29,29,50,39,31,26,36,39,27,49,34],\"xaxis\":\"x\",\"y\":[1,0,1,0,0,0,0,0,0,0,0,0,0,0,1,0,0,0,0,0,0,1,0,0,1,0,1,0,0,0,0,0,0,1,1,0,1,0,0,0,0,0,1,0,0,1,0,0,0,0,1,1,0,0,0,0,0,0,0,0,0,0,0,0,0,0,0,0,0,1,0,0,0,0,0,0,0,0,0,0,0,0,0,0,0,0,0,0,0,1,0,0,0,0,0,0,0,0,0,0,1,0,1,0,0,0,0,1,0,0,0,1,0,0,0,0,0,0,0,0,0,0,1,0,1,0,1,1,0,0,0,0,1,0,0,0,1,0,0,0,1,0,0,0,0,0,0,0,0,0,0,0,0,0,0,0,0,0,0,0,0,0,0,0,0,0,0,0,0,0,0,1,0,0,0,0,0,1,0,0,0,0,1,0,0,0,0,0,0,0,0,0,1,0,0,0,0,0,0,0,0,0,0,0,1,1,0,0,0,0,1,0,0,0,1,0,1,1,0,0,0,0,0,0,0,0,0,0,0,1,0,0,0,0,1,0,1,0,0,1,0,0,0,0,0,0,0,0,0,0,1,0,0,0,0,0,0,0,0,1,0,0,0,0,1,0,0,0,0,0,0,1,0,0,0,0,0,0,0,0,0,0,0,0,0,0,1,0,1,0,0,0,0,1,0,0,1,0,0,0,0,0,0,0,0,0,0,0,0,0,0,0,0,0,0,0,0,1,0,0,0,0,0,1,0,0,0,1,0,0,0,0,0,0,0,0,1,0,0,0,0,0,0,0,0,0,0,0,0,0,0,0,0,0,0,0,0,1,0,0,0,0,0,1,0,0,1,0,1,0,1,0,0,0,0,0,0,0,1,0,0,0,1,0,0,1,0,0,0,0,0,0,0,0,0,0,0,0,0,0,0,0,0,0,0,1,0,0,0,0,0,0,0,0,1,1,0,0,0,0,0,1,1,0,0,0,0,0,0,0,0,0,0,0,0,1,1,0,0,1,1,0,0,1,0,0,0,0,0,0,0,0,0,1,0,0,0,1,0,0,0,0,0,1,0,0,0,0,0,1,0,0,0,0,0,0,0,0,0,1,1,0,1,0,0,0,0,0,0,0,0,0,0,0,0,1,0,0,0,0,0,0,0,0,1,0,0,0,0,0,0,0,0,1,1,0,0,0,0,0,0,0,0,0,0,1,0,0,1,0,0,0,0,0,0,0,0,0,0,0,1,0,0,0,0,0,0,1,0,0,0,0,0,0,0,0,0,0,0,0,0,0,1,0,0,0,1,0,1,0,0,0,0,1,0,0,0,0,0,0,0,0,0,0,0,1,0,0,0,1,0,1,0,0,0,1,0,0,1,0,0,0,0,0,0,0,0,1,1,0,0,0,0,0,1,0,0,0,0,0,0,0,0,0,0,0,0,0,0,0,0,0,0,0,0,0,1,0,0,0,0,0,0,0,0,1,0,0,0,0,0,0,0,0,0,0,1,0,0,0,1,0,1,1,0,0,1,1,0,1,0,0,0,0,0,0,0,0,0,0,0,0,0,1,0,0,0,0,1,1,0,0,0,1,0,1,0,0,0,0,1,0,0,0,0,0,1,0,0,1,0,1,0,0,0,0,0,0,0,0,1,0,0,0,0,1,0,0,0,0,0,1,1,0,0,0,0,0,0,0,0,0,0,0,1,0,0,0,1,1,0,0,1,0,0,0,0,0,0,0,0,1,1,0,0,0,0,0,0,0,0,0,0,0,0,0,1,1,0,1,1,0,0,0,0,0,0,0,0,1,0,1,1,0,0,0,1,1,1,0,1,1,0,0,0,0,0,0,0,0,0,0,0,1,0,0,0,0,0,0,0,0,0,0,0,0,0,0,1,1,0,1,0,0,0,0,1,0,1,0,0,0,1,0,0,0,0,0,0,1,0,0,0,0,0,0,0,1,0,0,1,0,0,0,1,0,0,0,0,0,0,1,0,0,0,0,0,0,0,0,0,0,0,0,0,0,0,0,0,0,0,0,1,0,0,0,0,0,0,0,0,0,0,0,0,0,0,0,0,0,0,1,0,1,0,1,0,0,0,0,0,0,0,0,0,0,0,0,1,0,0,0,1,0,0,0,0,0,0,1,1,0,0,0,0,0,1,1,0,0,0,0,1,1,0,0,0,0,0,0,0,0,0,0,0,0,1,0,0,0,0,0,0,0,0,1,0,0,0,0,1,1,0,0,0,1,0,0,0,0,0,0,0,0,0,0,0,1,0,0,0,0,0,0,0,0,1,1,0,0,0,0,1,0,0,0,1,0,0,0,0,1,0,0,0,0,0,0,0,0,0,1,1,1,0,0,1,0,0,1,0,0,0,0,0,0,0,0,0,0,0,0,0,0,0,0,1,1,1,0,1,0,0,0,0,0,0,0,1,0,0,0,0,0,0,0,0,1,0,0,0,0,0,1,0,1,0,0,0,0,0,0,0,0,0,0,0,0,0,0,0,0,0,0,0,0,1,0,0,0,1,1,1,0,0,0,0,0,0,0,0,0,0,0,0,0,0,0,0,0,0,0,0,0,0,0,1,0,0,0,0,0,0,0,0,0,0,0,0,0,0,0,0,1,0,0,0,0,0,0,0,0,1,0,0,0,0,1,0,0,0,1,0,0,0,0,0,0,0,0,0,0,0,0,0,0,1,0,0,0,0,0,0,0,0,0,0,0,0,0,0,1,0,0,1,1,0,0,0,0,0,0,0,1,0,0,0,0,0,0,0,0,1,1,0,0,0,0,0,0,0,0,0,0,0,0,1,1,0,0,0,0,0,0,0,0,1,0,0,1,0,0,0,0,0,1,0,1,0,0,0,0,1,0,0,0,0,0,0,0,0,1,0,1,0,0,0,0,0,1,0,1,0,0,0,0,0,0,0,0,1,1,0,0,0,0,0,1,1,0,0,0,0,0,0,0,0,0,0,0,0,0,1,1,0,0,0,0,0,0,0,0,0,0,0,0,1,0,0,0,0,0,1,1,0,0,0,0,1,1,0,0,0,0,0,0,0,0,0,0,0,0,0,1,1,0,0,0,0,0,0,0,0,0,0,1,0,0,0,1,0,0,0,0,0,1,0,0,0,1,0,0,0,0,0,0,0,0,0,0,1,0,0,0,0,1,1,0,0,0,0,0,0,0,0,0,0,0,0,0,0,0,0,0,0,0,0,0,0,0,0,0,0,0,0,0,0,0,0,0,0,0,0,0,0,0,0,0,1,0,0,0,1,0,1,0,0,0,0,0,0,0,1,0,0,0,0,0,0,0,0,1,0,0,0,0,0,0,0,0],\"yaxis\":\"y\",\"type\":\"bar\"}],                        {\"template\":{\"data\":{\"histogram2dcontour\":[{\"type\":\"histogram2dcontour\",\"colorbar\":{\"outlinewidth\":0,\"ticks\":\"\"},\"colorscale\":[[0.0,\"#0d0887\"],[0.1111111111111111,\"#46039f\"],[0.2222222222222222,\"#7201a8\"],[0.3333333333333333,\"#9c179e\"],[0.4444444444444444,\"#bd3786\"],[0.5555555555555556,\"#d8576b\"],[0.6666666666666666,\"#ed7953\"],[0.7777777777777778,\"#fb9f3a\"],[0.8888888888888888,\"#fdca26\"],[1.0,\"#f0f921\"]]}],\"choropleth\":[{\"type\":\"choropleth\",\"colorbar\":{\"outlinewidth\":0,\"ticks\":\"\"}}],\"histogram2d\":[{\"type\":\"histogram2d\",\"colorbar\":{\"outlinewidth\":0,\"ticks\":\"\"},\"colorscale\":[[0.0,\"#0d0887\"],[0.1111111111111111,\"#46039f\"],[0.2222222222222222,\"#7201a8\"],[0.3333333333333333,\"#9c179e\"],[0.4444444444444444,\"#bd3786\"],[0.5555555555555556,\"#d8576b\"],[0.6666666666666666,\"#ed7953\"],[0.7777777777777778,\"#fb9f3a\"],[0.8888888888888888,\"#fdca26\"],[1.0,\"#f0f921\"]]}],\"heatmap\":[{\"type\":\"heatmap\",\"colorbar\":{\"outlinewidth\":0,\"ticks\":\"\"},\"colorscale\":[[0.0,\"#0d0887\"],[0.1111111111111111,\"#46039f\"],[0.2222222222222222,\"#7201a8\"],[0.3333333333333333,\"#9c179e\"],[0.4444444444444444,\"#bd3786\"],[0.5555555555555556,\"#d8576b\"],[0.6666666666666666,\"#ed7953\"],[0.7777777777777778,\"#fb9f3a\"],[0.8888888888888888,\"#fdca26\"],[1.0,\"#f0f921\"]]}],\"heatmapgl\":[{\"type\":\"heatmapgl\",\"colorbar\":{\"outlinewidth\":0,\"ticks\":\"\"},\"colorscale\":[[0.0,\"#0d0887\"],[0.1111111111111111,\"#46039f\"],[0.2222222222222222,\"#7201a8\"],[0.3333333333333333,\"#9c179e\"],[0.4444444444444444,\"#bd3786\"],[0.5555555555555556,\"#d8576b\"],[0.6666666666666666,\"#ed7953\"],[0.7777777777777778,\"#fb9f3a\"],[0.8888888888888888,\"#fdca26\"],[1.0,\"#f0f921\"]]}],\"contourcarpet\":[{\"type\":\"contourcarpet\",\"colorbar\":{\"outlinewidth\":0,\"ticks\":\"\"}}],\"contour\":[{\"type\":\"contour\",\"colorbar\":{\"outlinewidth\":0,\"ticks\":\"\"},\"colorscale\":[[0.0,\"#0d0887\"],[0.1111111111111111,\"#46039f\"],[0.2222222222222222,\"#7201a8\"],[0.3333333333333333,\"#9c179e\"],[0.4444444444444444,\"#bd3786\"],[0.5555555555555556,\"#d8576b\"],[0.6666666666666666,\"#ed7953\"],[0.7777777777777778,\"#fb9f3a\"],[0.8888888888888888,\"#fdca26\"],[1.0,\"#f0f921\"]]}],\"surface\":[{\"type\":\"surface\",\"colorbar\":{\"outlinewidth\":0,\"ticks\":\"\"},\"colorscale\":[[0.0,\"#0d0887\"],[0.1111111111111111,\"#46039f\"],[0.2222222222222222,\"#7201a8\"],[0.3333333333333333,\"#9c179e\"],[0.4444444444444444,\"#bd3786\"],[0.5555555555555556,\"#d8576b\"],[0.6666666666666666,\"#ed7953\"],[0.7777777777777778,\"#fb9f3a\"],[0.8888888888888888,\"#fdca26\"],[1.0,\"#f0f921\"]]}],\"mesh3d\":[{\"type\":\"mesh3d\",\"colorbar\":{\"outlinewidth\":0,\"ticks\":\"\"}}],\"scatter\":[{\"fillpattern\":{\"fillmode\":\"overlay\",\"size\":10,\"solidity\":0.2},\"type\":\"scatter\"}],\"parcoords\":[{\"type\":\"parcoords\",\"line\":{\"colorbar\":{\"outlinewidth\":0,\"ticks\":\"\"}}}],\"scatterpolargl\":[{\"type\":\"scatterpolargl\",\"marker\":{\"colorbar\":{\"outlinewidth\":0,\"ticks\":\"\"}}}],\"bar\":[{\"error_x\":{\"color\":\"#2a3f5f\"},\"error_y\":{\"color\":\"#2a3f5f\"},\"marker\":{\"line\":{\"color\":\"#E5ECF6\",\"width\":0.5},\"pattern\":{\"fillmode\":\"overlay\",\"size\":10,\"solidity\":0.2}},\"type\":\"bar\"}],\"scattergeo\":[{\"type\":\"scattergeo\",\"marker\":{\"colorbar\":{\"outlinewidth\":0,\"ticks\":\"\"}}}],\"scatterpolar\":[{\"type\":\"scatterpolar\",\"marker\":{\"colorbar\":{\"outlinewidth\":0,\"ticks\":\"\"}}}],\"histogram\":[{\"marker\":{\"pattern\":{\"fillmode\":\"overlay\",\"size\":10,\"solidity\":0.2}},\"type\":\"histogram\"}],\"scattergl\":[{\"type\":\"scattergl\",\"marker\":{\"colorbar\":{\"outlinewidth\":0,\"ticks\":\"\"}}}],\"scatter3d\":[{\"type\":\"scatter3d\",\"line\":{\"colorbar\":{\"outlinewidth\":0,\"ticks\":\"\"}},\"marker\":{\"colorbar\":{\"outlinewidth\":0,\"ticks\":\"\"}}}],\"scattermapbox\":[{\"type\":\"scattermapbox\",\"marker\":{\"colorbar\":{\"outlinewidth\":0,\"ticks\":\"\"}}}],\"scatterternary\":[{\"type\":\"scatterternary\",\"marker\":{\"colorbar\":{\"outlinewidth\":0,\"ticks\":\"\"}}}],\"scattercarpet\":[{\"type\":\"scattercarpet\",\"marker\":{\"colorbar\":{\"outlinewidth\":0,\"ticks\":\"\"}}}],\"carpet\":[{\"aaxis\":{\"endlinecolor\":\"#2a3f5f\",\"gridcolor\":\"white\",\"linecolor\":\"white\",\"minorgridcolor\":\"white\",\"startlinecolor\":\"#2a3f5f\"},\"baxis\":{\"endlinecolor\":\"#2a3f5f\",\"gridcolor\":\"white\",\"linecolor\":\"white\",\"minorgridcolor\":\"white\",\"startlinecolor\":\"#2a3f5f\"},\"type\":\"carpet\"}],\"table\":[{\"cells\":{\"fill\":{\"color\":\"#EBF0F8\"},\"line\":{\"color\":\"white\"}},\"header\":{\"fill\":{\"color\":\"#C8D4E3\"},\"line\":{\"color\":\"white\"}},\"type\":\"table\"}],\"barpolar\":[{\"marker\":{\"line\":{\"color\":\"#E5ECF6\",\"width\":0.5},\"pattern\":{\"fillmode\":\"overlay\",\"size\":10,\"solidity\":0.2}},\"type\":\"barpolar\"}],\"pie\":[{\"automargin\":true,\"type\":\"pie\"}]},\"layout\":{\"autotypenumbers\":\"strict\",\"colorway\":[\"#636efa\",\"#EF553B\",\"#00cc96\",\"#ab63fa\",\"#FFA15A\",\"#19d3f3\",\"#FF6692\",\"#B6E880\",\"#FF97FF\",\"#FECB52\"],\"font\":{\"color\":\"#2a3f5f\"},\"hovermode\":\"closest\",\"hoverlabel\":{\"align\":\"left\"},\"paper_bgcolor\":\"white\",\"plot_bgcolor\":\"#E5ECF6\",\"polar\":{\"bgcolor\":\"#E5ECF6\",\"angularaxis\":{\"gridcolor\":\"white\",\"linecolor\":\"white\",\"ticks\":\"\"},\"radialaxis\":{\"gridcolor\":\"white\",\"linecolor\":\"white\",\"ticks\":\"\"}},\"ternary\":{\"bgcolor\":\"#E5ECF6\",\"aaxis\":{\"gridcolor\":\"white\",\"linecolor\":\"white\",\"ticks\":\"\"},\"baxis\":{\"gridcolor\":\"white\",\"linecolor\":\"white\",\"ticks\":\"\"},\"caxis\":{\"gridcolor\":\"white\",\"linecolor\":\"white\",\"ticks\":\"\"}},\"coloraxis\":{\"colorbar\":{\"outlinewidth\":0,\"ticks\":\"\"}},\"colorscale\":{\"sequential\":[[0.0,\"#0d0887\"],[0.1111111111111111,\"#46039f\"],[0.2222222222222222,\"#7201a8\"],[0.3333333333333333,\"#9c179e\"],[0.4444444444444444,\"#bd3786\"],[0.5555555555555556,\"#d8576b\"],[0.6666666666666666,\"#ed7953\"],[0.7777777777777778,\"#fb9f3a\"],[0.8888888888888888,\"#fdca26\"],[1.0,\"#f0f921\"]],\"sequentialminus\":[[0.0,\"#0d0887\"],[0.1111111111111111,\"#46039f\"],[0.2222222222222222,\"#7201a8\"],[0.3333333333333333,\"#9c179e\"],[0.4444444444444444,\"#bd3786\"],[0.5555555555555556,\"#d8576b\"],[0.6666666666666666,\"#ed7953\"],[0.7777777777777778,\"#fb9f3a\"],[0.8888888888888888,\"#fdca26\"],[1.0,\"#f0f921\"]],\"diverging\":[[0,\"#8e0152\"],[0.1,\"#c51b7d\"],[0.2,\"#de77ae\"],[0.3,\"#f1b6da\"],[0.4,\"#fde0ef\"],[0.5,\"#f7f7f7\"],[0.6,\"#e6f5d0\"],[0.7,\"#b8e186\"],[0.8,\"#7fbc41\"],[0.9,\"#4d9221\"],[1,\"#276419\"]]},\"xaxis\":{\"gridcolor\":\"white\",\"linecolor\":\"white\",\"ticks\":\"\",\"title\":{\"standoff\":15},\"zerolinecolor\":\"white\",\"automargin\":true,\"zerolinewidth\":2},\"yaxis\":{\"gridcolor\":\"white\",\"linecolor\":\"white\",\"ticks\":\"\",\"title\":{\"standoff\":15},\"zerolinecolor\":\"white\",\"automargin\":true,\"zerolinewidth\":2},\"scene\":{\"xaxis\":{\"backgroundcolor\":\"#E5ECF6\",\"gridcolor\":\"white\",\"linecolor\":\"white\",\"showbackground\":true,\"ticks\":\"\",\"zerolinecolor\":\"white\",\"gridwidth\":2},\"yaxis\":{\"backgroundcolor\":\"#E5ECF6\",\"gridcolor\":\"white\",\"linecolor\":\"white\",\"showbackground\":true,\"ticks\":\"\",\"zerolinecolor\":\"white\",\"gridwidth\":2},\"zaxis\":{\"backgroundcolor\":\"#E5ECF6\",\"gridcolor\":\"white\",\"linecolor\":\"white\",\"showbackground\":true,\"ticks\":\"\",\"zerolinecolor\":\"white\",\"gridwidth\":2}},\"shapedefaults\":{\"line\":{\"color\":\"#2a3f5f\"}},\"annotationdefaults\":{\"arrowcolor\":\"#2a3f5f\",\"arrowhead\":0,\"arrowwidth\":1},\"geo\":{\"bgcolor\":\"white\",\"landcolor\":\"#E5ECF6\",\"subunitcolor\":\"white\",\"showland\":true,\"showlakes\":true,\"lakecolor\":\"white\"},\"title\":{\"x\":0.05},\"mapbox\":{\"style\":\"light\"}}},\"xaxis\":{\"anchor\":\"y\",\"domain\":[0.0,1.0],\"title\":{\"text\":\"Age\"}},\"yaxis\":{\"anchor\":\"x\",\"domain\":[0.0,1.0],\"title\":{\"text\":\"Attrition\"}},\"legend\":{\"tracegroupgap\":0},\"title\":{\"text\":\"what is effect of age on attrition ?\"},\"barmode\":\"relative\"},                        {\"responsive\": true}                    ).then(function(){\n",
       "                            \n",
       "var gd = document.getElementById('957e9cfd-dc6e-423c-924a-e3fd36da03dc');\n",
       "var x = new MutationObserver(function (mutations, observer) {{\n",
       "        var display = window.getComputedStyle(gd).display;\n",
       "        if (!display || display === 'none') {{\n",
       "            console.log([gd, 'removed!']);\n",
       "            Plotly.purge(gd);\n",
       "            observer.disconnect();\n",
       "        }}\n",
       "}});\n",
       "\n",
       "// Listen for the removal of the full notebook cells\n",
       "var notebookContainer = gd.closest('#notebook-container');\n",
       "if (notebookContainer) {{\n",
       "    x.observe(notebookContainer, {childList: true});\n",
       "}}\n",
       "\n",
       "// Listen for the clearing of the current output cell\n",
       "var outputEl = gd.closest('.output');\n",
       "if (outputEl) {{\n",
       "    x.observe(outputEl, {childList: true});\n",
       "}}\n",
       "\n",
       "                        })                };                });            </script>        </div>"
      ]
     },
     "metadata": {},
     "output_type": "display_data"
    }
   ],
   "source": [
    "fig = px.bar(df, y='Attrition', x='Age', text_auto='.2s',\n",
    "            title=\"what is effect of age on attrition ?\")\n",
    "fig.show()"
   ]
  },
  {
   "cell_type": "markdown",
   "id": "c26a0566",
   "metadata": {
    "papermill": {
     "duration": 0.042914,
     "end_time": "2023-08-22T12:30:07.579239",
     "exception": false,
     "start_time": "2023-08-22T12:30:07.536325",
     "status": "completed"
    },
    "tags": []
   },
   "source": [
    "### 8- Do Education Field play a role? 30- Which Education Field is more likely to leave?"
   ]
  },
  {
   "cell_type": "code",
   "execution_count": 24,
   "id": "a29af262",
   "metadata": {
    "execution": {
     "iopub.execute_input": "2023-08-22T12:30:07.666814Z",
     "iopub.status.busy": "2023-08-22T12:30:07.666395Z",
     "iopub.status.idle": "2023-08-22T12:30:07.675436Z",
     "shell.execute_reply": "2023-08-22T12:30:07.674416Z"
    },
    "papermill": {
     "duration": 0.055495,
     "end_time": "2023-08-22T12:30:07.677675",
     "exception": false,
     "start_time": "2023-08-22T12:30:07.622180",
     "status": "completed"
    },
    "tags": []
   },
   "outputs": [
    {
     "data": {
      "text/plain": [
       "Life Sciences       606\n",
       "Medical             464\n",
       "Marketing           159\n",
       "Technical Degree    132\n",
       "Other                82\n",
       "Human Resources      27\n",
       "Name: EducationField, dtype: int64"
      ]
     },
     "execution_count": 24,
     "metadata": {},
     "output_type": "execute_result"
    }
   ],
   "source": [
    "df1[\"EducationField\"].value_counts()"
   ]
  },
  {
   "cell_type": "code",
   "execution_count": 25,
   "id": "16d52213",
   "metadata": {
    "execution": {
     "iopub.execute_input": "2023-08-22T12:30:07.766906Z",
     "iopub.status.busy": "2023-08-22T12:30:07.766128Z",
     "iopub.status.idle": "2023-08-22T12:30:07.878210Z",
     "shell.execute_reply": "2023-08-22T12:30:07.877054Z"
    },
    "papermill": {
     "duration": 0.160117,
     "end_time": "2023-08-22T12:30:07.881486",
     "exception": false,
     "start_time": "2023-08-22T12:30:07.721369",
     "status": "completed"
    },
    "tags": []
   },
   "outputs": [
    {
     "data": {
      "text/html": [
       "<div>                            <div id=\"bb4224a7-ccba-4e71-8ce1-9c2286d8e44a\" class=\"plotly-graph-div\" style=\"height:525px; width:100%;\"></div>            <script type=\"text/javascript\">                require([\"plotly\"], function(Plotly) {                    window.PLOTLYENV=window.PLOTLYENV || {};                                    if (document.getElementById(\"bb4224a7-ccba-4e71-8ce1-9c2286d8e44a\")) {                    Plotly.newPlot(                        \"bb4224a7-ccba-4e71-8ce1-9c2286d8e44a\",                        [{\"alignmentgroup\":\"True\",\"hovertemplate\":\"EducationField=%{text}\\u003cbr\\u003ey=%{y}\\u003cextra\\u003e\\u003c\\u002fextra\\u003e\",\"legendgroup\":\"Life Sciences\",\"marker\":{\"color\":\"#636efa\",\"pattern\":{\"shape\":\"\"}},\"name\":\"Life Sciences\",\"offsetgroup\":\"Life Sciences\",\"orientation\":\"v\",\"showlegend\":true,\"text\":[\"Life Sciences\",\"Life Sciences\",\"Life Sciences\",\"Life Sciences\",\"Life Sciences\",\"Life Sciences\",\"Life Sciences\",\"Life Sciences\",\"Life Sciences\",\"Life Sciences\",\"Life Sciences\",\"Life Sciences\",\"Life Sciences\",\"Life Sciences\",\"Life Sciences\",\"Life Sciences\",\"Life Sciences\",\"Life Sciences\",\"Life Sciences\",\"Life Sciences\",\"Life Sciences\",\"Life Sciences\",\"Life Sciences\",\"Life Sciences\",\"Life Sciences\",\"Life Sciences\",\"Life Sciences\",\"Life Sciences\",\"Life Sciences\",\"Life Sciences\",\"Life Sciences\",\"Life Sciences\",\"Life Sciences\",\"Life Sciences\",\"Life Sciences\",\"Life Sciences\",\"Life Sciences\",\"Life Sciences\",\"Life Sciences\",\"Life Sciences\",\"Life Sciences\",\"Life Sciences\",\"Life Sciences\",\"Life Sciences\",\"Life Sciences\",\"Life Sciences\",\"Life Sciences\",\"Life Sciences\",\"Life Sciences\",\"Life Sciences\",\"Life Sciences\",\"Life Sciences\",\"Life Sciences\",\"Life Sciences\",\"Life Sciences\",\"Life Sciences\",\"Life Sciences\",\"Life Sciences\",\"Life Sciences\",\"Life Sciences\",\"Life Sciences\",\"Life Sciences\",\"Life Sciences\",\"Life Sciences\",\"Life Sciences\",\"Life Sciences\",\"Life Sciences\",\"Life Sciences\",\"Life Sciences\",\"Life Sciences\",\"Life Sciences\",\"Life Sciences\",\"Life Sciences\",\"Life Sciences\",\"Life Sciences\",\"Life Sciences\",\"Life Sciences\",\"Life Sciences\",\"Life Sciences\",\"Life Sciences\",\"Life Sciences\",\"Life Sciences\",\"Life Sciences\",\"Life Sciences\",\"Life Sciences\",\"Life Sciences\",\"Life Sciences\",\"Life Sciences\",\"Life Sciences\",\"Life Sciences\",\"Life Sciences\",\"Life Sciences\",\"Life Sciences\",\"Life Sciences\",\"Life Sciences\",\"Life Sciences\",\"Life Sciences\",\"Life Sciences\",\"Life Sciences\",\"Life Sciences\",\"Life Sciences\",\"Life Sciences\",\"Life Sciences\",\"Life Sciences\",\"Life Sciences\",\"Life Sciences\",\"Life Sciences\",\"Life Sciences\",\"Life Sciences\",\"Life Sciences\",\"Life Sciences\",\"Life Sciences\",\"Life Sciences\",\"Life Sciences\",\"Life Sciences\",\"Life Sciences\",\"Life Sciences\",\"Life Sciences\",\"Life Sciences\",\"Life Sciences\",\"Life Sciences\",\"Life Sciences\",\"Life Sciences\",\"Life Sciences\",\"Life Sciences\",\"Life Sciences\",\"Life Sciences\",\"Life Sciences\",\"Life Sciences\",\"Life Sciences\",\"Life Sciences\",\"Life Sciences\",\"Life Sciences\",\"Life Sciences\",\"Life Sciences\",\"Life Sciences\",\"Life Sciences\",\"Life Sciences\",\"Life Sciences\",\"Life Sciences\",\"Life Sciences\",\"Life Sciences\",\"Life Sciences\",\"Life Sciences\",\"Life Sciences\",\"Life Sciences\",\"Life Sciences\",\"Life Sciences\",\"Life Sciences\",\"Life Sciences\",\"Life Sciences\",\"Life Sciences\",\"Life Sciences\",\"Life Sciences\",\"Life Sciences\",\"Life Sciences\",\"Life Sciences\",\"Life Sciences\",\"Life Sciences\",\"Life Sciences\",\"Life Sciences\",\"Life Sciences\",\"Life Sciences\",\"Life Sciences\",\"Life Sciences\",\"Life Sciences\",\"Life Sciences\",\"Life Sciences\",\"Life Sciences\",\"Life Sciences\",\"Life Sciences\",\"Life Sciences\",\"Life Sciences\",\"Life Sciences\",\"Life Sciences\",\"Life Sciences\",\"Life Sciences\",\"Life Sciences\",\"Life Sciences\",\"Life Sciences\",\"Life Sciences\",\"Life Sciences\",\"Life Sciences\",\"Life Sciences\",\"Life Sciences\",\"Life Sciences\",\"Life Sciences\",\"Life Sciences\",\"Life Sciences\",\"Life Sciences\",\"Life Sciences\",\"Life Sciences\",\"Life Sciences\",\"Life Sciences\",\"Life Sciences\",\"Life Sciences\",\"Life Sciences\",\"Life Sciences\",\"Life Sciences\",\"Life Sciences\",\"Life Sciences\",\"Life Sciences\",\"Life Sciences\",\"Life Sciences\",\"Life Sciences\",\"Life Sciences\",\"Life Sciences\",\"Life Sciences\",\"Life Sciences\",\"Life Sciences\",\"Life Sciences\",\"Life Sciences\",\"Life Sciences\",\"Life Sciences\",\"Life Sciences\",\"Life Sciences\",\"Life Sciences\",\"Life Sciences\",\"Life Sciences\",\"Life Sciences\",\"Life Sciences\",\"Life Sciences\",\"Life Sciences\",\"Life Sciences\",\"Life Sciences\",\"Life Sciences\",\"Life Sciences\",\"Life Sciences\",\"Life Sciences\",\"Life Sciences\",\"Life Sciences\",\"Life Sciences\",\"Life Sciences\",\"Life Sciences\",\"Life Sciences\",\"Life Sciences\",\"Life Sciences\",\"Life Sciences\",\"Life Sciences\",\"Life Sciences\",\"Life Sciences\",\"Life Sciences\",\"Life Sciences\",\"Life Sciences\",\"Life Sciences\",\"Life Sciences\",\"Life Sciences\",\"Life Sciences\",\"Life Sciences\",\"Life Sciences\",\"Life Sciences\",\"Life Sciences\",\"Life Sciences\",\"Life Sciences\",\"Life Sciences\",\"Life Sciences\",\"Life Sciences\",\"Life Sciences\",\"Life Sciences\",\"Life Sciences\",\"Life Sciences\",\"Life Sciences\",\"Life Sciences\",\"Life Sciences\",\"Life Sciences\",\"Life Sciences\",\"Life Sciences\",\"Life Sciences\",\"Life Sciences\",\"Life Sciences\",\"Life Sciences\",\"Life Sciences\",\"Life Sciences\",\"Life Sciences\",\"Life Sciences\",\"Life Sciences\",\"Life Sciences\",\"Life Sciences\",\"Life Sciences\",\"Life Sciences\",\"Life Sciences\",\"Life Sciences\",\"Life Sciences\",\"Life Sciences\",\"Life Sciences\",\"Life Sciences\",\"Life Sciences\",\"Life Sciences\",\"Life Sciences\",\"Life Sciences\",\"Life Sciences\",\"Life Sciences\",\"Life Sciences\",\"Life Sciences\",\"Life Sciences\",\"Life Sciences\",\"Life Sciences\",\"Life Sciences\",\"Life Sciences\",\"Life Sciences\",\"Life Sciences\",\"Life Sciences\",\"Life Sciences\",\"Life Sciences\",\"Life Sciences\",\"Life Sciences\",\"Life Sciences\",\"Life Sciences\",\"Life Sciences\",\"Life Sciences\",\"Life Sciences\",\"Life Sciences\",\"Life Sciences\",\"Life Sciences\",\"Life Sciences\",\"Life Sciences\",\"Life Sciences\",\"Life Sciences\",\"Life Sciences\",\"Life Sciences\",\"Life Sciences\",\"Life Sciences\",\"Life Sciences\",\"Life Sciences\",\"Life Sciences\",\"Life Sciences\",\"Life Sciences\",\"Life Sciences\",\"Life Sciences\",\"Life Sciences\",\"Life Sciences\",\"Life Sciences\",\"Life Sciences\",\"Life Sciences\",\"Life Sciences\",\"Life Sciences\",\"Life Sciences\",\"Life Sciences\",\"Life Sciences\",\"Life Sciences\",\"Life Sciences\",\"Life Sciences\",\"Life Sciences\",\"Life Sciences\",\"Life Sciences\",\"Life Sciences\",\"Life Sciences\",\"Life Sciences\",\"Life Sciences\",\"Life Sciences\",\"Life Sciences\",\"Life Sciences\",\"Life Sciences\",\"Life Sciences\",\"Life Sciences\",\"Life Sciences\",\"Life Sciences\",\"Life Sciences\",\"Life Sciences\",\"Life Sciences\",\"Life Sciences\",\"Life Sciences\",\"Life Sciences\",\"Life Sciences\",\"Life Sciences\",\"Life Sciences\",\"Life Sciences\",\"Life Sciences\",\"Life Sciences\",\"Life Sciences\",\"Life Sciences\",\"Life Sciences\",\"Life Sciences\",\"Life Sciences\",\"Life Sciences\",\"Life Sciences\",\"Life Sciences\",\"Life Sciences\",\"Life Sciences\",\"Life Sciences\",\"Life Sciences\",\"Life Sciences\",\"Life Sciences\",\"Life Sciences\",\"Life Sciences\",\"Life Sciences\",\"Life Sciences\",\"Life Sciences\",\"Life Sciences\",\"Life Sciences\",\"Life Sciences\",\"Life Sciences\",\"Life Sciences\",\"Life Sciences\",\"Life Sciences\",\"Life Sciences\",\"Life Sciences\",\"Life Sciences\",\"Life Sciences\",\"Life Sciences\",\"Life Sciences\",\"Life Sciences\",\"Life Sciences\",\"Life Sciences\",\"Life Sciences\",\"Life Sciences\",\"Life Sciences\",\"Life Sciences\",\"Life Sciences\",\"Life Sciences\",\"Life Sciences\",\"Life Sciences\",\"Life Sciences\",\"Life Sciences\",\"Life Sciences\",\"Life Sciences\",\"Life Sciences\",\"Life Sciences\",\"Life Sciences\",\"Life Sciences\",\"Life Sciences\",\"Life Sciences\",\"Life Sciences\",\"Life Sciences\",\"Life Sciences\",\"Life Sciences\",\"Life Sciences\",\"Life Sciences\",\"Life Sciences\",\"Life Sciences\",\"Life Sciences\",\"Life Sciences\",\"Life Sciences\",\"Life Sciences\",\"Life Sciences\",\"Life Sciences\",\"Life Sciences\",\"Life Sciences\",\"Life Sciences\",\"Life Sciences\",\"Life Sciences\",\"Life Sciences\",\"Life Sciences\",\"Life Sciences\",\"Life Sciences\",\"Life Sciences\",\"Life Sciences\",\"Life Sciences\",\"Life Sciences\",\"Life Sciences\",\"Life Sciences\",\"Life Sciences\",\"Life Sciences\",\"Life Sciences\",\"Life Sciences\",\"Life Sciences\",\"Life Sciences\",\"Life Sciences\",\"Life Sciences\",\"Life Sciences\",\"Life Sciences\",\"Life Sciences\",\"Life Sciences\",\"Life Sciences\",\"Life Sciences\",\"Life Sciences\",\"Life Sciences\",\"Life Sciences\",\"Life Sciences\",\"Life Sciences\",\"Life Sciences\",\"Life Sciences\",\"Life Sciences\",\"Life Sciences\",\"Life Sciences\",\"Life Sciences\",\"Life Sciences\",\"Life Sciences\",\"Life Sciences\",\"Life Sciences\",\"Life Sciences\",\"Life Sciences\",\"Life Sciences\",\"Life Sciences\",\"Life Sciences\",\"Life Sciences\",\"Life Sciences\",\"Life Sciences\",\"Life Sciences\",\"Life Sciences\",\"Life Sciences\",\"Life Sciences\",\"Life Sciences\",\"Life Sciences\",\"Life Sciences\",\"Life Sciences\",\"Life Sciences\",\"Life Sciences\",\"Life Sciences\",\"Life Sciences\",\"Life Sciences\",\"Life Sciences\",\"Life Sciences\",\"Life Sciences\",\"Life Sciences\",\"Life Sciences\",\"Life Sciences\",\"Life Sciences\",\"Life Sciences\",\"Life Sciences\",\"Life Sciences\",\"Life Sciences\",\"Life Sciences\",\"Life Sciences\",\"Life Sciences\",\"Life Sciences\",\"Life Sciences\",\"Life Sciences\",\"Life Sciences\",\"Life Sciences\",\"Life Sciences\",\"Life Sciences\",\"Life Sciences\",\"Life Sciences\",\"Life Sciences\",\"Life Sciences\",\"Life Sciences\",\"Life Sciences\",\"Life Sciences\",\"Life Sciences\",\"Life Sciences\",\"Life Sciences\",\"Life Sciences\",\"Life Sciences\",\"Life Sciences\",\"Life Sciences\",\"Life Sciences\",\"Life Sciences\",\"Life Sciences\",\"Life Sciences\",\"Life Sciences\",\"Life Sciences\",\"Life Sciences\",\"Life Sciences\",\"Life Sciences\",\"Life Sciences\",\"Life Sciences\",\"Life Sciences\",\"Life Sciences\",\"Life Sciences\",\"Life Sciences\",\"Life Sciences\",\"Life Sciences\",\"Life Sciences\",\"Life Sciences\",\"Life Sciences\",\"Life Sciences\",\"Life Sciences\",\"Life Sciences\",\"Life Sciences\",\"Life Sciences\",\"Life Sciences\",\"Life Sciences\",\"Life Sciences\",\"Life Sciences\",\"Life Sciences\",\"Life Sciences\",\"Life Sciences\",\"Life Sciences\",\"Life Sciences\",\"Life Sciences\",\"Life Sciences\",\"Life Sciences\",\"Life Sciences\",\"Life Sciences\",\"Life Sciences\",\"Life Sciences\",\"Life Sciences\",\"Life Sciences\",\"Life Sciences\",\"Life Sciences\",\"Life Sciences\",\"Life Sciences\",\"Life Sciences\",\"Life Sciences\",\"Life Sciences\",\"Life Sciences\",\"Life Sciences\",\"Life Sciences\",\"Life Sciences\",\"Life Sciences\",\"Life Sciences\",\"Life Sciences\",\"Life Sciences\",\"Life Sciences\",\"Life Sciences\",\"Life Sciences\",\"Life Sciences\",\"Life Sciences\",\"Life Sciences\",\"Life Sciences\",\"Life Sciences\",\"Life Sciences\",\"Life Sciences\",\"Life Sciences\",\"Life Sciences\"],\"textposition\":\"auto\",\"x\":[\"Life Sciences\",\"Life Sciences\",\"Life Sciences\",\"Life Sciences\",\"Life Sciences\",\"Life Sciences\",\"Life Sciences\",\"Life Sciences\",\"Life Sciences\",\"Life Sciences\",\"Life Sciences\",\"Life Sciences\",\"Life Sciences\",\"Life Sciences\",\"Life Sciences\",\"Life Sciences\",\"Life Sciences\",\"Life Sciences\",\"Life Sciences\",\"Life Sciences\",\"Life Sciences\",\"Life Sciences\",\"Life Sciences\",\"Life Sciences\",\"Life Sciences\",\"Life Sciences\",\"Life Sciences\",\"Life Sciences\",\"Life Sciences\",\"Life Sciences\",\"Life Sciences\",\"Life Sciences\",\"Life Sciences\",\"Life Sciences\",\"Life Sciences\",\"Life Sciences\",\"Life Sciences\",\"Life Sciences\",\"Life Sciences\",\"Life Sciences\",\"Life Sciences\",\"Life Sciences\",\"Life Sciences\",\"Life Sciences\",\"Life Sciences\",\"Life Sciences\",\"Life Sciences\",\"Life Sciences\",\"Life Sciences\",\"Life Sciences\",\"Life Sciences\",\"Life Sciences\",\"Life Sciences\",\"Life Sciences\",\"Life Sciences\",\"Life Sciences\",\"Life Sciences\",\"Life Sciences\",\"Life Sciences\",\"Life Sciences\",\"Life Sciences\",\"Life Sciences\",\"Life Sciences\",\"Life Sciences\",\"Life Sciences\",\"Life Sciences\",\"Life Sciences\",\"Life Sciences\",\"Life Sciences\",\"Life Sciences\",\"Life Sciences\",\"Life Sciences\",\"Life Sciences\",\"Life Sciences\",\"Life Sciences\",\"Life Sciences\",\"Life Sciences\",\"Life Sciences\",\"Life Sciences\",\"Life Sciences\",\"Life Sciences\",\"Life Sciences\",\"Life Sciences\",\"Life Sciences\",\"Life Sciences\",\"Life Sciences\",\"Life Sciences\",\"Life Sciences\",\"Life Sciences\",\"Life Sciences\",\"Life Sciences\",\"Life Sciences\",\"Life Sciences\",\"Life Sciences\",\"Life Sciences\",\"Life Sciences\",\"Life Sciences\",\"Life Sciences\",\"Life Sciences\",\"Life Sciences\",\"Life Sciences\",\"Life Sciences\",\"Life Sciences\",\"Life Sciences\",\"Life Sciences\",\"Life Sciences\",\"Life Sciences\",\"Life Sciences\",\"Life Sciences\",\"Life Sciences\",\"Life Sciences\",\"Life Sciences\",\"Life Sciences\",\"Life Sciences\",\"Life Sciences\",\"Life Sciences\",\"Life Sciences\",\"Life Sciences\",\"Life Sciences\",\"Life Sciences\",\"Life Sciences\",\"Life Sciences\",\"Life Sciences\",\"Life Sciences\",\"Life Sciences\",\"Life Sciences\",\"Life Sciences\",\"Life Sciences\",\"Life Sciences\",\"Life Sciences\",\"Life Sciences\",\"Life Sciences\",\"Life Sciences\",\"Life Sciences\",\"Life Sciences\",\"Life Sciences\",\"Life Sciences\",\"Life Sciences\",\"Life Sciences\",\"Life Sciences\",\"Life Sciences\",\"Life Sciences\",\"Life Sciences\",\"Life Sciences\",\"Life Sciences\",\"Life Sciences\",\"Life Sciences\",\"Life Sciences\",\"Life Sciences\",\"Life Sciences\",\"Life Sciences\",\"Life Sciences\",\"Life Sciences\",\"Life Sciences\",\"Life Sciences\",\"Life Sciences\",\"Life Sciences\",\"Life Sciences\",\"Life Sciences\",\"Life Sciences\",\"Life Sciences\",\"Life Sciences\",\"Life Sciences\",\"Life Sciences\",\"Life Sciences\",\"Life Sciences\",\"Life Sciences\",\"Life Sciences\",\"Life Sciences\",\"Life Sciences\",\"Life Sciences\",\"Life Sciences\",\"Life Sciences\",\"Life Sciences\",\"Life Sciences\",\"Life Sciences\",\"Life Sciences\",\"Life Sciences\",\"Life Sciences\",\"Life Sciences\",\"Life Sciences\",\"Life Sciences\",\"Life Sciences\",\"Life Sciences\",\"Life Sciences\",\"Life Sciences\",\"Life Sciences\",\"Life Sciences\",\"Life Sciences\",\"Life Sciences\",\"Life Sciences\",\"Life Sciences\",\"Life Sciences\",\"Life Sciences\",\"Life Sciences\",\"Life Sciences\",\"Life Sciences\",\"Life Sciences\",\"Life Sciences\",\"Life Sciences\",\"Life Sciences\",\"Life Sciences\",\"Life Sciences\",\"Life Sciences\",\"Life Sciences\",\"Life Sciences\",\"Life Sciences\",\"Life Sciences\",\"Life Sciences\",\"Life Sciences\",\"Life Sciences\",\"Life Sciences\",\"Life Sciences\",\"Life Sciences\",\"Life Sciences\",\"Life Sciences\",\"Life Sciences\",\"Life Sciences\",\"Life Sciences\",\"Life Sciences\",\"Life Sciences\",\"Life Sciences\",\"Life Sciences\",\"Life Sciences\",\"Life Sciences\",\"Life Sciences\",\"Life Sciences\",\"Life Sciences\",\"Life Sciences\",\"Life Sciences\",\"Life Sciences\",\"Life Sciences\",\"Life Sciences\",\"Life Sciences\",\"Life Sciences\",\"Life Sciences\",\"Life Sciences\",\"Life Sciences\",\"Life Sciences\",\"Life Sciences\",\"Life Sciences\",\"Life Sciences\",\"Life Sciences\",\"Life Sciences\",\"Life Sciences\",\"Life Sciences\",\"Life Sciences\",\"Life Sciences\",\"Life Sciences\",\"Life Sciences\",\"Life Sciences\",\"Life Sciences\",\"Life Sciences\",\"Life Sciences\",\"Life Sciences\",\"Life Sciences\",\"Life Sciences\",\"Life Sciences\",\"Life Sciences\",\"Life Sciences\",\"Life Sciences\",\"Life Sciences\",\"Life Sciences\",\"Life Sciences\",\"Life Sciences\",\"Life Sciences\",\"Life Sciences\",\"Life Sciences\",\"Life Sciences\",\"Life Sciences\",\"Life Sciences\",\"Life Sciences\",\"Life Sciences\",\"Life Sciences\",\"Life Sciences\",\"Life Sciences\",\"Life Sciences\",\"Life Sciences\",\"Life Sciences\",\"Life Sciences\",\"Life Sciences\",\"Life Sciences\",\"Life Sciences\",\"Life Sciences\",\"Life Sciences\",\"Life Sciences\",\"Life Sciences\",\"Life Sciences\",\"Life Sciences\",\"Life Sciences\",\"Life Sciences\",\"Life Sciences\",\"Life Sciences\",\"Life Sciences\",\"Life Sciences\",\"Life Sciences\",\"Life Sciences\",\"Life Sciences\",\"Life Sciences\",\"Life Sciences\",\"Life Sciences\",\"Life Sciences\",\"Life Sciences\",\"Life Sciences\",\"Life Sciences\",\"Life Sciences\",\"Life Sciences\",\"Life Sciences\",\"Life Sciences\",\"Life Sciences\",\"Life Sciences\",\"Life Sciences\",\"Life Sciences\",\"Life Sciences\",\"Life Sciences\",\"Life Sciences\",\"Life Sciences\",\"Life Sciences\",\"Life Sciences\",\"Life Sciences\",\"Life Sciences\",\"Life Sciences\",\"Life Sciences\",\"Life Sciences\",\"Life Sciences\",\"Life Sciences\",\"Life Sciences\",\"Life Sciences\",\"Life Sciences\",\"Life Sciences\",\"Life Sciences\",\"Life Sciences\",\"Life Sciences\",\"Life Sciences\",\"Life Sciences\",\"Life Sciences\",\"Life Sciences\",\"Life Sciences\",\"Life Sciences\",\"Life Sciences\",\"Life Sciences\",\"Life Sciences\",\"Life Sciences\",\"Life Sciences\",\"Life Sciences\",\"Life Sciences\",\"Life Sciences\",\"Life Sciences\",\"Life Sciences\",\"Life Sciences\",\"Life Sciences\",\"Life Sciences\",\"Life Sciences\",\"Life Sciences\",\"Life Sciences\",\"Life Sciences\",\"Life Sciences\",\"Life Sciences\",\"Life Sciences\",\"Life Sciences\",\"Life Sciences\",\"Life Sciences\",\"Life Sciences\",\"Life Sciences\",\"Life Sciences\",\"Life Sciences\",\"Life Sciences\",\"Life Sciences\",\"Life Sciences\",\"Life Sciences\",\"Life Sciences\",\"Life Sciences\",\"Life Sciences\",\"Life Sciences\",\"Life Sciences\",\"Life Sciences\",\"Life Sciences\",\"Life Sciences\",\"Life Sciences\",\"Life Sciences\",\"Life Sciences\",\"Life Sciences\",\"Life Sciences\",\"Life Sciences\",\"Life Sciences\",\"Life Sciences\",\"Life Sciences\",\"Life Sciences\",\"Life Sciences\",\"Life Sciences\",\"Life Sciences\",\"Life Sciences\",\"Life Sciences\",\"Life Sciences\",\"Life Sciences\",\"Life Sciences\",\"Life Sciences\",\"Life Sciences\",\"Life Sciences\",\"Life Sciences\",\"Life Sciences\",\"Life Sciences\",\"Life Sciences\",\"Life Sciences\",\"Life Sciences\",\"Life Sciences\",\"Life Sciences\",\"Life Sciences\",\"Life Sciences\",\"Life Sciences\",\"Life Sciences\",\"Life Sciences\",\"Life Sciences\",\"Life Sciences\",\"Life Sciences\",\"Life Sciences\",\"Life Sciences\",\"Life Sciences\",\"Life Sciences\",\"Life Sciences\",\"Life Sciences\",\"Life Sciences\",\"Life Sciences\",\"Life Sciences\",\"Life Sciences\",\"Life Sciences\",\"Life Sciences\",\"Life Sciences\",\"Life Sciences\",\"Life Sciences\",\"Life Sciences\",\"Life Sciences\",\"Life Sciences\",\"Life Sciences\",\"Life Sciences\",\"Life Sciences\",\"Life Sciences\",\"Life Sciences\",\"Life Sciences\",\"Life Sciences\",\"Life Sciences\",\"Life Sciences\",\"Life Sciences\",\"Life Sciences\",\"Life Sciences\",\"Life Sciences\",\"Life Sciences\",\"Life Sciences\",\"Life Sciences\",\"Life Sciences\",\"Life Sciences\",\"Life Sciences\",\"Life Sciences\",\"Life Sciences\",\"Life Sciences\",\"Life Sciences\",\"Life Sciences\",\"Life Sciences\",\"Life Sciences\",\"Life Sciences\",\"Life Sciences\",\"Life Sciences\",\"Life Sciences\",\"Life Sciences\",\"Life Sciences\",\"Life Sciences\",\"Life Sciences\",\"Life Sciences\",\"Life Sciences\",\"Life Sciences\",\"Life Sciences\",\"Life Sciences\",\"Life Sciences\",\"Life Sciences\",\"Life Sciences\",\"Life Sciences\",\"Life Sciences\",\"Life Sciences\",\"Life Sciences\",\"Life Sciences\",\"Life Sciences\",\"Life Sciences\",\"Life Sciences\",\"Life Sciences\",\"Life Sciences\",\"Life Sciences\",\"Life Sciences\",\"Life Sciences\",\"Life Sciences\",\"Life Sciences\",\"Life Sciences\",\"Life Sciences\",\"Life Sciences\",\"Life Sciences\",\"Life Sciences\",\"Life Sciences\",\"Life Sciences\",\"Life Sciences\",\"Life Sciences\",\"Life Sciences\",\"Life Sciences\",\"Life Sciences\",\"Life Sciences\",\"Life Sciences\",\"Life Sciences\",\"Life Sciences\",\"Life Sciences\",\"Life Sciences\",\"Life Sciences\",\"Life Sciences\",\"Life Sciences\",\"Life Sciences\",\"Life Sciences\",\"Life Sciences\",\"Life Sciences\",\"Life Sciences\",\"Life Sciences\",\"Life Sciences\",\"Life Sciences\",\"Life Sciences\",\"Life Sciences\",\"Life Sciences\",\"Life Sciences\",\"Life Sciences\",\"Life Sciences\",\"Life Sciences\",\"Life Sciences\",\"Life Sciences\",\"Life Sciences\",\"Life Sciences\",\"Life Sciences\",\"Life Sciences\",\"Life Sciences\",\"Life Sciences\",\"Life Sciences\",\"Life Sciences\",\"Life Sciences\",\"Life Sciences\",\"Life Sciences\",\"Life Sciences\",\"Life Sciences\",\"Life Sciences\",\"Life Sciences\",\"Life Sciences\",\"Life Sciences\",\"Life Sciences\",\"Life Sciences\",\"Life Sciences\",\"Life Sciences\",\"Life Sciences\",\"Life Sciences\",\"Life Sciences\",\"Life Sciences\",\"Life Sciences\",\"Life Sciences\",\"Life Sciences\",\"Life Sciences\",\"Life Sciences\",\"Life Sciences\",\"Life Sciences\",\"Life Sciences\",\"Life Sciences\",\"Life Sciences\",\"Life Sciences\",\"Life Sciences\",\"Life Sciences\",\"Life Sciences\",\"Life Sciences\",\"Life Sciences\",\"Life Sciences\",\"Life Sciences\",\"Life Sciences\",\"Life Sciences\",\"Life Sciences\",\"Life Sciences\",\"Life Sciences\",\"Life Sciences\",\"Life Sciences\",\"Life Sciences\",\"Life Sciences\",\"Life Sciences\",\"Life Sciences\",\"Life Sciences\",\"Life Sciences\",\"Life Sciences\",\"Life Sciences\",\"Life Sciences\",\"Life Sciences\",\"Life Sciences\",\"Life Sciences\",\"Life Sciences\",\"Life Sciences\",\"Life Sciences\",\"Life Sciences\",\"Life Sciences\",\"Life Sciences\",\"Life Sciences\",\"Life Sciences\",\"Life Sciences\",\"Life Sciences\",\"Life Sciences\",\"Life Sciences\",\"Life Sciences\",\"Life Sciences\",\"Life Sciences\",\"Life Sciences\"],\"xaxis\":\"x\",\"y\":[1,0,0,0,0,0,0,0,1,0,0,0,0,1,0,0,1,0,0,0,1,0,0,0,1,0,0,0,0,0,0,0,0,0,0,0,0,0,0,0,0,0,0,0,0,1,0,0,1,0,0,0,0,0,0,1,0,1,1,0,0,1,0,0,0,0,0,0,0,0,0,0,0,0,0,0,0,1,0,0,0,1,0,0,0,0,0,0,0,0,0,0,0,0,0,1,0,0,1,0,0,0,0,0,0,0,0,0,0,1,0,0,1,0,0,0,0,0,0,1,0,0,0,1,0,0,0,0,0,0,0,0,0,0,0,0,0,0,0,0,0,0,0,0,0,0,0,0,1,0,0,0,0,0,0,0,0,0,0,0,0,0,0,0,0,0,0,0,0,0,0,0,0,0,0,0,0,0,0,1,0,0,0,0,0,1,0,0,0,0,0,1,1,0,0,0,0,0,0,0,0,1,0,0,0,1,0,0,0,0,1,0,0,0,0,0,0,1,0,0,0,0,0,0,0,0,1,0,0,0,0,0,0,0,0,0,1,0,0,1,0,1,0,0,0,0,0,0,0,0,0,0,0,0,0,0,0,1,0,0,0,0,0,0,0,0,0,1,0,1,0,0,0,1,1,0,0,0,0,0,1,0,1,0,0,0,0,1,0,1,0,0,0,1,0,0,0,0,0,0,0,0,0,0,0,0,0,0,1,0,0,1,0,0,1,0,1,0,0,0,0,0,0,0,0,0,0,0,0,0,1,0,0,0,0,0,0,0,0,0,0,1,1,1,0,0,0,0,0,1,0,1,0,1,0,0,0,1,0,0,0,0,0,0,0,0,0,0,0,0,0,0,0,0,0,1,0,1,0,0,0,0,0,0,0,1,0,0,0,1,0,0,1,1,0,0,0,0,0,0,0,0,0,0,0,0,0,1,0,0,0,0,0,0,0,0,1,0,1,1,0,1,0,0,1,0,0,0,1,1,1,0,0,0,0,0,0,0,0,0,0,0,0,0,0,0,0,0,0,0,0,1,1,0,0,0,0,0,0,0,0,0,0,1,1,0,0,0,0,0,0,0,0,0,0,0,0,0,0,0,0,0,0,0,0,1,0,0,0,0,0,0,0,0,0,0,0,0,0,0,0,0,0,1,0,1,0,0,0,1,0,0,0,0,0,0,0,1,0,0,0,0,1,0,0,0,0,0,0,1,0,0,0,0,1,0,0,0,0,0,0,0,0,0,0,0,0,0,0,0,0,1,1,0,1,0,0,0,0,0,0,0,1,0,0,0,1,0,0,0,0,0,0,0,0,1,0,0,0,0,0,0,0,0,0,0,0,0,0,0,0,0,0,0,0,0,0,0,0,0,1,0,0,0,0,0],\"yaxis\":\"y\",\"type\":\"bar\"},{\"alignmentgroup\":\"True\",\"hovertemplate\":\"EducationField=%{text}\\u003cbr\\u003ey=%{y}\\u003cextra\\u003e\\u003c\\u002fextra\\u003e\",\"legendgroup\":\"Other\",\"marker\":{\"color\":\"#EF553B\",\"pattern\":{\"shape\":\"\"}},\"name\":\"Other\",\"offsetgroup\":\"Other\",\"orientation\":\"v\",\"showlegend\":true,\"text\":[\"Other\",\"Other\",\"Other\",\"Other\",\"Other\",\"Other\",\"Other\",\"Other\",\"Other\",\"Other\",\"Other\",\"Other\",\"Other\",\"Other\",\"Other\",\"Other\",\"Other\",\"Other\",\"Other\",\"Other\",\"Other\",\"Other\",\"Other\",\"Other\",\"Other\",\"Other\",\"Other\",\"Other\",\"Other\",\"Other\",\"Other\",\"Other\",\"Other\",\"Other\",\"Other\",\"Other\",\"Other\",\"Other\",\"Other\",\"Other\",\"Other\",\"Other\",\"Other\",\"Other\",\"Other\",\"Other\",\"Other\",\"Other\",\"Other\",\"Other\",\"Other\",\"Other\",\"Other\",\"Other\",\"Other\",\"Other\",\"Other\",\"Other\",\"Other\",\"Other\",\"Other\",\"Other\",\"Other\",\"Other\",\"Other\",\"Other\",\"Other\",\"Other\",\"Other\",\"Other\",\"Other\",\"Other\",\"Other\",\"Other\",\"Other\",\"Other\",\"Other\",\"Other\",\"Other\",\"Other\",\"Other\",\"Other\"],\"textposition\":\"auto\",\"x\":[\"Other\",\"Other\",\"Other\",\"Other\",\"Other\",\"Other\",\"Other\",\"Other\",\"Other\",\"Other\",\"Other\",\"Other\",\"Other\",\"Other\",\"Other\",\"Other\",\"Other\",\"Other\",\"Other\",\"Other\",\"Other\",\"Other\",\"Other\",\"Other\",\"Other\",\"Other\",\"Other\",\"Other\",\"Other\",\"Other\",\"Other\",\"Other\",\"Other\",\"Other\",\"Other\",\"Other\",\"Other\",\"Other\",\"Other\",\"Other\",\"Other\",\"Other\",\"Other\",\"Other\",\"Other\",\"Other\",\"Other\",\"Other\",\"Other\",\"Other\",\"Other\",\"Other\",\"Other\",\"Other\",\"Other\",\"Other\",\"Other\",\"Other\",\"Other\",\"Other\",\"Other\",\"Other\",\"Other\",\"Other\",\"Other\",\"Other\",\"Other\",\"Other\",\"Other\",\"Other\",\"Other\",\"Other\",\"Other\",\"Other\",\"Other\",\"Other\",\"Other\",\"Other\",\"Other\",\"Other\",\"Other\",\"Other\"],\"xaxis\":\"x\",\"y\":[1,0,0,0,0,0,0,0,0,0,0,0,1,0,0,0,0,0,0,0,0,0,1,0,0,0,0,0,1,0,0,0,0,0,1,0,0,0,1,0,0,1,0,1,0,0,0,0,1,0,0,0,0,0,0,1,0,0,0,0,0,0,0,0,0,0,0,0,1,0,0,0,0,0,0,0,0,0,0,0,0,0],\"yaxis\":\"y\",\"type\":\"bar\"},{\"alignmentgroup\":\"True\",\"hovertemplate\":\"EducationField=%{text}\\u003cbr\\u003ey=%{y}\\u003cextra\\u003e\\u003c\\u002fextra\\u003e\",\"legendgroup\":\"Medical\",\"marker\":{\"color\":\"#00cc96\",\"pattern\":{\"shape\":\"\"}},\"name\":\"Medical\",\"offsetgroup\":\"Medical\",\"orientation\":\"v\",\"showlegend\":true,\"text\":[\"Medical\",\"Medical\",\"Medical\",\"Medical\",\"Medical\",\"Medical\",\"Medical\",\"Medical\",\"Medical\",\"Medical\",\"Medical\",\"Medical\",\"Medical\",\"Medical\",\"Medical\",\"Medical\",\"Medical\",\"Medical\",\"Medical\",\"Medical\",\"Medical\",\"Medical\",\"Medical\",\"Medical\",\"Medical\",\"Medical\",\"Medical\",\"Medical\",\"Medical\",\"Medical\",\"Medical\",\"Medical\",\"Medical\",\"Medical\",\"Medical\",\"Medical\",\"Medical\",\"Medical\",\"Medical\",\"Medical\",\"Medical\",\"Medical\",\"Medical\",\"Medical\",\"Medical\",\"Medical\",\"Medical\",\"Medical\",\"Medical\",\"Medical\",\"Medical\",\"Medical\",\"Medical\",\"Medical\",\"Medical\",\"Medical\",\"Medical\",\"Medical\",\"Medical\",\"Medical\",\"Medical\",\"Medical\",\"Medical\",\"Medical\",\"Medical\",\"Medical\",\"Medical\",\"Medical\",\"Medical\",\"Medical\",\"Medical\",\"Medical\",\"Medical\",\"Medical\",\"Medical\",\"Medical\",\"Medical\",\"Medical\",\"Medical\",\"Medical\",\"Medical\",\"Medical\",\"Medical\",\"Medical\",\"Medical\",\"Medical\",\"Medical\",\"Medical\",\"Medical\",\"Medical\",\"Medical\",\"Medical\",\"Medical\",\"Medical\",\"Medical\",\"Medical\",\"Medical\",\"Medical\",\"Medical\",\"Medical\",\"Medical\",\"Medical\",\"Medical\",\"Medical\",\"Medical\",\"Medical\",\"Medical\",\"Medical\",\"Medical\",\"Medical\",\"Medical\",\"Medical\",\"Medical\",\"Medical\",\"Medical\",\"Medical\",\"Medical\",\"Medical\",\"Medical\",\"Medical\",\"Medical\",\"Medical\",\"Medical\",\"Medical\",\"Medical\",\"Medical\",\"Medical\",\"Medical\",\"Medical\",\"Medical\",\"Medical\",\"Medical\",\"Medical\",\"Medical\",\"Medical\",\"Medical\",\"Medical\",\"Medical\",\"Medical\",\"Medical\",\"Medical\",\"Medical\",\"Medical\",\"Medical\",\"Medical\",\"Medical\",\"Medical\",\"Medical\",\"Medical\",\"Medical\",\"Medical\",\"Medical\",\"Medical\",\"Medical\",\"Medical\",\"Medical\",\"Medical\",\"Medical\",\"Medical\",\"Medical\",\"Medical\",\"Medical\",\"Medical\",\"Medical\",\"Medical\",\"Medical\",\"Medical\",\"Medical\",\"Medical\",\"Medical\",\"Medical\",\"Medical\",\"Medical\",\"Medical\",\"Medical\",\"Medical\",\"Medical\",\"Medical\",\"Medical\",\"Medical\",\"Medical\",\"Medical\",\"Medical\",\"Medical\",\"Medical\",\"Medical\",\"Medical\",\"Medical\",\"Medical\",\"Medical\",\"Medical\",\"Medical\",\"Medical\",\"Medical\",\"Medical\",\"Medical\",\"Medical\",\"Medical\",\"Medical\",\"Medical\",\"Medical\",\"Medical\",\"Medical\",\"Medical\",\"Medical\",\"Medical\",\"Medical\",\"Medical\",\"Medical\",\"Medical\",\"Medical\",\"Medical\",\"Medical\",\"Medical\",\"Medical\",\"Medical\",\"Medical\",\"Medical\",\"Medical\",\"Medical\",\"Medical\",\"Medical\",\"Medical\",\"Medical\",\"Medical\",\"Medical\",\"Medical\",\"Medical\",\"Medical\",\"Medical\",\"Medical\",\"Medical\",\"Medical\",\"Medical\",\"Medical\",\"Medical\",\"Medical\",\"Medical\",\"Medical\",\"Medical\",\"Medical\",\"Medical\",\"Medical\",\"Medical\",\"Medical\",\"Medical\",\"Medical\",\"Medical\",\"Medical\",\"Medical\",\"Medical\",\"Medical\",\"Medical\",\"Medical\",\"Medical\",\"Medical\",\"Medical\",\"Medical\",\"Medical\",\"Medical\",\"Medical\",\"Medical\",\"Medical\",\"Medical\",\"Medical\",\"Medical\",\"Medical\",\"Medical\",\"Medical\",\"Medical\",\"Medical\",\"Medical\",\"Medical\",\"Medical\",\"Medical\",\"Medical\",\"Medical\",\"Medical\",\"Medical\",\"Medical\",\"Medical\",\"Medical\",\"Medical\",\"Medical\",\"Medical\",\"Medical\",\"Medical\",\"Medical\",\"Medical\",\"Medical\",\"Medical\",\"Medical\",\"Medical\",\"Medical\",\"Medical\",\"Medical\",\"Medical\",\"Medical\",\"Medical\",\"Medical\",\"Medical\",\"Medical\",\"Medical\",\"Medical\",\"Medical\",\"Medical\",\"Medical\",\"Medical\",\"Medical\",\"Medical\",\"Medical\",\"Medical\",\"Medical\",\"Medical\",\"Medical\",\"Medical\",\"Medical\",\"Medical\",\"Medical\",\"Medical\",\"Medical\",\"Medical\",\"Medical\",\"Medical\",\"Medical\",\"Medical\",\"Medical\",\"Medical\",\"Medical\",\"Medical\",\"Medical\",\"Medical\",\"Medical\",\"Medical\",\"Medical\",\"Medical\",\"Medical\",\"Medical\",\"Medical\",\"Medical\",\"Medical\",\"Medical\",\"Medical\",\"Medical\",\"Medical\",\"Medical\",\"Medical\",\"Medical\",\"Medical\",\"Medical\",\"Medical\",\"Medical\",\"Medical\",\"Medical\",\"Medical\",\"Medical\",\"Medical\",\"Medical\",\"Medical\",\"Medical\",\"Medical\",\"Medical\",\"Medical\",\"Medical\",\"Medical\",\"Medical\",\"Medical\",\"Medical\",\"Medical\",\"Medical\",\"Medical\",\"Medical\",\"Medical\",\"Medical\",\"Medical\",\"Medical\",\"Medical\",\"Medical\",\"Medical\",\"Medical\",\"Medical\",\"Medical\",\"Medical\",\"Medical\",\"Medical\",\"Medical\",\"Medical\",\"Medical\",\"Medical\",\"Medical\",\"Medical\",\"Medical\",\"Medical\",\"Medical\",\"Medical\",\"Medical\",\"Medical\",\"Medical\",\"Medical\",\"Medical\",\"Medical\",\"Medical\",\"Medical\",\"Medical\",\"Medical\",\"Medical\",\"Medical\",\"Medical\",\"Medical\",\"Medical\",\"Medical\",\"Medical\",\"Medical\",\"Medical\",\"Medical\",\"Medical\",\"Medical\",\"Medical\",\"Medical\",\"Medical\",\"Medical\",\"Medical\",\"Medical\",\"Medical\",\"Medical\",\"Medical\",\"Medical\",\"Medical\",\"Medical\",\"Medical\",\"Medical\",\"Medical\",\"Medical\",\"Medical\",\"Medical\",\"Medical\",\"Medical\",\"Medical\",\"Medical\",\"Medical\",\"Medical\",\"Medical\",\"Medical\",\"Medical\",\"Medical\",\"Medical\",\"Medical\",\"Medical\",\"Medical\",\"Medical\",\"Medical\",\"Medical\",\"Medical\",\"Medical\",\"Medical\",\"Medical\",\"Medical\",\"Medical\",\"Medical\",\"Medical\",\"Medical\",\"Medical\",\"Medical\",\"Medical\"],\"textposition\":\"auto\",\"x\":[\"Medical\",\"Medical\",\"Medical\",\"Medical\",\"Medical\",\"Medical\",\"Medical\",\"Medical\",\"Medical\",\"Medical\",\"Medical\",\"Medical\",\"Medical\",\"Medical\",\"Medical\",\"Medical\",\"Medical\",\"Medical\",\"Medical\",\"Medical\",\"Medical\",\"Medical\",\"Medical\",\"Medical\",\"Medical\",\"Medical\",\"Medical\",\"Medical\",\"Medical\",\"Medical\",\"Medical\",\"Medical\",\"Medical\",\"Medical\",\"Medical\",\"Medical\",\"Medical\",\"Medical\",\"Medical\",\"Medical\",\"Medical\",\"Medical\",\"Medical\",\"Medical\",\"Medical\",\"Medical\",\"Medical\",\"Medical\",\"Medical\",\"Medical\",\"Medical\",\"Medical\",\"Medical\",\"Medical\",\"Medical\",\"Medical\",\"Medical\",\"Medical\",\"Medical\",\"Medical\",\"Medical\",\"Medical\",\"Medical\",\"Medical\",\"Medical\",\"Medical\",\"Medical\",\"Medical\",\"Medical\",\"Medical\",\"Medical\",\"Medical\",\"Medical\",\"Medical\",\"Medical\",\"Medical\",\"Medical\",\"Medical\",\"Medical\",\"Medical\",\"Medical\",\"Medical\",\"Medical\",\"Medical\",\"Medical\",\"Medical\",\"Medical\",\"Medical\",\"Medical\",\"Medical\",\"Medical\",\"Medical\",\"Medical\",\"Medical\",\"Medical\",\"Medical\",\"Medical\",\"Medical\",\"Medical\",\"Medical\",\"Medical\",\"Medical\",\"Medical\",\"Medical\",\"Medical\",\"Medical\",\"Medical\",\"Medical\",\"Medical\",\"Medical\",\"Medical\",\"Medical\",\"Medical\",\"Medical\",\"Medical\",\"Medical\",\"Medical\",\"Medical\",\"Medical\",\"Medical\",\"Medical\",\"Medical\",\"Medical\",\"Medical\",\"Medical\",\"Medical\",\"Medical\",\"Medical\",\"Medical\",\"Medical\",\"Medical\",\"Medical\",\"Medical\",\"Medical\",\"Medical\",\"Medical\",\"Medical\",\"Medical\",\"Medical\",\"Medical\",\"Medical\",\"Medical\",\"Medical\",\"Medical\",\"Medical\",\"Medical\",\"Medical\",\"Medical\",\"Medical\",\"Medical\",\"Medical\",\"Medical\",\"Medical\",\"Medical\",\"Medical\",\"Medical\",\"Medical\",\"Medical\",\"Medical\",\"Medical\",\"Medical\",\"Medical\",\"Medical\",\"Medical\",\"Medical\",\"Medical\",\"Medical\",\"Medical\",\"Medical\",\"Medical\",\"Medical\",\"Medical\",\"Medical\",\"Medical\",\"Medical\",\"Medical\",\"Medical\",\"Medical\",\"Medical\",\"Medical\",\"Medical\",\"Medical\",\"Medical\",\"Medical\",\"Medical\",\"Medical\",\"Medical\",\"Medical\",\"Medical\",\"Medical\",\"Medical\",\"Medical\",\"Medical\",\"Medical\",\"Medical\",\"Medical\",\"Medical\",\"Medical\",\"Medical\",\"Medical\",\"Medical\",\"Medical\",\"Medical\",\"Medical\",\"Medical\",\"Medical\",\"Medical\",\"Medical\",\"Medical\",\"Medical\",\"Medical\",\"Medical\",\"Medical\",\"Medical\",\"Medical\",\"Medical\",\"Medical\",\"Medical\",\"Medical\",\"Medical\",\"Medical\",\"Medical\",\"Medical\",\"Medical\",\"Medical\",\"Medical\",\"Medical\",\"Medical\",\"Medical\",\"Medical\",\"Medical\",\"Medical\",\"Medical\",\"Medical\",\"Medical\",\"Medical\",\"Medical\",\"Medical\",\"Medical\",\"Medical\",\"Medical\",\"Medical\",\"Medical\",\"Medical\",\"Medical\",\"Medical\",\"Medical\",\"Medical\",\"Medical\",\"Medical\",\"Medical\",\"Medical\",\"Medical\",\"Medical\",\"Medical\",\"Medical\",\"Medical\",\"Medical\",\"Medical\",\"Medical\",\"Medical\",\"Medical\",\"Medical\",\"Medical\",\"Medical\",\"Medical\",\"Medical\",\"Medical\",\"Medical\",\"Medical\",\"Medical\",\"Medical\",\"Medical\",\"Medical\",\"Medical\",\"Medical\",\"Medical\",\"Medical\",\"Medical\",\"Medical\",\"Medical\",\"Medical\",\"Medical\",\"Medical\",\"Medical\",\"Medical\",\"Medical\",\"Medical\",\"Medical\",\"Medical\",\"Medical\",\"Medical\",\"Medical\",\"Medical\",\"Medical\",\"Medical\",\"Medical\",\"Medical\",\"Medical\",\"Medical\",\"Medical\",\"Medical\",\"Medical\",\"Medical\",\"Medical\",\"Medical\",\"Medical\",\"Medical\",\"Medical\",\"Medical\",\"Medical\",\"Medical\",\"Medical\",\"Medical\",\"Medical\",\"Medical\",\"Medical\",\"Medical\",\"Medical\",\"Medical\",\"Medical\",\"Medical\",\"Medical\",\"Medical\",\"Medical\",\"Medical\",\"Medical\",\"Medical\",\"Medical\",\"Medical\",\"Medical\",\"Medical\",\"Medical\",\"Medical\",\"Medical\",\"Medical\",\"Medical\",\"Medical\",\"Medical\",\"Medical\",\"Medical\",\"Medical\",\"Medical\",\"Medical\",\"Medical\",\"Medical\",\"Medical\",\"Medical\",\"Medical\",\"Medical\",\"Medical\",\"Medical\",\"Medical\",\"Medical\",\"Medical\",\"Medical\",\"Medical\",\"Medical\",\"Medical\",\"Medical\",\"Medical\",\"Medical\",\"Medical\",\"Medical\",\"Medical\",\"Medical\",\"Medical\",\"Medical\",\"Medical\",\"Medical\",\"Medical\",\"Medical\",\"Medical\",\"Medical\",\"Medical\",\"Medical\",\"Medical\",\"Medical\",\"Medical\",\"Medical\",\"Medical\",\"Medical\",\"Medical\",\"Medical\",\"Medical\",\"Medical\",\"Medical\",\"Medical\",\"Medical\",\"Medical\",\"Medical\",\"Medical\",\"Medical\",\"Medical\",\"Medical\",\"Medical\",\"Medical\",\"Medical\",\"Medical\",\"Medical\",\"Medical\",\"Medical\",\"Medical\",\"Medical\",\"Medical\",\"Medical\",\"Medical\",\"Medical\",\"Medical\",\"Medical\",\"Medical\",\"Medical\",\"Medical\",\"Medical\",\"Medical\",\"Medical\",\"Medical\",\"Medical\",\"Medical\",\"Medical\",\"Medical\",\"Medical\",\"Medical\",\"Medical\",\"Medical\",\"Medical\",\"Medical\",\"Medical\",\"Medical\",\"Medical\",\"Medical\",\"Medical\",\"Medical\",\"Medical\",\"Medical\",\"Medical\",\"Medical\",\"Medical\",\"Medical\",\"Medical\",\"Medical\",\"Medical\",\"Medical\",\"Medical\",\"Medical\",\"Medical\",\"Medical\",\"Medical\",\"Medical\",\"Medical\",\"Medical\",\"Medical\",\"Medical\",\"Medical\",\"Medical\",\"Medical\",\"Medical\",\"Medical\",\"Medical\",\"Medical\",\"Medical\",\"Medical\",\"Medical\",\"Medical\"],\"xaxis\":\"x\",\"y\":[0,0,0,0,0,0,1,0,0,0,1,0,0,0,0,0,0,0,0,1,0,0,0,0,0,0,1,0,0,0,0,0,0,0,0,0,0,1,0,0,0,1,0,0,0,0,0,0,0,0,0,0,0,0,0,0,0,0,0,0,0,0,0,0,0,0,0,0,0,0,1,0,0,1,0,0,0,0,1,0,0,1,0,0,0,1,0,0,1,0,0,0,0,0,0,0,0,0,0,0,1,0,0,0,0,0,0,1,0,1,0,0,1,0,0,0,0,0,0,0,0,0,0,0,0,0,0,0,0,0,0,0,0,0,0,0,1,0,0,0,0,0,1,1,0,0,0,0,0,0,0,0,0,0,0,0,1,0,0,0,0,0,0,0,0,0,0,1,0,0,0,0,0,0,1,0,0,0,0,0,0,0,0,1,0,0,0,0,0,0,0,1,0,0,1,1,0,0,0,0,0,0,0,0,0,1,0,0,0,0,1,0,1,0,0,0,0,0,0,0,0,0,0,0,1,0,0,0,0,0,0,0,1,1,0,0,1,0,1,0,0,0,0,0,0,0,0,0,0,0,0,0,1,1,1,1,0,1,0,0,0,0,0,1,1,0,0,0,0,0,0,0,0,0,0,0,0,0,0,0,0,0,0,1,0,0,0,0,0,0,0,0,1,0,0,0,0,0,0,1,0,0,0,0,0,1,0,0,0,0,1,0,0,0,0,0,0,0,0,0,0,0,0,0,0,0,0,0,0,0,1,1,0,0,0,1,0,0,0,0,0,0,0,0,0,1,0,0,0,0,1,0,0,0,0,0,0,0,1,0,0,0,1,0,0,1,0,0,0,0,0,0,0,0,0,0,0,0,1,0,0,1,0,0,0,0,0,0,0,0,0,0,0,0,0,0,0,0,0,0,0,0,0,1,0,1,0,0,0,1,0,1,1,0,0,0,0,0,0,0,0,0,0,0,1,0,0,0,0,0,0,0,0,0,0,0,0,0,0,0,0,0,0,0,0,0,0,0,0,0,0,0,0,0,0,0,1,0,0,0,0,0,0,0],\"yaxis\":\"y\",\"type\":\"bar\"},{\"alignmentgroup\":\"True\",\"hovertemplate\":\"EducationField=%{text}\\u003cbr\\u003ey=%{y}\\u003cextra\\u003e\\u003c\\u002fextra\\u003e\",\"legendgroup\":\"Marketing\",\"marker\":{\"color\":\"#ab63fa\",\"pattern\":{\"shape\":\"\"}},\"name\":\"Marketing\",\"offsetgroup\":\"Marketing\",\"orientation\":\"v\",\"showlegend\":true,\"text\":[\"Marketing\",\"Marketing\",\"Marketing\",\"Marketing\",\"Marketing\",\"Marketing\",\"Marketing\",\"Marketing\",\"Marketing\",\"Marketing\",\"Marketing\",\"Marketing\",\"Marketing\",\"Marketing\",\"Marketing\",\"Marketing\",\"Marketing\",\"Marketing\",\"Marketing\",\"Marketing\",\"Marketing\",\"Marketing\",\"Marketing\",\"Marketing\",\"Marketing\",\"Marketing\",\"Marketing\",\"Marketing\",\"Marketing\",\"Marketing\",\"Marketing\",\"Marketing\",\"Marketing\",\"Marketing\",\"Marketing\",\"Marketing\",\"Marketing\",\"Marketing\",\"Marketing\",\"Marketing\",\"Marketing\",\"Marketing\",\"Marketing\",\"Marketing\",\"Marketing\",\"Marketing\",\"Marketing\",\"Marketing\",\"Marketing\",\"Marketing\",\"Marketing\",\"Marketing\",\"Marketing\",\"Marketing\",\"Marketing\",\"Marketing\",\"Marketing\",\"Marketing\",\"Marketing\",\"Marketing\",\"Marketing\",\"Marketing\",\"Marketing\",\"Marketing\",\"Marketing\",\"Marketing\",\"Marketing\",\"Marketing\",\"Marketing\",\"Marketing\",\"Marketing\",\"Marketing\",\"Marketing\",\"Marketing\",\"Marketing\",\"Marketing\",\"Marketing\",\"Marketing\",\"Marketing\",\"Marketing\",\"Marketing\",\"Marketing\",\"Marketing\",\"Marketing\",\"Marketing\",\"Marketing\",\"Marketing\",\"Marketing\",\"Marketing\",\"Marketing\",\"Marketing\",\"Marketing\",\"Marketing\",\"Marketing\",\"Marketing\",\"Marketing\",\"Marketing\",\"Marketing\",\"Marketing\",\"Marketing\",\"Marketing\",\"Marketing\",\"Marketing\",\"Marketing\",\"Marketing\",\"Marketing\",\"Marketing\",\"Marketing\",\"Marketing\",\"Marketing\",\"Marketing\",\"Marketing\",\"Marketing\",\"Marketing\",\"Marketing\",\"Marketing\",\"Marketing\",\"Marketing\",\"Marketing\",\"Marketing\",\"Marketing\",\"Marketing\",\"Marketing\",\"Marketing\",\"Marketing\",\"Marketing\",\"Marketing\",\"Marketing\",\"Marketing\",\"Marketing\",\"Marketing\",\"Marketing\",\"Marketing\",\"Marketing\",\"Marketing\",\"Marketing\",\"Marketing\",\"Marketing\",\"Marketing\",\"Marketing\",\"Marketing\",\"Marketing\",\"Marketing\",\"Marketing\",\"Marketing\",\"Marketing\",\"Marketing\",\"Marketing\",\"Marketing\",\"Marketing\",\"Marketing\",\"Marketing\",\"Marketing\",\"Marketing\",\"Marketing\",\"Marketing\",\"Marketing\",\"Marketing\",\"Marketing\"],\"textposition\":\"auto\",\"x\":[\"Marketing\",\"Marketing\",\"Marketing\",\"Marketing\",\"Marketing\",\"Marketing\",\"Marketing\",\"Marketing\",\"Marketing\",\"Marketing\",\"Marketing\",\"Marketing\",\"Marketing\",\"Marketing\",\"Marketing\",\"Marketing\",\"Marketing\",\"Marketing\",\"Marketing\",\"Marketing\",\"Marketing\",\"Marketing\",\"Marketing\",\"Marketing\",\"Marketing\",\"Marketing\",\"Marketing\",\"Marketing\",\"Marketing\",\"Marketing\",\"Marketing\",\"Marketing\",\"Marketing\",\"Marketing\",\"Marketing\",\"Marketing\",\"Marketing\",\"Marketing\",\"Marketing\",\"Marketing\",\"Marketing\",\"Marketing\",\"Marketing\",\"Marketing\",\"Marketing\",\"Marketing\",\"Marketing\",\"Marketing\",\"Marketing\",\"Marketing\",\"Marketing\",\"Marketing\",\"Marketing\",\"Marketing\",\"Marketing\",\"Marketing\",\"Marketing\",\"Marketing\",\"Marketing\",\"Marketing\",\"Marketing\",\"Marketing\",\"Marketing\",\"Marketing\",\"Marketing\",\"Marketing\",\"Marketing\",\"Marketing\",\"Marketing\",\"Marketing\",\"Marketing\",\"Marketing\",\"Marketing\",\"Marketing\",\"Marketing\",\"Marketing\",\"Marketing\",\"Marketing\",\"Marketing\",\"Marketing\",\"Marketing\",\"Marketing\",\"Marketing\",\"Marketing\",\"Marketing\",\"Marketing\",\"Marketing\",\"Marketing\",\"Marketing\",\"Marketing\",\"Marketing\",\"Marketing\",\"Marketing\",\"Marketing\",\"Marketing\",\"Marketing\",\"Marketing\",\"Marketing\",\"Marketing\",\"Marketing\",\"Marketing\",\"Marketing\",\"Marketing\",\"Marketing\",\"Marketing\",\"Marketing\",\"Marketing\",\"Marketing\",\"Marketing\",\"Marketing\",\"Marketing\",\"Marketing\",\"Marketing\",\"Marketing\",\"Marketing\",\"Marketing\",\"Marketing\",\"Marketing\",\"Marketing\",\"Marketing\",\"Marketing\",\"Marketing\",\"Marketing\",\"Marketing\",\"Marketing\",\"Marketing\",\"Marketing\",\"Marketing\",\"Marketing\",\"Marketing\",\"Marketing\",\"Marketing\",\"Marketing\",\"Marketing\",\"Marketing\",\"Marketing\",\"Marketing\",\"Marketing\",\"Marketing\",\"Marketing\",\"Marketing\",\"Marketing\",\"Marketing\",\"Marketing\",\"Marketing\",\"Marketing\",\"Marketing\",\"Marketing\",\"Marketing\",\"Marketing\",\"Marketing\",\"Marketing\",\"Marketing\",\"Marketing\",\"Marketing\",\"Marketing\",\"Marketing\",\"Marketing\",\"Marketing\"],\"xaxis\":\"x\",\"y\":[0,0,1,0,0,0,0,0,0,0,1,0,1,0,0,0,0,0,0,0,1,1,1,0,0,0,0,0,0,0,1,0,0,0,0,0,0,0,0,1,1,1,1,0,0,0,0,1,0,0,0,0,0,0,1,0,0,1,0,0,0,0,0,0,0,0,0,0,0,1,1,0,0,0,0,0,0,0,0,0,0,1,0,0,1,0,0,0,1,0,0,0,0,1,0,0,1,0,0,0,0,0,0,1,0,0,0,1,0,0,1,1,0,0,0,0,0,0,0,1,0,0,0,0,0,0,0,1,1,0,0,0,1,1,0,0,0,0,0,0,1,0,0,0,1,0,0,0,0,1,0,0,0,1,0,0,0,1,0],\"yaxis\":\"y\",\"type\":\"bar\"},{\"alignmentgroup\":\"True\",\"hovertemplate\":\"EducationField=%{text}\\u003cbr\\u003ey=%{y}\\u003cextra\\u003e\\u003c\\u002fextra\\u003e\",\"legendgroup\":\"Technical Degree\",\"marker\":{\"color\":\"#FFA15A\",\"pattern\":{\"shape\":\"\"}},\"name\":\"Technical Degree\",\"offsetgroup\":\"Technical Degree\",\"orientation\":\"v\",\"showlegend\":true,\"text\":[\"Technical Degree\",\"Technical Degree\",\"Technical Degree\",\"Technical Degree\",\"Technical Degree\",\"Technical Degree\",\"Technical Degree\",\"Technical Degree\",\"Technical Degree\",\"Technical Degree\",\"Technical Degree\",\"Technical Degree\",\"Technical Degree\",\"Technical Degree\",\"Technical Degree\",\"Technical Degree\",\"Technical Degree\",\"Technical Degree\",\"Technical Degree\",\"Technical Degree\",\"Technical Degree\",\"Technical Degree\",\"Technical Degree\",\"Technical Degree\",\"Technical Degree\",\"Technical Degree\",\"Technical Degree\",\"Technical Degree\",\"Technical Degree\",\"Technical Degree\",\"Technical Degree\",\"Technical Degree\",\"Technical Degree\",\"Technical Degree\",\"Technical Degree\",\"Technical Degree\",\"Technical Degree\",\"Technical Degree\",\"Technical Degree\",\"Technical Degree\",\"Technical Degree\",\"Technical Degree\",\"Technical Degree\",\"Technical Degree\",\"Technical Degree\",\"Technical Degree\",\"Technical Degree\",\"Technical Degree\",\"Technical Degree\",\"Technical Degree\",\"Technical Degree\",\"Technical Degree\",\"Technical Degree\",\"Technical Degree\",\"Technical Degree\",\"Technical Degree\",\"Technical Degree\",\"Technical Degree\",\"Technical Degree\",\"Technical Degree\",\"Technical Degree\",\"Technical Degree\",\"Technical Degree\",\"Technical Degree\",\"Technical Degree\",\"Technical Degree\",\"Technical Degree\",\"Technical Degree\",\"Technical Degree\",\"Technical Degree\",\"Technical Degree\",\"Technical Degree\",\"Technical Degree\",\"Technical Degree\",\"Technical Degree\",\"Technical Degree\",\"Technical Degree\",\"Technical Degree\",\"Technical Degree\",\"Technical Degree\",\"Technical Degree\",\"Technical Degree\",\"Technical Degree\",\"Technical Degree\",\"Technical Degree\",\"Technical Degree\",\"Technical Degree\",\"Technical Degree\",\"Technical Degree\",\"Technical Degree\",\"Technical Degree\",\"Technical Degree\",\"Technical Degree\",\"Technical Degree\",\"Technical Degree\",\"Technical Degree\",\"Technical Degree\",\"Technical Degree\",\"Technical Degree\",\"Technical Degree\",\"Technical Degree\",\"Technical Degree\",\"Technical Degree\",\"Technical Degree\",\"Technical Degree\",\"Technical Degree\",\"Technical Degree\",\"Technical Degree\",\"Technical Degree\",\"Technical Degree\",\"Technical Degree\",\"Technical Degree\",\"Technical Degree\",\"Technical Degree\",\"Technical Degree\",\"Technical Degree\",\"Technical Degree\",\"Technical Degree\",\"Technical Degree\",\"Technical Degree\",\"Technical Degree\",\"Technical Degree\",\"Technical Degree\",\"Technical Degree\",\"Technical Degree\",\"Technical Degree\",\"Technical Degree\",\"Technical Degree\",\"Technical Degree\",\"Technical Degree\",\"Technical Degree\",\"Technical Degree\"],\"textposition\":\"auto\",\"x\":[\"Technical Degree\",\"Technical Degree\",\"Technical Degree\",\"Technical Degree\",\"Technical Degree\",\"Technical Degree\",\"Technical Degree\",\"Technical Degree\",\"Technical Degree\",\"Technical Degree\",\"Technical Degree\",\"Technical Degree\",\"Technical Degree\",\"Technical Degree\",\"Technical Degree\",\"Technical Degree\",\"Technical Degree\",\"Technical Degree\",\"Technical Degree\",\"Technical Degree\",\"Technical Degree\",\"Technical Degree\",\"Technical Degree\",\"Technical Degree\",\"Technical Degree\",\"Technical Degree\",\"Technical Degree\",\"Technical Degree\",\"Technical Degree\",\"Technical Degree\",\"Technical Degree\",\"Technical Degree\",\"Technical Degree\",\"Technical Degree\",\"Technical Degree\",\"Technical Degree\",\"Technical Degree\",\"Technical Degree\",\"Technical Degree\",\"Technical Degree\",\"Technical Degree\",\"Technical Degree\",\"Technical Degree\",\"Technical Degree\",\"Technical Degree\",\"Technical Degree\",\"Technical Degree\",\"Technical Degree\",\"Technical Degree\",\"Technical Degree\",\"Technical Degree\",\"Technical Degree\",\"Technical Degree\",\"Technical Degree\",\"Technical Degree\",\"Technical Degree\",\"Technical Degree\",\"Technical Degree\",\"Technical Degree\",\"Technical Degree\",\"Technical Degree\",\"Technical Degree\",\"Technical Degree\",\"Technical Degree\",\"Technical Degree\",\"Technical Degree\",\"Technical Degree\",\"Technical Degree\",\"Technical Degree\",\"Technical Degree\",\"Technical Degree\",\"Technical Degree\",\"Technical Degree\",\"Technical Degree\",\"Technical Degree\",\"Technical Degree\",\"Technical Degree\",\"Technical Degree\",\"Technical Degree\",\"Technical Degree\",\"Technical Degree\",\"Technical Degree\",\"Technical Degree\",\"Technical Degree\",\"Technical Degree\",\"Technical Degree\",\"Technical Degree\",\"Technical Degree\",\"Technical Degree\",\"Technical Degree\",\"Technical Degree\",\"Technical Degree\",\"Technical Degree\",\"Technical Degree\",\"Technical Degree\",\"Technical Degree\",\"Technical Degree\",\"Technical Degree\",\"Technical Degree\",\"Technical Degree\",\"Technical Degree\",\"Technical Degree\",\"Technical Degree\",\"Technical Degree\",\"Technical Degree\",\"Technical Degree\",\"Technical Degree\",\"Technical Degree\",\"Technical Degree\",\"Technical Degree\",\"Technical Degree\",\"Technical Degree\",\"Technical Degree\",\"Technical Degree\",\"Technical Degree\",\"Technical Degree\",\"Technical Degree\",\"Technical Degree\",\"Technical Degree\",\"Technical Degree\",\"Technical Degree\",\"Technical Degree\",\"Technical Degree\",\"Technical Degree\",\"Technical Degree\",\"Technical Degree\",\"Technical Degree\",\"Technical Degree\",\"Technical Degree\",\"Technical Degree\",\"Technical Degree\",\"Technical Degree\"],\"xaxis\":\"x\",\"y\":[1,1,1,0,0,0,0,0,0,0,0,0,1,0,0,1,1,0,0,0,0,0,0,0,0,0,0,0,0,0,0,1,0,0,1,1,0,0,1,1,1,1,0,1,0,0,0,0,0,1,0,1,0,0,0,0,0,1,0,1,0,0,0,0,0,1,0,0,1,1,0,0,0,0,0,0,0,0,0,0,1,0,0,0,0,0,0,0,0,0,0,1,0,0,1,1,1,0,0,0,0,0,0,1,0,0,0,0,0,0,0,0,0,0,0,0,1,0,0,0,0,0,0,0,1,1,0,0,1,0,1,0],\"yaxis\":\"y\",\"type\":\"bar\"},{\"alignmentgroup\":\"True\",\"hovertemplate\":\"EducationField=%{text}\\u003cbr\\u003ey=%{y}\\u003cextra\\u003e\\u003c\\u002fextra\\u003e\",\"legendgroup\":\"Human Resources\",\"marker\":{\"color\":\"#19d3f3\",\"pattern\":{\"shape\":\"\"}},\"name\":\"Human Resources\",\"offsetgroup\":\"Human Resources\",\"orientation\":\"v\",\"showlegend\":true,\"text\":[\"Human Resources\",\"Human Resources\",\"Human Resources\",\"Human Resources\",\"Human Resources\",\"Human Resources\",\"Human Resources\",\"Human Resources\",\"Human Resources\",\"Human Resources\",\"Human Resources\",\"Human Resources\",\"Human Resources\",\"Human Resources\",\"Human Resources\",\"Human Resources\",\"Human Resources\",\"Human Resources\",\"Human Resources\",\"Human Resources\",\"Human Resources\",\"Human Resources\",\"Human Resources\",\"Human Resources\",\"Human Resources\",\"Human Resources\",\"Human Resources\"],\"textposition\":\"auto\",\"x\":[\"Human Resources\",\"Human Resources\",\"Human Resources\",\"Human Resources\",\"Human Resources\",\"Human Resources\",\"Human Resources\",\"Human Resources\",\"Human Resources\",\"Human Resources\",\"Human Resources\",\"Human Resources\",\"Human Resources\",\"Human Resources\",\"Human Resources\",\"Human Resources\",\"Human Resources\",\"Human Resources\",\"Human Resources\",\"Human Resources\",\"Human Resources\",\"Human Resources\",\"Human Resources\",\"Human Resources\",\"Human Resources\",\"Human Resources\",\"Human Resources\"],\"xaxis\":\"x\",\"y\":[1,0,0,0,0,1,0,0,0,0,0,0,0,0,0,0,0,1,0,1,0,1,1,0,1,0,0],\"yaxis\":\"y\",\"type\":\"bar\"}],                        {\"template\":{\"data\":{\"histogram2dcontour\":[{\"type\":\"histogram2dcontour\",\"colorbar\":{\"outlinewidth\":0,\"ticks\":\"\"},\"colorscale\":[[0.0,\"#0d0887\"],[0.1111111111111111,\"#46039f\"],[0.2222222222222222,\"#7201a8\"],[0.3333333333333333,\"#9c179e\"],[0.4444444444444444,\"#bd3786\"],[0.5555555555555556,\"#d8576b\"],[0.6666666666666666,\"#ed7953\"],[0.7777777777777778,\"#fb9f3a\"],[0.8888888888888888,\"#fdca26\"],[1.0,\"#f0f921\"]]}],\"choropleth\":[{\"type\":\"choropleth\",\"colorbar\":{\"outlinewidth\":0,\"ticks\":\"\"}}],\"histogram2d\":[{\"type\":\"histogram2d\",\"colorbar\":{\"outlinewidth\":0,\"ticks\":\"\"},\"colorscale\":[[0.0,\"#0d0887\"],[0.1111111111111111,\"#46039f\"],[0.2222222222222222,\"#7201a8\"],[0.3333333333333333,\"#9c179e\"],[0.4444444444444444,\"#bd3786\"],[0.5555555555555556,\"#d8576b\"],[0.6666666666666666,\"#ed7953\"],[0.7777777777777778,\"#fb9f3a\"],[0.8888888888888888,\"#fdca26\"],[1.0,\"#f0f921\"]]}],\"heatmap\":[{\"type\":\"heatmap\",\"colorbar\":{\"outlinewidth\":0,\"ticks\":\"\"},\"colorscale\":[[0.0,\"#0d0887\"],[0.1111111111111111,\"#46039f\"],[0.2222222222222222,\"#7201a8\"],[0.3333333333333333,\"#9c179e\"],[0.4444444444444444,\"#bd3786\"],[0.5555555555555556,\"#d8576b\"],[0.6666666666666666,\"#ed7953\"],[0.7777777777777778,\"#fb9f3a\"],[0.8888888888888888,\"#fdca26\"],[1.0,\"#f0f921\"]]}],\"heatmapgl\":[{\"type\":\"heatmapgl\",\"colorbar\":{\"outlinewidth\":0,\"ticks\":\"\"},\"colorscale\":[[0.0,\"#0d0887\"],[0.1111111111111111,\"#46039f\"],[0.2222222222222222,\"#7201a8\"],[0.3333333333333333,\"#9c179e\"],[0.4444444444444444,\"#bd3786\"],[0.5555555555555556,\"#d8576b\"],[0.6666666666666666,\"#ed7953\"],[0.7777777777777778,\"#fb9f3a\"],[0.8888888888888888,\"#fdca26\"],[1.0,\"#f0f921\"]]}],\"contourcarpet\":[{\"type\":\"contourcarpet\",\"colorbar\":{\"outlinewidth\":0,\"ticks\":\"\"}}],\"contour\":[{\"type\":\"contour\",\"colorbar\":{\"outlinewidth\":0,\"ticks\":\"\"},\"colorscale\":[[0.0,\"#0d0887\"],[0.1111111111111111,\"#46039f\"],[0.2222222222222222,\"#7201a8\"],[0.3333333333333333,\"#9c179e\"],[0.4444444444444444,\"#bd3786\"],[0.5555555555555556,\"#d8576b\"],[0.6666666666666666,\"#ed7953\"],[0.7777777777777778,\"#fb9f3a\"],[0.8888888888888888,\"#fdca26\"],[1.0,\"#f0f921\"]]}],\"surface\":[{\"type\":\"surface\",\"colorbar\":{\"outlinewidth\":0,\"ticks\":\"\"},\"colorscale\":[[0.0,\"#0d0887\"],[0.1111111111111111,\"#46039f\"],[0.2222222222222222,\"#7201a8\"],[0.3333333333333333,\"#9c179e\"],[0.4444444444444444,\"#bd3786\"],[0.5555555555555556,\"#d8576b\"],[0.6666666666666666,\"#ed7953\"],[0.7777777777777778,\"#fb9f3a\"],[0.8888888888888888,\"#fdca26\"],[1.0,\"#f0f921\"]]}],\"mesh3d\":[{\"type\":\"mesh3d\",\"colorbar\":{\"outlinewidth\":0,\"ticks\":\"\"}}],\"scatter\":[{\"fillpattern\":{\"fillmode\":\"overlay\",\"size\":10,\"solidity\":0.2},\"type\":\"scatter\"}],\"parcoords\":[{\"type\":\"parcoords\",\"line\":{\"colorbar\":{\"outlinewidth\":0,\"ticks\":\"\"}}}],\"scatterpolargl\":[{\"type\":\"scatterpolargl\",\"marker\":{\"colorbar\":{\"outlinewidth\":0,\"ticks\":\"\"}}}],\"bar\":[{\"error_x\":{\"color\":\"#2a3f5f\"},\"error_y\":{\"color\":\"#2a3f5f\"},\"marker\":{\"line\":{\"color\":\"#E5ECF6\",\"width\":0.5},\"pattern\":{\"fillmode\":\"overlay\",\"size\":10,\"solidity\":0.2}},\"type\":\"bar\"}],\"scattergeo\":[{\"type\":\"scattergeo\",\"marker\":{\"colorbar\":{\"outlinewidth\":0,\"ticks\":\"\"}}}],\"scatterpolar\":[{\"type\":\"scatterpolar\",\"marker\":{\"colorbar\":{\"outlinewidth\":0,\"ticks\":\"\"}}}],\"histogram\":[{\"marker\":{\"pattern\":{\"fillmode\":\"overlay\",\"size\":10,\"solidity\":0.2}},\"type\":\"histogram\"}],\"scattergl\":[{\"type\":\"scattergl\",\"marker\":{\"colorbar\":{\"outlinewidth\":0,\"ticks\":\"\"}}}],\"scatter3d\":[{\"type\":\"scatter3d\",\"line\":{\"colorbar\":{\"outlinewidth\":0,\"ticks\":\"\"}},\"marker\":{\"colorbar\":{\"outlinewidth\":0,\"ticks\":\"\"}}}],\"scattermapbox\":[{\"type\":\"scattermapbox\",\"marker\":{\"colorbar\":{\"outlinewidth\":0,\"ticks\":\"\"}}}],\"scatterternary\":[{\"type\":\"scatterternary\",\"marker\":{\"colorbar\":{\"outlinewidth\":0,\"ticks\":\"\"}}}],\"scattercarpet\":[{\"type\":\"scattercarpet\",\"marker\":{\"colorbar\":{\"outlinewidth\":0,\"ticks\":\"\"}}}],\"carpet\":[{\"aaxis\":{\"endlinecolor\":\"#2a3f5f\",\"gridcolor\":\"white\",\"linecolor\":\"white\",\"minorgridcolor\":\"white\",\"startlinecolor\":\"#2a3f5f\"},\"baxis\":{\"endlinecolor\":\"#2a3f5f\",\"gridcolor\":\"white\",\"linecolor\":\"white\",\"minorgridcolor\":\"white\",\"startlinecolor\":\"#2a3f5f\"},\"type\":\"carpet\"}],\"table\":[{\"cells\":{\"fill\":{\"color\":\"#EBF0F8\"},\"line\":{\"color\":\"white\"}},\"header\":{\"fill\":{\"color\":\"#C8D4E3\"},\"line\":{\"color\":\"white\"}},\"type\":\"table\"}],\"barpolar\":[{\"marker\":{\"line\":{\"color\":\"#E5ECF6\",\"width\":0.5},\"pattern\":{\"fillmode\":\"overlay\",\"size\":10,\"solidity\":0.2}},\"type\":\"barpolar\"}],\"pie\":[{\"automargin\":true,\"type\":\"pie\"}]},\"layout\":{\"autotypenumbers\":\"strict\",\"colorway\":[\"#636efa\",\"#EF553B\",\"#00cc96\",\"#ab63fa\",\"#FFA15A\",\"#19d3f3\",\"#FF6692\",\"#B6E880\",\"#FF97FF\",\"#FECB52\"],\"font\":{\"color\":\"#2a3f5f\"},\"hovermode\":\"closest\",\"hoverlabel\":{\"align\":\"left\"},\"paper_bgcolor\":\"white\",\"plot_bgcolor\":\"#E5ECF6\",\"polar\":{\"bgcolor\":\"#E5ECF6\",\"angularaxis\":{\"gridcolor\":\"white\",\"linecolor\":\"white\",\"ticks\":\"\"},\"radialaxis\":{\"gridcolor\":\"white\",\"linecolor\":\"white\",\"ticks\":\"\"}},\"ternary\":{\"bgcolor\":\"#E5ECF6\",\"aaxis\":{\"gridcolor\":\"white\",\"linecolor\":\"white\",\"ticks\":\"\"},\"baxis\":{\"gridcolor\":\"white\",\"linecolor\":\"white\",\"ticks\":\"\"},\"caxis\":{\"gridcolor\":\"white\",\"linecolor\":\"white\",\"ticks\":\"\"}},\"coloraxis\":{\"colorbar\":{\"outlinewidth\":0,\"ticks\":\"\"}},\"colorscale\":{\"sequential\":[[0.0,\"#0d0887\"],[0.1111111111111111,\"#46039f\"],[0.2222222222222222,\"#7201a8\"],[0.3333333333333333,\"#9c179e\"],[0.4444444444444444,\"#bd3786\"],[0.5555555555555556,\"#d8576b\"],[0.6666666666666666,\"#ed7953\"],[0.7777777777777778,\"#fb9f3a\"],[0.8888888888888888,\"#fdca26\"],[1.0,\"#f0f921\"]],\"sequentialminus\":[[0.0,\"#0d0887\"],[0.1111111111111111,\"#46039f\"],[0.2222222222222222,\"#7201a8\"],[0.3333333333333333,\"#9c179e\"],[0.4444444444444444,\"#bd3786\"],[0.5555555555555556,\"#d8576b\"],[0.6666666666666666,\"#ed7953\"],[0.7777777777777778,\"#fb9f3a\"],[0.8888888888888888,\"#fdca26\"],[1.0,\"#f0f921\"]],\"diverging\":[[0,\"#8e0152\"],[0.1,\"#c51b7d\"],[0.2,\"#de77ae\"],[0.3,\"#f1b6da\"],[0.4,\"#fde0ef\"],[0.5,\"#f7f7f7\"],[0.6,\"#e6f5d0\"],[0.7,\"#b8e186\"],[0.8,\"#7fbc41\"],[0.9,\"#4d9221\"],[1,\"#276419\"]]},\"xaxis\":{\"gridcolor\":\"white\",\"linecolor\":\"white\",\"ticks\":\"\",\"title\":{\"standoff\":15},\"zerolinecolor\":\"white\",\"automargin\":true,\"zerolinewidth\":2},\"yaxis\":{\"gridcolor\":\"white\",\"linecolor\":\"white\",\"ticks\":\"\",\"title\":{\"standoff\":15},\"zerolinecolor\":\"white\",\"automargin\":true,\"zerolinewidth\":2},\"scene\":{\"xaxis\":{\"backgroundcolor\":\"#E5ECF6\",\"gridcolor\":\"white\",\"linecolor\":\"white\",\"showbackground\":true,\"ticks\":\"\",\"zerolinecolor\":\"white\",\"gridwidth\":2},\"yaxis\":{\"backgroundcolor\":\"#E5ECF6\",\"gridcolor\":\"white\",\"linecolor\":\"white\",\"showbackground\":true,\"ticks\":\"\",\"zerolinecolor\":\"white\",\"gridwidth\":2},\"zaxis\":{\"backgroundcolor\":\"#E5ECF6\",\"gridcolor\":\"white\",\"linecolor\":\"white\",\"showbackground\":true,\"ticks\":\"\",\"zerolinecolor\":\"white\",\"gridwidth\":2}},\"shapedefaults\":{\"line\":{\"color\":\"#2a3f5f\"}},\"annotationdefaults\":{\"arrowcolor\":\"#2a3f5f\",\"arrowhead\":0,\"arrowwidth\":1},\"geo\":{\"bgcolor\":\"white\",\"landcolor\":\"#E5ECF6\",\"subunitcolor\":\"white\",\"showland\":true,\"showlakes\":true,\"lakecolor\":\"white\"},\"title\":{\"x\":0.05},\"mapbox\":{\"style\":\"light\"}}},\"xaxis\":{\"anchor\":\"y\",\"domain\":[0.0,1.0],\"title\":{\"text\":\"EducationField\"},\"categoryorder\":\"array\",\"categoryarray\":[\"Life Sciences\",\"Other\",\"Medical\",\"Marketing\",\"Technical Degree\",\"Human Resources\"]},\"yaxis\":{\"anchor\":\"x\",\"domain\":[0.0,1.0],\"title\":{\"text\":\"y\"}},\"legend\":{\"title\":{\"text\":\"EducationField\"},\"tracegroupgap\":0},\"title\":{\"text\":\"Do Education Field play a role??\"},\"barmode\":\"relative\"},                        {\"responsive\": true}                    ).then(function(){\n",
       "                            \n",
       "var gd = document.getElementById('bb4224a7-ccba-4e71-8ce1-9c2286d8e44a');\n",
       "var x = new MutationObserver(function (mutations, observer) {{\n",
       "        var display = window.getComputedStyle(gd).display;\n",
       "        if (!display || display === 'none') {{\n",
       "            console.log([gd, 'removed!']);\n",
       "            Plotly.purge(gd);\n",
       "            observer.disconnect();\n",
       "        }}\n",
       "}});\n",
       "\n",
       "// Listen for the removal of the full notebook cells\n",
       "var notebookContainer = gd.closest('#notebook-container');\n",
       "if (notebookContainer) {{\n",
       "    x.observe(notebookContainer, {childList: true});\n",
       "}}\n",
       "\n",
       "// Listen for the clearing of the current output cell\n",
       "var outputEl = gd.closest('.output');\n",
       "if (outputEl) {{\n",
       "    x.observe(outputEl, {childList: true});\n",
       "}}\n",
       "\n",
       "                        })                };                });            </script>        </div>"
      ]
     },
     "metadata": {},
     "output_type": "display_data"
    }
   ],
   "source": [
    "fig = px.bar(df1, y=df['Attrition'], x=df1['EducationField'], text=df1['EducationField'],color=\"EducationField\", title=\"Do Education Field play a role??\",)\n",
    "fig.show()"
   ]
  },
  {
   "cell_type": "markdown",
   "id": "ab21476b",
   "metadata": {
    "papermill": {
     "duration": 0.047001,
     "end_time": "2023-08-22T12:30:07.973335",
     "exception": false,
     "start_time": "2023-08-22T12:30:07.926334",
     "status": "completed"
    },
    "tags": []
   },
   "source": [
    "* 14% life Sciences is employee resigning/retiring\n",
    "* 13% life medical is employee resigning/retiring\n",
    "* 22% life Marketing is employee resigning/retiring\n",
    "* 24% life technical is employee resigning/retiring\n",
    "* 12% life other is employee resigning/retiring \n",
    "* 29% life humen resource is employee resigning/retiring "
   ]
  },
  {
   "cell_type": "markdown",
   "id": "5d3d52e0",
   "metadata": {
    "papermill": {
     "duration": 0.044145,
     "end_time": "2023-08-22T12:30:08.061767",
     "exception": false,
     "start_time": "2023-08-22T12:30:08.017622",
     "status": "completed"
    },
    "tags": []
   },
   "source": [
    "### 29.Are more educated people more likely to leave?\n",
    "\n"
   ]
  },
  {
   "cell_type": "code",
   "execution_count": 26,
   "id": "261d538c",
   "metadata": {
    "execution": {
     "iopub.execute_input": "2023-08-22T12:30:08.167606Z",
     "iopub.status.busy": "2023-08-22T12:30:08.167034Z",
     "iopub.status.idle": "2023-08-22T12:30:08.180522Z",
     "shell.execute_reply": "2023-08-22T12:30:08.179341Z"
    },
    "papermill": {
     "duration": 0.073863,
     "end_time": "2023-08-22T12:30:08.182814",
     "exception": false,
     "start_time": "2023-08-22T12:30:08.108951",
     "status": "completed"
    },
    "tags": []
   },
   "outputs": [
    {
     "data": {
      "text/plain": [
       "Education  Attrition\n",
       "1          No           139\n",
       "           Yes           31\n",
       "2          No           238\n",
       "           Yes           44\n",
       "3          No           473\n",
       "           Yes           99\n",
       "4          No           340\n",
       "           Yes           58\n",
       "5          No            43\n",
       "           Yes            5\n",
       "Name: Attrition, dtype: int64"
      ]
     },
     "execution_count": 26,
     "metadata": {},
     "output_type": "execute_result"
    }
   ],
   "source": [
    "df1.groupby(\"Education\")[\"Attrition\"].value_counts()"
   ]
  },
  {
   "cell_type": "code",
   "execution_count": 27,
   "id": "201af5ab",
   "metadata": {
    "execution": {
     "iopub.execute_input": "2023-08-22T12:30:08.276352Z",
     "iopub.status.busy": "2023-08-22T12:30:08.275079Z",
     "iopub.status.idle": "2023-08-22T12:30:08.398295Z",
     "shell.execute_reply": "2023-08-22T12:30:08.397174Z"
    },
    "papermill": {
     "duration": 0.172363,
     "end_time": "2023-08-22T12:30:08.400603",
     "exception": false,
     "start_time": "2023-08-22T12:30:08.228240",
     "status": "completed"
    },
    "tags": []
   },
   "outputs": [
    {
     "data": {
      "text/html": [
       "<div>                            <div id=\"6635141b-6416-49eb-95b4-cc110579c4ab\" class=\"plotly-graph-div\" style=\"height:525px; width:100%;\"></div>            <script type=\"text/javascript\">                require([\"plotly\"], function(Plotly) {                    window.PLOTLYENV=window.PLOTLYENV || {};                                    if (document.getElementById(\"6635141b-6416-49eb-95b4-cc110579c4ab\")) {                    Plotly.newPlot(                        \"6635141b-6416-49eb-95b4-cc110579c4ab\",                        [{\"alignmentgroup\":\"True\",\"hovertemplate\":\"Education=%{marker.color}\\u003cbr\\u003ey=%{y}\\u003cextra\\u003e\\u003c\\u002fextra\\u003e\",\"legendgroup\":\"\",\"marker\":{\"color\":[2,1,2,4,1,2,3,1,3,3,3,2,1,2,3,4,2,2,4,3,2,4,4,2,1,3,1,4,4,4,3,4,2,3,3,2,2,3,4,3,2,4,3,3,2,3,4,2,4,1,2,4,5,2,3,2,5,4,4,4,3,5,2,3,3,3,3,3,3,3,1,3,4,3,3,4,4,4,4,2,1,3,2,3,2,3,1,4,3,2,4,4,2,3,4,4,2,3,4,3,4,1,3,4,2,4,3,3,1,3,4,3,3,1,4,3,3,2,2,2,3,2,4,3,4,3,4,1,1,4,3,3,3,1,1,2,4,4,3,3,3,3,5,3,2,3,1,3,4,1,3,5,2,3,3,1,4,3,4,4,1,3,3,2,3,3,3,3,4,5,3,1,2,3,2,3,3,3,2,2,1,2,2,3,2,3,1,4,1,3,4,3,2,3,2,3,3,2,4,3,1,4,4,2,1,3,3,1,5,4,4,1,3,4,3,3,4,3,3,3,2,4,3,3,4,3,4,1,3,1,3,2,2,4,3,3,2,4,2,3,4,4,2,2,3,4,4,4,2,4,3,4,3,2,2,3,3,2,3,2,3,2,1,3,4,3,3,2,2,3,3,4,3,4,2,4,3,2,3,1,4,1,2,2,2,3,3,4,4,2,4,3,3,4,3,3,3,3,4,3,4,3,2,3,3,4,3,2,4,4,3,3,4,4,1,4,2,4,3,2,3,3,4,4,2,2,2,2,3,5,4,1,4,3,4,2,4,5,3,4,2,2,4,1,4,1,3,1,5,3,1,3,1,3,2,3,4,1,5,4,4,4,2,3,3,4,3,3,2,4,3,3,4,2,4,3,2,3,3,3,4,1,1,3,2,3,3,2,4,4,3,3,2,4,2,3,4,2,5,2,1,3,3,3,2,3,3,2,2,2,3,3,3,4,1,2,2,4,3,3,4,5,2,4,3,4,3,3,2,3,3,4,4,3,1,1,1,1,3,3,3,2,4,1,5,5,2,3,3,1,1,3,3,4,3,5,3,3,3,4,2,3,4,3,3,1,5,4,2,4,3,3,4,4,3,2,2,3,1,3,4,2,4,2,4,4,3,3,4,4,1,5,4,4,3,1,1,4,1,4,4,3,1,5,4,3,3,2,4,3,4,2,4,1,3,3,3,3,4,4,1,1,2,1,3,2,4,3,2,4,2,2,4,4,3,4,4,2,3,4,2,3,3,3,3,5,3,3,3,2,1,3,3,1,3,3,3,4,4,5,5,4,4,1,2,1,2,3,3,4,4,2,3,3,4,4,1,1,4,4,4,3,2,2,3,3,3,4,3,2,3,3,2,3,2,4,4,2,4,3,3,4,3,3,3,3,4,3,1,2,1,3,4,2,2,3,4,3,1,3,1,2,4,4,2,3,2,4,4,2,2,4,1,3,1,3,4,3,1,3,1,2,3,3,4,3,3,3,2,4,3,2,2,4,3,2,4,1,2,4,1,3,3,1,1,4,1,4,3,3,3,3,2,4,3,4,1,2,4,2,4,3,3,2,4,3,3,4,3,3,3,4,4,1,3,4,2,3,3,2,3,2,2,3,4,5,3,4,4,2,3,3,1,4,2,4,3,4,2,2,3,3,1,2,1,4,1,2,3,4,2,3,3,2,1,3,4,2,1,4,3,2,3,3,2,4,1,4,2,1,3,3,4,3,1,2,4,4,2,4,3,3,3,4,1,4,4,3,3,1,4,4,3,5,1,3,3,3,4,4,2,2,3,2,1,4,5,1,3,2,3,3,4,2,1,4,1,3,3,2,3,4,3,4,4,4,4,4,4,3,1,2,3,3,3,1,3,4,3,1,2,4,2,3,3,1,3,3,1,4,4,3,2,3,1,4,1,4,3,4,4,3,1,4,3,2,3,3,4,3,1,4,1,2,3,3,3,4,2,1,4,3,3,3,2,4,4,3,4,2,4,2,3,4,4,4,3,4,5,4,3,2,3,3,3,4,3,5,2,3,4,1,3,3,3,2,3,3,3,2,3,2,2,3,3,3,3,3,5,3,2,1,2,3,1,2,2,3,3,4,3,4,2,3,1,4,4,4,3,3,2,2,3,3,3,3,3,4,4,2,3,3,4,2,3,3,4,3,4,2,4,2,3,3,1,2,4,2,3,3,3,4,3,2,2,1,4,4,3,3,3,2,3,3,1,4,3,1,1,3,3,4,3,4,3,4,4,3,3,1,1,1,2,1,2,3,3,4,1,3,4,3,2,3,3,3,2,1,3,3,4,4,4,4,5,4,3,1,4,4,3,2,2,2,4,1,5,3,5,4,2,3,3,5,3,2,3,3,3,4,1,3,3,3,4,3,3,3,3,1,2,5,3,2,4,3,3,3,4,1,3,2,1,3,3,4,4,3,2,3,3,2,1,1,5,3,4,4,3,3,3,3,1,4,3,3,5,2,3,3,1,3,3,3,2,4,2,2,2,4,4,2,4,4,3,4,3,4,3,4,3,5,3,4,4,4,5,4,3,3,3,4,1,4,3,1,3,3,4,2,3,4,2,3,2,4,3,2,5,4,3,3,5,3,4,4,4,4,5,3,5,3,1,2,4,2,3,4,3,3,2,2,3,3,3,5,5,2,1,3,3,3,3,4,1,3,4,5,3,3,3,1,4,2,5,2,4,3,3,4,3,4,3,3,4,3,2,1,3,4,3,1,2,4,2,4,3,3,2,4,3,4,3,3,3,4,3,3,3,4,4,1,1,3,4,2,3,4,3,2,1,4,4,1,4,3,5,2,1,1,3,3,4,3,4,3,3,3,3,3,3,2,4,3,4,3,2,4,3,3,4,3,3,3,3,3,4,3,4,3,2,1,2,1,4,3,2,4,3,2,2,3,4,3,1,2,2,3,2,3,4,4,3,3,3,1,3,2,2,3,2,3,4,3,3,4,4,3,4,3,4,3,5,3,4,4,4,2,1,4,4,4,2,2,1,3,4,3,1,1,3,3,2,3,3,4,4,3,3,1,4,3,3,3,4,2,2,1,4,2,2,3,4,4,2,2,3,3,2,1,3,3,4,4,2,3,4,4,4,2,4,5,2,3,3,2,2,1,4,3,4,3,2,4,3,4,3,3,4,3,3,3,4,3,4,4,4,2,2,3,4,4,1,4,2,3,3,2,2,3,2,3,2,1,3,2,4,2,4,4,3,1,4,2,4,2,4,4,4,1,3,4,3,2,4,3,1,3,3,3,2,4,4,3,2,4,3,4,3,3,4,2,4,4,3,4,4,4,4,2,4,3,1,3,3,2,1,3,3,3],\"coloraxis\":\"coloraxis\",\"pattern\":{\"shape\":\"\"}},\"name\":\"\",\"offsetgroup\":\"\",\"orientation\":\"v\",\"showlegend\":false,\"text\":[2.0,1.0,2.0,4.0,1.0,2.0,3.0,1.0,3.0,3.0,3.0,2.0,1.0,2.0,3.0,4.0,2.0,2.0,4.0,3.0,2.0,4.0,4.0,2.0,1.0,3.0,1.0,4.0,4.0,4.0,3.0,4.0,2.0,3.0,3.0,2.0,2.0,3.0,4.0,3.0,2.0,4.0,3.0,3.0,2.0,3.0,4.0,2.0,4.0,1.0,2.0,4.0,5.0,2.0,3.0,2.0,5.0,4.0,4.0,4.0,3.0,5.0,2.0,3.0,3.0,3.0,3.0,3.0,3.0,3.0,1.0,3.0,4.0,3.0,3.0,4.0,4.0,4.0,4.0,2.0,1.0,3.0,2.0,3.0,2.0,3.0,1.0,4.0,3.0,2.0,4.0,4.0,2.0,3.0,4.0,4.0,2.0,3.0,4.0,3.0,4.0,1.0,3.0,4.0,2.0,4.0,3.0,3.0,1.0,3.0,4.0,3.0,3.0,1.0,4.0,3.0,3.0,2.0,2.0,2.0,3.0,2.0,4.0,3.0,4.0,3.0,4.0,1.0,1.0,4.0,3.0,3.0,3.0,1.0,1.0,2.0,4.0,4.0,3.0,3.0,3.0,3.0,5.0,3.0,2.0,3.0,1.0,3.0,4.0,1.0,3.0,5.0,2.0,3.0,3.0,1.0,4.0,3.0,4.0,4.0,1.0,3.0,3.0,2.0,3.0,3.0,3.0,3.0,4.0,5.0,3.0,1.0,2.0,3.0,2.0,3.0,3.0,3.0,2.0,2.0,1.0,2.0,2.0,3.0,2.0,3.0,1.0,4.0,1.0,3.0,4.0,3.0,2.0,3.0,2.0,3.0,3.0,2.0,4.0,3.0,1.0,4.0,4.0,2.0,1.0,3.0,3.0,1.0,5.0,4.0,4.0,1.0,3.0,4.0,3.0,3.0,4.0,3.0,3.0,3.0,2.0,4.0,3.0,3.0,4.0,3.0,4.0,1.0,3.0,1.0,3.0,2.0,2.0,4.0,3.0,3.0,2.0,4.0,2.0,3.0,4.0,4.0,2.0,2.0,3.0,4.0,4.0,4.0,2.0,4.0,3.0,4.0,3.0,2.0,2.0,3.0,3.0,2.0,3.0,2.0,3.0,2.0,1.0,3.0,4.0,3.0,3.0,2.0,2.0,3.0,3.0,4.0,3.0,4.0,2.0,4.0,3.0,2.0,3.0,1.0,4.0,1.0,2.0,2.0,2.0,3.0,3.0,4.0,4.0,2.0,4.0,3.0,3.0,4.0,3.0,3.0,3.0,3.0,4.0,3.0,4.0,3.0,2.0,3.0,3.0,4.0,3.0,2.0,4.0,4.0,3.0,3.0,4.0,4.0,1.0,4.0,2.0,4.0,3.0,2.0,3.0,3.0,4.0,4.0,2.0,2.0,2.0,2.0,3.0,5.0,4.0,1.0,4.0,3.0,4.0,2.0,4.0,5.0,3.0,4.0,2.0,2.0,4.0,1.0,4.0,1.0,3.0,1.0,5.0,3.0,1.0,3.0,1.0,3.0,2.0,3.0,4.0,1.0,5.0,4.0,4.0,4.0,2.0,3.0,3.0,4.0,3.0,3.0,2.0,4.0,3.0,3.0,4.0,2.0,4.0,3.0,2.0,3.0,3.0,3.0,4.0,1.0,1.0,3.0,2.0,3.0,3.0,2.0,4.0,4.0,3.0,3.0,2.0,4.0,2.0,3.0,4.0,2.0,5.0,2.0,1.0,3.0,3.0,3.0,2.0,3.0,3.0,2.0,2.0,2.0,3.0,3.0,3.0,4.0,1.0,2.0,2.0,4.0,3.0,3.0,4.0,5.0,2.0,4.0,3.0,4.0,3.0,3.0,2.0,3.0,3.0,4.0,4.0,3.0,1.0,1.0,1.0,1.0,3.0,3.0,3.0,2.0,4.0,1.0,5.0,5.0,2.0,3.0,3.0,1.0,1.0,3.0,3.0,4.0,3.0,5.0,3.0,3.0,3.0,4.0,2.0,3.0,4.0,3.0,3.0,1.0,5.0,4.0,2.0,4.0,3.0,3.0,4.0,4.0,3.0,2.0,2.0,3.0,1.0,3.0,4.0,2.0,4.0,2.0,4.0,4.0,3.0,3.0,4.0,4.0,1.0,5.0,4.0,4.0,3.0,1.0,1.0,4.0,1.0,4.0,4.0,3.0,1.0,5.0,4.0,3.0,3.0,2.0,4.0,3.0,4.0,2.0,4.0,1.0,3.0,3.0,3.0,3.0,4.0,4.0,1.0,1.0,2.0,1.0,3.0,2.0,4.0,3.0,2.0,4.0,2.0,2.0,4.0,4.0,3.0,4.0,4.0,2.0,3.0,4.0,2.0,3.0,3.0,3.0,3.0,5.0,3.0,3.0,3.0,2.0,1.0,3.0,3.0,1.0,3.0,3.0,3.0,4.0,4.0,5.0,5.0,4.0,4.0,1.0,2.0,1.0,2.0,3.0,3.0,4.0,4.0,2.0,3.0,3.0,4.0,4.0,1.0,1.0,4.0,4.0,4.0,3.0,2.0,2.0,3.0,3.0,3.0,4.0,3.0,2.0,3.0,3.0,2.0,3.0,2.0,4.0,4.0,2.0,4.0,3.0,3.0,4.0,3.0,3.0,3.0,3.0,4.0,3.0,1.0,2.0,1.0,3.0,4.0,2.0,2.0,3.0,4.0,3.0,1.0,3.0,1.0,2.0,4.0,4.0,2.0,3.0,2.0,4.0,4.0,2.0,2.0,4.0,1.0,3.0,1.0,3.0,4.0,3.0,1.0,3.0,1.0,2.0,3.0,3.0,4.0,3.0,3.0,3.0,2.0,4.0,3.0,2.0,2.0,4.0,3.0,2.0,4.0,1.0,2.0,4.0,1.0,3.0,3.0,1.0,1.0,4.0,1.0,4.0,3.0,3.0,3.0,3.0,2.0,4.0,3.0,4.0,1.0,2.0,4.0,2.0,4.0,3.0,3.0,2.0,4.0,3.0,3.0,4.0,3.0,3.0,3.0,4.0,4.0,1.0,3.0,4.0,2.0,3.0,3.0,2.0,3.0,2.0,2.0,3.0,4.0,5.0,3.0,4.0,4.0,2.0,3.0,3.0,1.0,4.0,2.0,4.0,3.0,4.0,2.0,2.0,3.0,3.0,1.0,2.0,1.0,4.0,1.0,2.0,3.0,4.0,2.0,3.0,3.0,2.0,1.0,3.0,4.0,2.0,1.0,4.0,3.0,2.0,3.0,3.0,2.0,4.0,1.0,4.0,2.0,1.0,3.0,3.0,4.0,3.0,1.0,2.0,4.0,4.0,2.0,4.0,3.0,3.0,3.0,4.0,1.0,4.0,4.0,3.0,3.0,1.0,4.0,4.0,3.0,5.0,1.0,3.0,3.0,3.0,4.0,4.0,2.0,2.0,3.0,2.0,1.0,4.0,5.0,1.0,3.0,2.0,3.0,3.0,4.0,2.0,1.0,4.0,1.0,3.0,3.0,2.0,3.0,4.0,3.0,4.0,4.0,4.0,4.0,4.0,4.0,3.0,1.0,2.0,3.0,3.0,3.0,1.0,3.0,4.0,3.0,1.0,2.0,4.0,2.0,3.0,3.0,1.0,3.0,3.0,1.0,4.0,4.0,3.0,2.0,3.0,1.0,4.0,1.0,4.0,3.0,4.0,4.0,3.0,1.0,4.0,3.0,2.0,3.0,3.0,4.0,3.0,1.0,4.0,1.0,2.0,3.0,3.0,3.0,4.0,2.0,1.0,4.0,3.0,3.0,3.0,2.0,4.0,4.0,3.0,4.0,2.0,4.0,2.0,3.0,4.0,4.0,4.0,3.0,4.0,5.0,4.0,3.0,2.0,3.0,3.0,3.0,4.0,3.0,5.0,2.0,3.0,4.0,1.0,3.0,3.0,3.0,2.0,3.0,3.0,3.0,2.0,3.0,2.0,2.0,3.0,3.0,3.0,3.0,3.0,5.0,3.0,2.0,1.0,2.0,3.0,1.0,2.0,2.0,3.0,3.0,4.0,3.0,4.0,2.0,3.0,1.0,4.0,4.0,4.0,3.0,3.0,2.0,2.0,3.0,3.0,3.0,3.0,3.0,4.0,4.0,2.0,3.0,3.0,4.0,2.0,3.0,3.0,4.0,3.0,4.0,2.0,4.0,2.0,3.0,3.0,1.0,2.0,4.0,2.0,3.0,3.0,3.0,4.0,3.0,2.0,2.0,1.0,4.0,4.0,3.0,3.0,3.0,2.0,3.0,3.0,1.0,4.0,3.0,1.0,1.0,3.0,3.0,4.0,3.0,4.0,3.0,4.0,4.0,3.0,3.0,1.0,1.0,1.0,2.0,1.0,2.0,3.0,3.0,4.0,1.0,3.0,4.0,3.0,2.0,3.0,3.0,3.0,2.0,1.0,3.0,3.0,4.0,4.0,4.0,4.0,5.0,4.0,3.0,1.0,4.0,4.0,3.0,2.0,2.0,2.0,4.0,1.0,5.0,3.0,5.0,4.0,2.0,3.0,3.0,5.0,3.0,2.0,3.0,3.0,3.0,4.0,1.0,3.0,3.0,3.0,4.0,3.0,3.0,3.0,3.0,1.0,2.0,5.0,3.0,2.0,4.0,3.0,3.0,3.0,4.0,1.0,3.0,2.0,1.0,3.0,3.0,4.0,4.0,3.0,2.0,3.0,3.0,2.0,1.0,1.0,5.0,3.0,4.0,4.0,3.0,3.0,3.0,3.0,1.0,4.0,3.0,3.0,5.0,2.0,3.0,3.0,1.0,3.0,3.0,3.0,2.0,4.0,2.0,2.0,2.0,4.0,4.0,2.0,4.0,4.0,3.0,4.0,3.0,4.0,3.0,4.0,3.0,5.0,3.0,4.0,4.0,4.0,5.0,4.0,3.0,3.0,3.0,4.0,1.0,4.0,3.0,1.0,3.0,3.0,4.0,2.0,3.0,4.0,2.0,3.0,2.0,4.0,3.0,2.0,5.0,4.0,3.0,3.0,5.0,3.0,4.0,4.0,4.0,4.0,5.0,3.0,5.0,3.0,1.0,2.0,4.0,2.0,3.0,4.0,3.0,3.0,2.0,2.0,3.0,3.0,3.0,5.0,5.0,2.0,1.0,3.0,3.0,3.0,3.0,4.0,1.0,3.0,4.0,5.0,3.0,3.0,3.0,1.0,4.0,2.0,5.0,2.0,4.0,3.0,3.0,4.0,3.0,4.0,3.0,3.0,4.0,3.0,2.0,1.0,3.0,4.0,3.0,1.0,2.0,4.0,2.0,4.0,3.0,3.0,2.0,4.0,3.0,4.0,3.0,3.0,3.0,4.0,3.0,3.0,3.0,4.0,4.0,1.0,1.0,3.0,4.0,2.0,3.0,4.0,3.0,2.0,1.0,4.0,4.0,1.0,4.0,3.0,5.0,2.0,1.0,1.0,3.0,3.0,4.0,3.0,4.0,3.0,3.0,3.0,3.0,3.0,3.0,2.0,4.0,3.0,4.0,3.0,2.0,4.0,3.0,3.0,4.0,3.0,3.0,3.0,3.0,3.0,4.0,3.0,4.0,3.0,2.0,1.0,2.0,1.0,4.0,3.0,2.0,4.0,3.0,2.0,2.0,3.0,4.0,3.0,1.0,2.0,2.0,3.0,2.0,3.0,4.0,4.0,3.0,3.0,3.0,1.0,3.0,2.0,2.0,3.0,2.0,3.0,4.0,3.0,3.0,4.0,4.0,3.0,4.0,3.0,4.0,3.0,5.0,3.0,4.0,4.0,4.0,2.0,1.0,4.0,4.0,4.0,2.0,2.0,1.0,3.0,4.0,3.0,1.0,1.0,3.0,3.0,2.0,3.0,3.0,4.0,4.0,3.0,3.0,1.0,4.0,3.0,3.0,3.0,4.0,2.0,2.0,1.0,4.0,2.0,2.0,3.0,4.0,4.0,2.0,2.0,3.0,3.0,2.0,1.0,3.0,3.0,4.0,4.0,2.0,3.0,4.0,4.0,4.0,2.0,4.0,5.0,2.0,3.0,3.0,2.0,2.0,1.0,4.0,3.0,4.0,3.0,2.0,4.0,3.0,4.0,3.0,3.0,4.0,3.0,3.0,3.0,4.0,3.0,4.0,4.0,4.0,2.0,2.0,3.0,4.0,4.0,1.0,4.0,2.0,3.0,3.0,2.0,2.0,3.0,2.0,3.0,2.0,1.0,3.0,2.0,4.0,2.0,4.0,4.0,3.0,1.0,4.0,2.0,4.0,2.0,4.0,4.0,4.0,1.0,3.0,4.0,3.0,2.0,4.0,3.0,1.0,3.0,3.0,3.0,2.0,4.0,4.0,3.0,2.0,4.0,3.0,4.0,3.0,3.0,4.0,2.0,4.0,4.0,3.0,4.0,4.0,4.0,4.0,2.0,4.0,3.0,1.0,3.0,3.0,2.0,1.0,3.0,3.0,3.0],\"textposition\":\"auto\",\"x\":[2,1,2,4,1,2,3,1,3,3,3,2,1,2,3,4,2,2,4,3,2,4,4,2,1,3,1,4,4,4,3,4,2,3,3,2,2,3,4,3,2,4,3,3,2,3,4,2,4,1,2,4,5,2,3,2,5,4,4,4,3,5,2,3,3,3,3,3,3,3,1,3,4,3,3,4,4,4,4,2,1,3,2,3,2,3,1,4,3,2,4,4,2,3,4,4,2,3,4,3,4,1,3,4,2,4,3,3,1,3,4,3,3,1,4,3,3,2,2,2,3,2,4,3,4,3,4,1,1,4,3,3,3,1,1,2,4,4,3,3,3,3,5,3,2,3,1,3,4,1,3,5,2,3,3,1,4,3,4,4,1,3,3,2,3,3,3,3,4,5,3,1,2,3,2,3,3,3,2,2,1,2,2,3,2,3,1,4,1,3,4,3,2,3,2,3,3,2,4,3,1,4,4,2,1,3,3,1,5,4,4,1,3,4,3,3,4,3,3,3,2,4,3,3,4,3,4,1,3,1,3,2,2,4,3,3,2,4,2,3,4,4,2,2,3,4,4,4,2,4,3,4,3,2,2,3,3,2,3,2,3,2,1,3,4,3,3,2,2,3,3,4,3,4,2,4,3,2,3,1,4,1,2,2,2,3,3,4,4,2,4,3,3,4,3,3,3,3,4,3,4,3,2,3,3,4,3,2,4,4,3,3,4,4,1,4,2,4,3,2,3,3,4,4,2,2,2,2,3,5,4,1,4,3,4,2,4,5,3,4,2,2,4,1,4,1,3,1,5,3,1,3,1,3,2,3,4,1,5,4,4,4,2,3,3,4,3,3,2,4,3,3,4,2,4,3,2,3,3,3,4,1,1,3,2,3,3,2,4,4,3,3,2,4,2,3,4,2,5,2,1,3,3,3,2,3,3,2,2,2,3,3,3,4,1,2,2,4,3,3,4,5,2,4,3,4,3,3,2,3,3,4,4,3,1,1,1,1,3,3,3,2,4,1,5,5,2,3,3,1,1,3,3,4,3,5,3,3,3,4,2,3,4,3,3,1,5,4,2,4,3,3,4,4,3,2,2,3,1,3,4,2,4,2,4,4,3,3,4,4,1,5,4,4,3,1,1,4,1,4,4,3,1,5,4,3,3,2,4,3,4,2,4,1,3,3,3,3,4,4,1,1,2,1,3,2,4,3,2,4,2,2,4,4,3,4,4,2,3,4,2,3,3,3,3,5,3,3,3,2,1,3,3,1,3,3,3,4,4,5,5,4,4,1,2,1,2,3,3,4,4,2,3,3,4,4,1,1,4,4,4,3,2,2,3,3,3,4,3,2,3,3,2,3,2,4,4,2,4,3,3,4,3,3,3,3,4,3,1,2,1,3,4,2,2,3,4,3,1,3,1,2,4,4,2,3,2,4,4,2,2,4,1,3,1,3,4,3,1,3,1,2,3,3,4,3,3,3,2,4,3,2,2,4,3,2,4,1,2,4,1,3,3,1,1,4,1,4,3,3,3,3,2,4,3,4,1,2,4,2,4,3,3,2,4,3,3,4,3,3,3,4,4,1,3,4,2,3,3,2,3,2,2,3,4,5,3,4,4,2,3,3,1,4,2,4,3,4,2,2,3,3,1,2,1,4,1,2,3,4,2,3,3,2,1,3,4,2,1,4,3,2,3,3,2,4,1,4,2,1,3,3,4,3,1,2,4,4,2,4,3,3,3,4,1,4,4,3,3,1,4,4,3,5,1,3,3,3,4,4,2,2,3,2,1,4,5,1,3,2,3,3,4,2,1,4,1,3,3,2,3,4,3,4,4,4,4,4,4,3,1,2,3,3,3,1,3,4,3,1,2,4,2,3,3,1,3,3,1,4,4,3,2,3,1,4,1,4,3,4,4,3,1,4,3,2,3,3,4,3,1,4,1,2,3,3,3,4,2,1,4,3,3,3,2,4,4,3,4,2,4,2,3,4,4,4,3,4,5,4,3,2,3,3,3,4,3,5,2,3,4,1,3,3,3,2,3,3,3,2,3,2,2,3,3,3,3,3,5,3,2,1,2,3,1,2,2,3,3,4,3,4,2,3,1,4,4,4,3,3,2,2,3,3,3,3,3,4,4,2,3,3,4,2,3,3,4,3,4,2,4,2,3,3,1,2,4,2,3,3,3,4,3,2,2,1,4,4,3,3,3,2,3,3,1,4,3,1,1,3,3,4,3,4,3,4,4,3,3,1,1,1,2,1,2,3,3,4,1,3,4,3,2,3,3,3,2,1,3,3,4,4,4,4,5,4,3,1,4,4,3,2,2,2,4,1,5,3,5,4,2,3,3,5,3,2,3,3,3,4,1,3,3,3,4,3,3,3,3,1,2,5,3,2,4,3,3,3,4,1,3,2,1,3,3,4,4,3,2,3,3,2,1,1,5,3,4,4,3,3,3,3,1,4,3,3,5,2,3,3,1,3,3,3,2,4,2,2,2,4,4,2,4,4,3,4,3,4,3,4,3,5,3,4,4,4,5,4,3,3,3,4,1,4,3,1,3,3,4,2,3,4,2,3,2,4,3,2,5,4,3,3,5,3,4,4,4,4,5,3,5,3,1,2,4,2,3,4,3,3,2,2,3,3,3,5,5,2,1,3,3,3,3,4,1,3,4,5,3,3,3,1,4,2,5,2,4,3,3,4,3,4,3,3,4,3,2,1,3,4,3,1,2,4,2,4,3,3,2,4,3,4,3,3,3,4,3,3,3,4,4,1,1,3,4,2,3,4,3,2,1,4,4,1,4,3,5,2,1,1,3,3,4,3,4,3,3,3,3,3,3,2,4,3,4,3,2,4,3,3,4,3,3,3,3,3,4,3,4,3,2,1,2,1,4,3,2,4,3,2,2,3,4,3,1,2,2,3,2,3,4,4,3,3,3,1,3,2,2,3,2,3,4,3,3,4,4,3,4,3,4,3,5,3,4,4,4,2,1,4,4,4,2,2,1,3,4,3,1,1,3,3,2,3,3,4,4,3,3,1,4,3,3,3,4,2,2,1,4,2,2,3,4,4,2,2,3,3,2,1,3,3,4,4,2,3,4,4,4,2,4,5,2,3,3,2,2,1,4,3,4,3,2,4,3,4,3,3,4,3,3,3,4,3,4,4,4,2,2,3,4,4,1,4,2,3,3,2,2,3,2,3,2,1,3,2,4,2,4,4,3,1,4,2,4,2,4,4,4,1,3,4,3,2,4,3,1,3,3,3,2,4,4,3,2,4,3,4,3,3,4,2,4,4,3,4,4,4,4,2,4,3,1,3,3,2,1,3,3,3],\"xaxis\":\"x\",\"y\":[1,0,1,0,0,0,0,0,0,0,0,0,0,0,1,0,0,0,0,0,0,1,0,0,1,0,1,0,0,0,0,0,0,1,1,0,1,0,0,0,0,0,1,0,0,1,0,0,0,0,1,1,0,0,0,0,0,0,0,0,0,0,0,0,0,0,0,0,0,1,0,0,0,0,0,0,0,0,0,0,0,0,0,0,0,0,0,0,0,1,0,0,0,0,0,0,0,0,0,0,1,0,1,0,0,0,0,1,0,0,0,1,0,0,0,0,0,0,0,0,0,0,1,0,1,0,1,1,0,0,0,0,1,0,0,0,1,0,0,0,1,0,0,0,0,0,0,0,0,0,0,0,0,0,0,0,0,0,0,0,0,0,0,0,0,0,0,0,0,0,0,1,0,0,0,0,0,1,0,0,0,0,1,0,0,0,0,0,0,0,0,0,1,0,0,0,0,0,0,0,0,0,0,0,1,1,0,0,0,0,1,0,0,0,1,0,1,1,0,0,0,0,0,0,0,0,0,0,0,1,0,0,0,0,1,0,1,0,0,1,0,0,0,0,0,0,0,0,0,0,1,0,0,0,0,0,0,0,0,1,0,0,0,0,1,0,0,0,0,0,0,1,0,0,0,0,0,0,0,0,0,0,0,0,0,0,1,0,1,0,0,0,0,1,0,0,1,0,0,0,0,0,0,0,0,0,0,0,0,0,0,0,0,0,0,0,0,1,0,0,0,0,0,1,0,0,0,1,0,0,0,0,0,0,0,0,1,0,0,0,0,0,0,0,0,0,0,0,0,0,0,0,0,0,0,0,0,1,0,0,0,0,0,1,0,0,1,0,1,0,1,0,0,0,0,0,0,0,1,0,0,0,1,0,0,1,0,0,0,0,0,0,0,0,0,0,0,0,0,0,0,0,0,0,0,1,0,0,0,0,0,0,0,0,1,1,0,0,0,0,0,1,1,0,0,0,0,0,0,0,0,0,0,0,0,1,1,0,0,1,1,0,0,1,0,0,0,0,0,0,0,0,0,1,0,0,0,1,0,0,0,0,0,1,0,0,0,0,0,1,0,0,0,0,0,0,0,0,0,1,1,0,1,0,0,0,0,0,0,0,0,0,0,0,0,1,0,0,0,0,0,0,0,0,1,0,0,0,0,0,0,0,0,1,1,0,0,0,0,0,0,0,0,0,0,1,0,0,1,0,0,0,0,0,0,0,0,0,0,0,1,0,0,0,0,0,0,1,0,0,0,0,0,0,0,0,0,0,0,0,0,0,1,0,0,0,1,0,1,0,0,0,0,1,0,0,0,0,0,0,0,0,0,0,0,1,0,0,0,1,0,1,0,0,0,1,0,0,1,0,0,0,0,0,0,0,0,1,1,0,0,0,0,0,1,0,0,0,0,0,0,0,0,0,0,0,0,0,0,0,0,0,0,0,0,0,1,0,0,0,0,0,0,0,0,1,0,0,0,0,0,0,0,0,0,0,1,0,0,0,1,0,1,1,0,0,1,1,0,1,0,0,0,0,0,0,0,0,0,0,0,0,0,1,0,0,0,0,1,1,0,0,0,1,0,1,0,0,0,0,1,0,0,0,0,0,1,0,0,1,0,1,0,0,0,0,0,0,0,0,1,0,0,0,0,1,0,0,0,0,0,1,1,0,0,0,0,0,0,0,0,0,0,0,1,0,0,0,1,1,0,0,1,0,0,0,0,0,0,0,0,1,1,0,0,0,0,0,0,0,0,0,0,0,0,0,1,1,0,1,1,0,0,0,0,0,0,0,0,1,0,1,1,0,0,0,1,1,1,0,1,1,0,0,0,0,0,0,0,0,0,0,0,1,0,0,0,0,0,0,0,0,0,0,0,0,0,0,1,1,0,1,0,0,0,0,1,0,1,0,0,0,1,0,0,0,0,0,0,1,0,0,0,0,0,0,0,1,0,0,1,0,0,0,1,0,0,0,0,0,0,1,0,0,0,0,0,0,0,0,0,0,0,0,0,0,0,0,0,0,0,0,1,0,0,0,0,0,0,0,0,0,0,0,0,0,0,0,0,0,0,1,0,1,0,1,0,0,0,0,0,0,0,0,0,0,0,0,1,0,0,0,1,0,0,0,0,0,0,1,1,0,0,0,0,0,1,1,0,0,0,0,1,1,0,0,0,0,0,0,0,0,0,0,0,0,1,0,0,0,0,0,0,0,0,1,0,0,0,0,1,1,0,0,0,1,0,0,0,0,0,0,0,0,0,0,0,1,0,0,0,0,0,0,0,0,1,1,0,0,0,0,1,0,0,0,1,0,0,0,0,1,0,0,0,0,0,0,0,0,0,1,1,1,0,0,1,0,0,1,0,0,0,0,0,0,0,0,0,0,0,0,0,0,0,0,1,1,1,0,1,0,0,0,0,0,0,0,1,0,0,0,0,0,0,0,0,1,0,0,0,0,0,1,0,1,0,0,0,0,0,0,0,0,0,0,0,0,0,0,0,0,0,0,0,0,1,0,0,0,1,1,1,0,0,0,0,0,0,0,0,0,0,0,0,0,0,0,0,0,0,0,0,0,0,0,1,0,0,0,0,0,0,0,0,0,0,0,0,0,0,0,0,1,0,0,0,0,0,0,0,0,1,0,0,0,0,1,0,0,0,1,0,0,0,0,0,0,0,0,0,0,0,0,0,0,1,0,0,0,0,0,0,0,0,0,0,0,0,0,0,1,0,0,1,1,0,0,0,0,0,0,0,1,0,0,0,0,0,0,0,0,1,1,0,0,0,0,0,0,0,0,0,0,0,0,1,1,0,0,0,0,0,0,0,0,1,0,0,1,0,0,0,0,0,1,0,1,0,0,0,0,1,0,0,0,0,0,0,0,0,1,0,1,0,0,0,0,0,1,0,1,0,0,0,0,0,0,0,0,1,1,0,0,0,0,0,1,1,0,0,0,0,0,0,0,0,0,0,0,0,0,1,1,0,0,0,0,0,0,0,0,0,0,0,0,1,0,0,0,0,0,1,1,0,0,0,0,1,1,0,0,0,0,0,0,0,0,0,0,0,0,0,1,1,0,0,0,0,0,0,0,0,0,0,1,0,0,0,1,0,0,0,0,0,1,0,0,0,1,0,0,0,0,0,0,0,0,0,0,1,0,0,0,0,1,1,0,0,0,0,0,0,0,0,0,0,0,0,0,0,0,0,0,0,0,0,0,0,0,0,0,0,0,0,0,0,0,0,0,0,0,0,0,0,0,0,0,1,0,0,0,1,0,1,0,0,0,0,0,0,0,1,0,0,0,0,0,0,0,0,1,0,0,0,0,0,0,0,0],\"yaxis\":\"y\",\"type\":\"bar\"}],                        {\"template\":{\"data\":{\"histogram2dcontour\":[{\"type\":\"histogram2dcontour\",\"colorbar\":{\"outlinewidth\":0,\"ticks\":\"\"},\"colorscale\":[[0.0,\"#0d0887\"],[0.1111111111111111,\"#46039f\"],[0.2222222222222222,\"#7201a8\"],[0.3333333333333333,\"#9c179e\"],[0.4444444444444444,\"#bd3786\"],[0.5555555555555556,\"#d8576b\"],[0.6666666666666666,\"#ed7953\"],[0.7777777777777778,\"#fb9f3a\"],[0.8888888888888888,\"#fdca26\"],[1.0,\"#f0f921\"]]}],\"choropleth\":[{\"type\":\"choropleth\",\"colorbar\":{\"outlinewidth\":0,\"ticks\":\"\"}}],\"histogram2d\":[{\"type\":\"histogram2d\",\"colorbar\":{\"outlinewidth\":0,\"ticks\":\"\"},\"colorscale\":[[0.0,\"#0d0887\"],[0.1111111111111111,\"#46039f\"],[0.2222222222222222,\"#7201a8\"],[0.3333333333333333,\"#9c179e\"],[0.4444444444444444,\"#bd3786\"],[0.5555555555555556,\"#d8576b\"],[0.6666666666666666,\"#ed7953\"],[0.7777777777777778,\"#fb9f3a\"],[0.8888888888888888,\"#fdca26\"],[1.0,\"#f0f921\"]]}],\"heatmap\":[{\"type\":\"heatmap\",\"colorbar\":{\"outlinewidth\":0,\"ticks\":\"\"},\"colorscale\":[[0.0,\"#0d0887\"],[0.1111111111111111,\"#46039f\"],[0.2222222222222222,\"#7201a8\"],[0.3333333333333333,\"#9c179e\"],[0.4444444444444444,\"#bd3786\"],[0.5555555555555556,\"#d8576b\"],[0.6666666666666666,\"#ed7953\"],[0.7777777777777778,\"#fb9f3a\"],[0.8888888888888888,\"#fdca26\"],[1.0,\"#f0f921\"]]}],\"heatmapgl\":[{\"type\":\"heatmapgl\",\"colorbar\":{\"outlinewidth\":0,\"ticks\":\"\"},\"colorscale\":[[0.0,\"#0d0887\"],[0.1111111111111111,\"#46039f\"],[0.2222222222222222,\"#7201a8\"],[0.3333333333333333,\"#9c179e\"],[0.4444444444444444,\"#bd3786\"],[0.5555555555555556,\"#d8576b\"],[0.6666666666666666,\"#ed7953\"],[0.7777777777777778,\"#fb9f3a\"],[0.8888888888888888,\"#fdca26\"],[1.0,\"#f0f921\"]]}],\"contourcarpet\":[{\"type\":\"contourcarpet\",\"colorbar\":{\"outlinewidth\":0,\"ticks\":\"\"}}],\"contour\":[{\"type\":\"contour\",\"colorbar\":{\"outlinewidth\":0,\"ticks\":\"\"},\"colorscale\":[[0.0,\"#0d0887\"],[0.1111111111111111,\"#46039f\"],[0.2222222222222222,\"#7201a8\"],[0.3333333333333333,\"#9c179e\"],[0.4444444444444444,\"#bd3786\"],[0.5555555555555556,\"#d8576b\"],[0.6666666666666666,\"#ed7953\"],[0.7777777777777778,\"#fb9f3a\"],[0.8888888888888888,\"#fdca26\"],[1.0,\"#f0f921\"]]}],\"surface\":[{\"type\":\"surface\",\"colorbar\":{\"outlinewidth\":0,\"ticks\":\"\"},\"colorscale\":[[0.0,\"#0d0887\"],[0.1111111111111111,\"#46039f\"],[0.2222222222222222,\"#7201a8\"],[0.3333333333333333,\"#9c179e\"],[0.4444444444444444,\"#bd3786\"],[0.5555555555555556,\"#d8576b\"],[0.6666666666666666,\"#ed7953\"],[0.7777777777777778,\"#fb9f3a\"],[0.8888888888888888,\"#fdca26\"],[1.0,\"#f0f921\"]]}],\"mesh3d\":[{\"type\":\"mesh3d\",\"colorbar\":{\"outlinewidth\":0,\"ticks\":\"\"}}],\"scatter\":[{\"fillpattern\":{\"fillmode\":\"overlay\",\"size\":10,\"solidity\":0.2},\"type\":\"scatter\"}],\"parcoords\":[{\"type\":\"parcoords\",\"line\":{\"colorbar\":{\"outlinewidth\":0,\"ticks\":\"\"}}}],\"scatterpolargl\":[{\"type\":\"scatterpolargl\",\"marker\":{\"colorbar\":{\"outlinewidth\":0,\"ticks\":\"\"}}}],\"bar\":[{\"error_x\":{\"color\":\"#2a3f5f\"},\"error_y\":{\"color\":\"#2a3f5f\"},\"marker\":{\"line\":{\"color\":\"#E5ECF6\",\"width\":0.5},\"pattern\":{\"fillmode\":\"overlay\",\"size\":10,\"solidity\":0.2}},\"type\":\"bar\"}],\"scattergeo\":[{\"type\":\"scattergeo\",\"marker\":{\"colorbar\":{\"outlinewidth\":0,\"ticks\":\"\"}}}],\"scatterpolar\":[{\"type\":\"scatterpolar\",\"marker\":{\"colorbar\":{\"outlinewidth\":0,\"ticks\":\"\"}}}],\"histogram\":[{\"marker\":{\"pattern\":{\"fillmode\":\"overlay\",\"size\":10,\"solidity\":0.2}},\"type\":\"histogram\"}],\"scattergl\":[{\"type\":\"scattergl\",\"marker\":{\"colorbar\":{\"outlinewidth\":0,\"ticks\":\"\"}}}],\"scatter3d\":[{\"type\":\"scatter3d\",\"line\":{\"colorbar\":{\"outlinewidth\":0,\"ticks\":\"\"}},\"marker\":{\"colorbar\":{\"outlinewidth\":0,\"ticks\":\"\"}}}],\"scattermapbox\":[{\"type\":\"scattermapbox\",\"marker\":{\"colorbar\":{\"outlinewidth\":0,\"ticks\":\"\"}}}],\"scatterternary\":[{\"type\":\"scatterternary\",\"marker\":{\"colorbar\":{\"outlinewidth\":0,\"ticks\":\"\"}}}],\"scattercarpet\":[{\"type\":\"scattercarpet\",\"marker\":{\"colorbar\":{\"outlinewidth\":0,\"ticks\":\"\"}}}],\"carpet\":[{\"aaxis\":{\"endlinecolor\":\"#2a3f5f\",\"gridcolor\":\"white\",\"linecolor\":\"white\",\"minorgridcolor\":\"white\",\"startlinecolor\":\"#2a3f5f\"},\"baxis\":{\"endlinecolor\":\"#2a3f5f\",\"gridcolor\":\"white\",\"linecolor\":\"white\",\"minorgridcolor\":\"white\",\"startlinecolor\":\"#2a3f5f\"},\"type\":\"carpet\"}],\"table\":[{\"cells\":{\"fill\":{\"color\":\"#EBF0F8\"},\"line\":{\"color\":\"white\"}},\"header\":{\"fill\":{\"color\":\"#C8D4E3\"},\"line\":{\"color\":\"white\"}},\"type\":\"table\"}],\"barpolar\":[{\"marker\":{\"line\":{\"color\":\"#E5ECF6\",\"width\":0.5},\"pattern\":{\"fillmode\":\"overlay\",\"size\":10,\"solidity\":0.2}},\"type\":\"barpolar\"}],\"pie\":[{\"automargin\":true,\"type\":\"pie\"}]},\"layout\":{\"autotypenumbers\":\"strict\",\"colorway\":[\"#636efa\",\"#EF553B\",\"#00cc96\",\"#ab63fa\",\"#FFA15A\",\"#19d3f3\",\"#FF6692\",\"#B6E880\",\"#FF97FF\",\"#FECB52\"],\"font\":{\"color\":\"#2a3f5f\"},\"hovermode\":\"closest\",\"hoverlabel\":{\"align\":\"left\"},\"paper_bgcolor\":\"white\",\"plot_bgcolor\":\"#E5ECF6\",\"polar\":{\"bgcolor\":\"#E5ECF6\",\"angularaxis\":{\"gridcolor\":\"white\",\"linecolor\":\"white\",\"ticks\":\"\"},\"radialaxis\":{\"gridcolor\":\"white\",\"linecolor\":\"white\",\"ticks\":\"\"}},\"ternary\":{\"bgcolor\":\"#E5ECF6\",\"aaxis\":{\"gridcolor\":\"white\",\"linecolor\":\"white\",\"ticks\":\"\"},\"baxis\":{\"gridcolor\":\"white\",\"linecolor\":\"white\",\"ticks\":\"\"},\"caxis\":{\"gridcolor\":\"white\",\"linecolor\":\"white\",\"ticks\":\"\"}},\"coloraxis\":{\"colorbar\":{\"outlinewidth\":0,\"ticks\":\"\"}},\"colorscale\":{\"sequential\":[[0.0,\"#0d0887\"],[0.1111111111111111,\"#46039f\"],[0.2222222222222222,\"#7201a8\"],[0.3333333333333333,\"#9c179e\"],[0.4444444444444444,\"#bd3786\"],[0.5555555555555556,\"#d8576b\"],[0.6666666666666666,\"#ed7953\"],[0.7777777777777778,\"#fb9f3a\"],[0.8888888888888888,\"#fdca26\"],[1.0,\"#f0f921\"]],\"sequentialminus\":[[0.0,\"#0d0887\"],[0.1111111111111111,\"#46039f\"],[0.2222222222222222,\"#7201a8\"],[0.3333333333333333,\"#9c179e\"],[0.4444444444444444,\"#bd3786\"],[0.5555555555555556,\"#d8576b\"],[0.6666666666666666,\"#ed7953\"],[0.7777777777777778,\"#fb9f3a\"],[0.8888888888888888,\"#fdca26\"],[1.0,\"#f0f921\"]],\"diverging\":[[0,\"#8e0152\"],[0.1,\"#c51b7d\"],[0.2,\"#de77ae\"],[0.3,\"#f1b6da\"],[0.4,\"#fde0ef\"],[0.5,\"#f7f7f7\"],[0.6,\"#e6f5d0\"],[0.7,\"#b8e186\"],[0.8,\"#7fbc41\"],[0.9,\"#4d9221\"],[1,\"#276419\"]]},\"xaxis\":{\"gridcolor\":\"white\",\"linecolor\":\"white\",\"ticks\":\"\",\"title\":{\"standoff\":15},\"zerolinecolor\":\"white\",\"automargin\":true,\"zerolinewidth\":2},\"yaxis\":{\"gridcolor\":\"white\",\"linecolor\":\"white\",\"ticks\":\"\",\"title\":{\"standoff\":15},\"zerolinecolor\":\"white\",\"automargin\":true,\"zerolinewidth\":2},\"scene\":{\"xaxis\":{\"backgroundcolor\":\"#E5ECF6\",\"gridcolor\":\"white\",\"linecolor\":\"white\",\"showbackground\":true,\"ticks\":\"\",\"zerolinecolor\":\"white\",\"gridwidth\":2},\"yaxis\":{\"backgroundcolor\":\"#E5ECF6\",\"gridcolor\":\"white\",\"linecolor\":\"white\",\"showbackground\":true,\"ticks\":\"\",\"zerolinecolor\":\"white\",\"gridwidth\":2},\"zaxis\":{\"backgroundcolor\":\"#E5ECF6\",\"gridcolor\":\"white\",\"linecolor\":\"white\",\"showbackground\":true,\"ticks\":\"\",\"zerolinecolor\":\"white\",\"gridwidth\":2}},\"shapedefaults\":{\"line\":{\"color\":\"#2a3f5f\"}},\"annotationdefaults\":{\"arrowcolor\":\"#2a3f5f\",\"arrowhead\":0,\"arrowwidth\":1},\"geo\":{\"bgcolor\":\"white\",\"landcolor\":\"#E5ECF6\",\"subunitcolor\":\"white\",\"showland\":true,\"showlakes\":true,\"lakecolor\":\"white\"},\"title\":{\"x\":0.05},\"mapbox\":{\"style\":\"light\"}}},\"xaxis\":{\"anchor\":\"y\",\"domain\":[0.0,1.0],\"title\":{\"text\":\"Education\"}},\"yaxis\":{\"anchor\":\"x\",\"domain\":[0.0,1.0],\"title\":{\"text\":\"y\"}},\"coloraxis\":{\"colorbar\":{\"title\":{\"text\":\"Education\"}},\"colorscale\":[[0.0,\"#0d0887\"],[0.1111111111111111,\"#46039f\"],[0.2222222222222222,\"#7201a8\"],[0.3333333333333333,\"#9c179e\"],[0.4444444444444444,\"#bd3786\"],[0.5555555555555556,\"#d8576b\"],[0.6666666666666666,\"#ed7953\"],[0.7777777777777778,\"#fb9f3a\"],[0.8888888888888888,\"#fdca26\"],[1.0,\"#f0f921\"]]},\"legend\":{\"tracegroupgap\":0},\"title\":{\"text\":\"Are more educated people more likely to leave?\"},\"barmode\":\"relative\"},                        {\"responsive\": true}                    ).then(function(){\n",
       "                            \n",
       "var gd = document.getElementById('6635141b-6416-49eb-95b4-cc110579c4ab');\n",
       "var x = new MutationObserver(function (mutations, observer) {{\n",
       "        var display = window.getComputedStyle(gd).display;\n",
       "        if (!display || display === 'none') {{\n",
       "            console.log([gd, 'removed!']);\n",
       "            Plotly.purge(gd);\n",
       "            observer.disconnect();\n",
       "        }}\n",
       "}});\n",
       "\n",
       "// Listen for the removal of the full notebook cells\n",
       "var notebookContainer = gd.closest('#notebook-container');\n",
       "if (notebookContainer) {{\n",
       "    x.observe(notebookContainer, {childList: true});\n",
       "}}\n",
       "\n",
       "// Listen for the clearing of the current output cell\n",
       "var outputEl = gd.closest('.output');\n",
       "if (outputEl) {{\n",
       "    x.observe(outputEl, {childList: true});\n",
       "}}\n",
       "\n",
       "                        })                };                });            </script>        </div>"
      ]
     },
     "metadata": {},
     "output_type": "display_data"
    }
   ],
   "source": [
    "fig = px.bar(df1, y=df['Attrition'], x=df1['Education'], text=df1['Education'],color=\"Education\", title=\"Are more educated people more likely to leave?\",)\n",
    "fig.show()"
   ]
  },
  {
   "cell_type": "markdown",
   "id": "6f845d39",
   "metadata": {
    "papermill": {
     "duration": 0.045984,
     "end_time": "2023-08-22T12:30:08.491173",
     "exception": false,
     "start_time": "2023-08-22T12:30:08.445189",
     "status": "completed"
    },
    "tags": []
   },
   "source": [
    "* 99 employees Education level (3) resigned/retired and around 17% of employees level(3) Education resigned/retired."
   ]
  },
  {
   "cell_type": "markdown",
   "id": "9ef242fc",
   "metadata": {
    "papermill": {
     "duration": 0.044574,
     "end_time": "2023-08-22T12:30:08.582769",
     "exception": false,
     "start_time": "2023-08-22T12:30:08.538195",
     "status": "completed"
    },
    "tags": []
   },
   "source": [
    "### 3. what is effect of the distance from home on attrition ?\n",
    "\n",
    "### 34.People who live more than 25 minutes away from work tend to be less happy than those who don't. Lets see whether this is the case?  "
   ]
  },
  {
   "cell_type": "code",
   "execution_count": 28,
   "id": "cf21bf01",
   "metadata": {
    "execution": {
     "iopub.execute_input": "2023-08-22T12:30:08.674806Z",
     "iopub.status.busy": "2023-08-22T12:30:08.674279Z",
     "iopub.status.idle": "2023-08-22T12:30:08.681707Z",
     "shell.execute_reply": "2023-08-22T12:30:08.680621Z"
    },
    "papermill": {
     "duration": 0.056238,
     "end_time": "2023-08-22T12:30:08.683900",
     "exception": false,
     "start_time": "2023-08-22T12:30:08.627662",
     "status": "completed"
    },
    "tags": []
   },
   "outputs": [
    {
     "data": {
      "text/plain": [
       "29"
      ]
     },
     "execution_count": 28,
     "metadata": {},
     "output_type": "execute_result"
    }
   ],
   "source": [
    "df[\"DistanceFromHome\"].max()"
   ]
  },
  {
   "cell_type": "code",
   "execution_count": 29,
   "id": "e3fd1ab1",
   "metadata": {
    "execution": {
     "iopub.execute_input": "2023-08-22T12:30:08.774614Z",
     "iopub.status.busy": "2023-08-22T12:30:08.774207Z",
     "iopub.status.idle": "2023-08-22T12:30:09.140415Z",
     "shell.execute_reply": "2023-08-22T12:30:09.139311Z"
    },
    "papermill": {
     "duration": 0.414411,
     "end_time": "2023-08-22T12:30:09.142814",
     "exception": false,
     "start_time": "2023-08-22T12:30:08.728403",
     "status": "completed"
    },
    "tags": []
   },
   "outputs": [
    {
     "data": {
      "image/png": "[encoded data removed]",
      "text/plain": [
       "<Figure size 640x480 with 1 Axes>"
      ]
     },
     "metadata": {},
     "output_type": "display_data"
    }
   ],
   "source": [
    "sns.histplot(data=df, x=\"DistanceFromHome\", color=\"red\", label=\"EnvironmentSatisfaction\", kde=True,bins=30)\n",
    "plt.show()"
   ]
  },
  {
   "cell_type": "markdown",
   "id": "4af16225",
   "metadata": {
    "papermill": {
     "duration": 0.045487,
     "end_time": "2023-08-22T12:30:09.233889",
     "exception": false,
     "start_time": "2023-08-22T12:30:09.188402",
     "status": "completed"
    },
    "tags": []
   },
   "source": [
    "* People who live more than 25 minutes away from work  is less happly becouse EnvironmentSatisfaction decrease"
   ]
  },
  {
   "cell_type": "code",
   "execution_count": null,
   "id": "27595c3c",
   "metadata": {
    "papermill": {
     "duration": 0.045602,
     "end_time": "2023-08-22T12:30:09.326947",
     "exception": false,
     "start_time": "2023-08-22T12:30:09.281345",
     "status": "completed"
    },
    "tags": []
   },
   "outputs": [],
   "source": []
  },
  {
   "cell_type": "code",
   "execution_count": null,
   "id": "f75d6825",
   "metadata": {
    "papermill": {
     "duration": 0.04602,
     "end_time": "2023-08-22T12:30:09.420234",
     "exception": false,
     "start_time": "2023-08-22T12:30:09.374214",
     "status": "completed"
    },
    "tags": []
   },
   "outputs": [],
   "source": []
  },
  {
   "cell_type": "markdown",
   "id": "bdf2feb9",
   "metadata": {
    "papermill": {
     "duration": 0.045366,
     "end_time": "2023-08-22T12:30:09.511136",
     "exception": false,
     "start_time": "2023-08-22T12:30:09.465770",
     "status": "completed"
    },
    "tags": []
   },
   "source": [
    "******************\n",
    "******************"
   ]
  },
  {
   "cell_type": "markdown",
   "id": "9cd1ec5f",
   "metadata": {
    "papermill": {
     "duration": 0.048234,
     "end_time": "2023-08-22T12:30:09.605348",
     "exception": false,
     "start_time": "2023-08-22T12:30:09.557114",
     "status": "completed"
    },
    "tags": []
   },
   "source": [
    "## Work Info"
   ]
  },
  {
   "cell_type": "markdown",
   "id": "a0d18bfd",
   "metadata": {
    "papermill": {
     "duration": 0.045172,
     "end_time": "2023-08-22T12:30:09.757150",
     "exception": false,
     "start_time": "2023-08-22T12:30:09.711978",
     "status": "completed"
    },
    "tags": []
   },
   "source": [
    "### 4. What is the most Department of attritions ? (15)"
   ]
  },
  {
   "cell_type": "code",
   "execution_count": 30,
   "id": "0781e68c",
   "metadata": {
    "execution": {
     "iopub.execute_input": "2023-08-22T12:30:09.849692Z",
     "iopub.status.busy": "2023-08-22T12:30:09.849276Z",
     "iopub.status.idle": "2023-08-22T12:30:10.086461Z",
     "shell.execute_reply": "2023-08-22T12:30:10.085343Z"
    },
    "papermill": {
     "duration": 0.286569,
     "end_time": "2023-08-22T12:30:10.088902",
     "exception": false,
     "start_time": "2023-08-22T12:30:09.802333",
     "status": "completed"
    },
    "tags": []
   },
   "outputs": [
    {
     "data": {
      "image/png": "[encoded data removed]",
      "text/plain": [
       "<Figure size 600x600 with 1 Axes>"
      ]
     },
     "metadata": {},
     "output_type": "display_data"
    }
   ],
   "source": [
    "df.groupby([\"Department\"])[\"Attrition\"].sum().plot(kind=\"bar\",figsize=(6, 6))\n",
    "plt.show()"
   ]
  },
  {
   "cell_type": "markdown",
   "id": "dd746bf7",
   "metadata": {
    "papermill": {
     "duration": 0.046149,
     "end_time": "2023-08-22T12:30:10.181384",
     "exception": false,
     "start_time": "2023-08-22T12:30:10.135235",
     "status": "completed"
    },
    "tags": []
   },
   "source": [
    "* Research & Development is the most Department of attritions"
   ]
  },
  {
   "cell_type": "markdown",
   "id": "c0d02f31",
   "metadata": {
    "papermill": {
     "duration": 0.047124,
     "end_time": "2023-08-22T12:30:10.274964",
     "exception": false,
     "start_time": "2023-08-22T12:30:10.227840",
     "status": "completed"
    },
    "tags": []
   },
   "source": [
    "### 15- Does the Department of work impact attrition?\n"
   ]
  },
  {
   "cell_type": "markdown",
   "id": "9bfc1bc4",
   "metadata": {
    "papermill": {
     "duration": 0.046388,
     "end_time": "2023-08-22T12:30:10.368982",
     "exception": false,
     "start_time": "2023-08-22T12:30:10.322594",
     "status": "completed"
    },
    "tags": []
   },
   "source": [
    "* number (133) of employees resigning/retiring from R&D,\n",
    "* number( 98 ) of employess resign from sales and\n",
    "* number( 10 ) of employess resign from Human Resources"
   ]
  },
  {
   "cell_type": "markdown",
   "id": "ac1479dd",
   "metadata": {
    "papermill": {
     "duration": 0.046522,
     "end_time": "2023-08-22T12:30:10.462342",
     "exception": false,
     "start_time": "2023-08-22T12:30:10.415820",
     "status": "completed"
    },
    "tags": []
   },
   "source": [
    "### 5- What is the most job role of attritions ?\n"
   ]
  },
  {
   "cell_type": "code",
   "execution_count": 31,
   "id": "8cd7a542",
   "metadata": {
    "execution": {
     "iopub.execute_input": "2023-08-22T12:30:10.558457Z",
     "iopub.status.busy": "2023-08-22T12:30:10.558031Z",
     "iopub.status.idle": "2023-08-22T12:30:11.195539Z",
     "shell.execute_reply": "2023-08-22T12:30:11.194427Z"
    },
    "papermill": {
     "duration": 0.688657,
     "end_time": "2023-08-22T12:30:11.197837",
     "exception": false,
     "start_time": "2023-08-22T12:30:10.509180",
     "status": "completed"
    },
    "tags": []
   },
   "outputs": [
    {
     "data": {
      "image/png": "[encoded data removed]",
      "text/plain": [
       "<Figure size 640x480 with 1 Axes>"
      ]
     },
     "metadata": {},
     "output_type": "display_data"
    }
   ],
   "source": [
    "\n",
    "sns.barplot(x=\"Attrition\", y=\"JobRole\", data=df)\n",
    "plt.title('What is the most job role of attritions', fontsize=14)\n",
    "plt.show()"
   ]
  },
  {
   "cell_type": "code",
   "execution_count": 32,
   "id": "41443619",
   "metadata": {
    "execution": {
     "iopub.execute_input": "2023-08-22T12:30:11.293981Z",
     "iopub.status.busy": "2023-08-22T12:30:11.293561Z",
     "iopub.status.idle": "2023-08-22T12:30:11.371418Z",
     "shell.execute_reply": "2023-08-22T12:30:11.370284Z"
    },
    "papermill": {
     "duration": 0.128673,
     "end_time": "2023-08-22T12:30:11.373827",
     "exception": false,
     "start_time": "2023-08-22T12:30:11.245154",
     "status": "completed"
    },
    "tags": []
   },
   "outputs": [
    {
     "data": {
      "text/html": [
       "<div>                            <div id=\"e3eddaa1-2fc5-425f-9b4d-5a687a0ad7d9\" class=\"plotly-graph-div\" style=\"height:525px; width:100%;\"></div>            <script type=\"text/javascript\">                require([\"plotly\"], function(Plotly) {                    window.PLOTLYENV=window.PLOTLYENV || {};                                    if (document.getElementById(\"e3eddaa1-2fc5-425f-9b4d-5a687a0ad7d9\")) {                    Plotly.newPlot(                        \"e3eddaa1-2fc5-425f-9b4d-5a687a0ad7d9\",                        [{\"alignmentgroup\":\"True\",\"hovertemplate\":\"JobRole=%{x}\\u003cbr\\u003eAttrition=%{y}\\u003cextra\\u003e\\u003c\\u002fextra\\u003e\",\"legendgroup\":\"\",\"marker\":{\"color\":\"#636efa\",\"pattern\":{\"shape\":\"\"}},\"name\":\"\",\"offsetgroup\":\"\",\"orientation\":\"v\",\"showlegend\":false,\"textposition\":\"auto\",\"x\":[\"Sales Executive\",\"Research Scientist\",\"Laboratory Technician\",\"Research Scientist\",\"Laboratory Technician\",\"Laboratory Technician\",\"Laboratory Technician\",\"Laboratory Technician\",\"Manufacturing Director\",\"Healthcare Representative\",\"Laboratory Technician\",\"Laboratory Technician\",\"Research Scientist\",\"Laboratory Technician\",\"Laboratory Technician\",\"Manufacturing Director\",\"Research Scientist\",\"Laboratory Technician\",\"Manager\",\"Research Scientist\",\"Manufacturing Director\",\"Sales Representative\",\"Research Director\",\"Research Scientist\",\"Research Scientist\",\"Manager\",\"Research Scientist\",\"Sales Executive\",\"Healthcare Representative\",\"Manager\",\"Laboratory Technician\",\"Healthcare Representative\",\"Laboratory Technician\",\"Sales Representative\",\"Research Scientist\",\"Research Scientist\",\"Sales Representative\",\"Sales Representative\",\"Research Scientist\",\"Sales Executive\",\"Laboratory Technician\",\"Laboratory Technician\",\"Laboratory Technician\",\"Sales Executive\",\"Laboratory Technician\",\"Research Director\",\"Sales Executive\",\"Research Scientist\",\"Sales Executive\",\"Laboratory Technician\",\"Laboratory Technician\",\"Laboratory Technician\",\"Sales Executive\",\"Healthcare Representative\",\"Sales Executive\",\"Research Director\",\"Sales Executive\",\"Laboratory Technician\",\"Laboratory Technician\",\"Manufacturing Director\",\"Manufacturing Director\",\"Laboratory Technician\",\"Research Director\",\"Sales Executive\",\"Healthcare Representative\",\"Manager\",\"Manufacturing Director\",\"Research Scientist\",\"Research Scientist\",\"Research Scientist\",\"Sales Executive\",\"Research Scientist\",\"Research Scientist\",\"Research Scientist\",\"Laboratory Technician\",\"Manufacturing Director\",\"Sales Executive\",\"Research Director\",\"Research Director\",\"Human Resources\",\"Laboratory Technician\",\"Research Scientist\",\"Sales Executive\",\"Research Scientist\",\"Manufacturing Director\",\"Manufacturing Director\",\"Sales Representative\",\"Laboratory Technician\",\"Healthcare Representative\",\"Sales Executive\",\"Healthcare Representative\",\"Sales Executive\",\"Sales Executive\",\"Healthcare Representative\",\"Sales Executive\",\"Research Director\",\"Sales Executive\",\"Sales Executive\",\"Sales Executive\",\"Laboratory Technician\",\"Human Resources\",\"Research Scientist\",\"Laboratory Technician\",\"Research Scientist\",\"Healthcare Representative\",\"Manager\",\"Research Director\",\"Sales Executive\",\"Research Scientist\",\"Laboratory Technician\",\"Healthcare Representative\",\"Laboratory Technician\",\"Manager\",\"Laboratory Technician\",\"Research Scientist\",\"Sales Executive\",\"Manager\",\"Sales Executive\",\"Laboratory Technician\",\"Manager\",\"Research Scientist\",\"Sales Executive\",\"Research Scientist\",\"Research Director\",\"Sales Executive\",\"Research Scientist\",\"Healthcare Representative\",\"Sales Representative\",\"Laboratory Technician\",\"Manufacturing Director\",\"Research Scientist\",\"Sales Executive\",\"Sales Executive\",\"Sales Executive\",\"Human Resources\",\"Manufacturing Director\",\"Manufacturing Director\",\"Sales Executive\",\"Sales Executive\",\"Human Resources\",\"Laboratory Technician\",\"Research Scientist\",\"Research Scientist\",\"Research Scientist\",\"Sales Executive\",\"Research Scientist\",\"Laboratory Technician\",\"Manager\",\"Laboratory Technician\",\"Laboratory Technician\",\"Research Scientist\",\"Sales Executive\",\"Sales Representative\",\"Laboratory Technician\",\"Sales Executive\",\"Manufacturing Director\",\"Manufacturing Director\",\"Research Scientist\",\"Sales Executive\",\"Sales Representative\",\"Research Scientist\",\"Research Scientist\",\"Research Scientist\",\"Healthcare Representative\",\"Research Scientist\",\"Manager\",\"Research Scientist\",\"Sales Executive\",\"Sales Executive\",\"Research Scientist\",\"Research Scientist\",\"Sales Representative\",\"Laboratory Technician\",\"Laboratory Technician\",\"Sales Executive\",\"Research Scientist\",\"Research Scientist\",\"Laboratory Technician\",\"Sales Executive\",\"Laboratory Technician\",\"Research Scientist\",\"Research Scientist\",\"Sales Representative\",\"Laboratory Technician\",\"Manufacturing Director\",\"Research Scientist\",\"Manager\",\"Research Director\",\"Manufacturing Director\",\"Healthcare Representative\",\"Manager\",\"Research Scientist\",\"Manufacturing Director\",\"Research Scientist\",\"Manager\",\"Research Scientist\",\"Laboratory Technician\",\"Manufacturing Director\",\"Manufacturing Director\",\"Manufacturing Director\",\"Manufacturing Director\",\"Manufacturing Director\",\"Research Scientist\",\"Laboratory Technician\",\"Healthcare Representative\",\"Sales Executive\",\"Research Scientist\",\"Laboratory Technician\",\"Healthcare Representative\",\"Healthcare Representative\",\"Sales Executive\",\"Manufacturing Director\",\"Sales Executive\",\"Research Director\",\"Research Scientist\",\"Manager\",\"Sales Executive\",\"Research Scientist\",\"Sales Executive\",\"Sales Executive\",\"Laboratory Technician\",\"Research Scientist\",\"Research Director\",\"Sales Executive\",\"Manufacturing Director\",\"Research Scientist\",\"Sales Representative\",\"Sales Executive\",\"Sales Executive\",\"Research Scientist\",\"Laboratory Technician\",\"Manager\",\"Human Resources\",\"Manager\",\"Laboratory Technician\",\"Manager\",\"Laboratory Technician\",\"Manager\",\"Sales Representative\",\"Laboratory Technician\",\"Laboratory Technician\",\"Sales Executive\",\"Research Scientist\",\"Research Scientist\",\"Manager\",\"Research Director\",\"Research Scientist\",\"Manufacturing Director\",\"Research Scientist\",\"Manufacturing Director\",\"Manufacturing Director\",\"Healthcare Representative\",\"Research Scientist\",\"Research Scientist\",\"Sales Executive\",\"Manufacturing Director\",\"Laboratory Technician\",\"Research Director\",\"Research Scientist\",\"Laboratory Technician\",\"Laboratory Technician\",\"Sales Executive\",\"Laboratory Technician\",\"Manager\",\"Laboratory Technician\",\"Sales Executive\",\"Healthcare Representative\",\"Healthcare Representative\",\"Healthcare Representative\",\"Laboratory Technician\",\"Manager\",\"Manager\",\"Research Scientist\",\"Sales Executive\",\"Research Scientist\",\"Research Director\",\"Manager\",\"Sales Executive\",\"Manufacturing Director\",\"Research Director\",\"Research Director\",\"Sales Executive\",\"Sales Executive\",\"Laboratory Technician\",\"Healthcare Representative\",\"Research Scientist\",\"Laboratory Technician\",\"Healthcare Representative\",\"Laboratory Technician\",\"Research Scientist\",\"Research Director\",\"Research Scientist\",\"Sales Representative\",\"Sales Executive\",\"Research Scientist\",\"Sales Executive\",\"Laboratory Technician\",\"Sales Executive\",\"Laboratory Technician\",\"Manufacturing Director\",\"Manager\",\"Sales Representative\",\"Healthcare Representative\",\"Sales Executive\",\"Healthcare Representative\",\"Laboratory Technician\",\"Sales Executive\",\"Research Director\",\"Healthcare Representative\",\"Research Scientist\",\"Human Resources\",\"Laboratory Technician\",\"Research Scientist\",\"Manager\",\"Manager\",\"Laboratory Technician\",\"Healthcare Representative\",\"Research Scientist\",\"Research Scientist\",\"Sales Executive\",\"Sales Executive\",\"Sales Executive\",\"Research Scientist\",\"Research Scientist\",\"Research Scientist\",\"Manufacturing Director\",\"Manager\",\"Sales Executive\",\"Sales Executive\",\"Research Director\",\"Laboratory Technician\",\"Sales Executive\",\"Research Scientist\",\"Healthcare Representative\",\"Research Scientist\",\"Sales Executive\",\"Laboratory Technician\",\"Laboratory Technician\",\"Sales Executive\",\"Sales Executive\",\"Manufacturing Director\",\"Research Director\",\"Manufacturing Director\",\"Sales Executive\",\"Manufacturing Director\",\"Research Scientist\",\"Manufacturing Director\",\"Sales Representative\",\"Research Director\",\"Sales Executive\",\"Human Resources\",\"Laboratory Technician\",\"Manager\",\"Research Scientist\",\"Sales Executive\",\"Sales Executive\",\"Healthcare Representative\",\"Sales Representative\",\"Sales Executive\",\"Sales Executive\",\"Healthcare Representative\",\"Laboratory Technician\",\"Sales Representative\",\"Sales Representative\",\"Laboratory Technician\",\"Manufacturing Director\",\"Sales Executive\",\"Healthcare Representative\",\"Sales Executive\",\"Research Scientist\",\"Sales Representative\",\"Research Scientist\",\"Healthcare Representative\",\"Laboratory Technician\",\"Sales Executive\",\"Healthcare Representative\",\"Sales Executive\",\"Research Scientist\",\"Sales Executive\",\"Manager\",\"Sales Executive\",\"Sales Representative\",\"Research Scientist\",\"Research Scientist\",\"Sales Executive\",\"Research Scientist\",\"Laboratory Technician\",\"Sales Executive\",\"Laboratory Technician\",\"Manufacturing Director\",\"Research Director\",\"Laboratory Technician\",\"Research Director\",\"Sales Executive\",\"Manufacturing Director\",\"Laboratory Technician\",\"Healthcare Representative\",\"Sales Executive\",\"Research Scientist\",\"Laboratory Technician\",\"Manager\",\"Sales Executive\",\"Sales Executive\",\"Sales Executive\",\"Laboratory Technician\",\"Laboratory Technician\",\"Manufacturing Director\",\"Research Scientist\",\"Manager\",\"Research Scientist\",\"Manufacturing Director\",\"Manager\",\"Manufacturing Director\",\"Healthcare Representative\",\"Sales Representative\",\"Sales Representative\",\"Laboratory Technician\",\"Manager\",\"Research Scientist\",\"Laboratory Technician\",\"Research Director\",\"Research Scientist\",\"Human Resources\",\"Sales Executive\",\"Manager\",\"Manager\",\"Laboratory Technician\",\"Sales Executive\",\"Manufacturing Director\",\"Research Director\",\"Laboratory Technician\",\"Laboratory Technician\",\"Research Scientist\",\"Sales Executive\",\"Manufacturing Director\",\"Manager\",\"Laboratory Technician\",\"Sales Representative\",\"Healthcare Representative\",\"Healthcare Representative\",\"Human Resources\",\"Laboratory Technician\",\"Sales Executive\",\"Laboratory Technician\",\"Sales Executive\",\"Manager\",\"Sales Executive\",\"Sales Executive\",\"Manufacturing Director\",\"Laboratory Technician\",\"Sales Executive\",\"Manufacturing Director\",\"Sales Executive\",\"Human Resources\",\"Manufacturing Director\",\"Research Director\",\"Manager\",\"Sales Representative\",\"Sales Executive\",\"Healthcare Representative\",\"Sales Executive\",\"Sales Executive\",\"Sales Executive\",\"Laboratory Technician\",\"Manufacturing Director\",\"Healthcare Representative\",\"Manager\",\"Sales Executive\",\"Research Scientist\",\"Sales Executive\",\"Sales Representative\",\"Healthcare Representative\",\"Manufacturing Director\",\"Research Director\",\"Research Scientist\",\"Sales Executive\",\"Laboratory Technician\",\"Manager\",\"Sales Representative\",\"Laboratory Technician\",\"Sales Representative\",\"Research Scientist\",\"Sales Executive\",\"Laboratory Technician\",\"Sales Executive\",\"Research Scientist\",\"Sales Executive\",\"Research Scientist\",\"Healthcare Representative\",\"Research Director\",\"Research Scientist\",\"Laboratory Technician\",\"Manager\",\"Human Resources\",\"Sales Representative\",\"Sales Representative\",\"Sales Representative\",\"Manager\",\"Research Scientist\",\"Sales Executive\",\"Research Scientist\",\"Research Scientist\",\"Sales Executive\",\"Research Scientist\",\"Sales Executive\",\"Laboratory Technician\",\"Manufacturing Director\",\"Sales Executive\",\"Research Scientist\",\"Healthcare Representative\",\"Human Resources\",\"Manufacturing Director\",\"Research Scientist\",\"Research Scientist\",\"Research Scientist\",\"Laboratory Technician\",\"Research Scientist\",\"Sales Executive\",\"Sales Executive\",\"Research Scientist\",\"Sales Executive\",\"Sales Executive\",\"Research Scientist\",\"Laboratory Technician\",\"Healthcare Representative\",\"Sales Executive\",\"Healthcare Representative\",\"Sales Executive\",\"Sales Executive\",\"Healthcare Representative\",\"Manufacturing Director\",\"Research Director\",\"Sales Executive\",\"Sales Executive\",\"Research Director\",\"Manager\",\"Sales Executive\",\"Manufacturing Director\",\"Manager\",\"Sales Representative\",\"Research Scientist\",\"Research Director\",\"Manufacturing Director\",\"Laboratory Technician\",\"Sales Executive\",\"Sales Executive\",\"Sales Representative\",\"Research Scientist\",\"Sales Executive\",\"Healthcare Representative\",\"Laboratory Technician\",\"Human Resources\",\"Healthcare Representative\",\"Research Scientist\",\"Healthcare Representative\",\"Sales Representative\",\"Laboratory Technician\",\"Healthcare Representative\",\"Laboratory Technician\",\"Research Scientist\",\"Manufacturing Director\",\"Manager\",\"Research Scientist\",\"Sales Executive\",\"Sales Representative\",\"Research Scientist\",\"Sales Executive\",\"Sales Executive\",\"Manager\",\"Sales Executive\",\"Research Scientist\",\"Laboratory Technician\",\"Healthcare Representative\",\"Sales Executive\",\"Research Scientist\",\"Manufacturing Director\",\"Sales Executive\",\"Research Scientist\",\"Manufacturing Director\",\"Research Scientist\",\"Sales Representative\",\"Laboratory Technician\",\"Healthcare Representative\",\"Sales Executive\",\"Manager\",\"Laboratory Technician\",\"Laboratory Technician\",\"Laboratory Technician\",\"Research Director\",\"Laboratory Technician\",\"Research Director\",\"Sales Executive\",\"Manager\",\"Manufacturing Director\",\"Research Scientist\",\"Research Director\",\"Research Scientist\",\"Manufacturing Director\",\"Research Scientist\",\"Human Resources\",\"Manufacturing Director\",\"Laboratory Technician\",\"Manufacturing Director\",\"Research Scientist\",\"Manufacturing Director\",\"Healthcare Representative\",\"Research Scientist\",\"Sales Executive\",\"Sales Executive\",\"Research Director\",\"Research Director\",\"Manufacturing Director\",\"Sales Executive\",\"Human Resources\",\"Research Scientist\",\"Research Scientist\",\"Manager\",\"Healthcare Representative\",\"Research Scientist\",\"Sales Executive\",\"Research Scientist\",\"Sales Executive\",\"Sales Executive\",\"Research Scientist\",\"Sales Executive\",\"Sales Executive\",\"Research Scientist\",\"Manufacturing Director\",\"Sales Executive\",\"Human Resources\",\"Manufacturing Director\",\"Laboratory Technician\",\"Research Scientist\",\"Human Resources\",\"Sales Executive\",\"Manufacturing Director\",\"Research Scientist\",\"Laboratory Technician\",\"Sales Executive\",\"Research Scientist\",\"Laboratory Technician\",\"Sales Executive\",\"Sales Representative\",\"Laboratory Technician\",\"Research Scientist\",\"Sales Representative\",\"Sales Executive\",\"Manufacturing Director\",\"Sales Representative\",\"Research Director\",\"Healthcare Representative\",\"Sales Executive\",\"Sales Executive\",\"Manager\",\"Human Resources\",\"Human Resources\",\"Laboratory Technician\",\"Laboratory Technician\",\"Research Scientist\",\"Sales Executive\",\"Laboratory Technician\",\"Manufacturing Director\",\"Sales Representative\",\"Research Scientist\",\"Healthcare Representative\",\"Sales Representative\",\"Manufacturing Director\",\"Laboratory Technician\",\"Research Scientist\",\"Laboratory Technician\",\"Research Scientist\",\"Laboratory Technician\",\"Sales Executive\",\"Research Scientist\",\"Healthcare Representative\",\"Sales Representative\",\"Healthcare Representative\",\"Laboratory Technician\",\"Research Scientist\",\"Sales Executive\",\"Research Scientist\",\"Research Director\",\"Laboratory Technician\",\"Sales Representative\",\"Sales Executive\",\"Sales Executive\",\"Laboratory Technician\",\"Laboratory Technician\",\"Sales Representative\",\"Laboratory Technician\",\"Healthcare Representative\",\"Research Scientist\",\"Manufacturing Director\",\"Sales Executive\",\"Healthcare Representative\",\"Sales Executive\",\"Laboratory Technician\",\"Sales Representative\",\"Sales Executive\",\"Manager\",\"Research Scientist\",\"Manager\",\"Sales Executive\",\"Sales Executive\",\"Sales Executive\",\"Sales Executive\",\"Sales Executive\",\"Manufacturing Director\",\"Sales Executive\",\"Research Scientist\",\"Manager\",\"Research Scientist\",\"Research Scientist\",\"Laboratory Technician\",\"Research Director\",\"Healthcare Representative\",\"Research Director\",\"Laboratory Technician\",\"Laboratory Technician\",\"Sales Executive\",\"Research Scientist\",\"Manufacturing Director\",\"Research Scientist\",\"Manufacturing Director\",\"Manufacturing Director\",\"Laboratory Technician\",\"Manufacturing Director\",\"Research Scientist\",\"Manufacturing Director\",\"Healthcare Representative\",\"Research Director\",\"Research Scientist\",\"Laboratory Technician\",\"Manufacturing Director\",\"Laboratory Technician\",\"Healthcare Representative\",\"Healthcare Representative\",\"Manufacturing Director\",\"Manufacturing Director\",\"Manufacturing Director\",\"Laboratory Technician\",\"Manager\",\"Laboratory Technician\",\"Manufacturing Director\",\"Healthcare Representative\",\"Healthcare Representative\",\"Research Director\",\"Sales Executive\",\"Sales Executive\",\"Manager\",\"Sales Executive\",\"Sales Executive\",\"Laboratory Technician\",\"Manufacturing Director\",\"Sales Representative\",\"Manager\",\"Laboratory Technician\",\"Sales Executive\",\"Manager\",\"Human Resources\",\"Sales Executive\",\"Laboratory Technician\",\"Research Scientist\",\"Sales Representative\",\"Sales Representative\",\"Research Scientist\",\"Research Director\",\"Healthcare Representative\",\"Sales Executive\",\"Research Scientist\",\"Research Director\",\"Sales Executive\",\"Research Scientist\",\"Manufacturing Director\",\"Manager\",\"Sales Executive\",\"Sales Representative\",\"Laboratory Technician\",\"Research Scientist\",\"Research Scientist\",\"Healthcare Representative\",\"Laboratory Technician\",\"Manufacturing Director\",\"Research Scientist\",\"Healthcare Representative\",\"Healthcare Representative\",\"Laboratory Technician\",\"Manufacturing Director\",\"Research Scientist\",\"Human Resources\",\"Healthcare Representative\",\"Sales Executive\",\"Research Scientist\",\"Laboratory Technician\",\"Healthcare Representative\",\"Sales Executive\",\"Laboratory Technician\",\"Laboratory Technician\",\"Research Scientist\",\"Manager\",\"Laboratory Technician\",\"Sales Executive\",\"Sales Executive\",\"Research Scientist\",\"Manager\",\"Sales Executive\",\"Healthcare Representative\",\"Sales Executive\",\"Research Scientist\",\"Manufacturing Director\",\"Manager\",\"Sales Executive\",\"Manufacturing Director\",\"Healthcare Representative\",\"Research Director\",\"Research Scientist\",\"Laboratory Technician\",\"Manufacturing Director\",\"Sales Representative\",\"Research Scientist\",\"Sales Executive\",\"Sales Executive\",\"Manufacturing Director\",\"Research Scientist\",\"Laboratory Technician\",\"Manufacturing Director\",\"Human Resources\",\"Research Scientist\",\"Laboratory Technician\",\"Sales Executive\",\"Laboratory Technician\",\"Laboratory Technician\",\"Healthcare Representative\",\"Research Scientist\",\"Sales Executive\",\"Human Resources\",\"Sales Executive\",\"Research Director\",\"Sales Executive\",\"Sales Executive\",\"Laboratory Technician\",\"Laboratory Technician\",\"Laboratory Technician\",\"Laboratory Technician\",\"Sales Executive\",\"Research Scientist\",\"Manufacturing Director\",\"Healthcare Representative\",\"Laboratory Technician\",\"Sales Executive\",\"Sales Representative\",\"Manager\",\"Laboratory Technician\",\"Research Scientist\",\"Research Scientist\",\"Manufacturing Director\",\"Laboratory Technician\",\"Research Scientist\",\"Manager\",\"Research Scientist\",\"Research Scientist\",\"Manager\",\"Research Scientist\",\"Human Resources\",\"Research Scientist\",\"Sales Executive\",\"Sales Executive\",\"Manager\",\"Laboratory Technician\",\"Research Director\",\"Sales Executive\",\"Laboratory Technician\",\"Sales Executive\",\"Laboratory Technician\",\"Laboratory Technician\",\"Research Scientist\",\"Sales Representative\",\"Manufacturing Director\",\"Human Resources\",\"Sales Executive\",\"Laboratory Technician\",\"Research Scientist\",\"Manufacturing Director\",\"Research Scientist\",\"Sales Executive\",\"Sales Executive\",\"Research Scientist\",\"Research Director\",\"Sales Executive\",\"Research Scientist\",\"Manufacturing Director\",\"Research Scientist\",\"Research Scientist\",\"Research Scientist\",\"Research Director\",\"Healthcare Representative\",\"Healthcare Representative\",\"Sales Executive\",\"Research Director\",\"Manager\",\"Research Scientist\",\"Laboratory Technician\",\"Research Scientist\",\"Healthcare Representative\",\"Research Director\",\"Research Director\",\"Research Scientist\",\"Manager\",\"Sales Executive\",\"Research Scientist\",\"Research Scientist\",\"Sales Representative\",\"Research Scientist\",\"Manager\",\"Healthcare Representative\",\"Laboratory Technician\",\"Manager\",\"Sales Executive\",\"Manager\",\"Manufacturing Director\",\"Laboratory Technician\",\"Laboratory Technician\",\"Manager\",\"Human Resources\",\"Research Scientist\",\"Research Scientist\",\"Sales Executive\",\"Manufacturing Director\",\"Healthcare Representative\",\"Laboratory Technician\",\"Laboratory Technician\",\"Manufacturing Director\",\"Laboratory Technician\",\"Research Scientist\",\"Research Scientist\",\"Sales Executive\",\"Manager\",\"Manager\",\"Research Scientist\",\"Laboratory Technician\",\"Research Scientist\",\"Laboratory Technician\",\"Healthcare Representative\",\"Human Resources\",\"Laboratory Technician\",\"Research Director\",\"Sales Executive\",\"Sales Executive\",\"Manager\",\"Manufacturing Director\",\"Sales Executive\",\"Sales Executive\",\"Sales Representative\",\"Laboratory Technician\",\"Manager\",\"Manager\",\"Manager\",\"Research Scientist\",\"Healthcare Representative\",\"Research Scientist\",\"Sales Executive\",\"Research Scientist\",\"Manager\",\"Sales Executive\",\"Sales Executive\",\"Laboratory Technician\",\"Manufacturing Director\",\"Laboratory Technician\",\"Sales Executive\",\"Manufacturing Director\",\"Sales Representative\",\"Manufacturing Director\",\"Laboratory Technician\",\"Laboratory Technician\",\"Sales Executive\",\"Sales Executive\",\"Manufacturing Director\",\"Research Scientist\",\"Healthcare Representative\",\"Laboratory Technician\",\"Sales Representative\",\"Sales Executive\",\"Research Scientist\",\"Healthcare Representative\",\"Sales Executive\",\"Manufacturing Director\",\"Sales Executive\",\"Sales Executive\",\"Research Scientist\",\"Research Scientist\",\"Sales Executive\",\"Sales Executive\",\"Healthcare Representative\",\"Sales Executive\",\"Manufacturing Director\",\"Research Scientist\",\"Sales Executive\",\"Research Scientist\",\"Research Scientist\",\"Manager\",\"Laboratory Technician\",\"Laboratory Technician\",\"Manufacturing Director\",\"Laboratory Technician\",\"Laboratory Technician\",\"Human Resources\",\"Laboratory Technician\",\"Healthcare Representative\",\"Research Director\",\"Research Director\",\"Research Director\",\"Sales Executive\",\"Sales Representative\",\"Sales Executive\",\"Research Director\",\"Research Scientist\",\"Research Scientist\",\"Laboratory Technician\",\"Laboratory Technician\",\"Sales Executive\",\"Research Scientist\",\"Sales Representative\",\"Laboratory Technician\",\"Research Scientist\",\"Research Director\",\"Sales Executive\",\"Sales Executive\",\"Laboratory Technician\",\"Research Scientist\",\"Laboratory Technician\",\"Sales Executive\",\"Sales Executive\",\"Laboratory Technician\",\"Manufacturing Director\",\"Healthcare Representative\",\"Human Resources\",\"Laboratory Technician\",\"Manufacturing Director\",\"Sales Executive\",\"Human Resources\",\"Research Director\",\"Sales Executive\",\"Laboratory Technician\",\"Research Director\",\"Healthcare Representative\",\"Research Scientist\",\"Research Scientist\",\"Sales Executive\",\"Sales Executive\",\"Sales Executive\",\"Laboratory Technician\",\"Sales Executive\",\"Research Scientist\",\"Research Scientist\",\"Healthcare Representative\",\"Research Director\",\"Sales Representative\",\"Sales Executive\",\"Sales Executive\",\"Sales Representative\",\"Laboratory Technician\",\"Sales Representative\",\"Manufacturing Director\",\"Sales Executive\",\"Human Resources\",\"Healthcare Representative\",\"Laboratory Technician\",\"Sales Executive\",\"Laboratory Technician\",\"Research Scientist\",\"Sales Executive\",\"Laboratory Technician\",\"Laboratory Technician\",\"Manufacturing Director\",\"Healthcare Representative\",\"Manager\",\"Manager\",\"Research Scientist\",\"Research Director\",\"Manufacturing Director\",\"Manager\",\"Healthcare Representative\",\"Laboratory Technician\",\"Laboratory Technician\",\"Sales Executive\",\"Research Scientist\",\"Research Director\",\"Sales Representative\",\"Laboratory Technician\",\"Research Scientist\",\"Healthcare Representative\",\"Manufacturing Director\",\"Research Scientist\",\"Healthcare Representative\",\"Sales Executive\",\"Laboratory Technician\",\"Manager\",\"Laboratory Technician\",\"Healthcare Representative\",\"Healthcare Representative\",\"Sales Representative\",\"Research Scientist\",\"Sales Representative\",\"Sales Executive\",\"Research Scientist\",\"Sales Executive\",\"Sales Executive\",\"Human Resources\",\"Laboratory Technician\",\"Sales Executive\",\"Laboratory Technician\",\"Manufacturing Director\",\"Manufacturing Director\",\"Research Scientist\",\"Research Scientist\",\"Research Scientist\",\"Manager\",\"Research Scientist\",\"Research Scientist\",\"Sales Executive\",\"Sales Executive\",\"Sales Executive\",\"Laboratory Technician\",\"Healthcare Representative\",\"Sales Executive\",\"Healthcare Representative\",\"Manager\",\"Research Scientist\",\"Laboratory Technician\",\"Manager\",\"Laboratory Technician\",\"Healthcare Representative\",\"Sales Executive\",\"Laboratory Technician\",\"Laboratory Technician\",\"Manager\",\"Laboratory Technician\",\"Research Scientist\",\"Healthcare Representative\",\"Research Scientist\",\"Research Director\",\"Research Scientist\",\"Laboratory Technician\",\"Sales Executive\",\"Sales Executive\",\"Manufacturing Director\",\"Manufacturing Director\",\"Laboratory Technician\",\"Manufacturing Director\",\"Laboratory Technician\",\"Research Scientist\",\"Manufacturing Director\",\"Research Scientist\",\"Sales Representative\",\"Manager\",\"Laboratory Technician\",\"Manufacturing Director\",\"Healthcare Representative\",\"Manufacturing Director\",\"Manufacturing Director\",\"Manufacturing Director\",\"Manufacturing Director\",\"Sales Executive\",\"Research Scientist\",\"Manufacturing Director\",\"Human Resources\",\"Manager\",\"Sales Executive\",\"Research Scientist\",\"Research Scientist\",\"Research Scientist\",\"Laboratory Technician\",\"Sales Executive\",\"Healthcare Representative\",\"Manufacturing Director\",\"Manufacturing Director\",\"Research Director\",\"Research Director\",\"Sales Representative\",\"Research Scientist\",\"Laboratory Technician\",\"Healthcare Representative\",\"Manufacturing Director\",\"Healthcare Representative\",\"Manager\",\"Research Director\",\"Sales Executive\",\"Research Scientist\",\"Sales Executive\",\"Sales Executive\",\"Research Scientist\",\"Sales Executive\",\"Laboratory Technician\",\"Laboratory Technician\",\"Manager\",\"Manager\",\"Sales Executive\",\"Sales Representative\",\"Sales Executive\",\"Healthcare Representative\",\"Human Resources\",\"Laboratory Technician\",\"Laboratory Technician\",\"Healthcare Representative\",\"Sales Representative\",\"Laboratory Technician\",\"Laboratory Technician\",\"Research Scientist\",\"Laboratory Technician\",\"Healthcare Representative\",\"Laboratory Technician\",\"Sales Executive\",\"Research Scientist\",\"Sales Representative\",\"Healthcare Representative\",\"Research Scientist\",\"Sales Executive\",\"Research Scientist\",\"Sales Executive\",\"Laboratory Technician\",\"Sales Representative\",\"Healthcare Representative\",\"Human Resources\",\"Sales Executive\",\"Laboratory Technician\",\"Research Director\",\"Research Scientist\",\"Laboratory Technician\",\"Human Resources\",\"Manufacturing Director\",\"Laboratory Technician\",\"Healthcare Representative\",\"Manufacturing Director\",\"Research Scientist\",\"Sales Executive\",\"Sales Executive\",\"Sales Executive\",\"Sales Executive\",\"Laboratory Technician\",\"Manufacturing Director\",\"Laboratory Technician\",\"Sales Executive\",\"Manager\",\"Human Resources\",\"Research Scientist\",\"Human Resources\",\"Human Resources\",\"Sales Executive\",\"Research Scientist\",\"Sales Representative\",\"Healthcare Representative\",\"Sales Executive\",\"Research Scientist\",\"Sales Executive\",\"Sales Executive\",\"Sales Executive\",\"Laboratory Technician\",\"Sales Executive\",\"Research Scientist\",\"Healthcare Representative\",\"Research Scientist\",\"Healthcare Representative\",\"Research Scientist\",\"Laboratory Technician\",\"Research Director\",\"Research Scientist\",\"Laboratory Technician\",\"Sales Executive\",\"Manufacturing Director\",\"Human Resources\",\"Sales Executive\",\"Sales Representative\",\"Laboratory Technician\",\"Laboratory Technician\",\"Sales Executive\",\"Manager\",\"Sales Executive\",\"Research Director\",\"Healthcare Representative\",\"Research Scientist\",\"Human Resources\",\"Sales Executive\",\"Research Scientist\",\"Research Scientist\",\"Research Director\",\"Sales Executive\",\"Laboratory Technician\",\"Healthcare Representative\",\"Manufacturing Director\",\"Human Resources\",\"Laboratory Technician\",\"Manufacturing Director\",\"Sales Executive\",\"Research Scientist\",\"Healthcare Representative\",\"Sales Executive\",\"Manufacturing Director\",\"Human Resources\",\"Healthcare Representative\",\"Healthcare Representative\",\"Sales Executive\",\"Manager\",\"Laboratory Technician\",\"Manufacturing Director\",\"Healthcare Representative\",\"Research Scientist\",\"Sales Executive\",\"Research Scientist\",\"Sales Representative\",\"Sales Executive\",\"Research Director\",\"Research Scientist\",\"Human Resources\",\"Human Resources\",\"Sales Executive\",\"Research Scientist\",\"Sales Executive\",\"Laboratory Technician\",\"Laboratory Technician\",\"Sales Executive\",\"Research Scientist\",\"Laboratory Technician\",\"Manufacturing Director\",\"Human Resources\",\"Healthcare Representative\",\"Laboratory Technician\",\"Sales Executive\",\"Sales Executive\",\"Sales Representative\",\"Human Resources\",\"Manager\",\"Research Director\",\"Research Scientist\",\"Sales Executive\",\"Research Scientist\",\"Research Scientist\",\"Research Scientist\",\"Sales Representative\",\"Sales Representative\",\"Research Scientist\",\"Sales Executive\",\"Laboratory Technician\",\"Sales Executive\",\"Laboratory Technician\",\"Research Scientist\",\"Manufacturing Director\",\"Manufacturing Director\",\"Human Resources\",\"Manager\",\"Research Scientist\",\"Sales Executive\",\"Manager\",\"Healthcare Representative\",\"Research Scientist\",\"Laboratory Technician\",\"Sales Executive\",\"Sales Executive\",\"Research Director\",\"Sales Executive\",\"Sales Executive\",\"Laboratory Technician\",\"Laboratory Technician\",\"Healthcare Representative\",\"Sales Executive\",\"Sales Executive\",\"Sales Representative\",\"Sales Executive\",\"Research Scientist\",\"Research Scientist\",\"Sales Executive\",\"Research Scientist\",\"Sales Executive\",\"Manufacturing Director\",\"Research Scientist\",\"Manager\",\"Research Scientist\",\"Research Scientist\",\"Research Director\",\"Sales Executive\",\"Human Resources\",\"Sales Executive\",\"Research Scientist\",\"Research Scientist\",\"Laboratory Technician\",\"Sales Executive\",\"Sales Executive\",\"Laboratory Technician\",\"Healthcare Representative\",\"Healthcare Representative\",\"Research Scientist\",\"Laboratory Technician\",\"Sales Representative\",\"Sales Executive\",\"Sales Executive\",\"Manufacturing Director\",\"Sales Executive\",\"Sales Executive\",\"Research Scientist\",\"Healthcare Representative\",\"Healthcare Representative\",\"Human Resources\",\"Manager\",\"Laboratory Technician\",\"Sales Executive\",\"Research Scientist\",\"Research Director\",\"Manufacturing Director\",\"Healthcare Representative\",\"Laboratory Technician\",\"Laboratory Technician\",\"Sales Executive\",\"Human Resources\",\"Laboratory Technician\",\"Laboratory Technician\",\"Healthcare Representative\",\"Laboratory Technician\",\"Sales Executive\",\"Sales Representative\",\"Manufacturing Director\",\"Research Scientist\",\"Research Scientist\",\"Research Director\",\"Laboratory Technician\",\"Research Scientist\",\"Research Scientist\",\"Healthcare Representative\",\"Laboratory Technician\",\"Laboratory Technician\",\"Sales Representative\",\"Research Scientist\",\"Research Director\",\"Sales Executive\",\"Research Director\",\"Sales Executive\",\"Sales Representative\",\"Research Scientist\",\"Sales Representative\",\"Manager\",\"Sales Representative\",\"Sales Executive\",\"Manufacturing Director\",\"Healthcare Representative\",\"Research Scientist\",\"Manager\",\"Laboratory Technician\",\"Manufacturing Director\",\"Sales Executive\",\"Sales Executive\",\"Sales Executive\",\"Research Scientist\",\"Human Resources\",\"Sales Executive\",\"Sales Executive\",\"Sales Executive\",\"Sales Executive\",\"Research Scientist\",\"Healthcare Representative\",\"Research Scientist\",\"Research Scientist\",\"Laboratory Technician\",\"Research Scientist\",\"Sales Executive\",\"Sales Executive\",\"Manufacturing Director\",\"Sales Representative\",\"Laboratory Technician\",\"Healthcare Representative\",\"Manufacturing Director\",\"Sales Executive\",\"Laboratory Technician\"],\"xaxis\":\"x\",\"y\":[1,0,1,0,0,0,0,0,0,0,0,0,0,0,1,0,0,0,0,0,0,1,0,0,1,0,1,0,0,0,0,0,0,1,1,0,1,0,0,0,0,0,1,0,0,1,0,0,0,0,1,1,0,0,0,0,0,0,0,0,0,0,0,0,0,0,0,0,0,1,0,0,0,0,0,0,0,0,0,0,0,0,0,0,0,0,0,0,0,1,0,0,0,0,0,0,0,0,0,0,1,0,1,0,0,0,0,1,0,0,0,1,0,0,0,0,0,0,0,0,0,0,1,0,1,0,1,1,0,0,0,0,1,0,0,0,1,0,0,0,1,0,0,0,0,0,0,0,0,0,0,0,0,0,0,0,0,0,0,0,0,0,0,0,0,0,0,0,0,0,0,1,0,0,0,0,0,1,0,0,0,0,1,0,0,0,0,0,0,0,0,0,1,0,0,0,0,0,0,0,0,0,0,0,1,1,0,0,0,0,1,0,0,0,1,0,1,1,0,0,0,0,0,0,0,0,0,0,0,1,0,0,0,0,1,0,1,0,0,1,0,0,0,0,0,0,0,0,0,0,1,0,0,0,0,0,0,0,0,1,0,0,0,0,1,0,0,0,0,0,0,1,0,0,0,0,0,0,0,0,0,0,0,0,0,0,1,0,1,0,0,0,0,1,0,0,1,0,0,0,0,0,0,0,0,0,0,0,0,0,0,0,0,0,0,0,0,1,0,0,0,0,0,1,0,0,0,1,0,0,0,0,0,0,0,0,1,0,0,0,0,0,0,0,0,0,0,0,0,0,0,0,0,0,0,0,0,1,0,0,0,0,0,1,0,0,1,0,1,0,1,0,0,0,0,0,0,0,1,0,0,0,1,0,0,1,0,0,0,0,0,0,0,0,0,0,0,0,0,0,0,0,0,0,0,1,0,0,0,0,0,0,0,0,1,1,0,0,0,0,0,1,1,0,0,0,0,0,0,0,0,0,0,0,0,1,1,0,0,1,1,0,0,1,0,0,0,0,0,0,0,0,0,1,0,0,0,1,0,0,0,0,0,1,0,0,0,0,0,1,0,0,0,0,0,0,0,0,0,1,1,0,1,0,0,0,0,0,0,0,0,0,0,0,0,1,0,0,0,0,0,0,0,0,1,0,0,0,0,0,0,0,0,1,1,0,0,0,0,0,0,0,0,0,0,1,0,0,1,0,0,0,0,0,0,0,0,0,0,0,1,0,0,0,0,0,0,1,0,0,0,0,0,0,0,0,0,0,0,0,0,0,1,0,0,0,1,0,1,0,0,0,0,1,0,0,0,0,0,0,0,0,0,0,0,1,0,0,0,1,0,1,0,0,0,1,0,0,1,0,0,0,0,0,0,0,0,1,1,0,0,0,0,0,1,0,0,0,0,0,0,0,0,0,0,0,0,0,0,0,0,0,0,0,0,0,1,0,0,0,0,0,0,0,0,1,0,0,0,0,0,0,0,0,0,0,1,0,0,0,1,0,1,1,0,0,1,1,0,1,0,0,0,0,0,0,0,0,0,0,0,0,0,1,0,0,0,0,1,1,0,0,0,1,0,1,0,0,0,0,1,0,0,0,0,0,1,0,0,1,0,1,0,0,0,0,0,0,0,0,1,0,0,0,0,1,0,0,0,0,0,1,1,0,0,0,0,0,0,0,0,0,0,0,1,0,0,0,1,1,0,0,1,0,0,0,0,0,0,0,0,1,1,0,0,0,0,0,0,0,0,0,0,0,0,0,1,1,0,1,1,0,0,0,0,0,0,0,0,1,0,1,1,0,0,0,1,1,1,0,1,1,0,0,0,0,0,0,0,0,0,0,0,1,0,0,0,0,0,0,0,0,0,0,0,0,0,0,1,1,0,1,0,0,0,0,1,0,1,0,0,0,1,0,0,0,0,0,0,1,0,0,0,0,0,0,0,1,0,0,1,0,0,0,1,0,0,0,0,0,0,1,0,0,0,0,0,0,0,0,0,0,0,0,0,0,0,0,0,0,0,0,1,0,0,0,0,0,0,0,0,0,0,0,0,0,0,0,0,0,0,1,0,1,0,1,0,0,0,0,0,0,0,0,0,0,0,0,1,0,0,0,1,0,0,0,0,0,0,1,1,0,0,0,0,0,1,1,0,0,0,0,1,1,0,0,0,0,0,0,0,0,0,0,0,0,1,0,0,0,0,0,0,0,0,1,0,0,0,0,1,1,0,0,0,1,0,0,0,0,0,0,0,0,0,0,0,1,0,0,0,0,0,0,0,0,1,1,0,0,0,0,1,0,0,0,1,0,0,0,0,1,0,0,0,0,0,0,0,0,0,1,1,1,0,0,1,0,0,1,0,0,0,0,0,0,0,0,0,0,0,0,0,0,0,0,1,1,1,0,1,0,0,0,0,0,0,0,1,0,0,0,0,0,0,0,0,1,0,0,0,0,0,1,0,1,0,0,0,0,0,0,0,0,0,0,0,0,0,0,0,0,0,0,0,0,1,0,0,0,1,1,1,0,0,0,0,0,0,0,0,0,0,0,0,0,0,0,0,0,0,0,0,0,0,0,1,0,0,0,0,0,0,0,0,0,0,0,0,0,0,0,0,1,0,0,0,0,0,0,0,0,1,0,0,0,0,1,0,0,0,1,0,0,0,0,0,0,0,0,0,0,0,0,0,0,1,0,0,0,0,0,0,0,0,0,0,0,0,0,0,1,0,0,1,1,0,0,0,0,0,0,0,1,0,0,0,0,0,0,0,0,1,1,0,0,0,0,0,0,0,0,0,0,0,0,1,1,0,0,0,0,0,0,0,0,1,0,0,1,0,0,0,0,0,1,0,1,0,0,0,0,1,0,0,0,0,0,0,0,0,1,0,1,0,0,0,0,0,1,0,1,0,0,0,0,0,0,0,0,1,1,0,0,0,0,0,1,1,0,0,0,0,0,0,0,0,0,0,0,0,0,1,1,0,0,0,0,0,0,0,0,0,0,0,0,1,0,0,0,0,0,1,1,0,0,0,0,1,1,0,0,0,0,0,0,0,0,0,0,0,0,0,1,1,0,0,0,0,0,0,0,0,0,0,1,0,0,0,1,0,0,0,0,0,1,0,0,0,1,0,0,0,0,0,0,0,0,0,0,1,0,0,0,0,1,1,0,0,0,0,0,0,0,0,0,0,0,0,0,0,0,0,0,0,0,0,0,0,0,0,0,0,0,0,0,0,0,0,0,0,0,0,0,0,0,0,0,1,0,0,0,1,0,1,0,0,0,0,0,0,0,1,0,0,0,0,0,0,0,0,1,0,0,0,0,0,0,0,0],\"yaxis\":\"y\",\"type\":\"bar\"}],                        {\"template\":{\"data\":{\"histogram2dcontour\":[{\"type\":\"histogram2dcontour\",\"colorbar\":{\"outlinewidth\":0,\"ticks\":\"\"},\"colorscale\":[[0.0,\"#0d0887\"],[0.1111111111111111,\"#46039f\"],[0.2222222222222222,\"#7201a8\"],[0.3333333333333333,\"#9c179e\"],[0.4444444444444444,\"#bd3786\"],[0.5555555555555556,\"#d8576b\"],[0.6666666666666666,\"#ed7953\"],[0.7777777777777778,\"#fb9f3a\"],[0.8888888888888888,\"#fdca26\"],[1.0,\"#f0f921\"]]}],\"choropleth\":[{\"type\":\"choropleth\",\"colorbar\":{\"outlinewidth\":0,\"ticks\":\"\"}}],\"histogram2d\":[{\"type\":\"histogram2d\",\"colorbar\":{\"outlinewidth\":0,\"ticks\":\"\"},\"colorscale\":[[0.0,\"#0d0887\"],[0.1111111111111111,\"#46039f\"],[0.2222222222222222,\"#7201a8\"],[0.3333333333333333,\"#9c179e\"],[0.4444444444444444,\"#bd3786\"],[0.5555555555555556,\"#d8576b\"],[0.6666666666666666,\"#ed7953\"],[0.7777777777777778,\"#fb9f3a\"],[0.8888888888888888,\"#fdca26\"],[1.0,\"#f0f921\"]]}],\"heatmap\":[{\"type\":\"heatmap\",\"colorbar\":{\"outlinewidth\":0,\"ticks\":\"\"},\"colorscale\":[[0.0,\"#0d0887\"],[0.1111111111111111,\"#46039f\"],[0.2222222222222222,\"#7201a8\"],[0.3333333333333333,\"#9c179e\"],[0.4444444444444444,\"#bd3786\"],[0.5555555555555556,\"#d8576b\"],[0.6666666666666666,\"#ed7953\"],[0.7777777777777778,\"#fb9f3a\"],[0.8888888888888888,\"#fdca26\"],[1.0,\"#f0f921\"]]}],\"heatmapgl\":[{\"type\":\"heatmapgl\",\"colorbar\":{\"outlinewidth\":0,\"ticks\":\"\"},\"colorscale\":[[0.0,\"#0d0887\"],[0.1111111111111111,\"#46039f\"],[0.2222222222222222,\"#7201a8\"],[0.3333333333333333,\"#9c179e\"],[0.4444444444444444,\"#bd3786\"],[0.5555555555555556,\"#d8576b\"],[0.6666666666666666,\"#ed7953\"],[0.7777777777777778,\"#fb9f3a\"],[0.8888888888888888,\"#fdca26\"],[1.0,\"#f0f921\"]]}],\"contourcarpet\":[{\"type\":\"contourcarpet\",\"colorbar\":{\"outlinewidth\":0,\"ticks\":\"\"}}],\"contour\":[{\"type\":\"contour\",\"colorbar\":{\"outlinewidth\":0,\"ticks\":\"\"},\"colorscale\":[[0.0,\"#0d0887\"],[0.1111111111111111,\"#46039f\"],[0.2222222222222222,\"#7201a8\"],[0.3333333333333333,\"#9c179e\"],[0.4444444444444444,\"#bd3786\"],[0.5555555555555556,\"#d8576b\"],[0.6666666666666666,\"#ed7953\"],[0.7777777777777778,\"#fb9f3a\"],[0.8888888888888888,\"#fdca26\"],[1.0,\"#f0f921\"]]}],\"surface\":[{\"type\":\"surface\",\"colorbar\":{\"outlinewidth\":0,\"ticks\":\"\"},\"colorscale\":[[0.0,\"#0d0887\"],[0.1111111111111111,\"#46039f\"],[0.2222222222222222,\"#7201a8\"],[0.3333333333333333,\"#9c179e\"],[0.4444444444444444,\"#bd3786\"],[0.5555555555555556,\"#d8576b\"],[0.6666666666666666,\"#ed7953\"],[0.7777777777777778,\"#fb9f3a\"],[0.8888888888888888,\"#fdca26\"],[1.0,\"#f0f921\"]]}],\"mesh3d\":[{\"type\":\"mesh3d\",\"colorbar\":{\"outlinewidth\":0,\"ticks\":\"\"}}],\"scatter\":[{\"fillpattern\":{\"fillmode\":\"overlay\",\"size\":10,\"solidity\":0.2},\"type\":\"scatter\"}],\"parcoords\":[{\"type\":\"parcoords\",\"line\":{\"colorbar\":{\"outlinewidth\":0,\"ticks\":\"\"}}}],\"scatterpolargl\":[{\"type\":\"scatterpolargl\",\"marker\":{\"colorbar\":{\"outlinewidth\":0,\"ticks\":\"\"}}}],\"bar\":[{\"error_x\":{\"color\":\"#2a3f5f\"},\"error_y\":{\"color\":\"#2a3f5f\"},\"marker\":{\"line\":{\"color\":\"#E5ECF6\",\"width\":0.5},\"pattern\":{\"fillmode\":\"overlay\",\"size\":10,\"solidity\":0.2}},\"type\":\"bar\"}],\"scattergeo\":[{\"type\":\"scattergeo\",\"marker\":{\"colorbar\":{\"outlinewidth\":0,\"ticks\":\"\"}}}],\"scatterpolar\":[{\"type\":\"scatterpolar\",\"marker\":{\"colorbar\":{\"outlinewidth\":0,\"ticks\":\"\"}}}],\"histogram\":[{\"marker\":{\"pattern\":{\"fillmode\":\"overlay\",\"size\":10,\"solidity\":0.2}},\"type\":\"histogram\"}],\"scattergl\":[{\"type\":\"scattergl\",\"marker\":{\"colorbar\":{\"outlinewidth\":0,\"ticks\":\"\"}}}],\"scatter3d\":[{\"type\":\"scatter3d\",\"line\":{\"colorbar\":{\"outlinewidth\":0,\"ticks\":\"\"}},\"marker\":{\"colorbar\":{\"outlinewidth\":0,\"ticks\":\"\"}}}],\"scattermapbox\":[{\"type\":\"scattermapbox\",\"marker\":{\"colorbar\":{\"outlinewidth\":0,\"ticks\":\"\"}}}],\"scatterternary\":[{\"type\":\"scatterternary\",\"marker\":{\"colorbar\":{\"outlinewidth\":0,\"ticks\":\"\"}}}],\"scattercarpet\":[{\"type\":\"scattercarpet\",\"marker\":{\"colorbar\":{\"outlinewidth\":0,\"ticks\":\"\"}}}],\"carpet\":[{\"aaxis\":{\"endlinecolor\":\"#2a3f5f\",\"gridcolor\":\"white\",\"linecolor\":\"white\",\"minorgridcolor\":\"white\",\"startlinecolor\":\"#2a3f5f\"},\"baxis\":{\"endlinecolor\":\"#2a3f5f\",\"gridcolor\":\"white\",\"linecolor\":\"white\",\"minorgridcolor\":\"white\",\"startlinecolor\":\"#2a3f5f\"},\"type\":\"carpet\"}],\"table\":[{\"cells\":{\"fill\":{\"color\":\"#EBF0F8\"},\"line\":{\"color\":\"white\"}},\"header\":{\"fill\":{\"color\":\"#C8D4E3\"},\"line\":{\"color\":\"white\"}},\"type\":\"table\"}],\"barpolar\":[{\"marker\":{\"line\":{\"color\":\"#E5ECF6\",\"width\":0.5},\"pattern\":{\"fillmode\":\"overlay\",\"size\":10,\"solidity\":0.2}},\"type\":\"barpolar\"}],\"pie\":[{\"automargin\":true,\"type\":\"pie\"}]},\"layout\":{\"autotypenumbers\":\"strict\",\"colorway\":[\"#636efa\",\"#EF553B\",\"#00cc96\",\"#ab63fa\",\"#FFA15A\",\"#19d3f3\",\"#FF6692\",\"#B6E880\",\"#FF97FF\",\"#FECB52\"],\"font\":{\"color\":\"#2a3f5f\"},\"hovermode\":\"closest\",\"hoverlabel\":{\"align\":\"left\"},\"paper_bgcolor\":\"white\",\"plot_bgcolor\":\"#E5ECF6\",\"polar\":{\"bgcolor\":\"#E5ECF6\",\"angularaxis\":{\"gridcolor\":\"white\",\"linecolor\":\"white\",\"ticks\":\"\"},\"radialaxis\":{\"gridcolor\":\"white\",\"linecolor\":\"white\",\"ticks\":\"\"}},\"ternary\":{\"bgcolor\":\"#E5ECF6\",\"aaxis\":{\"gridcolor\":\"white\",\"linecolor\":\"white\",\"ticks\":\"\"},\"baxis\":{\"gridcolor\":\"white\",\"linecolor\":\"white\",\"ticks\":\"\"},\"caxis\":{\"gridcolor\":\"white\",\"linecolor\":\"white\",\"ticks\":\"\"}},\"coloraxis\":{\"colorbar\":{\"outlinewidth\":0,\"ticks\":\"\"}},\"colorscale\":{\"sequential\":[[0.0,\"#0d0887\"],[0.1111111111111111,\"#46039f\"],[0.2222222222222222,\"#7201a8\"],[0.3333333333333333,\"#9c179e\"],[0.4444444444444444,\"#bd3786\"],[0.5555555555555556,\"#d8576b\"],[0.6666666666666666,\"#ed7953\"],[0.7777777777777778,\"#fb9f3a\"],[0.8888888888888888,\"#fdca26\"],[1.0,\"#f0f921\"]],\"sequentialminus\":[[0.0,\"#0d0887\"],[0.1111111111111111,\"#46039f\"],[0.2222222222222222,\"#7201a8\"],[0.3333333333333333,\"#9c179e\"],[0.4444444444444444,\"#bd3786\"],[0.5555555555555556,\"#d8576b\"],[0.6666666666666666,\"#ed7953\"],[0.7777777777777778,\"#fb9f3a\"],[0.8888888888888888,\"#fdca26\"],[1.0,\"#f0f921\"]],\"diverging\":[[0,\"#8e0152\"],[0.1,\"#c51b7d\"],[0.2,\"#de77ae\"],[0.3,\"#f1b6da\"],[0.4,\"#fde0ef\"],[0.5,\"#f7f7f7\"],[0.6,\"#e6f5d0\"],[0.7,\"#b8e186\"],[0.8,\"#7fbc41\"],[0.9,\"#4d9221\"],[1,\"#276419\"]]},\"xaxis\":{\"gridcolor\":\"white\",\"linecolor\":\"white\",\"ticks\":\"\",\"title\":{\"standoff\":15},\"zerolinecolor\":\"white\",\"automargin\":true,\"zerolinewidth\":2},\"yaxis\":{\"gridcolor\":\"white\",\"linecolor\":\"white\",\"ticks\":\"\",\"title\":{\"standoff\":15},\"zerolinecolor\":\"white\",\"automargin\":true,\"zerolinewidth\":2},\"scene\":{\"xaxis\":{\"backgroundcolor\":\"#E5ECF6\",\"gridcolor\":\"white\",\"linecolor\":\"white\",\"showbackground\":true,\"ticks\":\"\",\"zerolinecolor\":\"white\",\"gridwidth\":2},\"yaxis\":{\"backgroundcolor\":\"#E5ECF6\",\"gridcolor\":\"white\",\"linecolor\":\"white\",\"showbackground\":true,\"ticks\":\"\",\"zerolinecolor\":\"white\",\"gridwidth\":2},\"zaxis\":{\"backgroundcolor\":\"#E5ECF6\",\"gridcolor\":\"white\",\"linecolor\":\"white\",\"showbackground\":true,\"ticks\":\"\",\"zerolinecolor\":\"white\",\"gridwidth\":2}},\"shapedefaults\":{\"line\":{\"color\":\"#2a3f5f\"}},\"annotationdefaults\":{\"arrowcolor\":\"#2a3f5f\",\"arrowhead\":0,\"arrowwidth\":1},\"geo\":{\"bgcolor\":\"white\",\"landcolor\":\"#E5ECF6\",\"subunitcolor\":\"white\",\"showland\":true,\"showlakes\":true,\"lakecolor\":\"white\"},\"title\":{\"x\":0.05},\"mapbox\":{\"style\":\"light\"}}},\"xaxis\":{\"anchor\":\"y\",\"domain\":[0.0,1.0],\"title\":{\"text\":\"JobRole\"}},\"yaxis\":{\"anchor\":\"x\",\"domain\":[0.0,1.0],\"title\":{\"text\":\"Attrition\"}},\"legend\":{\"tracegroupgap\":0},\"title\":{\"text\":\"What is the most job role of attritions?\"},\"barmode\":\"relative\"},                        {\"responsive\": true}                    ).then(function(){\n",
       "                            \n",
       "var gd = document.getElementById('e3eddaa1-2fc5-425f-9b4d-5a687a0ad7d9');\n",
       "var x = new MutationObserver(function (mutations, observer) {{\n",
       "        var display = window.getComputedStyle(gd).display;\n",
       "        if (!display || display === 'none') {{\n",
       "            console.log([gd, 'removed!']);\n",
       "            Plotly.purge(gd);\n",
       "            observer.disconnect();\n",
       "        }}\n",
       "}});\n",
       "\n",
       "// Listen for the removal of the full notebook cells\n",
       "var notebookContainer = gd.closest('#notebook-container');\n",
       "if (notebookContainer) {{\n",
       "    x.observe(notebookContainer, {childList: true});\n",
       "}}\n",
       "\n",
       "// Listen for the clearing of the current output cell\n",
       "var outputEl = gd.closest('.output');\n",
       "if (outputEl) {{\n",
       "    x.observe(outputEl, {childList: true});\n",
       "}}\n",
       "\n",
       "                        })                };                });            </script>        </div>"
      ]
     },
     "metadata": {},
     "output_type": "display_data"
    }
   ],
   "source": [
    "fig = px.bar(df, y='Attrition', x='JobRole',\n",
    "            title=\"What is the most job role of attritions?\",)\n",
    "fig.show()"
   ]
  },
  {
   "cell_type": "markdown",
   "id": "43dd9d4a",
   "metadata": {
    "papermill": {
     "duration": 0.049231,
     "end_time": "2023-08-22T12:30:11.470453",
     "exception": false,
     "start_time": "2023-08-22T12:30:11.421222",
     "status": "completed"
    },
    "tags": []
   },
   "source": [
    "*  Sales Representative is the most job role of attritions "
   ]
  },
  {
   "cell_type": "markdown",
   "id": "fb37dffe",
   "metadata": {
    "papermill": {
     "duration": 0.047855,
     "end_time": "2023-08-22T12:30:11.566513",
     "exception": false,
     "start_time": "2023-08-22T12:30:11.518658",
     "status": "completed"
    },
    "tags": []
   },
   "source": [
    "### 9- .Do overtime stresses employees and makes them have to leave?"
   ]
  },
  {
   "cell_type": "code",
   "execution_count": 33,
   "id": "7072e1f8",
   "metadata": {
    "execution": {
     "iopub.execute_input": "2023-08-22T12:30:11.665120Z",
     "iopub.status.busy": "2023-08-22T12:30:11.664685Z",
     "iopub.status.idle": "2023-08-22T12:30:11.857471Z",
     "shell.execute_reply": "2023-08-22T12:30:11.856352Z"
    },
    "papermill": {
     "duration": 0.245724,
     "end_time": "2023-08-22T12:30:11.860044",
     "exception": false,
     "start_time": "2023-08-22T12:30:11.614320",
     "status": "completed"
    },
    "tags": []
   },
   "outputs": [
    {
     "data": {
      "image/png": "[encoded data removed]",
      "text/plain": [
       "<Figure size 640x480 with 1 Axes>"
      ]
     },
     "metadata": {},
     "output_type": "display_data"
    }
   ],
   "source": [
    "df.groupby([\"JobRole\"])[\"OverTime\"].sum().plot(kind=\"pie\",autopct = \"%1.2f%%\")\n",
    "plt.show()"
   ]
  },
  {
   "cell_type": "markdown",
   "id": "c7ae6ed6",
   "metadata": {
    "papermill": {
     "duration": 0.048893,
     "end_time": "2023-08-22T12:30:11.958253",
     "exception": false,
     "start_time": "2023-08-22T12:30:11.909360",
     "status": "completed"
    },
    "tags": []
   },
   "source": [
    "overtime => JobRole ملهاش علاقه اوي ب  "
   ]
  },
  {
   "cell_type": "code",
   "execution_count": 34,
   "id": "e0729924",
   "metadata": {
    "execution": {
     "iopub.execute_input": "2023-08-22T12:30:12.059373Z",
     "iopub.status.busy": "2023-08-22T12:30:12.058996Z",
     "iopub.status.idle": "2023-08-22T12:30:12.163642Z",
     "shell.execute_reply": "2023-08-22T12:30:12.162185Z"
    },
    "papermill": {
     "duration": 0.15919,
     "end_time": "2023-08-22T12:30:12.166348",
     "exception": false,
     "start_time": "2023-08-22T12:30:12.007158",
     "status": "completed"
    },
    "tags": []
   },
   "outputs": [
    {
     "data": {
      "image/png": "[encoded data removed]",
      "text/plain": [
       "<Figure size 640x480 with 1 Axes>"
      ]
     },
     "metadata": {},
     "output_type": "display_data"
    }
   ],
   "source": [
    "df.groupby([\"Attrition\"])[\"OverTime\"].sum().plot(kind=\"pie\",autopct = \"%1.2f%%\")\n",
    "plt.show()"
   ]
  },
  {
   "cell_type": "markdown",
   "id": "e55ae9c1",
   "metadata": {
    "papermill": {
     "duration": 0.051144,
     "end_time": "2023-08-22T12:30:12.267947",
     "exception": false,
     "start_time": "2023-08-22T12:30:12.216803",
     "status": "completed"
    },
    "tags": []
   },
   "source": [
    "* overtime  effect on attrition becouse people have to leave is 30%"
   ]
  },
  {
   "cell_type": "markdown",
   "id": "008884d5",
   "metadata": {
    "papermill": {
     "duration": 0.049449,
     "end_time": "2023-08-22T12:30:12.367488",
     "exception": false,
     "start_time": "2023-08-22T12:30:12.318039",
     "status": "completed"
    },
    "tags": []
   },
   "source": [
    "### 2. How Is Attrition Affected by business travels?"
   ]
  },
  {
   "cell_type": "code",
   "execution_count": 35,
   "id": "cbd2e6a3",
   "metadata": {
    "execution": {
     "iopub.execute_input": "2023-08-22T12:30:12.467684Z",
     "iopub.status.busy": "2023-08-22T12:30:12.466928Z",
     "iopub.status.idle": "2023-08-22T12:30:13.001039Z",
     "shell.execute_reply": "2023-08-22T12:30:12.999942Z"
    },
    "papermill": {
     "duration": 0.587433,
     "end_time": "2023-08-22T12:30:13.003603",
     "exception": false,
     "start_time": "2023-08-22T12:30:12.416170",
     "status": "completed"
    },
    "tags": []
   },
   "outputs": [
    {
     "name": "stderr",
     "output_type": "stream",
     "text": [
      "/opt/conda/lib/python3.10/site-packages/seaborn/axisgrid.py:118: UserWarning:\n",
      "\n",
      "The figure layout has changed to tight\n",
      "\n"
     ]
    },
    {
     "data": {
      "image/png": "[encoded data removed]",
      "text/plain": [
       "<Figure size 1000x500 with 2 Axes>"
      ]
     },
     "metadata": {},
     "output_type": "display_data"
    }
   ],
   "source": [
    "sns.displot(data = df1, x = \"BusinessTravel\",col =\"Attrition\" ,color=\"#0000CD\")\n",
    "plt.show()"
   ]
  },
  {
   "cell_type": "markdown",
   "id": "bc56beb8",
   "metadata": {
    "papermill": {
     "duration": 0.05026,
     "end_time": "2023-08-22T12:30:13.103247",
     "exception": false,
     "start_time": "2023-08-22T12:30:13.052987",
     "status": "completed"
    },
    "tags": []
   },
   "source": [
    "12.5% employee is resigning/retiring from travel_Rerely,\n",
    "25% employee is resigning/retiring from travel_Frequently and \n",
    "11% employee is resigning/retiring from no_Rerely"
   ]
  },
  {
   "cell_type": "markdown",
   "id": "cb639c38",
   "metadata": {
    "papermill": {
     "duration": 0.049099,
     "end_time": "2023-08-22T12:30:13.201649",
     "exception": false,
     "start_time": "2023-08-22T12:30:13.152550",
     "status": "completed"
    },
    "tags": []
   },
   "source": [
    "### 18-Does company stocks for employees impact attrition?\n",
    "\n",
    " `StockOptionLevel`       ==>Level 0 - No options trading allowed.\n",
    "\n",
    "        Level 1 - Writing of Covered Calls, Buying Protective Puts.\n",
    "\n",
    "        Level 2 - Level 1 + Buying Calls, Buying Puts, Writing Covered Puts.\n",
    "\n",
    "        Level 3 - Level 2+ Stock Option Spreads, Index Option Spreads, Butterfly Spreads, Condor Spreads, Iron Butterfly Spreads, Iron Condor Spreads."
   ]
  },
  {
   "cell_type": "code",
   "execution_count": 36,
   "id": "fb244cba",
   "metadata": {
    "execution": {
     "iopub.execute_input": "2023-08-22T12:30:13.302110Z",
     "iopub.status.busy": "2023-08-22T12:30:13.301395Z",
     "iopub.status.idle": "2023-08-22T12:30:13.310935Z",
     "shell.execute_reply": "2023-08-22T12:30:13.309481Z"
    },
    "papermill": {
     "duration": 0.062656,
     "end_time": "2023-08-22T12:30:13.313464",
     "exception": false,
     "start_time": "2023-08-22T12:30:13.250808",
     "status": "completed"
    },
    "scrolled": true,
    "tags": []
   },
   "outputs": [
    {
     "data": {
      "text/plain": [
       "0    631\n",
       "1    596\n",
       "2    158\n",
       "3     85\n",
       "Name: StockOptionLevel, dtype: int64"
      ]
     },
     "execution_count": 36,
     "metadata": {},
     "output_type": "execute_result"
    }
   ],
   "source": [
    "df[\"StockOptionLevel\"].value_counts()"
   ]
  },
  {
   "cell_type": "code",
   "execution_count": 37,
   "id": "9949872a",
   "metadata": {
    "execution": {
     "iopub.execute_input": "2023-08-22T12:30:13.413965Z",
     "iopub.status.busy": "2023-08-22T12:30:13.413551Z",
     "iopub.status.idle": "2023-08-22T12:30:13.424121Z",
     "shell.execute_reply": "2023-08-22T12:30:13.423006Z"
    },
    "papermill": {
     "duration": 0.063397,
     "end_time": "2023-08-22T12:30:13.426417",
     "exception": false,
     "start_time": "2023-08-22T12:30:13.363020",
     "status": "completed"
    },
    "tags": []
   },
   "outputs": [
    {
     "data": {
      "text/plain": [
       "StockOptionLevel  Attrition\n",
       "0                 No           477\n",
       "                  Yes          154\n",
       "1                 No           540\n",
       "                  Yes           56\n",
       "2                 No           146\n",
       "                  Yes           12\n",
       "3                 No            70\n",
       "                  Yes           15\n",
       "Name: Attrition, dtype: int64"
      ]
     },
     "execution_count": 37,
     "metadata": {},
     "output_type": "execute_result"
    }
   ],
   "source": [
    "df1.groupby(\"StockOptionLevel\")[\"Attrition\"].value_counts()\n"
   ]
  },
  {
   "cell_type": "code",
   "execution_count": 38,
   "id": "1d12fea6",
   "metadata": {
    "execution": {
     "iopub.execute_input": "2023-08-22T12:30:13.526603Z",
     "iopub.status.busy": "2023-08-22T12:30:13.526193Z",
     "iopub.status.idle": "2023-08-22T12:30:13.600161Z",
     "shell.execute_reply": "2023-08-22T12:30:13.599305Z"
    },
    "papermill": {
     "duration": 0.126712,
     "end_time": "2023-08-22T12:30:13.602410",
     "exception": false,
     "start_time": "2023-08-22T12:30:13.475698",
     "status": "completed"
    },
    "scrolled": true,
    "tags": []
   },
   "outputs": [
    {
     "data": {
      "text/html": [
       "<div>                            <div id=\"a10d19cf-80a9-4d8c-a100-574b97676337\" class=\"plotly-graph-div\" style=\"height:525px; width:100%;\"></div>            <script type=\"text/javascript\">                require([\"plotly\"], function(Plotly) {                    window.PLOTLYENV=window.PLOTLYENV || {};                                    if (document.getElementById(\"a10d19cf-80a9-4d8c-a100-574b97676337\")) {                    Plotly.newPlot(                        \"a10d19cf-80a9-4d8c-a100-574b97676337\",                        [{\"alignmentgroup\":\"True\",\"hovertemplate\":\"StockOptionLevel=%{x}\\u003cbr\\u003eAttrition=%{y}\\u003cextra\\u003e\\u003c\\u002fextra\\u003e\",\"legendgroup\":\"\",\"marker\":{\"color\":\"#636efa\",\"pattern\":{\"shape\":\"\"}},\"name\":\"\",\"offsetgroup\":\"\",\"orientation\":\"v\",\"showlegend\":false,\"textposition\":\"auto\",\"texttemplate\":\"%{y:.2s}\",\"x\":[0,1,0,0,1,0,3,1,0,2,1,0,1,1,0,1,2,2,0,0,1,0,0,0,0,1,0,1,1,0,0,0,0,1,1,2,0,0,1,2,1,1,0,0,0,0,0,0,0,0,0,0,1,1,1,0,1,1,1,1,1,0,1,0,3,3,0,1,1,1,0,1,0,2,0,0,0,0,0,1,2,0,1,3,0,0,1,2,3,0,1,0,3,1,0,1,1,0,0,1,0,0,0,0,1,1,0,0,2,0,0,0,0,1,1,0,0,1,1,2,3,1,3,0,0,0,1,0,1,0,0,0,1,1,1,2,0,1,0,0,0,0,0,0,3,1,0,1,1,0,1,2,1,1,0,1,0,1,1,1,2,1,1,1,1,0,1,1,0,0,1,0,0,2,1,1,0,0,3,0,1,0,0,1,2,1,1,0,0,0,1,0,0,3,1,1,0,1,0,1,1,2,1,1,0,3,1,0,1,1,0,0,0,2,0,0,0,0,0,1,0,0,3,2,1,1,1,1,0,0,0,0,0,1,1,1,0,0,1,0,3,0,2,2,1,1,1,1,1,1,2,0,0,0,1,2,1,1,0,0,0,1,0,1,0,2,1,2,0,1,0,1,1,1,0,2,1,1,1,2,3,0,0,1,1,0,1,1,1,0,0,0,1,0,3,1,0,2,2,1,0,0,0,1,3,1,1,1,1,1,0,1,1,2,0,0,0,0,0,0,0,3,0,0,2,1,1,0,0,1,1,1,0,1,2,3,0,0,3,1,2,1,0,2,0,2,0,0,0,1,1,1,1,2,1,1,0,0,0,1,0,1,0,0,1,0,0,0,2,0,0,0,0,1,0,0,1,1,0,0,1,1,0,1,2,0,1,2,1,0,1,1,1,1,1,1,0,0,2,1,1,3,0,1,1,1,0,2,0,1,0,0,1,3,0,1,1,0,2,1,0,0,0,0,1,1,0,0,3,0,0,0,1,1,1,0,3,0,0,0,3,1,0,0,1,0,0,0,0,1,0,1,1,1,2,1,1,0,1,0,2,0,0,0,0,0,1,1,2,0,2,1,1,1,2,2,1,1,0,1,1,1,0,0,2,2,1,0,2,1,0,1,1,0,2,1,0,1,0,0,1,1,0,1,2,1,1,1,0,1,1,1,0,0,0,2,1,1,0,1,0,2,0,3,0,0,0,0,1,0,0,0,0,1,0,3,0,2,1,1,0,1,0,0,2,1,0,0,1,0,1,1,0,0,0,2,0,1,2,1,1,0,0,0,0,0,0,0,1,0,1,1,1,0,0,2,1,2,0,0,1,2,1,1,1,2,3,1,0,1,0,0,1,1,1,0,0,1,0,1,1,0,0,0,1,1,0,2,0,1,1,0,0,1,1,3,1,0,0,1,0,1,1,1,1,1,1,0,2,1,2,1,0,0,0,1,1,1,0,1,0,1,1,1,1,3,1,0,1,0,1,1,0,1,2,1,0,3,0,0,1,1,0,0,1,0,1,1,1,0,0,2,0,0,1,0,1,1,2,1,0,1,0,3,1,0,0,0,0,0,2,1,1,1,0,0,0,1,0,1,0,1,1,0,1,0,0,0,2,0,0,0,0,2,1,1,1,1,1,0,0,1,1,1,2,1,1,0,1,1,3,0,0,0,1,0,0,0,1,1,1,0,0,0,0,2,2,0,0,1,1,1,0,0,0,1,0,1,1,0,1,1,1,1,0,1,1,0,1,2,2,1,1,0,0,1,0,0,3,3,0,2,1,0,1,1,3,1,0,1,1,0,0,1,0,3,1,1,0,1,2,0,1,3,0,1,0,2,1,3,1,0,1,3,0,0,0,0,1,0,1,1,0,2,0,1,1,1,0,0,1,1,2,1,0,0,1,0,0,0,1,0,0,1,1,1,1,0,1,0,3,1,1,0,1,1,0,0,1,1,1,0,0,1,1,3,3,1,3,1,3,1,1,1,3,0,0,1,1,1,1,0,1,1,1,0,1,0,1,2,1,1,0,3,0,0,0,0,1,1,0,0,3,2,0,2,0,1,2,0,1,0,0,0,1,0,1,0,1,0,2,0,2,2,0,0,0,0,1,1,0,0,2,0,0,2,0,2,2,1,0,1,0,0,3,0,0,0,2,0,1,0,0,0,0,1,0,1,1,0,1,0,1,1,0,3,0,1,1,0,1,0,0,1,0,0,1,3,3,2,0,1,3,0,1,2,2,0,2,0,0,3,1,0,1,0,0,0,0,1,0,0,0,1,0,0,0,0,0,1,2,0,0,2,0,2,0,0,0,2,1,0,0,1,2,2,1,1,0,2,1,1,0,0,1,0,1,2,3,0,1,0,0,0,1,1,0,2,0,2,0,1,2,1,2,2,1,0,0,1,0,1,0,2,1,0,0,1,0,1,0,1,3,2,0,0,1,0,1,0,1,0,0,0,0,0,0,1,1,0,1,0,1,1,0,1,0,3,0,3,2,1,0,1,2,1,1,0,0,1,1,1,2,1,1,0,1,1,0,1,0,0,0,0,1,1,1,1,1,0,2,1,1,1,1,0,3,0,1,2,1,1,0,1,0,2,1,1,3,2,0,1,0,0,1,1,2,1,3,0,2,1,0,1,0,0,1,2,0,0,0,0,0,2,2,0,2,3,0,1,0,1,0,1,1,1,0,2,1,2,2,2,1,0,3,0,0,0,1,2,3,0,1,0,2,0,0,1,1,1,3,2,0,1,1,0,1,1,0,1,0,1,1,0,3,0,1,1,1,1,3,0,1,1,1,1,3,0,0,0,1,1,0,2,0,1,1,1,0,0,0,1,3,0,0,0,1,3,1,1,0,1,1,3,3,2,2,1,3,0,0,0,1,0,2,0,2,1,1,3,0,0,1,1,0,0,1,2,1,3,1,0,1,0,0,1,0,0,1,1,2,1,1,1,1,1,2,1,2,0,0,0,0,3,2,1,1,0,0,0,2,0,1,1,2,0,0,1,1,0,0,0,0,3,1,3,1,1,0,0,1,1,3,0,1,0,2,0,1,1,0,1,1,1,0,2,1,1,1,0,1,1,0,0,1,0,1,1,0,0,1,1,1,1,1,0,2,0,2,0,1,0,1,0,0,1,0,1,1,0,1,0,0,0,0,0,0,2,3,1,1,1,3,0,0,1,0,0,0,1,1,0,0,1,0,3,2,1,1,1,1,2,1,0,0,1,0,2,1,0,1,2,1,1,2,0,0,0,1,2,3,1,3,0,1,1,2,1,1,0,0,1,2,1,0,0,2,3,1,1,0,1,1,0,0,1,1,1,0,0],\"xaxis\":\"x\",\"y\":[1,0,1,0,0,0,0,0,0,0,0,0,0,0,1,0,0,0,0,0,0,1,0,0,1,0,1,0,0,0,0,0,0,1,1,0,1,0,0,0,0,0,1,0,0,1,0,0,0,0,1,1,0,0,0,0,0,0,0,0,0,0,0,0,0,0,0,0,0,1,0,0,0,0,0,0,0,0,0,0,0,0,0,0,0,0,0,0,0,1,0,0,0,0,0,0,0,0,0,0,1,0,1,0,0,0,0,1,0,0,0,1,0,0,0,0,0,0,0,0,0,0,1,0,1,0,1,1,0,0,0,0,1,0,0,0,1,0,0,0,1,0,0,0,0,0,0,0,0,0,0,0,0,0,0,0,0,0,0,0,0,0,0,0,0,0,0,0,0,0,0,1,0,0,0,0,0,1,0,0,0,0,1,0,0,0,0,0,0,0,0,0,1,0,0,0,0,0,0,0,0,0,0,0,1,1,0,0,0,0,1,0,0,0,1,0,1,1,0,0,0,0,0,0,0,0,0,0,0,1,0,0,0,0,1,0,1,0,0,1,0,0,0,0,0,0,0,0,0,0,1,0,0,0,0,0,0,0,0,1,0,0,0,0,1,0,0,0,0,0,0,1,0,0,0,0,0,0,0,0,0,0,0,0,0,0,1,0,1,0,0,0,0,1,0,0,1,0,0,0,0,0,0,0,0,0,0,0,0,0,0,0,0,0,0,0,0,1,0,0,0,0,0,1,0,0,0,1,0,0,0,0,0,0,0,0,1,0,0,0,0,0,0,0,0,0,0,0,0,0,0,0,0,0,0,0,0,1,0,0,0,0,0,1,0,0,1,0,1,0,1,0,0,0,0,0,0,0,1,0,0,0,1,0,0,1,0,0,0,0,0,0,0,0,0,0,0,0,0,0,0,0,0,0,0,1,0,0,0,0,0,0,0,0,1,1,0,0,0,0,0,1,1,0,0,0,0,0,0,0,0,0,0,0,0,1,1,0,0,1,1,0,0,1,0,0,0,0,0,0,0,0,0,1,0,0,0,1,0,0,0,0,0,1,0,0,0,0,0,1,0,0,0,0,0,0,0,0,0,1,1,0,1,0,0,0,0,0,0,0,0,0,0,0,0,1,0,0,0,0,0,0,0,0,1,0,0,0,0,0,0,0,0,1,1,0,0,0,0,0,0,0,0,0,0,1,0,0,1,0,0,0,0,0,0,0,0,0,0,0,1,0,0,0,0,0,0,1,0,0,0,0,0,0,0,0,0,0,0,0,0,0,1,0,0,0,1,0,1,0,0,0,0,1,0,0,0,0,0,0,0,0,0,0,0,1,0,0,0,1,0,1,0,0,0,1,0,0,1,0,0,0,0,0,0,0,0,1,1,0,0,0,0,0,1,0,0,0,0,0,0,0,0,0,0,0,0,0,0,0,0,0,0,0,0,0,1,0,0,0,0,0,0,0,0,1,0,0,0,0,0,0,0,0,0,0,1,0,0,0,1,0,1,1,0,0,1,1,0,1,0,0,0,0,0,0,0,0,0,0,0,0,0,1,0,0,0,0,1,1,0,0,0,1,0,1,0,0,0,0,1,0,0,0,0,0,1,0,0,1,0,1,0,0,0,0,0,0,0,0,1,0,0,0,0,1,0,0,0,0,0,1,1,0,0,0,0,0,0,0,0,0,0,0,1,0,0,0,1,1,0,0,1,0,0,0,0,0,0,0,0,1,1,0,0,0,0,0,0,0,0,0,0,0,0,0,1,1,0,1,1,0,0,0,0,0,0,0,0,1,0,1,1,0,0,0,1,1,1,0,1,1,0,0,0,0,0,0,0,0,0,0,0,1,0,0,0,0,0,0,0,0,0,0,0,0,0,0,1,1,0,1,0,0,0,0,1,0,1,0,0,0,1,0,0,0,0,0,0,1,0,0,0,0,0,0,0,1,0,0,1,0,0,0,1,0,0,0,0,0,0,1,0,0,0,0,0,0,0,0,0,0,0,0,0,0,0,0,0,0,0,0,1,0,0,0,0,0,0,0,0,0,0,0,0,0,0,0,0,0,0,1,0,1,0,1,0,0,0,0,0,0,0,0,0,0,0,0,1,0,0,0,1,0,0,0,0,0,0,1,1,0,0,0,0,0,1,1,0,0,0,0,1,1,0,0,0,0,0,0,0,0,0,0,0,0,1,0,0,0,0,0,0,0,0,1,0,0,0,0,1,1,0,0,0,1,0,0,0,0,0,0,0,0,0,0,0,1,0,0,0,0,0,0,0,0,1,1,0,0,0,0,1,0,0,0,1,0,0,0,0,1,0,0,0,0,0,0,0,0,0,1,1,1,0,0,1,0,0,1,0,0,0,0,0,0,0,0,0,0,0,0,0,0,0,0,1,1,1,0,1,0,0,0,0,0,0,0,1,0,0,0,0,0,0,0,0,1,0,0,0,0,0,1,0,1,0,0,0,0,0,0,0,0,0,0,0,0,0,0,0,0,0,0,0,0,1,0,0,0,1,1,1,0,0,0,0,0,0,0,0,0,0,0,0,0,0,0,0,0,0,0,0,0,0,0,1,0,0,0,0,0,0,0,0,0,0,0,0,0,0,0,0,1,0,0,0,0,0,0,0,0,1,0,0,0,0,1,0,0,0,1,0,0,0,0,0,0,0,0,0,0,0,0,0,0,1,0,0,0,0,0,0,0,0,0,0,0,0,0,0,1,0,0,1,1,0,0,0,0,0,0,0,1,0,0,0,0,0,0,0,0,1,1,0,0,0,0,0,0,0,0,0,0,0,0,1,1,0,0,0,0,0,0,0,0,1,0,0,1,0,0,0,0,0,1,0,1,0,0,0,0,1,0,0,0,0,0,0,0,0,1,0,1,0,0,0,0,0,1,0,1,0,0,0,0,0,0,0,0,1,1,0,0,0,0,0,1,1,0,0,0,0,0,0,0,0,0,0,0,0,0,1,1,0,0,0,0,0,0,0,0,0,0,0,0,1,0,0,0,0,0,1,1,0,0,0,0,1,1,0,0,0,0,0,0,0,0,0,0,0,0,0,1,1,0,0,0,0,0,0,0,0,0,0,1,0,0,0,1,0,0,0,0,0,1,0,0,0,1,0,0,0,0,0,0,0,0,0,0,1,0,0,0,0,1,1,0,0,0,0,0,0,0,0,0,0,0,0,0,0,0,0,0,0,0,0,0,0,0,0,0,0,0,0,0,0,0,0,0,0,0,0,0,0,0,0,0,1,0,0,0,1,0,1,0,0,0,0,0,0,0,1,0,0,0,0,0,0,0,0,1,0,0,0,0,0,0,0,0],\"yaxis\":\"y\",\"type\":\"bar\"}],                        {\"template\":{\"data\":{\"histogram2dcontour\":[{\"type\":\"histogram2dcontour\",\"colorbar\":{\"outlinewidth\":0,\"ticks\":\"\"},\"colorscale\":[[0.0,\"#0d0887\"],[0.1111111111111111,\"#46039f\"],[0.2222222222222222,\"#7201a8\"],[0.3333333333333333,\"#9c179e\"],[0.4444444444444444,\"#bd3786\"],[0.5555555555555556,\"#d8576b\"],[0.6666666666666666,\"#ed7953\"],[0.7777777777777778,\"#fb9f3a\"],[0.8888888888888888,\"#fdca26\"],[1.0,\"#f0f921\"]]}],\"choropleth\":[{\"type\":\"choropleth\",\"colorbar\":{\"outlinewidth\":0,\"ticks\":\"\"}}],\"histogram2d\":[{\"type\":\"histogram2d\",\"colorbar\":{\"outlinewidth\":0,\"ticks\":\"\"},\"colorscale\":[[0.0,\"#0d0887\"],[0.1111111111111111,\"#46039f\"],[0.2222222222222222,\"#7201a8\"],[0.3333333333333333,\"#9c179e\"],[0.4444444444444444,\"#bd3786\"],[0.5555555555555556,\"#d8576b\"],[0.6666666666666666,\"#ed7953\"],[0.7777777777777778,\"#fb9f3a\"],[0.8888888888888888,\"#fdca26\"],[1.0,\"#f0f921\"]]}],\"heatmap\":[{\"type\":\"heatmap\",\"colorbar\":{\"outlinewidth\":0,\"ticks\":\"\"},\"colorscale\":[[0.0,\"#0d0887\"],[0.1111111111111111,\"#46039f\"],[0.2222222222222222,\"#7201a8\"],[0.3333333333333333,\"#9c179e\"],[0.4444444444444444,\"#bd3786\"],[0.5555555555555556,\"#d8576b\"],[0.6666666666666666,\"#ed7953\"],[0.7777777777777778,\"#fb9f3a\"],[0.8888888888888888,\"#fdca26\"],[1.0,\"#f0f921\"]]}],\"heatmapgl\":[{\"type\":\"heatmapgl\",\"colorbar\":{\"outlinewidth\":0,\"ticks\":\"\"},\"colorscale\":[[0.0,\"#0d0887\"],[0.1111111111111111,\"#46039f\"],[0.2222222222222222,\"#7201a8\"],[0.3333333333333333,\"#9c179e\"],[0.4444444444444444,\"#bd3786\"],[0.5555555555555556,\"#d8576b\"],[0.6666666666666666,\"#ed7953\"],[0.7777777777777778,\"#fb9f3a\"],[0.8888888888888888,\"#fdca26\"],[1.0,\"#f0f921\"]]}],\"contourcarpet\":[{\"type\":\"contourcarpet\",\"colorbar\":{\"outlinewidth\":0,\"ticks\":\"\"}}],\"contour\":[{\"type\":\"contour\",\"colorbar\":{\"outlinewidth\":0,\"ticks\":\"\"},\"colorscale\":[[0.0,\"#0d0887\"],[0.1111111111111111,\"#46039f\"],[0.2222222222222222,\"#7201a8\"],[0.3333333333333333,\"#9c179e\"],[0.4444444444444444,\"#bd3786\"],[0.5555555555555556,\"#d8576b\"],[0.6666666666666666,\"#ed7953\"],[0.7777777777777778,\"#fb9f3a\"],[0.8888888888888888,\"#fdca26\"],[1.0,\"#f0f921\"]]}],\"surface\":[{\"type\":\"surface\",\"colorbar\":{\"outlinewidth\":0,\"ticks\":\"\"},\"colorscale\":[[0.0,\"#0d0887\"],[0.1111111111111111,\"#46039f\"],[0.2222222222222222,\"#7201a8\"],[0.3333333333333333,\"#9c179e\"],[0.4444444444444444,\"#bd3786\"],[0.5555555555555556,\"#d8576b\"],[0.6666666666666666,\"#ed7953\"],[0.7777777777777778,\"#fb9f3a\"],[0.8888888888888888,\"#fdca26\"],[1.0,\"#f0f921\"]]}],\"mesh3d\":[{\"type\":\"mesh3d\",\"colorbar\":{\"outlinewidth\":0,\"ticks\":\"\"}}],\"scatter\":[{\"fillpattern\":{\"fillmode\":\"overlay\",\"size\":10,\"solidity\":0.2},\"type\":\"scatter\"}],\"parcoords\":[{\"type\":\"parcoords\",\"line\":{\"colorbar\":{\"outlinewidth\":0,\"ticks\":\"\"}}}],\"scatterpolargl\":[{\"type\":\"scatterpolargl\",\"marker\":{\"colorbar\":{\"outlinewidth\":0,\"ticks\":\"\"}}}],\"bar\":[{\"error_x\":{\"color\":\"#2a3f5f\"},\"error_y\":{\"color\":\"#2a3f5f\"},\"marker\":{\"line\":{\"color\":\"#E5ECF6\",\"width\":0.5},\"pattern\":{\"fillmode\":\"overlay\",\"size\":10,\"solidity\":0.2}},\"type\":\"bar\"}],\"scattergeo\":[{\"type\":\"scattergeo\",\"marker\":{\"colorbar\":{\"outlinewidth\":0,\"ticks\":\"\"}}}],\"scatterpolar\":[{\"type\":\"scatterpolar\",\"marker\":{\"colorbar\":{\"outlinewidth\":0,\"ticks\":\"\"}}}],\"histogram\":[{\"marker\":{\"pattern\":{\"fillmode\":\"overlay\",\"size\":10,\"solidity\":0.2}},\"type\":\"histogram\"}],\"scattergl\":[{\"type\":\"scattergl\",\"marker\":{\"colorbar\":{\"outlinewidth\":0,\"ticks\":\"\"}}}],\"scatter3d\":[{\"type\":\"scatter3d\",\"line\":{\"colorbar\":{\"outlinewidth\":0,\"ticks\":\"\"}},\"marker\":{\"colorbar\":{\"outlinewidth\":0,\"ticks\":\"\"}}}],\"scattermapbox\":[{\"type\":\"scattermapbox\",\"marker\":{\"colorbar\":{\"outlinewidth\":0,\"ticks\":\"\"}}}],\"scatterternary\":[{\"type\":\"scatterternary\",\"marker\":{\"colorbar\":{\"outlinewidth\":0,\"ticks\":\"\"}}}],\"scattercarpet\":[{\"type\":\"scattercarpet\",\"marker\":{\"colorbar\":{\"outlinewidth\":0,\"ticks\":\"\"}}}],\"carpet\":[{\"aaxis\":{\"endlinecolor\":\"#2a3f5f\",\"gridcolor\":\"white\",\"linecolor\":\"white\",\"minorgridcolor\":\"white\",\"startlinecolor\":\"#2a3f5f\"},\"baxis\":{\"endlinecolor\":\"#2a3f5f\",\"gridcolor\":\"white\",\"linecolor\":\"white\",\"minorgridcolor\":\"white\",\"startlinecolor\":\"#2a3f5f\"},\"type\":\"carpet\"}],\"table\":[{\"cells\":{\"fill\":{\"color\":\"#EBF0F8\"},\"line\":{\"color\":\"white\"}},\"header\":{\"fill\":{\"color\":\"#C8D4E3\"},\"line\":{\"color\":\"white\"}},\"type\":\"table\"}],\"barpolar\":[{\"marker\":{\"line\":{\"color\":\"#E5ECF6\",\"width\":0.5},\"pattern\":{\"fillmode\":\"overlay\",\"size\":10,\"solidity\":0.2}},\"type\":\"barpolar\"}],\"pie\":[{\"automargin\":true,\"type\":\"pie\"}]},\"layout\":{\"autotypenumbers\":\"strict\",\"colorway\":[\"#636efa\",\"#EF553B\",\"#00cc96\",\"#ab63fa\",\"#FFA15A\",\"#19d3f3\",\"#FF6692\",\"#B6E880\",\"#FF97FF\",\"#FECB52\"],\"font\":{\"color\":\"#2a3f5f\"},\"hovermode\":\"closest\",\"hoverlabel\":{\"align\":\"left\"},\"paper_bgcolor\":\"white\",\"plot_bgcolor\":\"#E5ECF6\",\"polar\":{\"bgcolor\":\"#E5ECF6\",\"angularaxis\":{\"gridcolor\":\"white\",\"linecolor\":\"white\",\"ticks\":\"\"},\"radialaxis\":{\"gridcolor\":\"white\",\"linecolor\":\"white\",\"ticks\":\"\"}},\"ternary\":{\"bgcolor\":\"#E5ECF6\",\"aaxis\":{\"gridcolor\":\"white\",\"linecolor\":\"white\",\"ticks\":\"\"},\"baxis\":{\"gridcolor\":\"white\",\"linecolor\":\"white\",\"ticks\":\"\"},\"caxis\":{\"gridcolor\":\"white\",\"linecolor\":\"white\",\"ticks\":\"\"}},\"coloraxis\":{\"colorbar\":{\"outlinewidth\":0,\"ticks\":\"\"}},\"colorscale\":{\"sequential\":[[0.0,\"#0d0887\"],[0.1111111111111111,\"#46039f\"],[0.2222222222222222,\"#7201a8\"],[0.3333333333333333,\"#9c179e\"],[0.4444444444444444,\"#bd3786\"],[0.5555555555555556,\"#d8576b\"],[0.6666666666666666,\"#ed7953\"],[0.7777777777777778,\"#fb9f3a\"],[0.8888888888888888,\"#fdca26\"],[1.0,\"#f0f921\"]],\"sequentialminus\":[[0.0,\"#0d0887\"],[0.1111111111111111,\"#46039f\"],[0.2222222222222222,\"#7201a8\"],[0.3333333333333333,\"#9c179e\"],[0.4444444444444444,\"#bd3786\"],[0.5555555555555556,\"#d8576b\"],[0.6666666666666666,\"#ed7953\"],[0.7777777777777778,\"#fb9f3a\"],[0.8888888888888888,\"#fdca26\"],[1.0,\"#f0f921\"]],\"diverging\":[[0,\"#8e0152\"],[0.1,\"#c51b7d\"],[0.2,\"#de77ae\"],[0.3,\"#f1b6da\"],[0.4,\"#fde0ef\"],[0.5,\"#f7f7f7\"],[0.6,\"#e6f5d0\"],[0.7,\"#b8e186\"],[0.8,\"#7fbc41\"],[0.9,\"#4d9221\"],[1,\"#276419\"]]},\"xaxis\":{\"gridcolor\":\"white\",\"linecolor\":\"white\",\"ticks\":\"\",\"title\":{\"standoff\":15},\"zerolinecolor\":\"white\",\"automargin\":true,\"zerolinewidth\":2},\"yaxis\":{\"gridcolor\":\"white\",\"linecolor\":\"white\",\"ticks\":\"\",\"title\":{\"standoff\":15},\"zerolinecolor\":\"white\",\"automargin\":true,\"zerolinewidth\":2},\"scene\":{\"xaxis\":{\"backgroundcolor\":\"#E5ECF6\",\"gridcolor\":\"white\",\"linecolor\":\"white\",\"showbackground\":true,\"ticks\":\"\",\"zerolinecolor\":\"white\",\"gridwidth\":2},\"yaxis\":{\"backgroundcolor\":\"#E5ECF6\",\"gridcolor\":\"white\",\"linecolor\":\"white\",\"showbackground\":true,\"ticks\":\"\",\"zerolinecolor\":\"white\",\"gridwidth\":2},\"zaxis\":{\"backgroundcolor\":\"#E5ECF6\",\"gridcolor\":\"white\",\"linecolor\":\"white\",\"showbackground\":true,\"ticks\":\"\",\"zerolinecolor\":\"white\",\"gridwidth\":2}},\"shapedefaults\":{\"line\":{\"color\":\"#2a3f5f\"}},\"annotationdefaults\":{\"arrowcolor\":\"#2a3f5f\",\"arrowhead\":0,\"arrowwidth\":1},\"geo\":{\"bgcolor\":\"white\",\"landcolor\":\"#E5ECF6\",\"subunitcolor\":\"white\",\"showland\":true,\"showlakes\":true,\"lakecolor\":\"white\"},\"title\":{\"x\":0.05},\"mapbox\":{\"style\":\"light\"}}},\"xaxis\":{\"anchor\":\"y\",\"domain\":[0.0,1.0],\"title\":{\"text\":\"StockOptionLevel\"}},\"yaxis\":{\"anchor\":\"x\",\"domain\":[0.0,1.0],\"title\":{\"text\":\"Attrition\"}},\"legend\":{\"tracegroupgap\":0},\"title\":{\"text\":\"Does company stocks for employees impact attrition??\"},\"barmode\":\"relative\"},                        {\"responsive\": true}                    ).then(function(){\n",
       "                            \n",
       "var gd = document.getElementById('a10d19cf-80a9-4d8c-a100-574b97676337');\n",
       "var x = new MutationObserver(function (mutations, observer) {{\n",
       "        var display = window.getComputedStyle(gd).display;\n",
       "        if (!display || display === 'none') {{\n",
       "            console.log([gd, 'removed!']);\n",
       "            Plotly.purge(gd);\n",
       "            observer.disconnect();\n",
       "        }}\n",
       "}});\n",
       "\n",
       "// Listen for the removal of the full notebook cells\n",
       "var notebookContainer = gd.closest('#notebook-container');\n",
       "if (notebookContainer) {{\n",
       "    x.observe(notebookContainer, {childList: true});\n",
       "}}\n",
       "\n",
       "// Listen for the clearing of the current output cell\n",
       "var outputEl = gd.closest('.output');\n",
       "if (outputEl) {{\n",
       "    x.observe(outputEl, {childList: true});\n",
       "}}\n",
       "\n",
       "                        })                };                });            </script>        </div>"
      ]
     },
     "metadata": {},
     "output_type": "display_data"
    }
   ],
   "source": [
    "import plotly.express as px\n",
    "fig = px.bar(df, y='Attrition', x='StockOptionLevel', text_auto='.2s',\n",
    "            title=\"Does company stocks for employees impact attrition??\")\n",
    "fig.show()"
   ]
  },
  {
   "cell_type": "code",
   "execution_count": 39,
   "id": "5826a67f",
   "metadata": {
    "execution": {
     "iopub.execute_input": "2023-08-22T12:30:13.705296Z",
     "iopub.status.busy": "2023-08-22T12:30:13.704839Z",
     "iopub.status.idle": "2023-08-22T12:30:14.250783Z",
     "shell.execute_reply": "2023-08-22T12:30:14.249441Z"
    },
    "papermill": {
     "duration": 0.600203,
     "end_time": "2023-08-22T12:30:14.253270",
     "exception": false,
     "start_time": "2023-08-22T12:30:13.653067",
     "status": "completed"
    },
    "tags": []
   },
   "outputs": [
    {
     "name": "stderr",
     "output_type": "stream",
     "text": [
      "/opt/conda/lib/python3.10/site-packages/seaborn/axisgrid.py:118: UserWarning:\n",
      "\n",
      "The figure layout has changed to tight\n",
      "\n"
     ]
    },
    {
     "data": {
      "image/png": "[encoded data removed]",
      "text/plain": [
       "<Figure size 572.125x500 with 1 Axes>"
      ]
     },
     "metadata": {},
     "output_type": "display_data"
    }
   ],
   "source": [
    "sns.displot(data = df1, x = \"StockOptionLevel\" , hue = \"Attrition\")\n",
    "plt.show()"
   ]
  },
  {
   "cell_type": "markdown",
   "id": "eededf76",
   "metadata": {
    "papermill": {
     "duration": 0.051184,
     "end_time": "2023-08-22T12:30:14.355014",
     "exception": false,
     "start_time": "2023-08-22T12:30:14.303830",
     "status": "completed"
    },
    "tags": []
   },
   "source": [
    "### 24.What business value does the model bring? 35.What factors contribute to retaining high performing employees?\n",
    "دا ليفيل بتاع موظف في شغل بيشتغل بي جد وياخد اوفرتايم ولا لاه "
   ]
  },
  {
   "cell_type": "code",
   "execution_count": 40,
   "id": "68196064",
   "metadata": {
    "execution": {
     "iopub.execute_input": "2023-08-22T12:30:14.459466Z",
     "iopub.status.busy": "2023-08-22T12:30:14.459064Z",
     "iopub.status.idle": "2023-08-22T12:30:14.468273Z",
     "shell.execute_reply": "2023-08-22T12:30:14.467092Z"
    },
    "papermill": {
     "duration": 0.064411,
     "end_time": "2023-08-22T12:30:14.470731",
     "exception": false,
     "start_time": "2023-08-22T12:30:14.406320",
     "status": "completed"
    },
    "tags": []
   },
   "outputs": [
    {
     "data": {
      "text/plain": [
       "3    868\n",
       "2    375\n",
       "4    144\n",
       "1     83\n",
       "Name: JobInvolvement, dtype: int64"
      ]
     },
     "execution_count": 40,
     "metadata": {},
     "output_type": "execute_result"
    }
   ],
   "source": [
    "df[\"JobInvolvement\"].value_counts()"
   ]
  },
  {
   "cell_type": "code",
   "execution_count": 41,
   "id": "a63ea3bc",
   "metadata": {
    "execution": {
     "iopub.execute_input": "2023-08-22T12:30:14.576228Z",
     "iopub.status.busy": "2023-08-22T12:30:14.574415Z",
     "iopub.status.idle": "2023-08-22T12:30:15.545850Z",
     "shell.execute_reply": "2023-08-22T12:30:15.544647Z"
    },
    "papermill": {
     "duration": 1.026281,
     "end_time": "2023-08-22T12:30:15.548240",
     "exception": false,
     "start_time": "2023-08-22T12:30:14.521959",
     "status": "completed"
    },
    "scrolled": true,
    "tags": []
   },
   "outputs": [
    {
     "name": "stderr",
     "output_type": "stream",
     "text": [
      "/opt/conda/lib/python3.10/site-packages/seaborn/axisgrid.py:118: UserWarning:\n",
      "\n",
      "The figure layout has changed to tight\n",
      "\n"
     ]
    },
    {
     "data": {
      "image/png": "[encoded data removed]",
      "text/plain": [
       "<Figure size 1072.12x500 with 2 Axes>"
      ]
     },
     "metadata": {},
     "output_type": "display_data"
    }
   ],
   "source": [
    "sns.displot(data = df1, x = \"JobInvolvement\" ,hue= \"Attrition\",col=\"Attrition\")\n",
    "plt.show()"
   ]
  },
  {
   "cell_type": "markdown",
   "id": "e9d8bf35",
   "metadata": {
    "papermill": {
     "duration": 0.051399,
     "end_time": "2023-08-22T12:30:15.651227",
     "exception": false,
     "start_time": "2023-08-22T12:30:15.599828",
     "status": "completed"
    },
    "tags": []
   },
   "source": [
    "* 17% Job involvement level(3) is resigning/retiring\n",
    "* 21%% Job involvement level(2) is resigning/retiring\n",
    "* 7%% Job involvement level(4) is resigning/retiring\n",
    "* 57% Job involvement level(1) is resigning/retiring"
   ]
  },
  {
   "cell_type": "markdown",
   "id": "40af0302",
   "metadata": {
    "papermill": {
     "duration": 0.051082,
     "end_time": "2023-08-22T12:30:15.753939",
     "exception": false,
     "start_time": "2023-08-22T12:30:15.702857",
     "status": "completed"
    },
    "tags": []
   },
   "source": [
    "### 32.Is JobLevel equivalent to performance? Can we create a feature to measure this?\n",
    "\n",
    "    joblevel===> categories with different titles and salary ranges within a workplace  (الرتبه)"
   ]
  },
  {
   "cell_type": "code",
   "execution_count": 42,
   "id": "ca8c0ca6",
   "metadata": {
    "execution": {
     "iopub.execute_input": "2023-08-22T12:30:15.858347Z",
     "iopub.status.busy": "2023-08-22T12:30:15.857913Z",
     "iopub.status.idle": "2023-08-22T12:30:15.868419Z",
     "shell.execute_reply": "2023-08-22T12:30:15.867624Z"
    },
    "papermill": {
     "duration": 0.065618,
     "end_time": "2023-08-22T12:30:15.870596",
     "exception": false,
     "start_time": "2023-08-22T12:30:15.804978",
     "status": "completed"
    },
    "tags": []
   },
   "outputs": [
    {
     "data": {
      "text/plain": [
       "JobLevel  Attrition\n",
       "1         No           400\n",
       "          Yes          143\n",
       "2         No           482\n",
       "          Yes           52\n",
       "3         No           186\n",
       "          Yes           32\n",
       "4         No           101\n",
       "          Yes            5\n",
       "5         No            64\n",
       "          Yes            5\n",
       "Name: Attrition, dtype: int64"
      ]
     },
     "execution_count": 42,
     "metadata": {},
     "output_type": "execute_result"
    }
   ],
   "source": [
    "df1.groupby(\"JobLevel\")[\"Attrition\"].value_counts()"
   ]
  },
  {
   "cell_type": "code",
   "execution_count": 43,
   "id": "bf8ad91a",
   "metadata": {
    "execution": {
     "iopub.execute_input": "2023-08-22T12:30:15.976388Z",
     "iopub.status.busy": "2023-08-22T12:30:15.975561Z",
     "iopub.status.idle": "2023-08-22T12:30:16.818461Z",
     "shell.execute_reply": "2023-08-22T12:30:16.817346Z"
    },
    "papermill": {
     "duration": 0.898675,
     "end_time": "2023-08-22T12:30:16.821083",
     "exception": false,
     "start_time": "2023-08-22T12:30:15.922408",
     "status": "completed"
    },
    "tags": []
   },
   "outputs": [
    {
     "name": "stderr",
     "output_type": "stream",
     "text": [
      "/opt/conda/lib/python3.10/site-packages/seaborn/axisgrid.py:118: UserWarning:\n",
      "\n",
      "The figure layout has changed to tight\n",
      "\n"
     ]
    },
    {
     "data": {
      "image/png": "[encoded data removed]",
      "text/plain": [
       "<Figure size 1072.12x500 with 2 Axes>"
      ]
     },
     "metadata": {},
     "output_type": "display_data"
    }
   ],
   "source": [
    "sns.displot(data = df1, x = \"JobLevel\" ,hue= \"Attrition\",col=\"Attrition\",kind=\"kde\")\n",
    "plt.show()\n",
    "\n"
   ]
  },
  {
   "cell_type": "markdown",
   "id": "efedd400",
   "metadata": {
    "papermill": {
     "duration": 0.052247,
     "end_time": "2023-08-22T12:30:16.925177",
     "exception": false,
     "start_time": "2023-08-22T12:30:16.872930",
     "status": "completed"
    },
    "tags": []
   },
   "source": [
    "****************\n",
    "*****************"
   ]
  },
  {
   "cell_type": "markdown",
   "id": "be6152d7",
   "metadata": {
    "papermill": {
     "duration": 0.052202,
     "end_time": "2023-08-22T12:30:17.029609",
     "exception": false,
     "start_time": "2023-08-22T12:30:16.977407",
     "status": "completed"
    },
    "tags": []
   },
   "source": [
    "## Statisfaction"
   ]
  },
  {
   "cell_type": "markdown",
   "id": "905147d8",
   "metadata": {
    "papermill": {
     "duration": 0.051851,
     "end_time": "2023-08-22T12:30:17.134062",
     "exception": false,
     "start_time": "2023-08-22T12:30:17.082211",
     "status": "completed"
    },
    "tags": []
   },
   "source": [
    "### 19.How does Work Life Balance impact the overall attrition rates?\n"
   ]
  },
  {
   "cell_type": "code",
   "execution_count": 44,
   "id": "d6b48413",
   "metadata": {
    "execution": {
     "iopub.execute_input": "2023-08-22T12:30:17.241241Z",
     "iopub.status.busy": "2023-08-22T12:30:17.240379Z",
     "iopub.status.idle": "2023-08-22T12:30:17.250904Z",
     "shell.execute_reply": "2023-08-22T12:30:17.249828Z"
    },
    "papermill": {
     "duration": 0.066984,
     "end_time": "2023-08-22T12:30:17.253293",
     "exception": false,
     "start_time": "2023-08-22T12:30:17.186309",
     "status": "completed"
    },
    "tags": []
   },
   "outputs": [
    {
     "data": {
      "text/plain": [
       "WorkLifeBalance\n",
       "1     25\n",
       "2     58\n",
       "3    127\n",
       "4     27\n",
       "Name: Attrition, dtype: int64"
      ]
     },
     "execution_count": 44,
     "metadata": {},
     "output_type": "execute_result"
    }
   ],
   "source": [
    "df.groupby(\"WorkLifeBalance\")[\"Attrition\"].sum()\n"
   ]
  },
  {
   "cell_type": "code",
   "execution_count": 45,
   "id": "6861634b",
   "metadata": {
    "execution": {
     "iopub.execute_input": "2023-08-22T12:30:17.361541Z",
     "iopub.status.busy": "2023-08-22T12:30:17.361137Z",
     "iopub.status.idle": "2023-08-22T12:30:17.371369Z",
     "shell.execute_reply": "2023-08-22T12:30:17.370630Z"
    },
    "papermill": {
     "duration": 0.067077,
     "end_time": "2023-08-22T12:30:17.373410",
     "exception": false,
     "start_time": "2023-08-22T12:30:17.306333",
     "status": "completed"
    },
    "scrolled": true,
    "tags": []
   },
   "outputs": [
    {
     "data": {
      "text/plain": [
       "WorkLifeBalance  Attrition\n",
       "1                No            55\n",
       "                 Yes           25\n",
       "2                No           286\n",
       "                 Yes           58\n",
       "3                No           766\n",
       "                 Yes          127\n",
       "4                No           126\n",
       "                 Yes           27\n",
       "Name: Attrition, dtype: int64"
      ]
     },
     "execution_count": 45,
     "metadata": {},
     "output_type": "execute_result"
    }
   ],
   "source": [
    "df1.groupby(\"WorkLifeBalance\")[\"Attrition\"].value_counts()\n"
   ]
  },
  {
   "cell_type": "code",
   "execution_count": 46,
   "id": "323ed237",
   "metadata": {
    "execution": {
     "iopub.execute_input": "2023-08-22T12:30:17.479017Z",
     "iopub.status.busy": "2023-08-22T12:30:17.478600Z",
     "iopub.status.idle": "2023-08-22T12:30:17.694206Z",
     "shell.execute_reply": "2023-08-22T12:30:17.692676Z"
    },
    "papermill": {
     "duration": 0.27299,
     "end_time": "2023-08-22T12:30:17.698326",
     "exception": false,
     "start_time": "2023-08-22T12:30:17.425336",
     "status": "completed"
    },
    "tags": []
   },
   "outputs": [
    {
     "data": {
      "image/png": "[encoded data removed]",
      "text/plain": [
       "<Figure size 640x480 with 1 Axes>"
      ]
     },
     "metadata": {},
     "output_type": "display_data"
    }
   ],
   "source": [
    "df1.groupby(\"WorkLifeBalance\")[\"Attrition\"].value_counts().plot(kind=\"pie\",autopct = \"%1.2f%%\")\n",
    "plt.show()"
   ]
  },
  {
   "cell_type": "markdown",
   "id": "f5f02f38",
   "metadata": {
    "papermill": {
     "duration": 0.052504,
     "end_time": "2023-08-22T12:30:17.820020",
     "exception": false,
     "start_time": "2023-08-22T12:30:17.767516",
     "status": "completed"
    },
    "tags": []
   },
   "source": [
    "* 17% employee in level(4) is resigned/retired \n",
    "* 14% employee in level(3) is resigned/retired \n",
    "* 16% employee in level(2) is resigned/retired \n",
    "* 31% employee in level(1) is resigned/retired \n",
    "\n",
    "\n",
    "hight employee resigned in level (1)"
   ]
  },
  {
   "cell_type": "markdown",
   "id": "1abb0ad9",
   "metadata": {
    "papermill": {
     "duration": 0.052495,
     "end_time": "2023-08-22T12:30:17.925826",
     "exception": false,
     "start_time": "2023-08-22T12:30:17.873331",
     "status": "completed"
    },
    "tags": []
   },
   "source": [
    "### 17- How does self Job Satisfaction impact the Attrition?"
   ]
  },
  {
   "cell_type": "code",
   "execution_count": 47,
   "id": "0873db3c",
   "metadata": {
    "execution": {
     "iopub.execute_input": "2023-08-22T12:30:18.036826Z",
     "iopub.status.busy": "2023-08-22T12:30:18.036065Z",
     "iopub.status.idle": "2023-08-22T12:30:18.650223Z",
     "shell.execute_reply": "2023-08-22T12:30:18.649120Z"
    },
    "papermill": {
     "duration": 0.671461,
     "end_time": "2023-08-22T12:30:18.652462",
     "exception": false,
     "start_time": "2023-08-22T12:30:17.981001",
     "status": "completed"
    },
    "scrolled": true,
    "tags": []
   },
   "outputs": [
    {
     "name": "stderr",
     "output_type": "stream",
     "text": [
      "/opt/conda/lib/python3.10/site-packages/seaborn/axisgrid.py:118: UserWarning:\n",
      "\n",
      "The figure layout has changed to tight\n",
      "\n"
     ]
    },
    {
     "data": {
      "image/png": "[encoded data removed]",
      "text/plain": [
       "<Figure size 572.125x500 with 1 Axes>"
      ]
     },
     "metadata": {},
     "output_type": "display_data"
    }
   ],
   "source": [
    "sns.displot(data = df1, x = \"JobSatisfaction\" , hue = \"Attrition\",kind=\"kde\")\n",
    "plt.show()"
   ]
  },
  {
   "cell_type": "markdown",
   "id": "7090bcc5",
   "metadata": {
    "papermill": {
     "duration": 0.053746,
     "end_time": "2023-08-22T12:30:18.760525",
     "exception": false,
     "start_time": "2023-08-22T12:30:18.706779",
     "status": "completed"
    },
    "tags": []
   },
   "source": [
    "* every jobSatisfaction is low resigned/retired, employees is ‘High’"
   ]
  },
  {
   "cell_type": "code",
   "execution_count": null,
   "id": "70133a0e",
   "metadata": {
    "papermill": {
     "duration": 0.053637,
     "end_time": "2023-08-22T12:30:18.867924",
     "exception": false,
     "start_time": "2023-08-22T12:30:18.814287",
     "status": "completed"
    },
    "tags": []
   },
   "outputs": [],
   "source": []
  },
  {
   "cell_type": "markdown",
   "id": "23f57548",
   "metadata": {
    "papermill": {
     "duration": 0.053206,
     "end_time": "2023-08-22T12:30:18.975344",
     "exception": false,
     "start_time": "2023-08-22T12:30:18.922138",
     "status": "completed"
    },
    "tags": []
   },
   "source": [
    "### 10- .Is it possible that employees are leaving because of the work environment? 16-How does the environment satisfaction impact attrition?\n"
   ]
  },
  {
   "cell_type": "code",
   "execution_count": 48,
   "id": "cd9ffda0",
   "metadata": {
    "execution": {
     "iopub.execute_input": "2023-08-22T12:30:19.089884Z",
     "iopub.status.busy": "2023-08-22T12:30:19.089128Z",
     "iopub.status.idle": "2023-08-22T12:30:19.099501Z",
     "shell.execute_reply": "2023-08-22T12:30:19.098734Z"
    },
    "papermill": {
     "duration": 0.072135,
     "end_time": "2023-08-22T12:30:19.101618",
     "exception": false,
     "start_time": "2023-08-22T12:30:19.029483",
     "status": "completed"
    },
    "tags": []
   },
   "outputs": [
    {
     "data": {
      "text/plain": [
       "EnvironmentSatisfaction  Attrition\n",
       "1                        0            14.421769\n",
       "                         1             4.897959\n",
       "2                        0            16.598639\n",
       "                         1             2.925170\n",
       "3                        0            26.598639\n",
       "                         1             4.217687\n",
       "4                        0            26.258503\n",
       "                         1             4.081633\n",
       "Name: Attrition, dtype: float64"
      ]
     },
     "execution_count": 48,
     "metadata": {},
     "output_type": "execute_result"
    }
   ],
   "source": [
    "df.groupby(\"EnvironmentSatisfaction\")[\"Attrition\"].value_counts()/df.shape[0]*100"
   ]
  },
  {
   "cell_type": "code",
   "execution_count": 49,
   "id": "36ebbe0b",
   "metadata": {
    "execution": {
     "iopub.execute_input": "2023-08-22T12:30:19.213773Z",
     "iopub.status.busy": "2023-08-22T12:30:19.213018Z",
     "iopub.status.idle": "2023-08-22T12:30:20.130374Z",
     "shell.execute_reply": "2023-08-22T12:30:20.129311Z"
    },
    "papermill": {
     "duration": 0.976042,
     "end_time": "2023-08-22T12:30:20.132919",
     "exception": false,
     "start_time": "2023-08-22T12:30:19.156877",
     "status": "completed"
    },
    "tags": []
   },
   "outputs": [
    {
     "name": "stderr",
     "output_type": "stream",
     "text": [
      "/opt/conda/lib/python3.10/site-packages/seaborn/axisgrid.py:118: UserWarning:\n",
      "\n",
      "The figure layout has changed to tight\n",
      "\n"
     ]
    },
    {
     "data": {
      "text/plain": [
       "<seaborn.axisgrid.FacetGrid at 0x7c6ea9b9d0c0>"
      ]
     },
     "execution_count": 49,
     "metadata": {},
     "output_type": "execute_result"
    },
    {
     "data": {
      "image/png": "[encoded data removed]",
      "text/plain": [
       "<Figure size 1000x500 with 2 Axes>"
      ]
     },
     "metadata": {},
     "output_type": "display_data"
    }
   ],
   "source": [
    "sns.displot(data=df , x=\"EnvironmentSatisfaction\" , col=\"Attrition\",color='#FFEFDB')"
   ]
  },
  {
   "cell_type": "markdown",
   "id": "22cca876",
   "metadata": {
    "papermill": {
     "duration": 0.05533,
     "end_time": "2023-08-22T12:30:20.242698",
     "exception": false,
     "start_time": "2023-08-22T12:30:20.187368",
     "status": "completed"
    },
    "tags": []
   },
   "source": [
    "- low employees EnvironmentSatisfaction resign/retire more "
   ]
  },
  {
   "cell_type": "markdown",
   "id": "920b338d",
   "metadata": {
    "papermill": {
     "duration": 0.055076,
     "end_time": "2023-08-22T12:30:20.352813",
     "exception": false,
     "start_time": "2023-08-22T12:30:20.297737",
     "status": "completed"
    },
    "tags": []
   },
   "source": [
    "### 36.How does satisfaction and work-life balance relate to employee retention?"
   ]
  },
  {
   "cell_type": "code",
   "execution_count": 50,
   "id": "6d9a436f",
   "metadata": {
    "execution": {
     "iopub.execute_input": "2023-08-22T12:30:20.465616Z",
     "iopub.status.busy": "2023-08-22T12:30:20.464861Z",
     "iopub.status.idle": "2023-08-22T12:30:21.567145Z",
     "shell.execute_reply": "2023-08-22T12:30:21.565944Z"
    },
    "papermill": {
     "duration": 1.161943,
     "end_time": "2023-08-22T12:30:21.569678",
     "exception": false,
     "start_time": "2023-08-22T12:30:20.407735",
     "status": "completed"
    },
    "tags": []
   },
   "outputs": [
    {
     "name": "stderr",
     "output_type": "stream",
     "text": [
      "/opt/conda/lib/python3.10/site-packages/seaborn/axisgrid.py:118: UserWarning:\n",
      "\n",
      "The figure layout has changed to tight\n",
      "\n"
     ]
    },
    {
     "data": {
      "image/png": "[encoded data removed]",
      "text/plain": [
       "<Figure size 1072.12x500 with 2 Axes>"
      ]
     },
     "metadata": {},
     "output_type": "display_data"
    }
   ],
   "source": [
    "sns.displot(data = df1, x = \"JobSatisfaction\" ,hue= \"Attrition\",col=\"Attrition\")\n",
    "plt.show()\n"
   ]
  },
  {
   "cell_type": "code",
   "execution_count": 51,
   "id": "509d7529",
   "metadata": {
    "execution": {
     "iopub.execute_input": "2023-08-22T12:30:21.682651Z",
     "iopub.status.busy": "2023-08-22T12:30:21.682209Z",
     "iopub.status.idle": "2023-08-22T12:30:23.003664Z",
     "shell.execute_reply": "2023-08-22T12:30:23.002842Z"
    },
    "papermill": {
     "duration": 1.380801,
     "end_time": "2023-08-22T12:30:23.005882",
     "exception": false,
     "start_time": "2023-08-22T12:30:21.625081",
     "status": "completed"
    },
    "tags": []
   },
   "outputs": [
    {
     "name": "stderr",
     "output_type": "stream",
     "text": [
      "/opt/conda/lib/python3.10/site-packages/seaborn/axisgrid.py:118: UserWarning:\n",
      "\n",
      "The figure layout has changed to tight\n",
      "\n"
     ]
    },
    {
     "data": {
      "image/png": "[encoded data removed]",
      "text/plain": [
       "<Figure size 1072.12x500 with 2 Axes>"
      ]
     },
     "metadata": {},
     "output_type": "display_data"
    }
   ],
   "source": [
    "sns.displot(data = df1, x = \"WorkLifeBalance\" ,hue= \"Attrition\",col=\"Attrition\")\n",
    "plt.show()\n"
   ]
  },
  {
   "cell_type": "code",
   "execution_count": null,
   "id": "52a312be",
   "metadata": {
    "papermill": {
     "duration": 0.057427,
     "end_time": "2023-08-22T12:30:23.119611",
     "exception": false,
     "start_time": "2023-08-22T12:30:23.062184",
     "status": "completed"
    },
    "tags": []
   },
   "outputs": [],
   "source": []
  },
  {
   "cell_type": "markdown",
   "id": "04faf896",
   "metadata": {
    "papermill": {
     "duration": 0.057036,
     "end_time": "2023-08-22T12:30:23.232847",
     "exception": false,
     "start_time": "2023-08-22T12:30:23.175811",
     "status": "completed"
    },
    "tags": []
   },
   "source": [
    "**********************\n",
    "*********************"
   ]
  },
  {
   "cell_type": "markdown",
   "id": "2b827691",
   "metadata": {
    "papermill": {
     "duration": 0.057783,
     "end_time": "2023-08-22T12:30:23.348050",
     "exception": false,
     "start_time": "2023-08-22T12:30:23.290267",
     "status": "completed"
    },
    "tags": []
   },
   "source": [
    "## Salary Related"
   ]
  },
  {
   "cell_type": "markdown",
   "id": "06260223",
   "metadata": {
    "papermill": {
     "duration": 0.056596,
     "end_time": "2023-08-22T12:30:23.462422",
     "exception": false,
     "start_time": "2023-08-22T12:30:23.405826",
     "status": "completed"
    },
    "tags": []
   },
   "source": [
    "### 14.Is income the main factor towards employee attrition?"
   ]
  },
  {
   "cell_type": "code",
   "execution_count": 52,
   "id": "0c408a4b",
   "metadata": {
    "execution": {
     "iopub.execute_input": "2023-08-22T12:30:23.576638Z",
     "iopub.status.busy": "2023-08-22T12:30:23.575825Z",
     "iopub.status.idle": "2023-08-22T12:30:24.621959Z",
     "shell.execute_reply": "2023-08-22T12:30:24.620220Z"
    },
    "papermill": {
     "duration": 1.105834,
     "end_time": "2023-08-22T12:30:24.623884",
     "exception": true,
     "start_time": "2023-08-22T12:30:23.518050",
     "status": "failed"
    },
    "tags": []
   },
   "outputs": [
    {
     "name": "stderr",
     "output_type": "stream",
     "text": [
      "/tmp/ipykernel_20/3473357182.py:1: FutureWarning:\n",
      "\n",
      "\n",
      "\n",
      "`shade` is now deprecated in favor of `fill`; setting `fill=True`.\n",
      "This will become an error in seaborn v0.14.0; please update your code.\n",
      "\n",
      "\n"
     ]
    },
    {
     "ename": "ValueError",
     "evalue": "The following variable cannot be assigned with wide-form data: `hue`",
     "output_type": "error",
     "traceback": [
      "\u001b[0;31m---------------------------------------------------------------------------\u001b[0m",
      "\u001b[0;31mValueError\u001b[0m                                Traceback (most recent call last)",
      "Cell \u001b[0;32mIn[52], line 1\u001b[0m\n\u001b[0;32m----> 1\u001b[0m fig \u001b[38;5;241m=\u001b[39m \u001b[43msns\u001b[49m\u001b[38;5;241;43m.\u001b[39;49m\u001b[43mkdeplot\u001b[49m\u001b[43m(\u001b[49m\u001b[43mdf1\u001b[49m\u001b[43m[\u001b[49m\u001b[38;5;124;43m'\u001b[39;49m\u001b[38;5;124;43mMonthlyIncome\u001b[39;49m\u001b[38;5;124;43m'\u001b[39;49m\u001b[43m]\u001b[49m\u001b[43m,\u001b[49m\u001b[43m \u001b[49m\u001b[43mshade\u001b[49m\u001b[38;5;241;43m=\u001b[39;49m\u001b[38;5;28;43;01mTrue\u001b[39;49;00m\u001b[43m,\u001b[49m\u001b[43m \u001b[49m\u001b[43mhue\u001b[49m\u001b[38;5;241;43m=\u001b[39;49m\u001b[43mdf1\u001b[49m\u001b[43m[\u001b[49m\u001b[38;5;124;43m\"\u001b[39;49m\u001b[38;5;124;43mAttrition\u001b[39;49m\u001b[38;5;124;43m\"\u001b[39;49m\u001b[43m]\u001b[49m\u001b[43m)\u001b[49m\n\u001b[1;32m      2\u001b[0m plt\u001b[38;5;241m.\u001b[39mshow()\n",
      "File \u001b[0;32m/opt/conda/lib/python3.10/site-packages/seaborn/distributions.py:1685\u001b[0m, in \u001b[0;36mkdeplot\u001b[0;34m(data, x, y, hue, weights, palette, hue_order, hue_norm, color, fill, multiple, common_norm, common_grid, cumulative, bw_method, bw_adjust, warn_singular, log_scale, levels, thresh, gridsize, cut, clip, legend, cbar, cbar_ax, cbar_kws, ax, **kwargs)\u001b[0m\n\u001b[1;32m   1681\u001b[0m levels \u001b[38;5;241m=\u001b[39m kwargs\u001b[38;5;241m.\u001b[39mpop(\u001b[38;5;124m\"\u001b[39m\u001b[38;5;124mn_levels\u001b[39m\u001b[38;5;124m\"\u001b[39m, levels)\n\u001b[1;32m   1683\u001b[0m \u001b[38;5;66;03m# - - - - - - - - - - - - - - - - - - - - - - - - - - - - - - - - - - - - #\u001b[39;00m\n\u001b[0;32m-> 1685\u001b[0m p \u001b[38;5;241m=\u001b[39m \u001b[43m_DistributionPlotter\u001b[49m\u001b[43m(\u001b[49m\n\u001b[1;32m   1686\u001b[0m \u001b[43m    \u001b[49m\u001b[43mdata\u001b[49m\u001b[38;5;241;43m=\u001b[39;49m\u001b[43mdata\u001b[49m\u001b[43m,\u001b[49m\n\u001b[1;32m   1687\u001b[0m \u001b[43m    \u001b[49m\u001b[43mvariables\u001b[49m\u001b[38;5;241;43m=\u001b[39;49m\u001b[43m_DistributionPlotter\u001b[49m\u001b[38;5;241;43m.\u001b[39;49m\u001b[43mget_semantics\u001b[49m\u001b[43m(\u001b[49m\u001b[38;5;28;43mlocals\u001b[39;49m\u001b[43m(\u001b[49m\u001b[43m)\u001b[49m\u001b[43m)\u001b[49m\u001b[43m,\u001b[49m\n\u001b[1;32m   1688\u001b[0m \u001b[43m\u001b[49m\u001b[43m)\u001b[49m\n\u001b[1;32m   1690\u001b[0m p\u001b[38;5;241m.\u001b[39mmap_hue(palette\u001b[38;5;241m=\u001b[39mpalette, order\u001b[38;5;241m=\u001b[39mhue_order, norm\u001b[38;5;241m=\u001b[39mhue_norm)\n\u001b[1;32m   1692\u001b[0m \u001b[38;5;28;01mif\u001b[39;00m ax \u001b[38;5;129;01mis\u001b[39;00m \u001b[38;5;28;01mNone\u001b[39;00m:\n",
      "File \u001b[0;32m/opt/conda/lib/python3.10/site-packages/seaborn/distributions.py:113\u001b[0m, in \u001b[0;36m_DistributionPlotter.__init__\u001b[0;34m(self, data, variables)\u001b[0m\n\u001b[1;32m    107\u001b[0m \u001b[38;5;28;01mdef\u001b[39;00m \u001b[38;5;21m__init__\u001b[39m(\n\u001b[1;32m    108\u001b[0m     \u001b[38;5;28mself\u001b[39m,\n\u001b[1;32m    109\u001b[0m     data\u001b[38;5;241m=\u001b[39m\u001b[38;5;28;01mNone\u001b[39;00m,\n\u001b[1;32m    110\u001b[0m     variables\u001b[38;5;241m=\u001b[39m{},\n\u001b[1;32m    111\u001b[0m ):\n\u001b[0;32m--> 113\u001b[0m     \u001b[38;5;28;43msuper\u001b[39;49m\u001b[43m(\u001b[49m\u001b[43m)\u001b[49m\u001b[38;5;241;43m.\u001b[39;49m\u001b[38;5;21;43m__init__\u001b[39;49m\u001b[43m(\u001b[49m\u001b[43mdata\u001b[49m\u001b[38;5;241;43m=\u001b[39;49m\u001b[43mdata\u001b[49m\u001b[43m,\u001b[49m\u001b[43m \u001b[49m\u001b[43mvariables\u001b[49m\u001b[38;5;241;43m=\u001b[39;49m\u001b[43mvariables\u001b[49m\u001b[43m)\u001b[49m\n",
      "File \u001b[0;32m/opt/conda/lib/python3.10/site-packages/seaborn/_oldcore.py:640\u001b[0m, in \u001b[0;36mVectorPlotter.__init__\u001b[0;34m(self, data, variables)\u001b[0m\n\u001b[1;32m    635\u001b[0m \u001b[38;5;66;03m# var_ordered is relevant only for categorical axis variables, and may\u001b[39;00m\n\u001b[1;32m    636\u001b[0m \u001b[38;5;66;03m# be better handled by an internal axis information object that tracks\u001b[39;00m\n\u001b[1;32m    637\u001b[0m \u001b[38;5;66;03m# such information and is set up by the scale_* methods. The analogous\u001b[39;00m\n\u001b[1;32m    638\u001b[0m \u001b[38;5;66;03m# information for numeric axes would be information about log scales.\u001b[39;00m\n\u001b[1;32m    639\u001b[0m \u001b[38;5;28mself\u001b[39m\u001b[38;5;241m.\u001b[39m_var_ordered \u001b[38;5;241m=\u001b[39m {\u001b[38;5;124m\"\u001b[39m\u001b[38;5;124mx\u001b[39m\u001b[38;5;124m\"\u001b[39m: \u001b[38;5;28;01mFalse\u001b[39;00m, \u001b[38;5;124m\"\u001b[39m\u001b[38;5;124my\u001b[39m\u001b[38;5;124m\"\u001b[39m: \u001b[38;5;28;01mFalse\u001b[39;00m}  \u001b[38;5;66;03m# alt., used DefaultDict\u001b[39;00m\n\u001b[0;32m--> 640\u001b[0m \u001b[38;5;28;43mself\u001b[39;49m\u001b[38;5;241;43m.\u001b[39;49m\u001b[43massign_variables\u001b[49m\u001b[43m(\u001b[49m\u001b[43mdata\u001b[49m\u001b[43m,\u001b[49m\u001b[43m \u001b[49m\u001b[43mvariables\u001b[49m\u001b[43m)\u001b[49m\n\u001b[1;32m    642\u001b[0m \u001b[38;5;28;01mfor\u001b[39;00m var, \u001b[38;5;28mcls\u001b[39m \u001b[38;5;129;01min\u001b[39;00m \u001b[38;5;28mself\u001b[39m\u001b[38;5;241m.\u001b[39m_semantic_mappings\u001b[38;5;241m.\u001b[39mitems():\n\u001b[1;32m    643\u001b[0m \n\u001b[1;32m    644\u001b[0m     \u001b[38;5;66;03m# Create the mapping function\u001b[39;00m\n\u001b[1;32m    645\u001b[0m     map_func \u001b[38;5;241m=\u001b[39m partial(\u001b[38;5;28mcls\u001b[39m\u001b[38;5;241m.\u001b[39mmap, plotter\u001b[38;5;241m=\u001b[39m\u001b[38;5;28mself\u001b[39m)\n",
      "File \u001b[0;32m/opt/conda/lib/python3.10/site-packages/seaborn/_oldcore.py:696\u001b[0m, in \u001b[0;36mVectorPlotter.assign_variables\u001b[0;34m(self, data, variables)\u001b[0m\n\u001b[1;32m    694\u001b[0m \u001b[38;5;28;01mif\u001b[39;00m x \u001b[38;5;129;01mis\u001b[39;00m \u001b[38;5;28;01mNone\u001b[39;00m \u001b[38;5;129;01mand\u001b[39;00m y \u001b[38;5;129;01mis\u001b[39;00m \u001b[38;5;28;01mNone\u001b[39;00m:\n\u001b[1;32m    695\u001b[0m     \u001b[38;5;28mself\u001b[39m\u001b[38;5;241m.\u001b[39minput_format \u001b[38;5;241m=\u001b[39m \u001b[38;5;124m\"\u001b[39m\u001b[38;5;124mwide\u001b[39m\u001b[38;5;124m\"\u001b[39m\n\u001b[0;32m--> 696\u001b[0m     plot_data, variables \u001b[38;5;241m=\u001b[39m \u001b[38;5;28;43mself\u001b[39;49m\u001b[38;5;241;43m.\u001b[39;49m\u001b[43m_assign_variables_wideform\u001b[49m\u001b[43m(\u001b[49m\n\u001b[1;32m    697\u001b[0m \u001b[43m        \u001b[49m\u001b[43mdata\u001b[49m\u001b[43m,\u001b[49m\u001b[43m \u001b[49m\u001b[38;5;241;43m*\u001b[39;49m\u001b[38;5;241;43m*\u001b[39;49m\u001b[43mvariables\u001b[49m\u001b[43m,\u001b[49m\n\u001b[1;32m    698\u001b[0m \u001b[43m    \u001b[49m\u001b[43m)\u001b[49m\n\u001b[1;32m    699\u001b[0m \u001b[38;5;28;01melse\u001b[39;00m:\n\u001b[1;32m    700\u001b[0m     \u001b[38;5;28mself\u001b[39m\u001b[38;5;241m.\u001b[39minput_format \u001b[38;5;241m=\u001b[39m \u001b[38;5;124m\"\u001b[39m\u001b[38;5;124mlong\u001b[39m\u001b[38;5;124m\"\u001b[39m\n",
      "File \u001b[0;32m/opt/conda/lib/python3.10/site-packages/seaborn/_oldcore.py:745\u001b[0m, in \u001b[0;36mVectorPlotter._assign_variables_wideform\u001b[0;34m(self, data, **kwargs)\u001b[0m\n\u001b[1;32m    743\u001b[0m     err \u001b[38;5;241m=\u001b[39m \u001b[38;5;124mf\u001b[39m\u001b[38;5;124m\"\u001b[39m\u001b[38;5;124mThe following variable\u001b[39m\u001b[38;5;132;01m{\u001b[39;00ms\u001b[38;5;132;01m}\u001b[39;00m\u001b[38;5;124m cannot be assigned with wide-form data: \u001b[39m\u001b[38;5;124m\"\u001b[39m\n\u001b[1;32m    744\u001b[0m     err \u001b[38;5;241m+\u001b[39m\u001b[38;5;241m=\u001b[39m \u001b[38;5;124m\"\u001b[39m\u001b[38;5;124m, \u001b[39m\u001b[38;5;124m\"\u001b[39m\u001b[38;5;241m.\u001b[39mjoin(\u001b[38;5;124mf\u001b[39m\u001b[38;5;124m\"\u001b[39m\u001b[38;5;124m`\u001b[39m\u001b[38;5;132;01m{\u001b[39;00mv\u001b[38;5;132;01m}\u001b[39;00m\u001b[38;5;124m`\u001b[39m\u001b[38;5;124m\"\u001b[39m \u001b[38;5;28;01mfor\u001b[39;00m v \u001b[38;5;129;01min\u001b[39;00m assigned)\n\u001b[0;32m--> 745\u001b[0m     \u001b[38;5;28;01mraise\u001b[39;00m \u001b[38;5;167;01mValueError\u001b[39;00m(err)\n\u001b[1;32m    747\u001b[0m \u001b[38;5;66;03m# Determine if the data object actually has any data in it\u001b[39;00m\n\u001b[1;32m    748\u001b[0m empty \u001b[38;5;241m=\u001b[39m data \u001b[38;5;129;01mis\u001b[39;00m \u001b[38;5;28;01mNone\u001b[39;00m \u001b[38;5;129;01mor\u001b[39;00m \u001b[38;5;129;01mnot\u001b[39;00m \u001b[38;5;28mlen\u001b[39m(data)\n",
      "\u001b[0;31mValueError\u001b[0m: The following variable cannot be assigned with wide-form data: `hue`"
     ]
    }
   ],
   "source": [
    "fig = sns.kdeplot(df1['MonthlyIncome'], shade=True, hue=df1[\"Attrition\"])\n",
    "plt.show()"
   ]
  },
  {
   "cell_type": "markdown",
   "id": "d14c7237",
   "metadata": {
    "papermill": {
     "duration": null,
     "end_time": null,
     "exception": null,
     "start_time": null,
     "status": "pending"
    },
    "tags": []
   },
   "source": [
    "* monthlyincome effect on Attrition"
   ]
  },
  {
   "cell_type": "code",
   "execution_count": null,
   "id": "c054cb8a",
   "metadata": {
    "papermill": {
     "duration": null,
     "end_time": null,
     "exception": null,
     "start_time": null,
     "status": "pending"
    },
    "tags": []
   },
   "outputs": [],
   "source": []
  },
  {
   "cell_type": "markdown",
   "id": "3619e9b6",
   "metadata": {
    "papermill": {
     "duration": null,
     "end_time": null,
     "exception": null,
     "start_time": null,
     "status": "pending"
    },
    "tags": []
   },
   "source": [
    "### 22.Does hike percentage impact Attrition? 28.How much does income matter?\n",
    "\n",
    "     PercentSalaryHike===>(New Salary - Current Salary) / Current Salary * 100"
   ]
  },
  {
   "cell_type": "code",
   "execution_count": null,
   "id": "3a1dec7d",
   "metadata": {
    "execution": {
     "iopub.execute_input": "2023-08-22T12:28:27.701712Z",
     "iopub.status.busy": "2023-08-22T12:28:27.701311Z",
     "iopub.status.idle": "2023-08-22T12:28:28.010538Z",
     "shell.execute_reply": "2023-08-22T12:28:28.009687Z",
     "shell.execute_reply.started": "2023-08-22T12:28:27.701683Z"
    },
    "papermill": {
     "duration": null,
     "end_time": null,
     "exception": null,
     "start_time": null,
     "status": "pending"
    },
    "tags": []
   },
   "outputs": [],
   "source": [
    "sns.displot(data = df1, x = \"PercentSalaryHike\" , hue = \"Attrition\",kind=\"kde\")\n",
    "plt.show()"
   ]
  },
  {
   "cell_type": "markdown",
   "id": "8dcb096a",
   "metadata": {
    "papermill": {
     "duration": null,
     "end_time": null,
     "exception": null,
     "start_time": null,
     "status": "pending"
    },
    "tags": []
   },
   "source": [
    "* PercentSalaryHike increas,employee resigning/retiring is low,"
   ]
  },
  {
   "cell_type": "markdown",
   "id": "ab4ba8af",
   "metadata": {
    "papermill": {
     "duration": null,
     "end_time": null,
     "exception": null,
     "start_time": null,
     "status": "pending"
    },
    "tags": []
   },
   "source": [
    "*************\n",
    "*************"
   ]
  },
  {
   "cell_type": "markdown",
   "id": "129247a9",
   "metadata": {
    "papermill": {
     "duration": null,
     "end_time": null,
     "exception": null,
     "start_time": null,
     "status": "pending"
    },
    "tags": []
   },
   "source": [
    "## Time Related"
   ]
  },
  {
   "cell_type": "markdown",
   "id": "6e610683",
   "metadata": {
    "papermill": {
     "duration": null,
     "end_time": null,
     "exception": null,
     "start_time": null,
     "status": "pending"
    },
    "tags": []
   },
   "source": [
    "### 5.what is effect of YearsWithCurrManager on attrition ?"
   ]
  },
  {
   "cell_type": "code",
   "execution_count": null,
   "id": "05cf0ed4",
   "metadata": {
    "execution": {
     "iopub.execute_input": "2023-08-22T12:28:28.610896Z",
     "iopub.status.busy": "2023-08-22T12:28:28.609910Z",
     "iopub.status.idle": "2023-08-22T12:28:28.622803Z",
     "shell.execute_reply": "2023-08-22T12:28:28.621434Z",
     "shell.execute_reply.started": "2023-08-22T12:28:28.610843Z"
    },
    "papermill": {
     "duration": null,
     "end_time": null,
     "exception": null,
     "start_time": null,
     "status": "pending"
    },
    "tags": []
   },
   "outputs": [],
   "source": [
    "df.groupby(\"YearsWithCurrManager\")[\"Attrition\"].value_counts()"
   ]
  },
  {
   "cell_type": "code",
   "execution_count": null,
   "id": "bc1e8369",
   "metadata": {
    "execution": {
     "iopub.execute_input": "2023-08-22T12:28:28.791599Z",
     "iopub.status.busy": "2023-08-22T12:28:28.789983Z",
     "iopub.status.idle": "2023-08-22T12:28:28.846817Z",
     "shell.execute_reply": "2023-08-22T12:28:28.845329Z",
     "shell.execute_reply.started": "2023-08-22T12:28:28.791549Z"
    },
    "papermill": {
     "duration": null,
     "end_time": null,
     "exception": null,
     "start_time": null,
     "status": "pending"
    },
    "tags": []
   },
   "outputs": [],
   "source": [
    "fig = px.bar(df1, y=df['Attrition'], x=df1['YearsWithCurrManager'],color=df1[\"YearsWithCurrManager\"], text='YearsWithCurrManager', title=\"what is effect of YearsWithCurrManager on attrition ?\",)\n",
    "fig.show()"
   ]
  },
  {
   "cell_type": "markdown",
   "id": "cd2af292",
   "metadata": {
    "papermill": {
     "duration": null,
     "end_time": null,
     "exception": null,
     "start_time": null,
     "status": "pending"
    },
    "tags": []
   },
   "source": [
    "*  32%  employee not completed 1 year(0) with manger is more employee resigned/retired,\n",
    "*  14.5%  employee  completed 2 year with manger is more employee resigned/retired,\n",
    "*  14.3%  employee completed 7 year with manger is more employee resigned/retired,\n",
    "\n",
    "* last 3 years no employee resigned/retired"
   ]
  },
  {
   "cell_type": "code",
   "execution_count": null,
   "id": "96965cae",
   "metadata": {
    "execution": {
     "iopub.execute_input": "2023-08-22T12:28:29.167598Z",
     "iopub.status.busy": "2023-08-22T12:28:29.166180Z",
     "iopub.status.idle": "2023-08-22T12:28:29.175265Z",
     "shell.execute_reply": "2023-08-22T12:28:29.173953Z",
     "shell.execute_reply.started": "2023-08-22T12:28:29.167534Z"
    },
    "papermill": {
     "duration": null,
     "end_time": null,
     "exception": null,
     "start_time": null,
     "status": "pending"
    },
    "tags": []
   },
   "outputs": [],
   "source": [
    "df1['Attrition'].value_counts().values\n"
   ]
  },
  {
   "cell_type": "code",
   "execution_count": null,
   "id": "88bf939c",
   "metadata": {
    "execution": {
     "iopub.execute_input": "2023-08-22T12:28:30.034836Z",
     "iopub.status.busy": "2023-08-22T12:28:30.034406Z",
     "iopub.status.idle": "2023-08-22T12:28:30.047818Z",
     "shell.execute_reply": "2023-08-22T12:28:30.046154Z",
     "shell.execute_reply.started": "2023-08-22T12:28:30.034798Z"
    },
    "papermill": {
     "duration": null,
     "end_time": null,
     "exception": null,
     "start_time": null,
     "status": "pending"
    },
    "tags": []
   },
   "outputs": [],
   "source": [
    "df1['Attrition'].value_counts()\n"
   ]
  },
  {
   "cell_type": "markdown",
   "id": "0ceba176",
   "metadata": {
    "papermill": {
     "duration": null,
     "end_time": null,
     "exception": null,
     "start_time": null,
     "status": "pending"
    },
    "tags": []
   },
   "source": [
    "### 20.How does work experience affect attrition?\n"
   ]
  },
  {
   "cell_type": "code",
   "execution_count": null,
   "id": "c03542b4",
   "metadata": {
    "execution": {
     "iopub.execute_input": "2023-08-22T12:28:30.066548Z",
     "iopub.status.busy": "2023-08-22T12:28:30.065895Z",
     "iopub.status.idle": "2023-08-22T12:28:30.079280Z",
     "shell.execute_reply": "2023-08-22T12:28:30.077899Z",
     "shell.execute_reply.started": "2023-08-22T12:28:30.066445Z"
    },
    "papermill": {
     "duration": null,
     "end_time": null,
     "exception": null,
     "start_time": null,
     "status": "pending"
    },
    "tags": []
   },
   "outputs": [],
   "source": [
    "df1.groupby(\"NumCompaniesWorked\")[\"Attrition\"].value_counts()"
   ]
  },
  {
   "cell_type": "code",
   "execution_count": null,
   "id": "5ab74c8d",
   "metadata": {
    "execution": {
     "iopub.execute_input": "2023-08-22T12:28:30.081721Z",
     "iopub.status.busy": "2023-08-22T12:28:30.081220Z",
     "iopub.status.idle": "2023-08-22T12:28:30.141293Z",
     "shell.execute_reply": "2023-08-22T12:28:30.140135Z",
     "shell.execute_reply.started": "2023-08-22T12:28:30.081684Z"
    },
    "papermill": {
     "duration": null,
     "end_time": null,
     "exception": null,
     "start_time": null,
     "status": "pending"
    },
    "tags": []
   },
   "outputs": [],
   "source": [
    "fig = px.bar(df, y='Attrition', x='NumCompaniesWorked', text_auto='.2s',color=\"NumCompaniesWorked\",\n",
    "            title=\"How does work experience affect attrition?\")\n",
    "fig.show()"
   ]
  },
  {
   "cell_type": "markdown",
   "id": "4b1b73e1",
   "metadata": {
    "papermill": {
     "duration": null,
     "end_time": null,
     "exception": null,
     "start_time": null,
     "status": "pending"
    },
    "tags": []
   },
   "source": [
    "*  People who have gained much experience and working in multiple companies tend to stay in the company they join. "
   ]
  },
  {
   "cell_type": "markdown",
   "id": "d6c0677c",
   "metadata": {
    "papermill": {
     "duration": null,
     "end_time": null,
     "exception": null,
     "start_time": null,
     "status": "pending"
    },
    "tags": []
   },
   "source": [
    "### 21.How does work duration in current role impact Attrition?"
   ]
  },
  {
   "cell_type": "code",
   "execution_count": null,
   "id": "abe7c8b2",
   "metadata": {
    "execution": {
     "iopub.execute_input": "2023-08-22T12:28:31.528627Z",
     "iopub.status.busy": "2023-08-22T12:28:31.527287Z",
     "iopub.status.idle": "2023-08-22T12:28:32.349860Z",
     "shell.execute_reply": "2023-08-22T12:28:32.348451Z",
     "shell.execute_reply.started": "2023-08-22T12:28:31.528575Z"
    },
    "papermill": {
     "duration": null,
     "end_time": null,
     "exception": null,
     "start_time": null,
     "status": "pending"
    },
    "tags": []
   },
   "outputs": [],
   "source": [
    "sns.lineplot(x='YearsInCurrentRole',y='EmployeeNumber',hue='Attrition', data = df1)\n",
    "plt.show()"
   ]
  },
  {
   "cell_type": "markdown",
   "id": "246069ae",
   "metadata": {
    "papermill": {
     "duration": null,
     "end_time": null,
     "exception": null,
     "start_time": null,
     "status": "pending"
    },
    "tags": []
   },
   "source": [
    "* In the first years, employees have to resigning/retiring, but after a long period of resigning/retiring, the departure of employees decreased"
   ]
  },
  {
   "cell_type": "markdown",
   "id": "34c8bd79",
   "metadata": {
    "papermill": {
     "duration": null,
     "end_time": null,
     "exception": null,
     "start_time": null,
     "status": "pending"
    },
    "tags": []
   },
   "source": [
    "### 23.Are managers a reason of people resigning ?"
   ]
  },
  {
   "cell_type": "code",
   "execution_count": null,
   "id": "81a37253",
   "metadata": {
    "execution": {
     "iopub.execute_input": "2023-08-22T12:28:32.354157Z",
     "iopub.status.busy": "2023-08-22T12:28:32.353190Z",
     "iopub.status.idle": "2023-08-22T12:28:32.515181Z",
     "shell.execute_reply": "2023-08-22T12:28:32.514248Z",
     "shell.execute_reply.started": "2023-08-22T12:28:32.354100Z"
    },
    "papermill": {
     "duration": null,
     "end_time": null,
     "exception": null,
     "start_time": null,
     "status": "pending"
    },
    "tags": []
   },
   "outputs": [],
   "source": [
    "\n",
    "sns.boxplot( x=df[\"Attrition\"], y=df[\"YearsWithCurrManager\"] )\n",
    "plt.show()"
   ]
  },
  {
   "cell_type": "markdown",
   "id": "e6f724a8",
   "metadata": {
    "papermill": {
     "duration": null,
     "end_time": null,
     "exception": null,
     "start_time": null,
     "status": "pending"
    },
    "tags": []
   },
   "source": [
    "* In the first years, employees have to resigning/retiring, but after a long period of resigning/retiring, the departure of employees decreased"
   ]
  },
  {
   "cell_type": "markdown",
   "id": "2208a678",
   "metadata": {
    "papermill": {
     "duration": null,
     "end_time": null,
     "exception": null,
     "start_time": null,
     "status": "pending"
    },
    "tags": []
   },
   "source": [
    "### 37.How many new hires leave in less than a year and why?"
   ]
  },
  {
   "cell_type": "code",
   "execution_count": null,
   "id": "63c72b29",
   "metadata": {
    "execution": {
     "iopub.execute_input": "2023-08-22T12:28:32.777695Z",
     "iopub.status.busy": "2023-08-22T12:28:32.777264Z",
     "iopub.status.idle": "2023-08-22T12:28:33.472773Z",
     "shell.execute_reply": "2023-08-22T12:28:33.471411Z",
     "shell.execute_reply.started": "2023-08-22T12:28:32.777663Z"
    },
    "papermill": {
     "duration": null,
     "end_time": null,
     "exception": null,
     "start_time": null,
     "status": "pending"
    },
    "tags": []
   },
   "outputs": [],
   "source": [
    "sns.displot(df1, x=\"YearsAtCompany\",col=\"Attrition\")"
   ]
  },
  {
   "cell_type": "markdown",
   "id": "9a2b945e",
   "metadata": {
    "papermill": {
     "duration": null,
     "end_time": null,
     "exception": null,
     "start_time": null,
     "status": "pending"
    },
    "tags": []
   },
   "source": [
    " -first 15 years employee is resigning/retiring and 20 years later is not resigning/retiring"
   ]
  },
  {
   "cell_type": "markdown",
   "id": "bfaf4c54",
   "metadata": {
    "papermill": {
     "duration": null,
     "end_time": null,
     "exception": null,
     "start_time": null,
     "status": "pending"
    },
    "tags": []
   },
   "source": [
    "****************\n",
    "***************"
   ]
  },
  {
   "cell_type": "markdown",
   "id": "652610e7",
   "metadata": {
    "papermill": {
     "duration": null,
     "end_time": null,
     "exception": null,
     "start_time": null,
     "status": "pending"
    },
    "tags": []
   },
   "source": [
    "# creative thinking"
   ]
  },
  {
   "cell_type": "markdown",
   "id": "1aabed92",
   "metadata": {
    "papermill": {
     "duration": null,
     "end_time": null,
     "exception": null,
     "start_time": null,
     "status": "pending"
    },
    "tags": []
   },
   "source": [
    "### 7- Is salary is one of the main reasons?"
   ]
  },
  {
   "cell_type": "markdown",
   "id": "dc276e03",
   "metadata": {
    "papermill": {
     "duration": null,
     "end_time": null,
     "exception": null,
     "start_time": null,
     "status": "pending"
    },
    "tags": []
   },
   "source": [
    "* 1- Percent Salary\n",
    "\n",
    "PercentSalaryHike increas \n",
    "\n",
    "* 2- Monthlyincome\n",
    "\n",
    "low monthlyincome is hight employes resigning/retiring\n",
    "\n",
    "Every TotalWorkingYears increases the monthlyincome increases"
   ]
  },
  {
   "cell_type": "markdown",
   "id": "1e14a35b",
   "metadata": {
    "papermill": {
     "duration": null,
     "end_time": null,
     "exception": null,
     "start_time": null,
     "status": "pending"
    },
    "tags": []
   },
   "source": [
    "### 11-  What factors are contributing more to employee attrition?"
   ]
  },
  {
   "cell_type": "code",
   "execution_count": null,
   "id": "61e38e23",
   "metadata": {
    "execution": {
     "iopub.execute_input": "2023-08-22T12:28:35.041269Z",
     "iopub.status.busy": "2023-08-22T12:28:35.040904Z",
     "iopub.status.idle": "2023-08-22T12:28:35.049987Z",
     "shell.execute_reply": "2023-08-22T12:28:35.048599Z",
     "shell.execute_reply.started": "2023-08-22T12:28:35.041240Z"
    },
    "papermill": {
     "duration": null,
     "end_time": null,
     "exception": null,
     "start_time": null,
     "status": "pending"
    },
    "tags": []
   },
   "outputs": [],
   "source": [
    "df1.columns"
   ]
  },
  {
   "cell_type": "code",
   "execution_count": null,
   "id": "f3b7d874",
   "metadata": {
    "execution": {
     "iopub.execute_input": "2023-08-22T12:28:35.236551Z",
     "iopub.status.busy": "2023-08-22T12:28:35.236175Z",
     "iopub.status.idle": "2023-08-22T12:28:35.243313Z",
     "shell.execute_reply": "2023-08-22T12:28:35.242462Z",
     "shell.execute_reply.started": "2023-08-22T12:28:35.236524Z"
    },
    "papermill": {
     "duration": null,
     "end_time": null,
     "exception": null,
     "start_time": null,
     "status": "pending"
    },
    "tags": []
   },
   "outputs": [],
   "source": [
    "dat=df[[\"Attrition\",\"Age\",\"Department\",\"DailyRate\",\"DistanceFromHome\",\"EnvironmentSatisfaction\",\"HourlyRate\",\"JobRole\",\"JobSatisfaction\",'MaritalStatus'\n",
    "        ,\"OverTime\",\"PercentSalaryHike\"]]"
   ]
  },
  {
   "cell_type": "code",
   "execution_count": null,
   "id": "de0a7a70",
   "metadata": {
    "execution": {
     "iopub.execute_input": "2023-08-22T12:28:35.411334Z",
     "iopub.status.busy": "2023-08-22T12:28:35.410086Z",
     "iopub.status.idle": "2023-08-22T12:28:35.967135Z",
     "shell.execute_reply": "2023-08-22T12:28:35.966167Z",
     "shell.execute_reply.started": "2023-08-22T12:28:35.411285Z"
    },
    "papermill": {
     "duration": null,
     "end_time": null,
     "exception": null,
     "start_time": null,
     "status": "pending"
    },
    "tags": []
   },
   "outputs": [],
   "source": [
    "plt.figure(figsize = (12,8))\n",
    "sns.heatmap(df.corr()>=0.75   )\n",
    "plt.show()"
   ]
  },
  {
   "cell_type": "markdown",
   "id": "43522b91",
   "metadata": {
    "papermill": {
     "duration": null,
     "end_time": null,
     "exception": null,
     "start_time": null,
     "status": "pending"
    },
    "tags": []
   },
   "source": [
    "* Job level is strong relation with total working years\n",
    "\n",
    "* Job level is strong relation with  Monthly income\n",
    "\n",
    "* Monthly income is strong relation with total working year\n"
   ]
  },
  {
   "cell_type": "markdown",
   "id": "10d46905",
   "metadata": {
    "papermill": {
     "duration": null,
     "end_time": null,
     "exception": null,
     "start_time": null,
     "status": "pending"
    },
    "tags": []
   },
   "source": [
    "### 12-What type of measures should the company take in order to retain their employees?"
   ]
  },
  {
   "cell_type": "markdown",
   "id": "a3234127",
   "metadata": {
    "papermill": {
     "duration": null,
     "end_time": null,
     "exception": null,
     "start_time": null,
     "status": "pending"
    },
    "tags": []
   },
   "source": [
    "-increase monthly income"
   ]
  },
  {
   "cell_type": "markdown",
   "id": "d7fac83b",
   "metadata": {
    "papermill": {
     "duration": null,
     "end_time": null,
     "exception": null,
     "start_time": null,
     "status": "pending"
    },
    "tags": []
   },
   "source": [
    "### 26.Which business unit faces the attrition problem?"
   ]
  },
  {
   "cell_type": "markdown",
   "id": "d05ef5e0",
   "metadata": {
    "papermill": {
     "duration": null,
     "end_time": null,
     "exception": null,
     "start_time": null,
     "status": "pending"
    },
    "tags": []
   },
   "source": [
    "* There is no reason becouse in the long term for the resignation of employees to decrease"
   ]
  },
  {
   "cell_type": "markdown",
   "id": "8eaedb56",
   "metadata": {
    "papermill": {
     "duration": null,
     "end_time": null,
     "exception": null,
     "start_time": null,
     "status": "pending"
    },
    "tags": []
   },
   "source": [
    "### 27.What role does gender and age play in this workplace?"
   ]
  },
  {
   "cell_type": "markdown",
   "id": "9b79fb1a",
   "metadata": {
    "papermill": {
     "duration": null,
     "end_time": null,
     "exception": null,
     "start_time": null,
     "status": "pending"
    },
    "tags": []
   },
   "source": [
    "- in Genral inf :\n",
    "    if male or female is age increases, money increases"
   ]
  },
  {
   "cell_type": "markdown",
   "id": "385a51a3",
   "metadata": {
    "papermill": {
     "duration": null,
     "end_time": null,
     "exception": null,
     "start_time": null,
     "status": "pending"
    },
    "tags": []
   },
   "source": [
    "### 31.Does the source of the employee matter? Which website produces the best employees?\n"
   ]
  },
  {
   "cell_type": "markdown",
   "id": "2b1e9144",
   "metadata": {
    "papermill": {
     "duration": null,
     "end_time": null,
     "exception": null,
     "start_time": null,
     "status": "pending"
    },
    "tags": []
   },
   "source": [
    "*UpWork-LinkedIn"
   ]
  },
  {
   "cell_type": "markdown",
   "id": "b2bd21fb",
   "metadata": {
    "papermill": {
     "duration": null,
     "end_time": null,
     "exception": null,
     "start_time": null,
     "status": "pending"
    },
    "tags": []
   },
   "source": [
    "### 34-What sources are best for high performing employees?"
   ]
  },
  {
   "cell_type": "markdown",
   "id": "0bb15b8d",
   "metadata": {
    "papermill": {
     "duration": null,
     "end_time": null,
     "exception": null,
     "start_time": null,
     "status": "pending"
    },
    "tags": []
   },
   "source": [
    "Increase Income money and percentSalaryHike"
   ]
  },
  {
   "cell_type": "markdown",
   "id": "45371092",
   "metadata": {
    "papermill": {
     "duration": null,
     "end_time": null,
     "exception": null,
     "start_time": null,
     "status": "pending"
    },
    "tags": []
   },
   "source": [
    "### 35-What factors contribute to retaining high performing employees?"
   ]
  },
  {
   "cell_type": "markdown",
   "id": "286353c7",
   "metadata": {
    "papermill": {
     "duration": null,
     "end_time": null,
     "exception": null,
     "start_time": null,
     "status": "pending"
    },
    "tags": []
   },
   "source": [
    "-Monthlyicome"
   ]
  },
  {
   "cell_type": "code",
   "execution_count": null,
   "id": "34685563",
   "metadata": {
    "papermill": {
     "duration": null,
     "end_time": null,
     "exception": null,
     "start_time": null,
     "status": "pending"
    },
    "tags": []
   },
   "outputs": [],
   "source": []
  },
  {
   "cell_type": "markdown",
   "id": "2b9dc672",
   "metadata": {
    "papermill": {
     "duration": null,
     "end_time": null,
     "exception": null,
     "start_time": null,
     "status": "pending"
    },
    "tags": []
   },
   "source": [
    "# Conclusion\n",
    "\n",
    "-Now we have explored employee resignation and proposed a solution"
   ]
  },
  {
   "cell_type": "code",
   "execution_count": null,
   "id": "b88c575c",
   "metadata": {
    "papermill": {
     "duration": null,
     "end_time": null,
     "exception": null,
     "start_time": null,
     "status": "pending"
    },
    "tags": []
   },
   "outputs": [],
   "source": []
  },
  {
   "cell_type": "code",
   "execution_count": null,
   "id": "60fa79c1",
   "metadata": {
    "papermill": {
     "duration": null,
     "end_time": null,
     "exception": null,
     "start_time": null,
     "status": "pending"
    },
    "tags": []
   },
   "outputs": [],
   "source": []
  },
  {
   "cell_type": "code",
   "execution_count": null,
   "id": "3f9574a3",
   "metadata": {
    "papermill": {
     "duration": null,
     "end_time": null,
     "exception": null,
     "start_time": null,
     "status": "pending"
    },
    "tags": []
   },
   "outputs": [],
   "source": []
  }
 ],
 "metadata": {
  "kernelspec": {
   "display_name": "Python 3",
   "language": "python",
   "name": "python3"
  },
  "language_info": {
   "codemirror_mode": {
    "name": "ipython",
    "version": 3
   },
   "file_extension": ".py",
   "mimetype": "text/x-python",
   "name": "python",
   "nbconvert_exporter": "python",
   "pygments_lexer": "ipython3",
   "version": "3.10.12"
  },
  "papermill": {
   "default_parameters": {},
   "duration": 37.357009,
   "end_time": "2023-08-22T12:30:25.903680",
   "environment_variables": {},
   "exception": true,
   "input_path": "__notebook__.ipynb",
   "output_path": "__notebook__.ipynb",
   "parameters": {},
   "start_time": "2023-08-22T12:29:48.546671",
   "version": "2.4.0"
  }
 },
 "nbformat": 4,
 "nbformat_minor": 5
}
